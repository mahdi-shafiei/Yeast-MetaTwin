{
 "cells": [
  {
   "cell_type": "code",
   "execution_count": 1,
   "metadata": {},
   "outputs": [],
   "source": [
    "import pandas as pd\n",
    "import numpy as np\n",
    "import json\n",
    "from rdkit import Chem\n",
    "from rdkit.Chem import Draw\n",
    "from rdkit.Chem import rdChemReactions\n",
    "from rdkit.Chem.Draw import rdMolDraw2D\n",
    "from rdkit.Chem.Draw import IPythonConsole\n",
    "from IPython.display import SVG, display\n",
    "from rdkit.Chem.Fingerprints import FingerprintMols\n",
    "from rdkit import DataStructs\n",
    "from rdkit.Chem import MACCSkeys\n",
    "from rdkit.Chem import AllChem\n",
    "import pandas as pd\n",
    "import rdchiral\n",
    "import itertools\n",
    "import pickle\n",
    "import sys\n",
    "from tqdm import tqdm \n",
    "from rdchiral.main import rdchiralRun, rdchiralRunText, rdchiralReaction, rdchiralReactants\n",
    "import cobra\n",
    "from itertools import chain, combinations\n",
    "import sys\n",
    "import multiprocessing\n",
    "from functools import partial\n",
    "import matplotlib.pyplot as plt\n",
    "import multiprocessing\n",
    "from tqdm import tqdm\n",
    "sys.path.append('../retrosynthesis/')\n",
    "\n",
    "from common import *"
   ]
  },
  {
   "cell_type": "markdown",
   "metadata": {},
   "source": [
    "### input and output"
   ]
  },
  {
   "cell_type": "code",
   "execution_count": 2,
   "metadata": {},
   "outputs": [],
   "source": [
    "# step1\n",
    "#input\n",
    "mnxreac_smile_atom_mapping_rules_file_path = '../../Results/rules/MNXreaction_smiles_atommap_rules_filter.csv'\n",
    "yeast870_path = '../../Data/model/yeast-GEM-final.csv'\n",
    "# new_met_info_to_GEM_path = '../../Results/not_lipid/top50_0.3_re/metabolites_info_to_GEM_top50_0.3.csv'\n",
    "new_met_info_to_GEM_path = '../../Results/not_lipid/top50_0.3_re/metabolites_info_to_GEM_del_top50_0.3.csv'\n",
    "target_100met_path = '../../Data/100met_with_smiles.xlsx'\n",
    "\n",
    "#output\n",
    "heterologous_met_byproduct_result_path = '../../Results/analysis/heterologous_met_byproduct_result.csv'\n",
    "source_fig5b_path = '../../Results/source_data/fig5-b.csv'\n",
    "yeast8U_heterologous_product_reaction_figure_path = '../../Results/Figures/fig5-b.pdf'"
   ]
  },
  {
   "cell_type": "code",
   "execution_count": 3,
   "metadata": {},
   "outputs": [],
   "source": [
    "def process_rule(rule_smiles, mets_total_smiles):\n",
    "    score = []\n",
    "    smiles = []\n",
    "    if 'C' in rule_smiles or 'c' in rule_smiles:\n",
    "        for j in mets_total_smiles:\n",
    "            current_score = calculate_similarity(rule_smiles, j)\n",
    "            if current_score > 0.3:\n",
    "                score.append(current_score)\n",
    "                smiles.append(j)\n",
    "    else:\n",
    "        smiles.append(rule_smiles)\n",
    "        score.append(1)\n",
    "\n",
    "    if len(score) == 0:\n",
    "        return rule_smiles, [], []\n",
    "    elif len(score) > 20:\n",
    "        top40_data = sorted(zip(score, smiles), reverse=True)[:20]\n",
    "    else:\n",
    "        top40_data = sorted(zip(score, smiles), reverse=True)\n",
    "    \n",
    "    top40_scores, top40_smiles = zip(*top40_data)\n",
    "    \n",
    "    return rule_smiles, list(top40_smiles), list(top40_scores)"
   ]
  },
  {
   "cell_type": "code",
   "execution_count": 4,
   "metadata": {},
   "outputs": [],
   "source": [
    "def process_retrorule(index_row, mets_total_smiles,retrosys_smiles_calculate_similarity_pd,heterologous_met_smiles):\n",
    "    rxndb_list_tmp = []\n",
    "    # newdbSmiles_tmp = []\n",
    "    failedrxn_tmp = []\n",
    "    index, row = index_row\n",
    "    rxn_id, ECnumber, reactants, products = row['MNX_ID'], row['classifs'], row['substrate_smiles'], row['product_smiles']\n",
    "    deprecated_equ_smiles, reactantSMARTs, productSMARTs, rule = row['deprecated_equ_smiles'], row['ReactantsSMARTs'], row['ProductSMARTs'], row['RetroRules']\n",
    "    deprecated_equ_smiles = deprecated_equ_smiles.split('>>')\n",
    "    if rxn_id not in ['MNXR101882', 'MNXR101884', 'MNXR101879', 'MNXR101885', 'MNXR101886', 'MNXR101887',\n",
    "                        'MNXR103528', 'MNXR103575']:  # ATP NADH conversion stuff\n",
    "        productSMARTs = productSMARTs.split('.')\n",
    "        products = products.split('.')\n",
    "        new_products_smiles = []\n",
    "        scores = []\n",
    "\n",
    "        if len(productSMARTs) == len(products):\n",
    "            for x in range(len(productSMARTs)):  # prepare mets with substructure and sort the reactants combination\n",
    "                new_products_smile_one,score_one = get_calculate_similarity(products[x],retrosys_smiles_calculate_similarity_pd)\n",
    "                new_products_smiles.append(new_products_smile_one)\n",
    "                scores.append(score_one)\n",
    "\n",
    "            product_prepared = []\n",
    "            scores_prepared = []\n",
    "            for lst, score_lst in zip(new_products_smiles, scores):\n",
    "                if heterologous_met_smiles in lst:\n",
    "                    if len(new_products_smiles) == 1:  # if only one sub list\n",
    "                        product_prepared.append([heterologous_met_smiles])\n",
    "                        scores_prepared.append(score_lst)\n",
    "                    else:\n",
    "                        other_lists = [sub_lst for sub_lst in new_products_smiles if sub_lst != lst]\n",
    "                        tmp_product = list(itertools.product([heterologous_met_smiles], *other_lists))\n",
    "                        product_prepared += tmp_product\n",
    "\n",
    "                        tmp_scores = list(itertools.product([score_lst[new_products_smiles.index(lst)]], *scores))\n",
    "                        scores_prepared += tmp_scores\n",
    "\n",
    "            for m in range(0, len(product_prepared)):  # apply the rule and output the rxn\n",
    "                smile = product_prepared[m]\n",
    "                score = scores_prepared[m]\n",
    "                \n",
    "                if len(smile) > 1:\n",
    "                    product_smile = '.'.join(smile)\n",
    "                else:\n",
    "                    product_smile = smile[0]\n",
    "\n",
    "                retrorule_tmp = rule.split('>>')\n",
    "                retrorule_tmp = '(' + retrorule_tmp[0] + ')>>' + '(' + retrorule_tmp[1] + ')'            \n",
    "                product_smile_tmp = product_smile\n",
    "                try:\n",
    "                    # print('product_smile_tmp',product_smile_tmp)\n",
    "                    product_mol = Chem.MolFromSmiles(product_smile_tmp)\n",
    "                    reaction = AllChem.ReactionFromSmarts(retrorule_tmp)\n",
    "                    reactant_smiles = reaction.RunReactants((product_mol,))\n",
    "                    smiles = [Chem.MolToSmiles(x[0]) for x in reactant_smiles]\n",
    "                    reactant_smiles = list(set(smiles))\n",
    "\n",
    "                    for reactant_smile in reactant_smiles:\n",
    "                        if len(deprecated_equ_smiles) > 0:\n",
    "                            if deprecated_equ_smiles[0] == '':\n",
    "                                reactant_smile_final = reactant_smile\n",
    "                            else:\n",
    "                                reactant_smile_final = reactant_smile + '.' + deprecated_equ_smiles[0]\n",
    "                            if deprecated_equ_smiles[1] == '':\n",
    "                                product_smile_final = product_smile_tmp\n",
    "                            else:\n",
    "                                product_smile_final = product_smile_tmp + '.' + deprecated_equ_smiles[1]\n",
    "                        rxn_smiles = reactant_smile + '>>' + product_smile_tmp\n",
    "                        rxn_smiles_final = reactant_smile_final + '>>' + product_smile_final\n",
    "                        \n",
    "                        tmp = {\n",
    "                            'EC number': ECnumber,\n",
    "                            'rule': rule,\n",
    "                            'templateID': rxn_id,\n",
    "                            'templateSubstrate': products,\n",
    "                            'rxn_smiles_basic': rxn_smiles,\n",
    "                            'rxn_smiles_final': rxn_smiles_final,\n",
    "                            'reactant_smile': reactant_smile,\n",
    "                            'productsmile': product_smile_tmp,\n",
    "                            'similarity': score\n",
    "                        }\n",
    "                        if check_rule(tmp['rxn_smiles_basic'])=='blance':\n",
    "                            rxndb_list_tmp.append(tmp)  \n",
    "                            # mets_tmp = reactant_smile.split('.')      \n",
    "                            # for reactant in mets_tmp:             \n",
    "                            #     if reactant not in mets_total_smiles and reactant not in newdbSmiles_tmp:         \n",
    "                            #         newdbSmiles_tmp.append(reactant)        \n",
    "                except:\n",
    "                    failedrxn_tmp.append(rxn_id)\n",
    "                \n",
    "    return(rxndb_list_tmp,failedrxn_tmp)"
   ]
  },
  {
   "cell_type": "code",
   "execution_count": 5,
   "metadata": {},
   "outputs": [
    {
     "name": "stdout",
     "output_type": "stream",
     "text": [
      "rules_product_smiles_lst 9708\n"
     ]
    }
   ],
   "source": [
    "rules_product_smiles_lst = []\n",
    "retrorules = pd.read_csv(mnxreac_smile_atom_mapping_rules_file_path)\n",
    "for index,row in retrorules.iterrows():\n",
    "    tmp  = row['product_smiles'].split('.')\n",
    "    for i in tmp:\n",
    "        if i not in rules_product_smiles_lst:\n",
    "            rules_product_smiles_lst.append(i)\n",
    "print('rules_product_smiles_lst',len(rules_product_smiles_lst))"
   ]
  },
  {
   "cell_type": "code",
   "execution_count": 6,
   "metadata": {},
   "outputs": [
    {
     "data": {
      "text/html": [
       "<div>\n",
       "<style scoped>\n",
       "    .dataframe tbody tr th:only-of-type {\n",
       "        vertical-align: middle;\n",
       "    }\n",
       "\n",
       "    .dataframe tbody tr th {\n",
       "        vertical-align: top;\n",
       "    }\n",
       "\n",
       "    .dataframe thead th {\n",
       "        text-align: right;\n",
       "    }\n",
       "</style>\n",
       "<table border=\"1\" class=\"dataframe\">\n",
       "  <thead>\n",
       "    <tr style=\"text-align: right;\">\n",
       "      <th></th>\n",
       "      <th>Name</th>\n",
       "      <th>Formula</th>\n",
       "      <th>KEGG ID</th>\n",
       "      <th>CHEBI ID</th>\n",
       "      <th>Group</th>\n",
       "      <th>class</th>\n",
       "      <th>Gene target</th>\n",
       "      <th>Smiles</th>\n",
       "      <th>byproduct</th>\n",
       "      <th>EC number</th>\n",
       "    </tr>\n",
       "  </thead>\n",
       "  <tbody>\n",
       "    <tr>\n",
       "      <th>0</th>\n",
       "      <td>L-Phenylacetylcarbinol</td>\n",
       "      <td>C9H10O2</td>\n",
       "      <td>NaN</td>\n",
       "      <td>NaN</td>\n",
       "      <td>heterologous</td>\n",
       "      <td>alcohol</td>\n",
       "      <td>Link</td>\n",
       "      <td>CC(=O)[C@H](C1=CC=CC=C1)O</td>\n",
       "      <td></td>\n",
       "      <td></td>\n",
       "    </tr>\n",
       "    <tr>\n",
       "      <th>1</th>\n",
       "      <td>1-Butanol</td>\n",
       "      <td>C4H10O</td>\n",
       "      <td>C06142</td>\n",
       "      <td>28885.0</td>\n",
       "      <td>heterologous</td>\n",
       "      <td>alcohol</td>\n",
       "      <td>Link</td>\n",
       "      <td>CCCCO</td>\n",
       "      <td></td>\n",
       "      <td></td>\n",
       "    </tr>\n",
       "    <tr>\n",
       "      <th>2</th>\n",
       "      <td>(S)-Reticuline</td>\n",
       "      <td>C19H23NO4</td>\n",
       "      <td>C02105</td>\n",
       "      <td>16718.0</td>\n",
       "      <td>heterologous</td>\n",
       "      <td>alkaloid</td>\n",
       "      <td>Link</td>\n",
       "      <td>CN1CCC2=CC(=C(C=C2[C@@H]1CC3=CC(=C(C=C3)OC)O)O)OC</td>\n",
       "      <td></td>\n",
       "      <td></td>\n",
       "    </tr>\n",
       "    <tr>\n",
       "      <th>3</th>\n",
       "      <td>Psilocybin</td>\n",
       "      <td>C12H17N2O4P</td>\n",
       "      <td>C07576</td>\n",
       "      <td>8614.0</td>\n",
       "      <td>heterologous</td>\n",
       "      <td>alkaloid</td>\n",
       "      <td>Link</td>\n",
       "      <td>CN(C)CCC1=CNC2=C1C(=CC=C2)OP(=O)(O)O</td>\n",
       "      <td></td>\n",
       "      <td></td>\n",
       "    </tr>\n",
       "    <tr>\n",
       "      <th>4</th>\n",
       "      <td>Nicotianamine</td>\n",
       "      <td>C12H21N3O6</td>\n",
       "      <td>C05324</td>\n",
       "      <td>17721.0</td>\n",
       "      <td>heterologous</td>\n",
       "      <td>amino acid</td>\n",
       "      <td>Link</td>\n",
       "      <td>C1CN([C@@H]1C(=O)O)CC[C@@H](C(=O)O)NCC[C@@H](C...</td>\n",
       "      <td></td>\n",
       "      <td></td>\n",
       "    </tr>\n",
       "  </tbody>\n",
       "</table>\n",
       "</div>"
      ],
      "text/plain": [
       "                     Name      Formula KEGG ID  CHEBI ID         Group  \\\n",
       "0  L-Phenylacetylcarbinol      C9H10O2     NaN       NaN  heterologous   \n",
       "1               1-Butanol       C4H10O  C06142   28885.0  heterologous   \n",
       "2          (S)-Reticuline    C19H23NO4  C02105   16718.0  heterologous   \n",
       "3              Psilocybin  C12H17N2O4P  C07576    8614.0  heterologous   \n",
       "4           Nicotianamine   C12H21N3O6  C05324   17721.0  heterologous   \n",
       "\n",
       "        class Gene target                                             Smiles  \\\n",
       "0     alcohol        Link                          CC(=O)[C@H](C1=CC=CC=C1)O   \n",
       "1     alcohol        Link                                              CCCCO   \n",
       "2    alkaloid        Link  CN1CCC2=CC(=C(C=C2[C@@H]1CC3=CC(=C(C=C3)OC)O)O)OC   \n",
       "3    alkaloid        Link               CN(C)CCC1=CNC2=C1C(=CC=C2)OP(=O)(O)O   \n",
       "4  amino acid        Link  C1CN([C@@H]1C(=O)O)CC[C@@H](C(=O)O)NCC[C@@H](C...   \n",
       "\n",
       "  byproduct EC number  \n",
       "0                      \n",
       "1                      \n",
       "2                      \n",
       "3                      \n",
       "4                      "
      ]
     },
     "execution_count": 6,
     "metadata": {},
     "output_type": "execute_result"
    }
   ],
   "source": [
    "target_100met = pd.read_excel(target_100met_path)\n",
    "target_100met = target_100met[target_100met['Group']=='heterologous']\n",
    "target_100met = target_100met[~target_100met['Smiles'].isna()]\n",
    "target_100met.reset_index(drop=True,inplace=True)\n",
    "target_100met['byproduct'] = ' '\n",
    "target_100met['EC number'] = ' '\n",
    "target_100met.head()"
   ]
  },
  {
   "cell_type": "code",
   "execution_count": 7,
   "metadata": {},
   "outputs": [
    {
     "data": {
      "text/plain": [
       "44"
      ]
     },
     "execution_count": 7,
     "metadata": {},
     "output_type": "execute_result"
    }
   ],
   "source": [
    "len(target_100met)"
   ]
  },
  {
   "cell_type": "markdown",
   "metadata": {},
   "source": [
    "## byproduct prediction"
   ]
  },
  {
   "cell_type": "code",
   "execution_count": 8,
   "metadata": {},
   "outputs": [],
   "source": [
    "def check_productsmile(smiles):#only keep smiles with carbon\n",
    "    smiles_lst = smiles.split('.')\n",
    "    smiles_lst = [x for x in smiles_lst if smiles_has_carbon(x)]\n",
    "    return len(smiles_lst)"
   ]
  },
  {
   "cell_type": "code",
   "execution_count": 9,
   "metadata": {},
   "outputs": [],
   "source": [
    "# target_100met = target_100met[target_100met['Name']=='Nicotianamine']"
   ]
  },
  {
   "cell_type": "code",
   "execution_count": null,
   "metadata": {},
   "outputs": [
    {
     "data": {
      "text/html": [
       "<div>\n",
       "<style scoped>\n",
       "    .dataframe tbody tr th:only-of-type {\n",
       "        vertical-align: middle;\n",
       "    }\n",
       "\n",
       "    .dataframe tbody tr th {\n",
       "        vertical-align: top;\n",
       "    }\n",
       "\n",
       "    .dataframe thead th {\n",
       "        text-align: right;\n",
       "    }\n",
       "</style>\n",
       "<table border=\"1\" class=\"dataframe\">\n",
       "  <thead>\n",
       "    <tr style=\"text-align: right;\">\n",
       "      <th></th>\n",
       "      <th>Name</th>\n",
       "      <th>Formula</th>\n",
       "      <th>KEGG ID</th>\n",
       "      <th>CHEBI ID</th>\n",
       "      <th>Group</th>\n",
       "      <th>class</th>\n",
       "      <th>Gene target</th>\n",
       "      <th>Smiles</th>\n",
       "      <th>byproduct</th>\n",
       "      <th>EC number</th>\n",
       "    </tr>\n",
       "  </thead>\n",
       "  <tbody>\n",
       "    <tr>\n",
       "      <th>0</th>\n",
       "      <td>L-Phenylacetylcarbinol</td>\n",
       "      <td>C9H10O2</td>\n",
       "      <td>NaN</td>\n",
       "      <td>NaN</td>\n",
       "      <td>heterologous</td>\n",
       "      <td>alcohol</td>\n",
       "      <td>Link</td>\n",
       "      <td>CC(=O)[C@H](C1=CC=CC=C1)O</td>\n",
       "      <td></td>\n",
       "      <td></td>\n",
       "    </tr>\n",
       "    <tr>\n",
       "      <th>1</th>\n",
       "      <td>1-Butanol</td>\n",
       "      <td>C4H10O</td>\n",
       "      <td>C06142</td>\n",
       "      <td>28885.0</td>\n",
       "      <td>heterologous</td>\n",
       "      <td>alcohol</td>\n",
       "      <td>Link</td>\n",
       "      <td>CCCCO</td>\n",
       "      <td></td>\n",
       "      <td></td>\n",
       "    </tr>\n",
       "    <tr>\n",
       "      <th>2</th>\n",
       "      <td>(S)-Reticuline</td>\n",
       "      <td>C19H23NO4</td>\n",
       "      <td>C02105</td>\n",
       "      <td>16718.0</td>\n",
       "      <td>heterologous</td>\n",
       "      <td>alkaloid</td>\n",
       "      <td>Link</td>\n",
       "      <td>CN1CCC2=CC(=C(C=C2[C@@H]1CC3=CC(=C(C=C3)OC)O)O)OC</td>\n",
       "      <td></td>\n",
       "      <td></td>\n",
       "    </tr>\n",
       "    <tr>\n",
       "      <th>3</th>\n",
       "      <td>Psilocybin</td>\n",
       "      <td>C12H17N2O4P</td>\n",
       "      <td>C07576</td>\n",
       "      <td>8614.0</td>\n",
       "      <td>heterologous</td>\n",
       "      <td>alkaloid</td>\n",
       "      <td>Link</td>\n",
       "      <td>CN(C)CCC1=CNC2=C1C(=CC=C2)OP(=O)(O)O</td>\n",
       "      <td></td>\n",
       "      <td></td>\n",
       "    </tr>\n",
       "    <tr>\n",
       "      <th>4</th>\n",
       "      <td>Nicotianamine</td>\n",
       "      <td>C12H21N3O6</td>\n",
       "      <td>C05324</td>\n",
       "      <td>17721.0</td>\n",
       "      <td>heterologous</td>\n",
       "      <td>amino acid</td>\n",
       "      <td>Link</td>\n",
       "      <td>C1CN([C@@H]1C(=O)O)CC[C@@H](C(=O)O)NCC[C@@H](C...</td>\n",
       "      <td></td>\n",
       "      <td></td>\n",
       "    </tr>\n",
       "    <tr>\n",
       "      <th>5</th>\n",
       "      <td>4-Hydroxymandelic</td>\n",
       "      <td>C8H8O4</td>\n",
       "      <td>C11527</td>\n",
       "      <td>16388.0</td>\n",
       "      <td>heterologous</td>\n",
       "      <td>aromatic</td>\n",
       "      <td>Link</td>\n",
       "      <td>C1=CC(=CC=C1C(C(=O)O)O)O</td>\n",
       "      <td></td>\n",
       "      <td></td>\n",
       "    </tr>\n",
       "    <tr>\n",
       "      <th>6</th>\n",
       "      <td>Cinnamate</td>\n",
       "      <td>C9H8O2</td>\n",
       "      <td>C00423</td>\n",
       "      <td>15669.0</td>\n",
       "      <td>heterologous</td>\n",
       "      <td>aromatic</td>\n",
       "      <td>Link</td>\n",
       "      <td>C1=CC=C(C=C1)/C=C/C(=O)[O-]</td>\n",
       "      <td></td>\n",
       "      <td></td>\n",
       "    </tr>\n",
       "    <tr>\n",
       "      <th>7</th>\n",
       "      <td>Mandelic</td>\n",
       "      <td>C8H8O3</td>\n",
       "      <td>C01984</td>\n",
       "      <td>17756.0</td>\n",
       "      <td>heterologous</td>\n",
       "      <td>aromatic</td>\n",
       "      <td>Link</td>\n",
       "      <td>C1=CC=C(C=C1)[C@@H](C(=O)O)O</td>\n",
       "      <td></td>\n",
       "      <td></td>\n",
       "    </tr>\n",
       "    <tr>\n",
       "      <th>8</th>\n",
       "      <td>p-Coumaric acid</td>\n",
       "      <td>C9H8O3</td>\n",
       "      <td>C00811</td>\n",
       "      <td>32374.0</td>\n",
       "      <td>heterologous</td>\n",
       "      <td>aromatic</td>\n",
       "      <td>Link</td>\n",
       "      <td>C1=CC(=CC=C1/C=C/C(=O)O)O</td>\n",
       "      <td></td>\n",
       "      <td></td>\n",
       "    </tr>\n",
       "    <tr>\n",
       "      <th>9</th>\n",
       "      <td>Rosmarinate</td>\n",
       "      <td>C18H16O8</td>\n",
       "      <td>C01850</td>\n",
       "      <td>50371.0</td>\n",
       "      <td>heterologous</td>\n",
       "      <td>aromatic</td>\n",
       "      <td>Link</td>\n",
       "      <td>C1=CC(=C(C=C1C[C@H](C(=O)O)OC(=O)/C=C/C2=CC(=C...</td>\n",
       "      <td></td>\n",
       "      <td></td>\n",
       "    </tr>\n",
       "    <tr>\n",
       "      <th>10</th>\n",
       "      <td>Salidroside</td>\n",
       "      <td>C14H20O7</td>\n",
       "      <td>C06046</td>\n",
       "      <td>9009.0</td>\n",
       "      <td>heterologous</td>\n",
       "      <td>aromatic</td>\n",
       "      <td>Link</td>\n",
       "      <td>C1=CC(=CC=C1CCO[C@H]2[C@@H]([C@H]([C@@H]([C@H]...</td>\n",
       "      <td></td>\n",
       "      <td></td>\n",
       "    </tr>\n",
       "    <tr>\n",
       "      <th>11</th>\n",
       "      <td>Tyrosol</td>\n",
       "      <td>C8H10O2</td>\n",
       "      <td>C06044</td>\n",
       "      <td>1879.0</td>\n",
       "      <td>heterologous</td>\n",
       "      <td>aromatic</td>\n",
       "      <td>Link</td>\n",
       "      <td>C1=CC(=CC=C1CCO)O</td>\n",
       "      <td></td>\n",
       "      <td></td>\n",
       "    </tr>\n",
       "    <tr>\n",
       "      <th>12</th>\n",
       "      <td>Arachidonate</td>\n",
       "      <td>C20H32O2</td>\n",
       "      <td>C00219</td>\n",
       "      <td>15843.0</td>\n",
       "      <td>heterologous</td>\n",
       "      <td>fatty acids and lipids</td>\n",
       "      <td>Link</td>\n",
       "      <td>CCCCC/C=C\\C/C=C\\C/C=C\\C/C=C\\CCCC(=O)O</td>\n",
       "      <td></td>\n",
       "      <td></td>\n",
       "    </tr>\n",
       "    <tr>\n",
       "      <th>13</th>\n",
       "      <td>Docosahexaenoate</td>\n",
       "      <td>C22H32O2</td>\n",
       "      <td>C06429</td>\n",
       "      <td>28125.0</td>\n",
       "      <td>heterologous</td>\n",
       "      <td>fatty acids and lipids</td>\n",
       "      <td>Link</td>\n",
       "      <td>CC/C=C\\C/C=C\\C/C=C\\C/C=C\\C/C=C\\C/C=C\\CCC(=O)O</td>\n",
       "      <td></td>\n",
       "      <td></td>\n",
       "    </tr>\n",
       "    <tr>\n",
       "      <th>14</th>\n",
       "      <td>Eicosapentaenoic acid</td>\n",
       "      <td>C20H30O2</td>\n",
       "      <td>C06428</td>\n",
       "      <td>28364.0</td>\n",
       "      <td>heterologous</td>\n",
       "      <td>fatty acids and lipids</td>\n",
       "      <td>Link</td>\n",
       "      <td>CC/C=C\\C/C=C\\C/C=C\\C/C=C\\C/C=C\\CCCC(=O)O</td>\n",
       "      <td></td>\n",
       "      <td></td>\n",
       "    </tr>\n",
       "    <tr>\n",
       "      <th>15</th>\n",
       "      <td>Docosanol</td>\n",
       "      <td>C22H46O</td>\n",
       "      <td>D03884</td>\n",
       "      <td>31000.0</td>\n",
       "      <td>heterologous</td>\n",
       "      <td>alcohol</td>\n",
       "      <td>Link</td>\n",
       "      <td>CCCCCCCCCCCCCCCCCCCCCCO</td>\n",
       "      <td></td>\n",
       "      <td></td>\n",
       "    </tr>\n",
       "    <tr>\n",
       "      <th>16</th>\n",
       "      <td>Catechin</td>\n",
       "      <td>C15H14O6</td>\n",
       "      <td>C06562</td>\n",
       "      <td>15600.0</td>\n",
       "      <td>heterologous</td>\n",
       "      <td>flavonoid</td>\n",
       "      <td>Link</td>\n",
       "      <td>C1[C@@H]([C@H](OC2=CC(=CC(=C21)O)O)C3=CC(=C(C=...</td>\n",
       "      <td></td>\n",
       "      <td></td>\n",
       "    </tr>\n",
       "    <tr>\n",
       "      <th>17</th>\n",
       "      <td>Genistein</td>\n",
       "      <td>C15H10O5</td>\n",
       "      <td>C06563</td>\n",
       "      <td>28088.0</td>\n",
       "      <td>heterologous</td>\n",
       "      <td>flavonoid</td>\n",
       "      <td>Link</td>\n",
       "      <td>C1=CC(=CC=C1C2=COC3=CC(=CC(=C3C2=O)O)O)O</td>\n",
       "      <td></td>\n",
       "      <td></td>\n",
       "    </tr>\n",
       "    <tr>\n",
       "      <th>18</th>\n",
       "      <td>Kaempferol</td>\n",
       "      <td>C15H10O6</td>\n",
       "      <td>C05903</td>\n",
       "      <td>28499.0</td>\n",
       "      <td>heterologous</td>\n",
       "      <td>flavonoid</td>\n",
       "      <td>Link</td>\n",
       "      <td>C1=CC(=CC=C1C2=C(C(=O)C3=C(C=C(C=C3O2)O)O)O)O</td>\n",
       "      <td></td>\n",
       "      <td></td>\n",
       "    </tr>\n",
       "    <tr>\n",
       "      <th>19</th>\n",
       "      <td>Naringenin</td>\n",
       "      <td>C15H12O5</td>\n",
       "      <td>C00509</td>\n",
       "      <td>17846.0</td>\n",
       "      <td>heterologous</td>\n",
       "      <td>flavonoid</td>\n",
       "      <td>Link</td>\n",
       "      <td>C1[C@H](OC2=CC(=CC(=C2C1=O)O)O)C3=CC=C(C=C3)O</td>\n",
       "      <td></td>\n",
       "      <td></td>\n",
       "    </tr>\n",
       "    <tr>\n",
       "      <th>20</th>\n",
       "      <td>Quercetin</td>\n",
       "      <td>C15H10O7</td>\n",
       "      <td>C00389</td>\n",
       "      <td>16243.0</td>\n",
       "      <td>heterologous</td>\n",
       "      <td>flavonoid</td>\n",
       "      <td>Link</td>\n",
       "      <td>C1=CC(=C(C=C1C2=C(C(=O)C3=C(C=C(C=C3O2)O)O)O)O)O</td>\n",
       "      <td></td>\n",
       "      <td></td>\n",
       "    </tr>\n",
       "    <tr>\n",
       "      <th>21</th>\n",
       "      <td>Astaxanthin</td>\n",
       "      <td>C40H52O4</td>\n",
       "      <td>C08580</td>\n",
       "      <td>40968.0</td>\n",
       "      <td>heterologous</td>\n",
       "      <td>terpene</td>\n",
       "      <td>Link</td>\n",
       "      <td>CC1=C(C(C[C@@H](C1=O)O)(C)C)/C=C/C(=C/C=C/C(=C...</td>\n",
       "      <td></td>\n",
       "      <td></td>\n",
       "    </tr>\n",
       "    <tr>\n",
       "      <th>22</th>\n",
       "      <td>Betaxanthin</td>\n",
       "      <td>C18H18N2O7</td>\n",
       "      <td>C08565</td>\n",
       "      <td>8341.0</td>\n",
       "      <td>heterologous</td>\n",
       "      <td>terpene</td>\n",
       "      <td>Link</td>\n",
       "      <td>COC1=C(C=CC(=C1)CCN=C/C=C/2\\C[C@H](NC(=C2)C(=O...</td>\n",
       "      <td></td>\n",
       "      <td></td>\n",
       "    </tr>\n",
       "    <tr>\n",
       "      <th>23</th>\n",
       "      <td>β-Carotene</td>\n",
       "      <td>C40H56</td>\n",
       "      <td>C02094</td>\n",
       "      <td>17579.0</td>\n",
       "      <td>heterologous</td>\n",
       "      <td>terpene</td>\n",
       "      <td>Link</td>\n",
       "      <td>CC1=C(C(CCC1)(C)C)/C=C/C(=C/C=C/C(=C/C=C/C=C(/...</td>\n",
       "      <td></td>\n",
       "      <td></td>\n",
       "    </tr>\n",
       "    <tr>\n",
       "      <th>24</th>\n",
       "      <td>Artemisinic acid</td>\n",
       "      <td>C15H22O2</td>\n",
       "      <td>C20309</td>\n",
       "      <td>63749.0</td>\n",
       "      <td>heterologous</td>\n",
       "      <td>terpene</td>\n",
       "      <td>Link</td>\n",
       "      <td>C[C@@H]1CC[C@H]([C@@H]2[C@H]1CCC(=C2)C)C(=C)C(...</td>\n",
       "      <td></td>\n",
       "      <td></td>\n",
       "    </tr>\n",
       "    <tr>\n",
       "      <th>25</th>\n",
       "      <td>3-Hydroxypropanoate</td>\n",
       "      <td>C3H6O3</td>\n",
       "      <td>C01013</td>\n",
       "      <td>16510.0</td>\n",
       "      <td>heterologous</td>\n",
       "      <td>organic acid</td>\n",
       "      <td>Link</td>\n",
       "      <td>C(CO)C(=O)O</td>\n",
       "      <td></td>\n",
       "      <td></td>\n",
       "    </tr>\n",
       "    <tr>\n",
       "      <th>26</th>\n",
       "      <td>Adipic acid</td>\n",
       "      <td>C6H10O4</td>\n",
       "      <td>D08839</td>\n",
       "      <td>30832.0</td>\n",
       "      <td>heterologous</td>\n",
       "      <td>organic acid</td>\n",
       "      <td>Link</td>\n",
       "      <td>C(CCC(=O)O)CC(=O)O</td>\n",
       "      <td></td>\n",
       "      <td></td>\n",
       "    </tr>\n",
       "    <tr>\n",
       "      <th>27</th>\n",
       "      <td>cis,cis-Muconate</td>\n",
       "      <td>C6H6O4</td>\n",
       "      <td>C02480</td>\n",
       "      <td>16508.0</td>\n",
       "      <td>heterologous</td>\n",
       "      <td>organic acid</td>\n",
       "      <td>Link</td>\n",
       "      <td>C(=C\\C(=O)O)\\C=C/C(=O)O</td>\n",
       "      <td></td>\n",
       "      <td></td>\n",
       "    </tr>\n",
       "    <tr>\n",
       "      <th>28</th>\n",
       "      <td>Itaconic acid</td>\n",
       "      <td>C5H6O4</td>\n",
       "      <td>C00490</td>\n",
       "      <td>17240.0</td>\n",
       "      <td>heterologous</td>\n",
       "      <td>organic acid</td>\n",
       "      <td>Link</td>\n",
       "      <td>C=C(CC(=O)O)C(=O)O</td>\n",
       "      <td></td>\n",
       "      <td></td>\n",
       "    </tr>\n",
       "    <tr>\n",
       "      <th>29</th>\n",
       "      <td>Ethylene</td>\n",
       "      <td>C2H4</td>\n",
       "      <td>C06547</td>\n",
       "      <td>18153.0</td>\n",
       "      <td>heterologous</td>\n",
       "      <td>other</td>\n",
       "      <td>Link</td>\n",
       "      <td>C=C</td>\n",
       "      <td></td>\n",
       "      <td></td>\n",
       "    </tr>\n",
       "    <tr>\n",
       "      <th>30</th>\n",
       "      <td>1,3,5-Trihydroxyxanthone</td>\n",
       "      <td>C13H8O5</td>\n",
       "      <td>C10094</td>\n",
       "      <td>514.0</td>\n",
       "      <td>heterologous</td>\n",
       "      <td>other</td>\n",
       "      <td>Link</td>\n",
       "      <td>C1=CC2=C(C(=C1)O)OC3=CC(=CC(=C3C2=O)O)O</td>\n",
       "      <td></td>\n",
       "      <td></td>\n",
       "    </tr>\n",
       "    <tr>\n",
       "      <th>31</th>\n",
       "      <td>Resveratrol</td>\n",
       "      <td>C14H12O3</td>\n",
       "      <td>C03582</td>\n",
       "      <td>27881.0</td>\n",
       "      <td>heterologous</td>\n",
       "      <td>other</td>\n",
       "      <td>Link</td>\n",
       "      <td>C1=CC(=CC=C1/C=C/C2=CC(=CC(=C2)O)O)O</td>\n",
       "      <td></td>\n",
       "      <td></td>\n",
       "    </tr>\n",
       "    <tr>\n",
       "      <th>32</th>\n",
       "      <td>α-Farnesene</td>\n",
       "      <td>C15H24</td>\n",
       "      <td>C09665</td>\n",
       "      <td>10280.0</td>\n",
       "      <td>heterologous</td>\n",
       "      <td>terpene</td>\n",
       "      <td>Link</td>\n",
       "      <td>CC(=CCC/C(=C/C/C=C(\\C)/C=C)/C)C</td>\n",
       "      <td></td>\n",
       "      <td></td>\n",
       "    </tr>\n",
       "    <tr>\n",
       "      <th>33</th>\n",
       "      <td>Amorphadiene</td>\n",
       "      <td>C15H24</td>\n",
       "      <td>C16028</td>\n",
       "      <td>52026.0</td>\n",
       "      <td>heterologous</td>\n",
       "      <td>terpene</td>\n",
       "      <td>Link</td>\n",
       "      <td>C[C@@H]1CC[C@H]([C@@H]2[C@H]1CCC(=C2)C)C(=C)C</td>\n",
       "      <td></td>\n",
       "      <td></td>\n",
       "    </tr>\n",
       "    <tr>\n",
       "      <th>34</th>\n",
       "      <td>Geraniol</td>\n",
       "      <td>C10H18O</td>\n",
       "      <td>C01500</td>\n",
       "      <td>17447.0</td>\n",
       "      <td>heterologous</td>\n",
       "      <td>terpene</td>\n",
       "      <td>Link</td>\n",
       "      <td>CC(=CCC/C(=C/CO)/C)C</td>\n",
       "      <td></td>\n",
       "      <td></td>\n",
       "    </tr>\n",
       "    <tr>\n",
       "      <th>35</th>\n",
       "      <td>Limonene</td>\n",
       "      <td>C10H16</td>\n",
       "      <td>C06078</td>\n",
       "      <td>15384.0</td>\n",
       "      <td>heterologous</td>\n",
       "      <td>terpene</td>\n",
       "      <td>Link</td>\n",
       "      <td>CC1=CCC(CC1)C(=C)C</td>\n",
       "      <td></td>\n",
       "      <td></td>\n",
       "    </tr>\n",
       "    <tr>\n",
       "      <th>36</th>\n",
       "      <td>Linalool</td>\n",
       "      <td>C10H18O</td>\n",
       "      <td>C03985</td>\n",
       "      <td>17580.0</td>\n",
       "      <td>heterologous</td>\n",
       "      <td>terpene</td>\n",
       "      <td>Link</td>\n",
       "      <td>CC(=CCCC(C)(C=C)O)C</td>\n",
       "      <td></td>\n",
       "      <td></td>\n",
       "    </tr>\n",
       "    <tr>\n",
       "      <th>37</th>\n",
       "      <td>Lupeol</td>\n",
       "      <td>C30H50O</td>\n",
       "      <td>C08628</td>\n",
       "      <td>6570.0</td>\n",
       "      <td>heterologous</td>\n",
       "      <td>terpene</td>\n",
       "      <td>Link</td>\n",
       "      <td>CC(=C)[C@@H]1CC[C@]2([C@H]1[C@H]3CC[C@@H]4[C@]...</td>\n",
       "      <td></td>\n",
       "      <td></td>\n",
       "    </tr>\n",
       "    <tr>\n",
       "      <th>38</th>\n",
       "      <td>Oleanolic acid</td>\n",
       "      <td>C30H48O3</td>\n",
       "      <td>C17148</td>\n",
       "      <td>37659.0</td>\n",
       "      <td>heterologous</td>\n",
       "      <td>terpene</td>\n",
       "      <td>Link</td>\n",
       "      <td>C[C@]12CC[C@@H](C([C@@H]1CC[C@@]3([C@@H]2CC=C4...</td>\n",
       "      <td></td>\n",
       "      <td></td>\n",
       "    </tr>\n",
       "    <tr>\n",
       "      <th>39</th>\n",
       "      <td>Patchoulol</td>\n",
       "      <td>C15H26O</td>\n",
       "      <td>C19755</td>\n",
       "      <td>7940.0</td>\n",
       "      <td>heterologous</td>\n",
       "      <td>terpene</td>\n",
       "      <td>Link</td>\n",
       "      <td>C[C@H]1CC[C@@]2([C@@]3([C@H]1C[C@H](C2(C)C)CC3...</td>\n",
       "      <td></td>\n",
       "      <td></td>\n",
       "    </tr>\n",
       "    <tr>\n",
       "      <th>40</th>\n",
       "      <td>Protopanaxadiol</td>\n",
       "      <td>C30H52O3</td>\n",
       "      <td>C20715</td>\n",
       "      <td>75950.0</td>\n",
       "      <td>heterologous</td>\n",
       "      <td>terpene</td>\n",
       "      <td>Link</td>\n",
       "      <td>CC(=CCC[C@](C)([C@H]1CC[C@@]2([C@@H]1[C@@H](C[...</td>\n",
       "      <td></td>\n",
       "      <td></td>\n",
       "    </tr>\n",
       "    <tr>\n",
       "      <th>41</th>\n",
       "      <td>Santalene</td>\n",
       "      <td>C15H24</td>\n",
       "      <td>C19736</td>\n",
       "      <td>NaN</td>\n",
       "      <td>heterologous</td>\n",
       "      <td>terpene</td>\n",
       "      <td>Link</td>\n",
       "      <td>CC(=CCCC1(C2CC3C1(C3C2)C)C)C</td>\n",
       "      <td></td>\n",
       "      <td></td>\n",
       "    </tr>\n",
       "    <tr>\n",
       "      <th>42</th>\n",
       "      <td>β-Amyrin</td>\n",
       "      <td>C30H50O</td>\n",
       "      <td>C08616</td>\n",
       "      <td>10352.0</td>\n",
       "      <td>heterologous</td>\n",
       "      <td>terpene</td>\n",
       "      <td>Link</td>\n",
       "      <td>C[C@@]12CC[C@@]3(C(=CC[C@H]4[C@]3(CC[C@@H]5[C@...</td>\n",
       "      <td></td>\n",
       "      <td></td>\n",
       "    </tr>\n",
       "    <tr>\n",
       "      <th>43</th>\n",
       "      <td>β-Ionone</td>\n",
       "      <td>C13H20O</td>\n",
       "      <td>C12287</td>\n",
       "      <td>32325.0</td>\n",
       "      <td>heterologous</td>\n",
       "      <td>terpene</td>\n",
       "      <td>NaN</td>\n",
       "      <td>CC1=C(C(CCC1)(C)C)/C=C/C(=O)C</td>\n",
       "      <td></td>\n",
       "      <td></td>\n",
       "    </tr>\n",
       "  </tbody>\n",
       "</table>\n",
       "</div>"
      ],
      "text/plain": [
       "                        Name      Formula  KEGG ID  CHEBI ID         Group  \\\n",
       "0     L-Phenylacetylcarbinol      C9H10O2      NaN       NaN  heterologous   \n",
       "1                  1-Butanol       C4H10O   C06142   28885.0  heterologous   \n",
       "2             (S)-Reticuline    C19H23NO4   C02105   16718.0  heterologous   \n",
       "3                 Psilocybin  C12H17N2O4P   C07576    8614.0  heterologous   \n",
       "4              Nicotianamine   C12H21N3O6   C05324   17721.0  heterologous   \n",
       "5          4-Hydroxymandelic       C8H8O4   C11527   16388.0  heterologous   \n",
       "6                  Cinnamate       C9H8O2   C00423   15669.0  heterologous   \n",
       "7                   Mandelic       C8H8O3   C01984   17756.0  heterologous   \n",
       "8            p-Coumaric acid       C9H8O3   C00811   32374.0  heterologous   \n",
       "9                Rosmarinate     C18H16O8   C01850   50371.0  heterologous   \n",
       "10               Salidroside     C14H20O7   C06046    9009.0  heterologous   \n",
       "11                   Tyrosol      C8H10O2   C06044    1879.0  heterologous   \n",
       "12              Arachidonate     C20H32O2  C00219    15843.0  heterologous   \n",
       "13          Docosahexaenoate     C22H32O2   C06429   28125.0  heterologous   \n",
       "14     Eicosapentaenoic acid     C20H30O2   C06428   28364.0  heterologous   \n",
       "15                 Docosanol      C22H46O   D03884   31000.0  heterologous   \n",
       "16                  Catechin     C15H14O6   C06562   15600.0  heterologous   \n",
       "17                 Genistein     C15H10O5   C06563   28088.0  heterologous   \n",
       "18                Kaempferol     C15H10O6   C05903   28499.0  heterologous   \n",
       "19                Naringenin     C15H12O5   C00509   17846.0  heterologous   \n",
       "20                 Quercetin     C15H10O7   C00389   16243.0  heterologous   \n",
       "21               Astaxanthin     C40H52O4   C08580   40968.0  heterologous   \n",
       "22               Betaxanthin   C18H18N2O7   C08565    8341.0  heterologous   \n",
       "23                β-Carotene       C40H56   C02094   17579.0  heterologous   \n",
       "24          Artemisinic acid     C15H22O2   C20309   63749.0  heterologous   \n",
       "25       3-Hydroxypropanoate       C3H6O3   C01013   16510.0  heterologous   \n",
       "26               Adipic acid      C6H10O4  D08839    30832.0  heterologous   \n",
       "27          cis,cis-Muconate       C6H6O4   C02480   16508.0  heterologous   \n",
       "28             Itaconic acid       C5H6O4   C00490   17240.0  heterologous   \n",
       "29                  Ethylene         C2H4   C06547   18153.0  heterologous   \n",
       "30  1,3,5-Trihydroxyxanthone      C13H8O5   C10094     514.0  heterologous   \n",
       "31               Resveratrol     C14H12O3   C03582   27881.0  heterologous   \n",
       "32               α-Farnesene       C15H24   C09665   10280.0  heterologous   \n",
       "33              Amorphadiene       C15H24   C16028   52026.0  heterologous   \n",
       "34                  Geraniol      C10H18O   C01500   17447.0  heterologous   \n",
       "35                  Limonene       C10H16   C06078   15384.0  heterologous   \n",
       "36                  Linalool      C10H18O   C03985   17580.0  heterologous   \n",
       "37                    Lupeol      C30H50O   C08628    6570.0  heterologous   \n",
       "38            Oleanolic acid     C30H48O3   C17148   37659.0  heterologous   \n",
       "39                Patchoulol      C15H26O   C19755    7940.0  heterologous   \n",
       "40           Protopanaxadiol     C30H52O3  C20715    75950.0  heterologous   \n",
       "41                 Santalene       C15H24   C19736       NaN  heterologous   \n",
       "42                  β-Amyrin      C30H50O   C08616   10352.0  heterologous   \n",
       "43                  β-Ionone      C13H20O   C12287   32325.0  heterologous   \n",
       "\n",
       "                     class Gene target  \\\n",
       "0                  alcohol        Link   \n",
       "1                  alcohol        Link   \n",
       "2                 alkaloid        Link   \n",
       "3                 alkaloid        Link   \n",
       "4               amino acid        Link   \n",
       "5                 aromatic        Link   \n",
       "6                 aromatic        Link   \n",
       "7                 aromatic        Link   \n",
       "8                 aromatic        Link   \n",
       "9                 aromatic        Link   \n",
       "10                aromatic        Link   \n",
       "11                aromatic        Link   \n",
       "12  fatty acids and lipids        Link   \n",
       "13  fatty acids and lipids        Link   \n",
       "14  fatty acids and lipids        Link   \n",
       "15                 alcohol        Link   \n",
       "16               flavonoid        Link   \n",
       "17               flavonoid        Link   \n",
       "18               flavonoid        Link   \n",
       "19               flavonoid        Link   \n",
       "20               flavonoid        Link   \n",
       "21                 terpene        Link   \n",
       "22                 terpene        Link   \n",
       "23                 terpene        Link   \n",
       "24                 terpene        Link   \n",
       "25            organic acid        Link   \n",
       "26            organic acid        Link   \n",
       "27            organic acid        Link   \n",
       "28            organic acid        Link   \n",
       "29                   other        Link   \n",
       "30                   other        Link   \n",
       "31                   other        Link   \n",
       "32                 terpene        Link   \n",
       "33                 terpene        Link   \n",
       "34                 terpene        Link   \n",
       "35                 terpene        Link   \n",
       "36                 terpene        Link   \n",
       "37                 terpene        Link   \n",
       "38                 terpene        Link   \n",
       "39                 terpene        Link   \n",
       "40                 terpene        Link   \n",
       "41                 terpene        Link   \n",
       "42                 terpene        Link   \n",
       "43                 terpene         NaN   \n",
       "\n",
       "                                               Smiles byproduct EC number  \n",
       "0                           CC(=O)[C@H](C1=CC=CC=C1)O                      \n",
       "1                                               CCCCO                      \n",
       "2   CN1CCC2=CC(=C(C=C2[C@@H]1CC3=CC(=C(C=C3)OC)O)O)OC                      \n",
       "3                CN(C)CCC1=CNC2=C1C(=CC=C2)OP(=O)(O)O                      \n",
       "4   C1CN([C@@H]1C(=O)O)CC[C@@H](C(=O)O)NCC[C@@H](C...                      \n",
       "5                            C1=CC(=CC=C1C(C(=O)O)O)O                      \n",
       "6                         C1=CC=C(C=C1)/C=C/C(=O)[O-]                      \n",
       "7                        C1=CC=C(C=C1)[C@@H](C(=O)O)O                      \n",
       "8                           C1=CC(=CC=C1/C=C/C(=O)O)O                      \n",
       "9   C1=CC(=C(C=C1C[C@H](C(=O)O)OC(=O)/C=C/C2=CC(=C...                      \n",
       "10  C1=CC(=CC=C1CCO[C@H]2[C@@H]([C@H]([C@@H]([C@H]...                      \n",
       "11                                  C1=CC(=CC=C1CCO)O                      \n",
       "12              CCCCC/C=C\\C/C=C\\C/C=C\\C/C=C\\CCCC(=O)O                      \n",
       "13      CC/C=C\\C/C=C\\C/C=C\\C/C=C\\C/C=C\\C/C=C\\CCC(=O)O                      \n",
       "14           CC/C=C\\C/C=C\\C/C=C\\C/C=C\\C/C=C\\CCCC(=O)O                      \n",
       "15                            CCCCCCCCCCCCCCCCCCCCCCO                      \n",
       "16  C1[C@@H]([C@H](OC2=CC(=CC(=C21)O)O)C3=CC(=C(C=...                      \n",
       "17           C1=CC(=CC=C1C2=COC3=CC(=CC(=C3C2=O)O)O)O                      \n",
       "18      C1=CC(=CC=C1C2=C(C(=O)C3=C(C=C(C=C3O2)O)O)O)O                      \n",
       "19      C1[C@H](OC2=CC(=CC(=C2C1=O)O)O)C3=CC=C(C=C3)O                      \n",
       "20   C1=CC(=C(C=C1C2=C(C(=O)C3=C(C=C(C=C3O2)O)O)O)O)O                      \n",
       "21  CC1=C(C(C[C@@H](C1=O)O)(C)C)/C=C/C(=C/C=C/C(=C...                      \n",
       "22  COC1=C(C=CC(=C1)CCN=C/C=C/2\\C[C@H](NC(=C2)C(=O...                      \n",
       "23  CC1=C(C(CCC1)(C)C)/C=C/C(=C/C=C/C(=C/C=C/C=C(/...                      \n",
       "24  C[C@@H]1CC[C@H]([C@@H]2[C@H]1CCC(=C2)C)C(=C)C(...                      \n",
       "25                                        C(CO)C(=O)O                      \n",
       "26                                 C(CCC(=O)O)CC(=O)O                      \n",
       "27                            C(=C\\C(=O)O)\\C=C/C(=O)O                      \n",
       "28                                 C=C(CC(=O)O)C(=O)O                      \n",
       "29                                                C=C                      \n",
       "30            C1=CC2=C(C(=C1)O)OC3=CC(=CC(=C3C2=O)O)O                      \n",
       "31               C1=CC(=CC=C1/C=C/C2=CC(=CC(=C2)O)O)O                      \n",
       "32                    CC(=CCC/C(=C/C/C=C(\\C)/C=C)/C)C                      \n",
       "33      C[C@@H]1CC[C@H]([C@@H]2[C@H]1CCC(=C2)C)C(=C)C                      \n",
       "34                               CC(=CCC/C(=C/CO)/C)C                      \n",
       "35                                 CC1=CCC(CC1)C(=C)C                      \n",
       "36                                CC(=CCCC(C)(C=C)O)C                      \n",
       "37  CC(=C)[C@@H]1CC[C@]2([C@H]1[C@H]3CC[C@@H]4[C@]...                      \n",
       "38  C[C@]12CC[C@@H](C([C@@H]1CC[C@@]3([C@@H]2CC=C4...                      \n",
       "39  C[C@H]1CC[C@@]2([C@@]3([C@H]1C[C@H](C2(C)C)CC3...                      \n",
       "40  CC(=CCC[C@](C)([C@H]1CC[C@@]2([C@@H]1[C@@H](C[...                      \n",
       "41                       CC(=CCCC1(C2CC3C1(C3C2)C)C)C                      \n",
       "42  C[C@@]12CC[C@@]3(C(=CC[C@H]4[C@]3(CC[C@@H]5[C@...                      \n",
       "43                      CC1=C(C(CCC1)(C)C)/C=C/C(=O)C                      "
      ]
     },
     "execution_count": 10,
     "metadata": {},
     "output_type": "execute_result"
    }
   ],
   "source": [
    "target_100met"
   ]
  },
  {
   "cell_type": "code",
   "execution_count": 11,
   "metadata": {},
   "outputs": [
    {
     "name": "stderr",
     "output_type": "stream",
     "text": [
      "  0%|          | 0/44 [00:00<?, ?it/s]"
     ]
    },
    {
     "name": "stdout",
     "output_type": "stream",
     "text": [
      "L-Phenylacetylcarbinol\n",
      "1884\n"
     ]
    },
    {
     "name": "stderr",
     "output_type": "stream",
     "text": [
      "100%|██████████| 9708/9708 [15:00<00:00, 10.78it/s]\n",
      "100%|██████████| 21921/21921 [00:20<00:00, 1062.18it/s]\n"
     ]
    },
    {
     "name": "stdout",
     "output_type": "stream",
     "text": [
      "rxndb num 90\n",
      "failedrxn num 0\n",
      "5\n"
     ]
    },
    {
     "name": "stderr",
     "output_type": "stream",
     "text": [
      "  2%|▏         | 1/44 [15:25<11:03:00, 925.12s/it]"
     ]
    },
    {
     "name": "stdout",
     "output_type": "stream",
     "text": [
      "L-Phenylacetylcarbinol 4\n",
      "L-Phenylacetylcarbinol ['1.14.13.-', '1.14.13.-', '1.14.13.-', '1.1.1;1.1.1.-;1.1.1.4', '1.14.13.189', '1.14.13.189', '1.14.13.189', '1.1.1.2', '1.14.13.-;1.14.13.243', '1.14.13.-;1.14.13.243', '1.14.13.-;1.14.13.243', '1.14.13.7', '1.14.13.7', '1.14.13.7', '1.14.13.-;1.14.13.236', '1.14.13.-;1.14.13.236', '1.14.13.-;1.14.13.236']\n",
      "1-Butanol\n",
      "1884\n"
     ]
    },
    {
     "name": "stderr",
     "output_type": "stream",
     "text": [
      "100%|██████████| 9708/9708 [14:16<00:00, 11.34it/s]\n",
      "100%|██████████| 21921/21921 [00:21<00:00, 1024.63it/s]\n"
     ]
    },
    {
     "name": "stdout",
     "output_type": "stream",
     "text": [
      "rxndb num 431\n",
      "failedrxn num 0\n",
      "65\n"
     ]
    },
    {
     "name": "stderr",
     "output_type": "stream",
     "text": [
      "  5%|▍         | 2/44 [30:19<10:34:48, 906.88s/it]"
     ]
    },
    {
     "name": "stdout",
     "output_type": "stream",
     "text": [
      "1-Butanol 1\n",
      "1-Butanol ['1.1.3.20', '1.1.3.20']\n",
      "(S)-Reticuline\n",
      "1884\n"
     ]
    },
    {
     "name": "stderr",
     "output_type": "stream",
     "text": [
      "100%|██████████| 9708/9708 [16:59<00:00,  9.53it/s]\n",
      "100%|██████████| 21921/21921 [00:23<00:00, 944.80it/s] \n"
     ]
    },
    {
     "name": "stdout",
     "output_type": "stream",
     "text": [
      "rxndb num 720\n",
      "failedrxn num 0\n",
      "18\n"
     ]
    },
    {
     "name": "stderr",
     "output_type": "stream",
     "text": [
      "  7%|▋         | 3/44 [47:53<11:05:32, 973.96s/it]"
     ]
    },
    {
     "name": "stdout",
     "output_type": "stream",
     "text": [
      "(S)-Reticuline 15\n",
      "(S)-Reticuline ['1.14.14.-;1.14.14.1', '1.14.14.-;1.14.14.1', '1.14.14.-;1.14.14.1', '1.14.14.-;1.14.14.1', '1.14.14.-;1.14.14.1', '1.14.14.1', '1.14.14.1', '1.14.14.1', '1.14.14.1', '1.14.14.1', '1.14.13', '1.14.13', '1.14.13', '1.14.13', '1.14.13', '1.14.19.68;1.14.21.5', '1.14.19.68;1.14.21.5', '1.14.21.1', '1.14.21.1', '1.14.21.3', '1.14.21.3', '1.14.21.3', '1.14.21.3', '1.14.21.3', '1.14.21.3', '1.14.21.3', '1.14.21.3', '1.14.21.3', '1.14.21.3', '1.14.21.3', '1.14.21.3', '1.14.21.3', '1.14.21.3', '1.14.21.3', '1.14.21.3', '1.14.13.56', '1.14.13.56', '1.14.13.56', '1.14.13.56', '1.14.13.56', '1.14.13.57', '1.14.13.57', '1.14.13.57', '1.14.13.57', '1.14.13.57', '1.14.13.71;1.14.14.102', '1.14.13.71;1.14.14.102', '1.14.13.71;1.14.14.102', '1.14.13.71;1.14.14.102', '1.14.13.71;1.14.14.102', '1.14.13.91', '1.14.13.91', '1.14.13.91', '1.14.13.91', '1.14.13.91', '1.14.13.-', '1.14.13.-', '1.14.13.91', '1.14.13.91', '1.14.13.91', '1.14.13.91', '1.14.13.91']\n",
      "Psilocybin\n",
      "1884\n"
     ]
    },
    {
     "name": "stderr",
     "output_type": "stream",
     "text": [
      "100%|██████████| 9708/9708 [16:50<00:00,  9.61it/s]\n",
      "100%|██████████| 21921/21921 [00:21<00:00, 999.98it/s] \n"
     ]
    },
    {
     "name": "stdout",
     "output_type": "stream",
     "text": [
      "rxndb num 52\n",
      "failedrxn num 0\n",
      "0\n",
      "Psilocybin 6\n",
      "Psilocybin ['3.1.8.1', '1.14.13.8', '1.13.11.52', '1.14.13.56', '1.14.13.56', '1.14.13.56', '1.14.13.57', '1.14.13.57', '1.14.13.57', '1.14.13.71;1.14.14.102', '1.14.13.71;1.14.14.102', '1.14.13.71;1.14.14.102']\n"
     ]
    },
    {
     "name": "stderr",
     "output_type": "stream",
     "text": [
      "  9%|▉         | 4/44 [1:05:08<11:05:36, 998.41s/it]"
     ]
    },
    {
     "name": "stdout",
     "output_type": "stream",
     "text": [
      "Nicotianamine\n",
      "1884\n"
     ]
    },
    {
     "name": "stderr",
     "output_type": "stream",
     "text": [
      "100%|██████████| 9708/9708 [16:48<00:00,  9.62it/s]\n",
      "100%|██████████| 21921/21921 [00:22<00:00, 976.17it/s] \n"
     ]
    },
    {
     "name": "stdout",
     "output_type": "stream",
     "text": [
      "rxndb num 44\n",
      "failedrxn num 0\n",
      "0\n"
     ]
    },
    {
     "name": "stderr",
     "output_type": "stream",
     "text": [
      " 11%|█▏        | 5/44 [1:22:23<10:57:26, 1011.45s/it]"
     ]
    },
    {
     "name": "stdout",
     "output_type": "stream",
     "text": [
      "Nicotianamine 0\n",
      "Nicotianamine []\n",
      "4-Hydroxymandelic\n",
      "1884\n"
     ]
    },
    {
     "name": "stderr",
     "output_type": "stream",
     "text": [
      "100%|██████████| 9708/9708 [13:44<00:00, 11.78it/s]\n",
      "100%|██████████| 21921/21921 [00:21<00:00, 1041.26it/s]\n"
     ]
    },
    {
     "name": "stdout",
     "output_type": "stream",
     "text": [
      "rxndb num 514\n",
      "failedrxn num 0\n",
      "37\n"
     ]
    },
    {
     "name": "stderr",
     "output_type": "stream",
     "text": [
      " 14%|█▎        | 6/44 [1:37:06<10:12:49, 967.63s/it] "
     ]
    },
    {
     "name": "stdout",
     "output_type": "stream",
     "text": [
      "4-Hydroxymandelic 11\n",
      "4-Hydroxymandelic ['1.14.13.19', '1.14.13.19', '1.14.13.-;1.6.5.2', '1.14.13.-;1.6.5.2', '3.1.3.25', '3.1.3.25', '3.1.3.25', '3.1.3.25', '1.14.13;1.14.13.-', '1.14.13;1.14.13.-', '1.14.13', '1.14.13', '1.14.18.1', '1.14.18.1', '1.14.18.1', '4.2.1.94', '1.14.13.21', '1.14.13.21', '1.14.13.-', '1.14.13.-', '1.14.13.21', '1.14.13.21', '1.1.1.107;1.1.1.122', '3.1.3.25', '3.1.3.25', '1.14.13.88', '1.14.13.88', '1.14.13.88', '1.14.13.88', '1.14.19.55', '1.14.19.55', '3.1.3.25', '3.1.3.25']\n",
      "Cinnamate\n",
      "1884\n"
     ]
    },
    {
     "name": "stderr",
     "output_type": "stream",
     "text": [
      "100%|██████████| 9708/9708 [14:40<00:00, 11.03it/s]\n",
      "100%|██████████| 21921/21921 [00:20<00:00, 1069.84it/s]\n"
     ]
    },
    {
     "name": "stdout",
     "output_type": "stream",
     "text": [
      "rxndb num 194\n",
      "failedrxn num 0\n",
      "0\n"
     ]
    },
    {
     "name": "stderr",
     "output_type": "stream",
     "text": [
      " 16%|█▌        | 7/44 [1:52:18<9:45:30, 949.48s/it] "
     ]
    },
    {
     "name": "stdout",
     "output_type": "stream",
     "text": [
      "Cinnamate 9\n",
      "Cinnamate ['3.6.1.7', '1.3.1.31', '1.1.1.184;1.2.1.5', '1.14.13.189', '1.14.13.189', '1.14.13.189', '4.1.1.-;4.1.1.102', '1.14.14.91', '1.14.14.91', '1.14.14.91', '1.2.1.3', '1.1.1.184', '1.14.12.19', '1.14.13.12', '1.14.13.12', '1.14.13.12', '1.14.13.11;1.14.14.91', '1.14.13.11;1.14.14.91', '1.14.13.11;1.14.14.91', '1.14.13.14;1.14.14.91', '1.14.12.19', '1.14.14.8', '1.14.14.8', '1.14.14.8']\n",
      "Mandelic\n",
      "1884\n"
     ]
    },
    {
     "name": "stderr",
     "output_type": "stream",
     "text": [
      "100%|██████████| 9708/9708 [12:04<00:00, 13.41it/s]\n",
      "100%|██████████| 21921/21921 [00:21<00:00, 1017.40it/s]\n"
     ]
    },
    {
     "name": "stdout",
     "output_type": "stream",
     "text": [
      "rxndb num 25\n",
      "failedrxn num 0\n",
      "2\n"
     ]
    },
    {
     "name": "stderr",
     "output_type": "stream",
     "text": [
      " 18%|█▊        | 8/44 [2:04:46<8:51:14, 885.40s/it]"
     ]
    },
    {
     "name": "stdout",
     "output_type": "stream",
     "text": [
      "Mandelic 1\n",
      "Mandelic ['1.2.1.3']\n",
      "p-Coumaric acid\n",
      "1884\n"
     ]
    },
    {
     "name": "stderr",
     "output_type": "stream",
     "text": [
      "100%|██████████| 9708/9708 [18:32<00:00,  8.72it/s]\n",
      "100%|██████████| 21921/21921 [00:23<00:00, 936.17it/s] \n"
     ]
    },
    {
     "name": "stdout",
     "output_type": "stream",
     "text": [
      "rxndb num 467\n",
      "failedrxn num 0\n",
      "13\n"
     ]
    },
    {
     "name": "stderr",
     "output_type": "stream",
     "text": [
      " 20%|██        | 9/44 [2:23:54<9:24:22, 967.51s/it]"
     ]
    },
    {
     "name": "stdout",
     "output_type": "stream",
     "text": [
      "p-Coumaric acid 11\n",
      "p-Coumaric acid ['1.14.13.7', '1.14.13.7', '1.14.13.63', '1.14.13.63', '1.14.13.63', '1.14.13.63', '1.14.13.6', '1.14.13.6', '1.14.13.219;1.14.13.7', '1.14.13.219;1.14.13.7', '1.14.13.-;1.6.5.2', '1.14.13.-;1.6.5.2', '1.14.13.244;1.14.13.M20', '1.14.13.244;1.14.13.M20', '1.14.13.-;1.14.13.220', '1.14.13.-;1.14.13.220', '1.14.13.44', '1.14.13.44', '1.14.14', '1.14.14', '1.14.13', '1.14.13', '1.14.13.M33', '1.14.13.M33', '1.14.18.1', '1.14.18.1', '1.14.18.1', '1.14.18.1', '1.14.18.1', '1.14.18.1', '3.1.3.2;3.1.3.48;3.1.3.76', '1.14.14.57', '1.14.13.18', '1.14.13.18', '4.2.1.94', '1.14.13.21', '1.14.13.21', '1.14.13.88', '1.14.13.88', '1.14.14.9', '1.14.14.9', '1.14.13.3;1.14.14.9', '1.14.13.3;1.14.14.9', '1.14.13.127', '1.14.13.127', '1.14.13.127', '1.14.19.55', '1.14.19.55', '5.2.-.-;5.2.1.-', '1.14.13.236', '1.14.13.236', '1.14.14.20', '1.14.14.20', '1.14.14.27', '1.14.14.27', '1.3.1.74', '1.14.13.3;1.14.14.9', '1.14.13.3;1.14.14.9', '1.14.13.127', '1.14.13.127']\n",
      "Rosmarinate\n",
      "1884\n"
     ]
    },
    {
     "name": "stderr",
     "output_type": "stream",
     "text": [
      "100%|██████████| 9708/9708 [18:09<00:00,  8.91it/s]\n",
      "100%|██████████| 21921/21921 [00:25<00:00, 847.08it/s]\n"
     ]
    },
    {
     "name": "stdout",
     "output_type": "stream",
     "text": [
      "rxndb num 1220\n",
      "failedrxn num 0\n",
      "143\n"
     ]
    },
    {
     "name": "stderr",
     "output_type": "stream",
     "text": [
      " 23%|██▎       | 10/44 [2:43:12<9:41:40, 1026.49s/it]"
     ]
    },
    {
     "name": "stdout",
     "output_type": "stream",
     "text": [
      "Rosmarinate 16\n",
      "Rosmarinate ['1.14.14.1', '3.1.1.70', '1.14.13.19', '1.14.13.19', '1.14.13.19', '1.14.13.19', '1.14.13.19', '1.14.13.19', '1.14.13.19', '1.14.13.19', '1.3.1.29', '1.3.1.29', '1.3.1.49', '1.3.1.49', '1.3.1.29', '1.3.1.29', '1.13.11.-', '1.13.11.-', '1.3.1.29', '1.3.1.29', '1.14.14.-;1.14.14.1', '1.14.13;1.14.13.-', '1.14.13;1.14.13.-', '1.14.13;1.14.13.-', '1.14.13;1.14.13.-', '1.14.13;1.14.13.-', '1.14.13;1.14.13.-', '1.14.13', '1.14.13', '1.14.13', '1.14.13', '1.14.13', '1.14.13', '1.14.13', '1.14.13', '1.14.13', '1.14.13', '1.14.13', '1.14.13', '1.14.13', '1.14.13', '1.14.13', '1.14.13', '1.14.13', '1.14.13', '3.1.1', '1.1.1.-', '1.1.1.-', '1.14.13.21;1.14.13.88', '1.14.13.21;1.14.13.88', '1.14.13.21;1.14.13.88', '1.14.13.21;1.14.13.88', '1.14.13.21;1.14.13.88', '1.14.13.21;1.14.13.88', '1.14', '1.14', '1.14', '1.14', '1.14', '1.14', '1.14.13.36', '1.14.13.36', '1.14.13.36', '1.14.13.36', '1.14.13.36', '1.14.13.36', '1.14;1.14.13.36', '1.14;1.14.13.36', '1.14;1.14.13.36', '1.14;1.14.13.36', '1.14;1.14.13.36', '1.14;1.14.13.36', '1.14.13.-', '1.14.13.-', '1.14.13.-', '1.14.13.-', '1.14.13.-', '1.14.13.-', '1.14.13.21', '1.14.13.21', '1.14.13.21', '1.14.13.21', '1.14.13.21', '1.14.13.21', '1.14.13.103', '1.14.13.103', '1.14.13.103', '1.14.13.103', '1.14.13.103', '1.14.13.103', '1.14.13.88', '1.14.13.88', '1.14.13.88', '1.14.13.88', '1.14.13.88', '1.14.13.88', '1.14.13.88', '1.14.13.88', '1.14.13.88', '1.14.13.88', '1.14.13.88', '1.14.13.88', '1.3.1.n3', '1.3.1.n3', '1.3.1.20', '1.3.1.20', '1.14.13.21', '1.14.13.21', '1.14.13.21', '1.14.13.21', '1.14.13.21', '1.14.13.21', '1.14.13.103', '1.14.13.103', '1.14.13.103', '1.14.13.103', '1.14.13.103', '1.14.13.103', '3.1.1.88', '1.14.14.-', '1.14.14.-', '1.14.14.-', '1.14.14.-', '1.14.14.-', '1.14.14.-', '1.14.14;1.14.14.-', '1.14.14;1.14.14.-', '1.14.14;1.14.14.-', '1.14.14;1.14.14.-', '1.14.14;1.14.14.-', '1.14.14;1.14.14.-']\n",
      "Salidroside\n",
      "1884\n"
     ]
    },
    {
     "name": "stderr",
     "output_type": "stream",
     "text": [
      "100%|██████████| 9708/9708 [18:18<00:00,  8.84it/s]\n",
      "100%|██████████| 21921/21921 [00:24<00:00, 901.15it/s]\n"
     ]
    },
    {
     "name": "stdout",
     "output_type": "stream",
     "text": [
      "rxndb num 3684\n",
      "failedrxn num 0\n",
      "17\n"
     ]
    },
    {
     "name": "stderr",
     "output_type": "stream",
     "text": [
      " 25%|██▌       | 11/44 [3:08:31<10:47:28, 1177.23s/it]"
     ]
    },
    {
     "name": "stdout",
     "output_type": "stream",
     "text": [
      "Salidroside 16\n",
      "Salidroside ['3.1.3.69', '3.1.3.69', '3.1.3.69', '3.1.3.69', '3.2.1.-', '1.14.13.19', '1.14.13.19', '3.2.1.63', '2.4.1.247', '2.4.1.247', '3.2.1.-;3.2.1.21', '3.2.1.-;3.2.1.21', '2.4.1.-;2.4.1.282', '2.4.1.-;2.4.1.282', '2.4.1.321', '2.4.1.332', '2.4.1.332', '3.2.1', '3.2.1', '3.2.1.149', '3.2.1.149', '3.2.1.149', '3.2.1.149', '2.4.1.230', '2.4.1.230', '3.2.1.40', '3.2.1.40', '3.2.1.40', '1.14.13', '1.14.13', '3.2.1', '3.2.1.3', '3.2.1.70', '3.2.1.70', '3.2.1.21;3.2.1.25;3.2.1.58;3.2.1.74', '3.2.1.21', '1.1.99.13', '1.1.99.13', '1.1.99.13', '3.2.1.22', '5.4.99.16', '1.14.13.21;1.14.13.88', '1.14.13.21;1.14.13.88', '3.2.1.23', '3.2.1.23', '1.14.13.103', '1.14.13.103', '1.14.13.88', '1.14.13.88', '1.14.13.88', '1.14.13.88', '2.4.1.359;2.4.1.dr', '2.4.1.359;2.4.1.dr', '3.2.1.23', '3.2.1.23', '3.2.1.22', '3.2.1.22', '3.2.1.22', '3.2.1.22', '3.2.1.117', '3.2.1.117', '3.2.1.74', '3.2.1.74', '3.2.1.74', '3.2.1.74', '2.4.1.247', '2.4.1.247', '2.4.1.247', '2.4.1.247', '1.14.13.89', '1.14.13.89', '1.14.13.21', '1.14.13.21', '1.14.13.103', '1.14.13.103', '1.14.13', '3.2.1.119', '3.2.1.119', '3.2.1.118', '3.2.1.118', '3.2.1.117', '3.2.1.117', '3.2.1.10;3.2.1.177;3.2.1.20;3.2.1.48', '1.14.14.-', '1.14.14.-', '1.14.14;1.14.14.-', '1.14.14;1.14.14.-', '3.2.1.118', '3.2.1.118', '3.2.1.214', '3.2.1.214', '3.2.1.37', '3.2.1.37', '3.2.1.37', '3.2.1.37', '3.2.1.37', '3.2.1.20', '3.2.1.20']\n",
      "Tyrosol\n",
      "1884\n"
     ]
    },
    {
     "name": "stderr",
     "output_type": "stream",
     "text": [
      "100%|██████████| 9708/9708 [16:37<00:00,  9.74it/s]\n",
      "100%|██████████| 21921/21921 [00:21<00:00, 1013.04it/s]\n"
     ]
    },
    {
     "name": "stdout",
     "output_type": "stream",
     "text": [
      "rxndb num 199\n",
      "failedrxn num 0\n",
      "14\n"
     ]
    },
    {
     "name": "stderr",
     "output_type": "stream",
     "text": [
      " 27%|██▋       | 12/44 [3:25:42<10:04:00, 1132.52s/it]"
     ]
    },
    {
     "name": "stdout",
     "output_type": "stream",
     "text": [
      "Tyrosol 2\n",
      "Tyrosol ['1.14.13.-;1.14.18.1', '1.14.13.-;1.14.18.1', '1.14.14.1', '1.14.14.1', '1.14.14', '1.14.14']\n",
      "Arachidonate\n",
      "1884\n"
     ]
    },
    {
     "name": "stderr",
     "output_type": "stream",
     "text": [
      "100%|██████████| 9708/9708 [15:30<00:00, 10.43it/s]\n",
      "100%|██████████| 21921/21921 [00:21<00:00, 1031.28it/s]\n"
     ]
    },
    {
     "name": "stdout",
     "output_type": "stream",
     "text": [
      "rxndb num 75\n",
      "failedrxn num 0\n",
      "1\n"
     ]
    },
    {
     "name": "stderr",
     "output_type": "stream",
     "text": [
      " 30%|██▉       | 13/44 [3:41:38<9:17:33, 1079.16s/it] "
     ]
    },
    {
     "name": "stdout",
     "output_type": "stream",
     "text": [
      "Arachidonate 19\n",
      "Arachidonate ['1.2.1.-', '1.2.1.-', '1.14.14.-;1.14.14.1', '1.14.14.-;1.14.14.1', '1.14.14.-;1.14.14.1', '1.2.1;1.2.1.-', '1.14.13', '1.14.13', '1.14.13', '1.14.13', '1.14.13', '1.14.13', '1.14.13', '1.14.13', '1.13.11.34', '1.13.11.34', '1.13.11.34', '1.13.11.34', '1.13.11.34', '1.13.11.34', '1.13.11.34', '1.13.11.34', '1.13.11.34', '1.13.11.34', '1.13.11.34', '1.13.11.34', '5.2.1.M1']\n",
      "Docosahexaenoate\n",
      "1884\n"
     ]
    },
    {
     "name": "stderr",
     "output_type": "stream",
     "text": [
      "100%|██████████| 9708/9708 [15:03<00:00, 10.74it/s]\n",
      "100%|██████████| 21921/21921 [00:21<00:00, 1004.67it/s]\n"
     ]
    },
    {
     "name": "stdout",
     "output_type": "stream",
     "text": [
      "rxndb num 147\n",
      "failedrxn num 0\n",
      "1\n"
     ]
    },
    {
     "name": "stderr",
     "output_type": "stream",
     "text": [
      " 32%|███▏      | 14/44 [3:57:10<8:37:20, 1034.68s/it]"
     ]
    },
    {
     "name": "stdout",
     "output_type": "stream",
     "text": [
      "Docosahexaenoate 23\n",
      "Docosahexaenoate ['5.3.3.13', '5.3.3.13', '5.3.3.13', '5.3.3.13', '5.3.3.13', '5.3.3.13', '1.13.11.-;1.13.11.12;1.13.11.58', '1.13.11.-;1.13.11.12;1.13.11.58', '1.13.11.-;1.13.11.12;1.13.11.58', '1.13.11.-;1.13.11.12;1.13.11.58', '1.13.11.-;1.13.11.12;1.13.11.58', '1.13.11.-;1.13.11.12;1.13.11.58', '1.13.11.-;1.13.11.12;1.13.11.58', '1.13.11.-;1.13.11.12;1.13.11.58', '1.13.11.-;1.13.11.12;1.13.11.58', '1.13.11.-;1.13.11.12;1.13.11.58', '1.13.11.12', '1.13.11.12', '1.13.11.12', '1.13.11.12', '1.13.11.12', '1.13.11.12', '1.13.11.12', '1.13.11.12', '1.14.14.-;1.14.14.1', '1.14.14.-;1.14.14.1', '1.14.14.-;1.14.14.1', '1.13.11.77', '1.13.11.77', '1.2.1;1.2.1.-', '1.13.11.34', '1.13.11.34', '1.13.11.34', '1.13.11.34', '1.13.11.34', '1.13.11.34', '1.13.11.34', '1.13.11.34', '1.13.11.34', '1.13.11.34', '1.13.11.34', '1.13.11.34', '1.13.11.34', '1.13.11.34', '1.13.11.34', '1.13.11.34', '1.13.11.34', '1.13.11.34', '1.13.11.34', '1.13.11.34', '1.13.11.31', '1.13.11.31', '1.13.11.31', '1.13.11.31', '1.13.11.31', '1.13.11.31', '1.13.11.31', '1.13.11.31', '5.2.1.M1']\n",
      "Eicosapentaenoic acid\n",
      "1884\n"
     ]
    },
    {
     "name": "stderr",
     "output_type": "stream",
     "text": [
      "100%|██████████| 9708/9708 [16:08<00:00, 10.03it/s]\n",
      "100%|██████████| 21921/21921 [00:21<00:00, 1013.75it/s]\n"
     ]
    },
    {
     "name": "stdout",
     "output_type": "stream",
     "text": [
      "rxndb num 66\n",
      "failedrxn num 0\n",
      "1\n"
     ]
    },
    {
     "name": "stderr",
     "output_type": "stream",
     "text": [
      " 34%|███▍      | 15/44 [4:13:45<8:14:14, 1022.57s/it]"
     ]
    },
    {
     "name": "stdout",
     "output_type": "stream",
     "text": [
      "Eicosapentaenoic acid 13\n",
      "Eicosapentaenoic acid ['1.14.14.-;1.14.14.1', '1.14.14.-;1.14.14.1', '1.14.14.-;1.14.14.1', '1.2.1;1.2.1.-', '1.13.11.34', '1.13.11.34', '1.13.11.34', '1.13.11.34', '1.13.11.34', '1.13.11.34', '1.13.11.34', '1.13.11.34', '1.13.11.34', '1.13.11.34', '1.13.11.34', '1.13.11.34', '1.13.11.34', '1.13.11.34', '1.13.11.34', '1.13.11.34', '5.2.1.M1']\n",
      "Docosanol\n",
      "1884\n"
     ]
    },
    {
     "name": "stderr",
     "output_type": "stream",
     "text": [
      "100%|██████████| 9708/9708 [16:26<00:00,  9.84it/s]\n",
      "100%|██████████| 21921/21921 [00:22<00:00, 996.27it/s] \n"
     ]
    },
    {
     "name": "stdout",
     "output_type": "stream",
     "text": [
      "rxndb num 201\n",
      "failedrxn num 0\n",
      "58\n"
     ]
    },
    {
     "name": "stderr",
     "output_type": "stream",
     "text": [
      " 36%|███▋      | 16/44 [4:30:44<7:56:42, 1021.53s/it]"
     ]
    },
    {
     "name": "stdout",
     "output_type": "stream",
     "text": [
      "Docosanol 1\n",
      "Docosanol ['1.1.3.20', '1.1.3.20']\n",
      "Catechin\n",
      "1884\n"
     ]
    },
    {
     "name": "stderr",
     "output_type": "stream",
     "text": [
      "100%|██████████| 9708/9708 [16:08<00:00, 10.02it/s]\n",
      "100%|██████████| 21921/21921 [00:23<00:00, 932.22it/s] \n"
     ]
    },
    {
     "name": "stdout",
     "output_type": "stream",
     "text": [
      "rxndb num 2842\n",
      "failedrxn num 0\n",
      "143\n"
     ]
    },
    {
     "name": "stderr",
     "output_type": "stream",
     "text": [
      " 39%|███▊      | 17/44 [4:49:33<7:54:20, 1054.10s/it]"
     ]
    },
    {
     "name": "stdout",
     "output_type": "stream",
     "text": [
      "Catechin 16\n",
      "Catechin ['1.1.1.252', '1.14.13.19', '1.14.13.19', '1.14.13.19', '1.14.13.19', '1.14.13.19', '1.14.13.19', '1.14.13.19', '1.14.13.19', '1.3.1.29', '1.3.1.49', '1.3.1.29', '1.3.1.29', '1.13.11.-', '1.3.1.29', '1.14.13;1.14.13.-', '1.14.13;1.14.13.-', '1.14.13;1.14.13.-', '1.14.13;1.14.13.-', '1.14.13;1.14.13.-', '1.14.13', '1.14.13', '1.14.13', '1.14.13', '1.14.13', '1.13.12', '1.14.13', '1.14.13', '1.14.13', '1.14.13', '1.14.13', '1.14.13', '1.14.13', '1.14.13', '1.14.13', '1.14.13', '1.14.13', '3.1.3.48', '3.1.3.48', '3.1.3.48', '3.1.3.48', '3.1.3.36;3.1.3.48', '3.1.3.36;3.1.3.48', '3.1.3.36;3.1.3.48', '3.1.3.36;3.1.3.48', '3.1.3.2', '3.1.3.2', '3.1.3.2', '3.1.3.2', '1.14.13.21;1.14.13.88', '1.14.13.21;1.14.13.88', '1.14.13.21;1.14.13.88', '1.14.13.21;1.14.13.88', '1.14.13.21;1.14.13.88', '1.14.13.52;1.14.14.88', '1.14.13.52;1.14.14.88', '1.14.13.52;1.14.14.88', '1.14.13.52;1.14.14.88', '1.14.13.52;1.14.14.88', '1.14.13.21;1.14.13.88', '1.14.13.21;1.14.13.88', '1.14.13.21;1.14.13.88', '1.14.13.21;1.14.13.88', '1.14.13.21;1.14.13.88', '1.14.13.21', '1.14.13.21', '1.14.13.21', '1.14.13.21', '1.14.13.21', '1.14.13.53;1.14.13.89;1.14.14.90', '1.14.13.53;1.14.13.89;1.14.14.90', '1.14.13.53;1.14.13.89;1.14.14.90', '1.14.13.53;1.14.13.89;1.14.14.90', '1.14.13.53;1.14.13.89;1.14.14.90', '1.14.13.89', '1.14.13.89', '1.14.13.89', '1.14.13.89', '1.14.13.89', '1.14.13.88', '1.14.13.88', '1.14.13.88', '1.14.13.88', '1.14.13.88', '1.14.13.88', '1.14.13.88', '1.14.13.88', '1.14.13.88', '1.14.13.88', '1.14.13.-', '1.14.13.-', '1.14.13.-', '1.14.13.-', '1.14.13.-', '1.14.13.52;1.14.14.88', '1.14.13.52;1.14.14.88', '1.14.13.52;1.14.14.88', '1.14.13.52;1.14.14.88', '1.14.13.52;1.14.14.88', '1.14.13.21', '1.14.13.21', '1.14.13.21', '1.14.13.21', '1.14.13.21', '1.14.13.21', '1.14.13.21', '1.14.13.21', '1.14.13.21', '1.14.13.21', '1.14.13.103', '1.14.13.103', '1.14.13.103', '1.14.13.103', '1.14.13.103', '1.14.13.88', '1.14.13.88', '1.14.13.89', '1.14.13.89', '1.14.13.89', '1.14.13.89', '1.14.13.89', '1.14.13.89', '1.14.13.89', '1.14.13.89', '1.14.13.89', '1.14.13.89', '1.14.13.88', '1.14.13.88', '1.14.13.88', '1.14.13.88', '1.14.13.88', '1.14.13.88', '1.14.13.88', '1.14.13.88', '1.14.13.88', '1.14.13.88', '1.3.1.20', '1.14.13.89', '1.14.13.89', '1.14.13.89', '1.14.13.89', '1.14.13.89', '1.14.13.-', '1.14.13.-', '1.14.13.-', '1.14.13.-', '1.14.13.-', '1.14.13.21', '1.14.13.21', '1.14.13.21', '1.14.13.21', '1.14.13.21', '1.14.13.-', '1.14.13.-', '1.14.13.-', '1.14.13.-', '1.14.-.-', '1.14.13.103', '1.14.13.103', '1.14.13.103', '1.14.13.103', '1.14.13.103', '1.14.14.-', '1.14.14.-', '1.14.14.-', '1.14.14.-', '1.14.14.-', '1.14.14;1.14.14.-', '1.14.14;1.14.14.-', '1.14.14;1.14.14.-', '1.14.14;1.14.14.-', '1.14.14;1.14.14.-', '1.14.14', '1.14.14', '1.14.14', '1.14.14', '1.14.14']\n",
      "Genistein\n",
      "1884\n"
     ]
    },
    {
     "name": "stderr",
     "output_type": "stream",
     "text": [
      "100%|██████████| 9708/9708 [15:44<00:00, 10.28it/s]\n",
      "100%|██████████| 21921/21921 [00:22<00:00, 981.36it/s] \n"
     ]
    },
    {
     "name": "stdout",
     "output_type": "stream",
     "text": [
      "rxndb num 2179\n",
      "failedrxn num 0\n",
      "97\n"
     ]
    },
    {
     "name": "stderr",
     "output_type": "stream",
     "text": [
      " 41%|████      | 18/44 [5:07:04<7:36:16, 1052.96s/it]"
     ]
    },
    {
     "name": "stdout",
     "output_type": "stream",
     "text": [
      "Genistein 18\n",
      "Genistein ['1.1.1.252', '1.14.13.19', '1.14.13.19', '1.14.13.19', '1.14.13.19', '1.14.13.19', '1.14.13.19', '1.14.13.44', '1.14.13.44', '1.14.13.44', '1.14.13.44', '1.3.1.45', '1.14.13.44', '1.14.13.44', '1.14.13.44', '1.14.13.44', '1.14.13;1.14.13.-', '1.14.13;1.14.13.-', '1.14.13;1.14.13.-', '1.14.13;1.14.13.-', '1.14.13', '1.14.13', '1.14.13', '1.14.13', '1.14.99', '1.13.12', '1.14.13', '1.14.13', '1.14.13', '1.14.13', '1.14.13', '1.14.13', '1.14.13', '1.14.13', '1.14.13', '1.14.13', '1.14.13', '1.14.13', '1.11;1.11.2.1', '1.11;1.11.2.1', '1.11;1.11.2.1', '1.14.14.1', '3.1.3.2;3.1.3.48', '3.1.3.2;3.1.3.48', '3.1.3.2;3.1.3.48', '3.1.3.48', '3.1.3.48', '3.1.3.48', '3.1.3.36;3.1.3.48', '3.1.3.36;3.1.3.48', '3.1.3.36;3.1.3.48', '3.1.3.2', '3.1.3.2', '3.1.3.2', '3.1.3.1;3.1.3.2', '3.1.3.1;3.1.3.2', '3.1.3.1;3.1.3.2', '1.14.13.21', '1.14.13.21;1.14.13.88', '1.14.13.21;1.14.13.88', '1.14.13.21;1.14.13.88', '1.14.13.21;1.14.13.88', '4.2.1.94', '1.14.13.52;1.14.14.88', '1.14.13.52;1.14.14.88', '1.14.13.52;1.14.14.88', '1.14.13.52;1.14.14.88', '1.14.13.21;1.14.13.88', '1.14.13.21;1.14.13.88', '1.14.13.21;1.14.13.88', '1.14.13.21;1.14.13.88', '1.14.13.21', '1.14.13.21', '1.14.13.21', '1.14.13.21', '1.14.13.53;1.14.13.89;1.14.14.90', '1.14.13.53;1.14.13.89;1.14.14.90', '1.14.13.53;1.14.13.89;1.14.14.90', '1.14.13.53;1.14.13.89;1.14.14.90', '1.14.13.89', '1.14.13.89', '1.14.13.89', '1.14.13.89', '1.14.13.88', '1.14.13.88', '1.14.13.88', '1.14.13.88', '1.14.13.88', '1.14.13.88', '1.14.13.88', '1.14.13.88', '1.14.13.-', '1.14.13.-', '1.14.13.-', '1.14.13.-', '4.2.1;4.2.1.-', '1.14.13.52;1.14.14.88', '1.14.13.52;1.14.14.88', '1.14.13.52;1.14.14.88', '1.14.13.52;1.14.14.88', '1.14.13.21', '1.14.13.21', '1.14.13.21', '1.14.13.21', '1.14.13.21', '1.14.13.21', '1.14.13.21', '1.14.13.21', '1.14.13.103', '1.14.13.103', '1.14.13.103', '1.14.13.103', '1.14.13.88', '1.14.13.88', '1.14.13.88', '1.14.13.89', '1.14.13.89', '1.14.13.89', '1.14.13.89', '1.14.13.89', '1.14.13.89', '1.14.13.89', '1.14.13.89', '1.14.13.88', '1.14.13.88', '1.14.13.88', '1.14.13.88', '1.14.13.88', '1.14.13.88', '1.14.13.88', '1.14.13.88', '1.14.13.89', '1.14.13.89', '1.14.13.89', '1.14.13.89', '1.14.13.-', '1.14.13.-', '1.14.13.-', '1.14.13.-', '1.14.13.21', '1.14.13.21', '1.14.13.21', '1.14.13.21', '1.14.13.-', '1.14.13.-', '1.14.13.-', '1.14.13.103', '1.14.13.103', '1.14.13.103', '1.14.13.103', '1.14.14.-', '1.14.14.-', '1.14.14.-', '1.14.14.-', '1.14.14;1.14.14.-', '1.14.14;1.14.14.-', '1.14.14;1.14.14.-', '1.14.14;1.14.14.-', '1.14.14', '1.14.14', '1.14.14', '1.14.14', '3.1.3.76', '3.1.3.76', '3.1.3.76']\n",
      "Kaempferol\n",
      "1884\n"
     ]
    },
    {
     "name": "stderr",
     "output_type": "stream",
     "text": [
      "100%|██████████| 9708/9708 [12:01<00:00, 13.45it/s]\n",
      "100%|██████████| 21921/21921 [00:21<00:00, 1015.96it/s]\n"
     ]
    },
    {
     "name": "stdout",
     "output_type": "stream",
     "text": [
      "rxndb num 3057\n",
      "failedrxn num 0\n",
      "131\n"
     ]
    },
    {
     "name": "stderr",
     "output_type": "stream",
     "text": [
      " 43%|████▎     | 19/44 [5:21:46<6:57:25, 1001.81s/it]"
     ]
    },
    {
     "name": "stdout",
     "output_type": "stream",
     "text": [
      "Kaempferol 18\n",
      "Kaempferol ['1.1.1.252', '1.14.13.19', '1.14.13.19', '1.14.13.19', '1.14.13.19', '1.14.13.19', '1.14.13.19', '1.14.13.44', '1.14.13.44', '1.14.13.44', '1.14.13.44', '1.14.13.44', '1.14.13.44', '1.14.13.44', '1.14.13.44', '1.14.13;1.14.13.-', '1.14.13;1.14.13.-', '1.14.13;1.14.13.-', '1.14.13;1.14.13.-', '1.14.13', '1.14.13', '1.14.13', '1.14.13', '1.14.99', '1.13.12', '1.14.13', '1.14.13', '1.14.13', '1.14.13', '1.14.13', '1.14.13', '1.14.13', '1.14.13', '1.14.13', '1.14.13', '1.14.13', '1.14.13', '1.14.13', '1.14.13', '1.14.13', '1.14.13', '1.11;1.11.2.1', '1.11;1.11.2.1', '1.11;1.11.2.1', '1.11;1.11.2.1', '1.14.14.1', '3.1.3.2;3.1.3.48', '3.1.3.2;3.1.3.48', '3.1.3.2;3.1.3.48', '3.1.3.2;3.1.3.48', '3.1.3.48', '3.1.3.48', '3.1.3.48', '3.1.3.48', '3.1.3.36;3.1.3.48', '3.1.3.36;3.1.3.48', '3.1.3.36;3.1.3.48', '3.1.3.36;3.1.3.48', '3.1.3.2', '3.1.3.2', '3.1.3.2', '3.1.3.2', '3.1.3.1;3.1.3.2', '3.1.3.1;3.1.3.2', '3.1.3.1;3.1.3.2', '3.1.3.1;3.1.3.2', '1.14.13.21', '1.14.13.21;1.14.13.88', '1.14.13.21;1.14.13.88', '1.14.13.21;1.14.13.88', '1.14.13.21;1.14.13.88', '4.2.1.94', '1.14.13.52;1.14.14.88', '1.14.13.52;1.14.14.88', '1.14.13.52;1.14.14.88', '1.14.13.52;1.14.14.88', '1.14.13.21;1.14.13.88', '1.14.13.21;1.14.13.88', '1.14.13.21;1.14.13.88', '1.14.13.21;1.14.13.88', '1.14.13.21', '1.14.13.21', '1.14.13.21', '1.14.13.21', '1.14.13.53;1.14.13.89;1.14.14.90', '1.14.13.53;1.14.13.89;1.14.14.90', '1.14.13.53;1.14.13.89;1.14.14.90', '1.14.13.53;1.14.13.89;1.14.14.90', '1.14.13.89', '1.14.13.89', '1.14.13.89', '1.14.13.89', '1.14.13.88', '1.14.13.88', '1.14.13.88', '1.14.13.88', '1.14.13.88', '1.14.13.88', '1.14.13.88', '1.14.13.88', '1.14.13.-', '1.14.13.-', '1.14.13.-', '1.14.13.-', '1.14.13.52;1.14.14.88', '1.14.13.52;1.14.14.88', '1.14.13.52;1.14.14.88', '1.14.13.52;1.14.14.88', '1.14.13.21', '1.14.13.21', '1.14.13.21', '1.14.13.21', '1.14.13.21', '1.14.13.21', '1.14.13.21', '1.14.13.21', '1.14.13.103', '1.14.13.103', '1.14.13.103', '1.14.13.103', '1.14.13.88', '1.14.13.88', '1.14.13.88', '1.14.13.89', '1.14.13.89', '1.14.13.89', '1.14.13.89', '1.14.13.89', '1.14.13.89', '1.14.13.89', '1.14.13.89', '1.14.13.88', '1.14.13.88', '1.14.13.88', '1.14.13.88', '1.14.13.88', '1.14.13.88', '1.14.13.88', '1.14.13.88', '1.14.13.89', '1.14.13.89', '1.14.13.89', '1.14.13.89', '1.14.13.-', '1.14.13.-', '1.14.13.-', '1.14.13.-', '1.14.13.21', '1.14.13.21', '1.14.13.21', '1.14.13.21', '1.14.13.-', '1.14.13.-', '1.14.13.-', '1.14.13.103', '1.14.13.103', '1.14.13.103', '1.14.13.103', '1.14.14.-', '1.14.14.-', '1.14.14.-', '1.14.14.-', '1.14.14;1.14.14.-', '1.14.14;1.14.14.-', '1.14.14;1.14.14.-', '1.14.14;1.14.14.-', '1.14.14', '1.14.14', '1.14.14', '1.14.14']\n",
      "Naringenin\n",
      "1884\n"
     ]
    },
    {
     "name": "stderr",
     "output_type": "stream",
     "text": [
      "100%|██████████| 9708/9708 [11:53<00:00, 13.61it/s]\n",
      "100%|██████████| 21921/21921 [00:21<00:00, 1032.02it/s]\n"
     ]
    },
    {
     "name": "stdout",
     "output_type": "stream",
     "text": [
      "rxndb num 2169\n",
      "failedrxn num 0\n",
      "88\n"
     ]
    },
    {
     "name": "stderr",
     "output_type": "stream",
     "text": [
      " 45%|████▌     | 20/44 [5:35:35<6:19:53, 949.73s/it] "
     ]
    },
    {
     "name": "stdout",
     "output_type": "stream",
     "text": [
      "Naringenin 21\n",
      "Naringenin ['5.5.1.6', '3.7.1.4', '1.1.1.252', '1.1.1.219', '1.1.1.219', '1.14.13.19', '1.14.13.19', '1.14.13.19', '1.14.13.19', '1.14.13.19', '1.14.13.19', '5.5.1.6', '5.5.1.6', '1.1.1.219', '1.1.1.219', '1.14.13', '1.14.13', '1.14.13', '1.14.13', '1.13.12', '1.14.13', '1.14.13', '1.14.13', '1.14.13', '1.14.13', '1.14.13', '1.14.13', '1.14.13', '1.14.13', '1.14.13', '1.14.13', '1.14.13', '1.1.1.348', '1.1.1.348', '1.11;1.11.2.1', '1.11;1.11.2.1', '1.11;1.11.2.1', '5.5.1.6', '5.5.1.6', '3.1.3.2;3.1.3.48', '3.1.3.2;3.1.3.48', '3.1.3.2;3.1.3.48', '3.1.3.48', '3.1.3.48', '3.1.3.48', '3.1.3.36;3.1.3.48', '3.1.3.36;3.1.3.48', '3.1.3.36;3.1.3.48', '1.1.1.184;1.1.1.209;1.1.1.213;1.1.1.50', '1.1.1.184', '3.1.3.2', '3.1.3.2', '3.1.3.2', '3.1.3.1;3.1.3.2', '3.1.3.1;3.1.3.2', '3.1.3.1;3.1.3.2', '1.1.1.246;1.1.1.348', '1.1.1.219', '1.14.13.21;1.14.13.88', '1.14.13.21;1.14.13.88', '1.14.13.21;1.14.13.88', '1.14.13.21;1.14.13.88', '4.2.1.94', '1.14.13.52;1.14.14.88', '1.14.13.52;1.14.14.88', '1.14.13.52;1.14.14.88', '1.14.13.52;1.14.14.88', '1.14.13.21;1.14.13.88', '1.14.13.21;1.14.13.88', '1.14.13.21;1.14.13.88', '1.14.13.21;1.14.13.88', '1.14.13.21', '1.14.13.21', '1.14.13.21', '1.14.13.21', '1.14.13.53;1.14.13.89;1.14.14.90', '1.14.13.53;1.14.13.89;1.14.14.90', '1.14.13.53;1.14.13.89;1.14.14.90', '1.14.13.53;1.14.13.89;1.14.14.90', '1.14.13.89', '1.14.13.89', '1.14.13.89', '1.14.13.89', '1.14.13.88', '1.14.13.88', '1.14.13.88', '1.14.13.88', '1.14.13.88', '1.14.13.88', '1.14.13.88', '1.14.13.88', '1.14.13.-', '1.14.13.-', '1.14.13.-', '1.14.13.-', '1.14.13.-;1.14.13.86', '1.14.13.52;1.14.14.88', '1.14.13.52;1.14.14.88', '1.14.13.52;1.14.14.88', '1.14.13.52;1.14.14.88', '1.14.13.86', '1.14.13.21', '1.14.13.21', '1.14.13.21', '1.14.13.21', '1.14.13.21', '1.14.13.21', '1.14.13.21', '1.14.13.21', '1.14.13.103', '1.14.13.103', '1.14.13.103', '1.14.13.103', '1.1.1.219', '1.14.13.88', '1.14.13.88', '1.14.13.88', '1.14.13.89', '1.14.13.89', '1.14.13.89', '1.14.13.89', '1.14.13.89', '1.14.13.89', '1.14.13.89', '1.14.13.89', '1.14.13.88', '1.14.13.88', '1.14.13.88', '1.14.13.88', '1.14.13.88', '1.14.13.88', '1.14.13.88', '1.14.13.88', '1.14.13.89', '1.14.13.89', '1.14.13.89', '1.14.13.89', '1.14.13.-', '1.14.13.-', '1.14.13.-', '1.14.13.-', '1.14.13.-', '1.14.13.21', '1.14.13.21', '1.14.13.21', '1.14.13.21', '1.14.13.-', '1.14.13.-', '1.14.13.-', '1.14.13.103', '1.14.13.103', '1.14.13.103', '1.14.13.103', '1.3.1', '1.14.14.-', '1.14.14.-', '1.14.14.-', '1.14.14.-', '1.14.14;1.14.14.-', '1.14.14;1.14.14.-', '1.14.14;1.14.14.-', '1.14.14;1.14.14.-', '1.14.14', '1.14.14', '1.14.14', '1.14.14']\n",
      "Quercetin\n",
      "1884\n"
     ]
    },
    {
     "name": "stderr",
     "output_type": "stream",
     "text": [
      "100%|██████████| 9708/9708 [11:55<00:00, 13.58it/s]\n",
      "100%|██████████| 21921/21921 [00:20<00:00, 1052.76it/s]\n"
     ]
    },
    {
     "name": "stdout",
     "output_type": "stream",
     "text": [
      "rxndb num 3649\n",
      "failedrxn num 0\n",
      "185\n"
     ]
    },
    {
     "name": "stderr",
     "output_type": "stream",
     "text": [
      " 48%|████▊     | 21/44 [5:50:44<5:59:26, 937.67s/it]"
     ]
    },
    {
     "name": "stdout",
     "output_type": "stream",
     "text": [
      "Quercetin 18\n",
      "Quercetin ['1.1.1.252', '1.14.13.19', '1.14.13.19', '1.14.13.19', '1.14.13.19', '1.14.13.19', '1.14.13.19', '1.14.13.19', '1.14.13.19', '1.3.1.29', '1.3.1.49', '1.3.1.29', '1.3.1.29', '1.13.11.-', '1.3.1.29', '1.14.13.44', '1.14.13.44', '1.14.13.44', '1.14.13.44', '1.14.13.44', '1.14.13;1.14.13.-', '1.14.13;1.14.13.-', '1.14.13;1.14.13.-', '1.14.13;1.14.13.-', '1.14.13;1.14.13.-', '1.14.13', '1.14.13', '1.14.13', '1.14.13', '1.14.13', '1.14.99', '1.13.12', '1.14.13', '1.14.13', '1.14.13', '1.14.13', '1.14.13', '1.14.13', '1.14.13', '1.14.13', '1.14.13', '1.14.13', '1.14.14.1', '3.1.3.48', '3.1.3.48', '3.1.3.48', '3.1.3.48', '3.1.3.48', '3.1.3.36;3.1.3.48', '3.1.3.36;3.1.3.48', '3.1.3.36;3.1.3.48', '3.1.3.36;3.1.3.48', '3.1.3.36;3.1.3.48', '3.1.3.2', '3.1.3.2', '3.1.3.2', '3.1.3.2', '3.1.3.2', '1.97.1.2', '1.97.1.2', '1.14.13.21', '1.14.13.21;1.14.13.88', '1.14.13.21;1.14.13.88', '1.14.13.21;1.14.13.88', '1.14.13.21;1.14.13.88', '1.14.13.21;1.14.13.88', '1.14.13.52;1.14.14.88', '1.14.13.52;1.14.14.88', '1.14.13.52;1.14.14.88', '1.14.13.52;1.14.14.88', '1.14.13.52;1.14.14.88', '1.14.13.21;1.14.13.88', '1.14.13.21;1.14.13.88', '1.14.13.21;1.14.13.88', '1.14.13.21;1.14.13.88', '1.14.13.21;1.14.13.88', '1.14.13.21', '1.14.13.21', '1.14.13.21', '1.14.13.21', '1.14.13.21', '1.14.13.53;1.14.13.89;1.14.14.90', '1.14.13.53;1.14.13.89;1.14.14.90', '1.14.13.53;1.14.13.89;1.14.14.90', '1.14.13.53;1.14.13.89;1.14.14.90', '1.14.13.53;1.14.13.89;1.14.14.90', '1.14.13.89', '1.14.13.89', '1.14.13.89', '1.14.13.89', '1.14.13.89', '1.14.13.88', '1.14.13.88', '1.14.13.88', '1.14.13.88', '1.14.13.88', '1.14.13.88', '1.14.13.88', '1.14.13.88', '1.14.13.88', '1.14.13.88', '1.14.13.-', '1.14.13.-', '1.14.13.-', '1.14.13.-', '1.14.13.-', '1.14.13.52;1.14.14.88', '1.14.13.52;1.14.14.88', '1.14.13.52;1.14.14.88', '1.14.13.52;1.14.14.88', '1.14.13.52;1.14.14.88', '1.14.13.21', '1.14.13.21', '1.14.13.21', '1.14.13.21', '1.14.13.21', '1.14.13.21', '1.14.13.21', '1.14.13.21', '1.14.13.21', '1.14.13.21', '1.14.13.103', '1.14.13.103', '1.14.13.103', '1.14.13.103', '1.14.13.103', '1.14.13.88', '1.14.13.88', '1.14.13.89', '1.14.13.89', '1.14.13.89', '1.14.13.89', '1.14.13.89', '1.14.13.89', '1.14.13.89', '1.14.13.89', '1.14.13.89', '1.14.13.89', '1.14.13.88', '1.14.13.88', '1.14.13.88', '1.14.13.88', '1.14.13.88', '1.14.13.88', '1.14.13.88', '1.14.13.88', '1.14.13.88', '1.14.13.88', '1.3.1.20', '1.14.13.89', '1.14.13.89', '1.14.13.89', '1.14.13.89', '1.14.13.89', '1.14.13.-', '1.14.13.-', '1.14.13.-', '1.14.13.-', '1.14.13.-', '1.14.13.21', '1.14.13.21', '1.14.13.21', '1.14.13.21', '1.14.13.21', '1.14.13.-', '1.14.13.-', '1.14.13.-', '1.14.13.-', '1.14.13.103', '1.14.13.103', '1.14.13.103', '1.14.13.103', '1.14.13.103', '1.14.14.-', '1.14.14.-', '1.14.14.-', '1.14.14.-', '1.14.14.-', '1.14.14;1.14.14.-', '1.14.14;1.14.14.-', '1.14.14;1.14.14.-', '1.14.14;1.14.14.-', '1.14.14;1.14.14.-', '1.14.14', '1.14.14', '1.14.14', '1.14.14', '1.14.14']\n",
      "Astaxanthin\n",
      "1884\n"
     ]
    },
    {
     "name": "stderr",
     "output_type": "stream",
     "text": [
      "100%|██████████| 9708/9708 [11:51<00:00, 13.65it/s]\n",
      "100%|██████████| 21921/21921 [00:21<00:00, 1029.65it/s]\n"
     ]
    },
    {
     "name": "stdout",
     "output_type": "stream",
     "text": [
      "rxndb num 65\n",
      "failedrxn num 0\n",
      "7\n"
     ]
    },
    {
     "name": "stderr",
     "output_type": "stream",
     "text": [
      " 50%|█████     | 22/44 [6:03:01<5:21:42, 877.37s/it]"
     ]
    },
    {
     "name": "stdout",
     "output_type": "stream",
     "text": [
      "Astaxanthin 8\n",
      "Astaxanthin ['1.13.11.51', '1.13.11.51', '1.14.13', '1.14.13', '1.14.13', '1.14.13', '1.14.13', '1.14.13', '1.14.13', '1.13.11.71;1.14.99.-', '1.13.11.71;1.14.99.-', '1.14.13.90', '1.14.-.-', '1.14.13.90', '1.1.1.M48', '1.14.13.129', '1.14.13']\n",
      "Betaxanthin\n",
      "1884\n"
     ]
    },
    {
     "name": "stderr",
     "output_type": "stream",
     "text": [
      "100%|██████████| 9708/9708 [13:28<00:00, 12.01it/s]\n",
      "100%|██████████| 21921/21921 [01:06<00:00, 331.51it/s]\n"
     ]
    },
    {
     "name": "stdout",
     "output_type": "stream",
     "text": [
      "rxndb num 354\n",
      "failedrxn num 0\n",
      "4\n"
     ]
    },
    {
     "name": "stderr",
     "output_type": "stream",
     "text": [
      " 52%|█████▏    | 23/44 [6:18:00<5:09:20, 883.82s/it]"
     ]
    },
    {
     "name": "stdout",
     "output_type": "stream",
     "text": [
      "Betaxanthin 6\n",
      "Betaxanthin ['1.14.14.1', '1.14.14.1', '1.14.14.1', '1.14.19.68;1.14.21.5', '1.14.21.1', '1.14.21.3', '1.14.21.3', '1.14.21.3', '1.14.21.3', '1.14.13.71;1.14.14.102', '1.14.13.71;1.14.14.102', '1.14.13.71;1.14.14.102']\n",
      "β-Carotene\n",
      "1884\n"
     ]
    },
    {
     "name": "stderr",
     "output_type": "stream",
     "text": [
      "100%|██████████| 9708/9708 [16:06<00:00, 10.05it/s]\n",
      "100%|██████████| 21921/21921 [00:22<00:00, 954.06it/s] \n"
     ]
    },
    {
     "name": "stdout",
     "output_type": "stream",
     "text": [
      "rxndb num 113\n",
      "failedrxn num 0\n",
      "0\n"
     ]
    },
    {
     "name": "stderr",
     "output_type": "stream",
     "text": [
      " 55%|█████▍    | 24/44 [6:34:35<5:05:41, 917.09s/it]"
     ]
    },
    {
     "name": "stdout",
     "output_type": "stream",
     "text": [
      "β-Carotene 18\n",
      "β-Carotene ['1.14.13.-', '1.14.13.-', '1.14.14.-;1.14.14.1', '1.13.11.67;1.13.12.12', '1.13.11.67;1.13.12.12', '1.14.13', '1.14.13', '1.14.13', '1.14.13;1.14.13.-', '1.14.13;1.14.13.-', '1.14.13;1.14.13.-', '1.14.13;1.14.13.-', '1.14.13;1.14.13.-', '1.14.13;1.14.13.48', '1.14.13.49', '1.14.13.49', '1.14.13.49', '1.14.13.49', '1.14.13.49', '1.14.13.49', '1.14.13;1.14.14.1', '1.14.13;1.14.14.1', '1.14.13;1.14.14.1', '1.14.13.78', '1.14.13', '1.14.13', '1.14.13.-;1.14.13.119;1.14.14.149', '1.13.11.75', '1.13.11.75', '1.13.11.75', '1.14.13.-;1.14.14.149', '1.14.13.133', '1.14.13.133', '1.14.13.133', '1.14.13;1.14.13.143', '1.14.13.144', '1.14.13.-', '1.14.13.-', '1.14.13.-', '1.14.13.-', '1.14.13.-', '1.14.13.-', '1.14.13.48', '1.14.13.119', '1.14.13.107', '1.14.13.107', '1.14.13.107', '1.14.13.107', '1.14.13.106', '1.14.13.80;1.14.14.53', '1.3.8.2', '1.3.8.2', '1.3.8.2', '1.3.8.2']\n",
      "Artemisinic acid\n",
      "1884\n"
     ]
    },
    {
     "name": "stderr",
     "output_type": "stream",
     "text": [
      "100%|██████████| 9708/9708 [11:48<00:00, 13.70it/s]\n",
      "100%|██████████| 21921/21921 [00:21<00:00, 1030.65it/s]\n"
     ]
    },
    {
     "name": "stdout",
     "output_type": "stream",
     "text": [
      "rxndb num 55\n",
      "failedrxn num 0\n"
     ]
    },
    {
     "name": "stderr",
     "output_type": "stream",
     "text": [
      " 57%|█████▋    | 25/44 [6:46:47<4:32:53, 861.76s/it]"
     ]
    },
    {
     "name": "stdout",
     "output_type": "stream",
     "text": [
      "2\n",
      "Artemisinic acid 9\n",
      "Artemisinic acid ['1.14.13.107', '1.14.13.107', '1.14.13.107', '1.3.1.-;1.3.1.92', '1.14.13', '1.14.13', '1.14.13', '1.14.13', '1.14.13', '1.14.13.48', '1.14.13.49', '1.14.13.49', '1.14.13.79', '1.14.13.79', '1.14.13.79', '1.14.13.79', '1.14.13.107', '1.14.13.-;1.14.13.107', '1.14.13.107', '1.14.13.107', '1.14.13.107', '1.14.13.107', '1.14.13.-', '1.14.-.-', '1.14.-.-', '1.1.1.-', '4.2.1.138']\n",
      "3-Hydroxypropanoate\n",
      "1884\n"
     ]
    },
    {
     "name": "stderr",
     "output_type": "stream",
     "text": [
      "100%|██████████| 9708/9708 [12:01<00:00, 13.46it/s]\n",
      "100%|██████████| 21921/21921 [00:20<00:00, 1072.27it/s]\n"
     ]
    },
    {
     "name": "stdout",
     "output_type": "stream",
     "text": [
      "rxndb num 101\n",
      "failedrxn num 0\n",
      "29\n"
     ]
    },
    {
     "name": "stderr",
     "output_type": "stream",
     "text": [
      " 59%|█████▉    | 26/44 [6:59:15<4:08:16, 827.59s/it]"
     ]
    },
    {
     "name": "stdout",
     "output_type": "stream",
     "text": [
      "3-Hydroxypropanoate 0\n",
      "3-Hydroxypropanoate []\n",
      "Adipic acid\n",
      "1884\n"
     ]
    },
    {
     "name": "stderr",
     "output_type": "stream",
     "text": [
      "100%|██████████| 9708/9708 [11:52<00:00, 13.62it/s]\n",
      "100%|██████████| 21921/21921 [00:21<00:00, 1041.83it/s]\n",
      " 61%|██████▏   | 27/44 [7:11:31<3:46:42, 800.13s/it]"
     ]
    },
    {
     "name": "stdout",
     "output_type": "stream",
     "text": [
      "rxndb num 4\n",
      "failedrxn num 0\n",
      "1\n",
      "Adipic acid 1\n",
      "Adipic acid ['1.2.1;1.2.1.-']\n",
      "cis,cis-Muconate\n",
      "1884\n"
     ]
    },
    {
     "name": "stderr",
     "output_type": "stream",
     "text": [
      "100%|██████████| 9708/9708 [11:56<00:00, 13.54it/s]\n",
      "100%|██████████| 21921/21921 [00:21<00:00, 1043.36it/s]\n",
      " 64%|██████▎   | 28/44 [7:23:51<3:28:34, 782.15s/it]"
     ]
    },
    {
     "name": "stdout",
     "output_type": "stream",
     "text": [
      "rxndb num 9\n",
      "failedrxn num 0\n",
      "0\n",
      "cis,cis-Muconate 1\n",
      "cis,cis-Muconate ['5.5.1.1']\n",
      "Itaconic acid\n",
      "1884\n"
     ]
    },
    {
     "name": "stderr",
     "output_type": "stream",
     "text": [
      "100%|██████████| 9708/9708 [11:45<00:00, 13.77it/s]\n",
      "100%|██████████| 21921/21921 [00:21<00:00, 1022.21it/s]\n",
      " 66%|██████▌   | 29/44 [7:36:00<3:11:32, 766.14s/it]"
     ]
    },
    {
     "name": "stdout",
     "output_type": "stream",
     "text": [
      "rxndb num 9\n",
      "failedrxn num 0\n",
      "0\n",
      "Itaconic acid 3\n",
      "Itaconic acid ['1.2.1;1.2.1.-', '1.2.1;1.2.1.-', '3.1.1']\n",
      "Ethylene\n",
      "1884\n"
     ]
    },
    {
     "name": "stderr",
     "output_type": "stream",
     "text": [
      "100%|██████████| 9708/9708 [12:11<00:00, 13.27it/s]\n",
      "100%|██████████| 21921/21921 [00:20<00:00, 1047.44it/s]\n",
      " 68%|██████▊   | 30/44 [7:48:35<2:57:57, 762.66s/it]"
     ]
    },
    {
     "name": "stdout",
     "output_type": "stream",
     "text": [
      "rxndb num 1\n",
      "failedrxn num 0\n",
      "0\n",
      "Ethylene 1\n",
      "Ethylene ['1.14.13.69']\n",
      "1,3,5-Trihydroxyxanthone\n",
      "1884\n"
     ]
    },
    {
     "name": "stderr",
     "output_type": "stream",
     "text": [
      "100%|██████████| 9708/9708 [11:56<00:00, 13.55it/s]\n",
      "100%|██████████| 21921/21921 [00:20<00:00, 1060.09it/s]\n"
     ]
    },
    {
     "name": "stdout",
     "output_type": "stream",
     "text": [
      "rxndb num 2226\n",
      "failedrxn num 0\n",
      "89\n"
     ]
    },
    {
     "name": "stderr",
     "output_type": "stream",
     "text": [
      " 70%|███████   | 31/44 [8:02:20<2:49:18, 781.44s/it]"
     ]
    },
    {
     "name": "stdout",
     "output_type": "stream",
     "text": [
      "1,3,5-Trihydroxyxanthone 16\n",
      "1,3,5-Trihydroxyxanthone ['1.14.14.1', '1.14.14.1', '1.1.1.252', '1.14.13.19', '1.14.13.19', '1.14.13.19', '1.14.13.19', '1.14.13.19', '1.14.13.19', '1.14.13', '1.14.13', '1.14.13', '1.14.13', '1.14.13', '1.14.99', '1.13.12', '1.14.13', '1.14.13', '1.14.13', '1.14.13', '1.14.13', '1.14.13', '1.14.13', '1.14.13', '1.14.13', '1.14.13', '1.11;1.11.2.1', '1.11;1.11.2.1', '1.11;1.11.2.1', '1.14.14.1', '3.1.3.2;3.1.3.48', '3.1.3.2;3.1.3.48', '3.1.3.2;3.1.3.48', '3.1.3.48', '3.1.3.48', '3.1.3.48', '3.1.3.36;3.1.3.48', '3.1.3.36;3.1.3.48', '3.1.3.36;3.1.3.48', '3.1.3.2', '3.1.3.2', '3.1.3.2', '3.1.3.1;3.1.3.2', '3.1.3.1;3.1.3.2', '3.1.3.1;3.1.3.2', '1.14.13.21', '1.14.13.21;1.14.13.88', '1.14.13.21;1.14.13.88', '1.14.13.21;1.14.13.88', '1.14.13.21;1.14.13.88', '1.14.13.21;1.14.13.88', '4.2.1.94', '1.14.13.52;1.14.14.88', '1.14.13.52;1.14.14.88', '1.14.13.52;1.14.14.88', '1.14.13.52;1.14.14.88', '1.14.13.52;1.14.14.88', '1.14.13.21;1.14.13.88', '1.14.13.21;1.14.13.88', '1.14.13.21;1.14.13.88', '1.14.13.21;1.14.13.88', '1.14.13.21;1.14.13.88', '1.14.13.21', '1.14.13.21', '1.14.13.21', '1.14.13.21', '1.14.13.21', '1.14.13.53;1.14.13.89;1.14.14.90', '1.14.13.53;1.14.13.89;1.14.14.90', '1.14.13.53;1.14.13.89;1.14.14.90', '1.14.13.53;1.14.13.89;1.14.14.90', '1.14.13.53;1.14.13.89;1.14.14.90', '1.14.13.89', '1.14.13.89', '1.14.13.89', '1.14.13.89', '1.14.13.89', '1.14.13.88', '1.14.13.88', '1.14.13.88', '1.14.13.88', '1.14.13.88', '1.14.13.88', '1.14.13.88', '1.14.13.88', '1.14.13.88', '1.14.13.88', '1.14.13.-', '1.14.13.-', '1.14.13.-', '1.14.13.-', '1.14.13.-', '1.14.13.52;1.14.14.88', '1.14.13.52;1.14.14.88', '1.14.13.52;1.14.14.88', '1.14.13.52;1.14.14.88', '1.14.13.52;1.14.14.88', '1.14.13.21', '1.14.13.21', '1.14.13.21', '1.14.13.21', '1.14.13.21', '1.14.13.21', '1.14.13.21', '1.14.13.21', '1.14.13.21', '1.14.13.21', '1.14.13.103', '1.14.13.103', '1.14.13.103', '1.14.13.103', '1.14.13.103', '1.14.13.88', '1.14.13.88', '1.14.13.89', '1.14.13.89', '1.14.13.89', '1.14.13.89', '1.14.13.89', '1.14.13.89', '1.14.13.89', '1.14.13.89', '1.14.13.89', '1.14.13.89', '1.14.13.88', '1.14.13.88', '1.14.13.88', '1.14.13.88', '1.14.13.88', '1.14.13.88', '1.14.13.88', '1.14.13.88', '1.14.13.88', '1.14.13.88', '1.14.13.89', '1.14.13.89', '1.14.13.89', '1.14.13.89', '1.14.13.89', '1.14.13.-', '1.14.13.-', '1.14.13.-', '1.14.13.-', '1.14.13.-', '1.14.13.21', '1.14.13.21', '1.14.13.21', '1.14.13.21', '1.14.13.21', '1.14.13.-', '1.14.13.-', '1.14.13.-', '1.14.13.103', '1.14.13.103', '1.14.13.103', '1.14.13.103', '1.14.13.103', '1.14.14.-', '1.14.14.-', '1.14.14.-', '1.14.14.-', '1.14.14.-', '1.14.14;1.14.14.-', '1.14.14;1.14.14.-', '1.14.14;1.14.14.-', '1.14.14;1.14.14.-', '1.14.14;1.14.14.-', '1.14.14', '1.14.14', '1.14.14', '1.14.14', '1.14.14']\n",
      "Resveratrol\n",
      "1884\n"
     ]
    },
    {
     "name": "stderr",
     "output_type": "stream",
     "text": [
      "100%|██████████| 9708/9708 [11:45<00:00, 13.77it/s]\n",
      "100%|██████████| 21921/21921 [00:21<00:00, 1023.46it/s]\n"
     ]
    },
    {
     "name": "stdout",
     "output_type": "stream",
     "text": [
      "rxndb num 974\n",
      "failedrxn num 0\n",
      "40\n"
     ]
    },
    {
     "name": "stderr",
     "output_type": "stream",
     "text": [
      " 73%|███████▎  | 32/44 [8:15:04<2:35:13, 776.16s/it]"
     ]
    },
    {
     "name": "stdout",
     "output_type": "stream",
     "text": [
      "Resveratrol 17\n",
      "Resveratrol ['1.14.13.6', '1.14.13.6', '1.14.13.6', '1.14.13.6', '1.1.1.252', '1.14.13.19', '1.14.13.19', '1.14.13.19', '1.14.13.19', '1.14.13.19', '1.14.13.19', '1.14.13.44', '1.14.13.44', '1.14.13.44', '1.14.13.44', '1.14.13.219;1.14.13.7', '1.14.13.219;1.14.13.7', '1.14.13.219;1.14.13.7', '1.14.13.219;1.14.13.7', '1.14.13.-;1.6.5.2', '1.14.13.-;1.6.5.2', '1.14.13.-;1.6.5.2', '1.14.13.-;1.6.5.2', '1.14.13.-;1.14.13.220', '1.14.13.-;1.14.13.220', '1.14.13.-;1.14.13.220', '1.14.13.-;1.14.13.220', '1.13.11;1.13.11.-', '1.14.13.44', '1.14.13.44', '1.14.13.44', '1.14.13.44', '1.14.13;1.14.13.-', '1.14.13;1.14.13.-', '1.14.13;1.14.13.-', '1.14.13;1.14.13.-', '1.13.12', '1.14.13', '1.14.13', '1.14.13', '1.14.13', '1.11;1.11.2.1', '1.11;1.11.2.1', '3.1.3.2;3.1.3.48', '3.1.3.2;3.1.3.48', '1.14.14.57', '1.14.14.57', '3.1.3.1;3.1.3.2', '3.1.3.1;3.1.3.2', '1.97.1.2', '1.97.1.2', '1.14.13.21;1.14.13.88', '1.14.13.21;1.14.13.88', '1.14.13.21;1.14.13.88', '1.14.13.21;1.14.13.88', '4.2.1.94', '1.14.13.21;1.14.13.88', '1.14.13.21;1.14.13.88', '1.14.13.21;1.14.13.88', '1.14.13.21;1.14.13.88', '1.14.13.21', '1.14.13.21', '1.14.13.21', '1.14.13.21', '1.14.13.88', '1.14.13.88', '1.14.13.88', '1.14.13.88', '1.14.13.88', '1.14.13.88', '1.14.13.88', '1.14.13.88', '1.14.13.-', '1.14.13.-', '1.14.13.-', '1.14.13.-', '1.14.13.21', '1.14.13.21', '1.14.13.21', '1.14.13.21', '1.14.13.88', '1.14.13.88', '1.14.13.88', '1.14.13.88', '1.14.13.89', '1.14.13.89', '1.14.13.89', '1.14.13.89', '1.14.13.89', '1.14.13.89', '1.14.13.89', '1.14.13.89', '1.14.13.88', '1.14.13.88', '1.14.13.88', '1.14.13.88', '1.14.13.89', '1.14.13.89', '1.14.13.89', '1.14.13.89', '1.14.13.21', '1.14.13.21', '1.14.13.21', '1.14.13.21', '1.14.14.27', '1.14.14.27', '1.14.14.27', '1.14.14.27']\n",
      "α-Farnesene\n",
      "1884\n"
     ]
    },
    {
     "name": "stderr",
     "output_type": "stream",
     "text": [
      "100%|██████████| 9708/9708 [11:48<00:00, 13.71it/s]\n",
      "100%|██████████| 21921/21921 [00:20<00:00, 1062.74it/s]\n"
     ]
    },
    {
     "name": "stdout",
     "output_type": "stream",
     "text": [
      "rxndb num 141\n",
      "failedrxn num 0\n",
      "0\n"
     ]
    },
    {
     "name": "stderr",
     "output_type": "stream",
     "text": [
      " 75%|███████▌  | 33/44 [8:27:16<2:19:53, 763.03s/it]"
     ]
    },
    {
     "name": "stdout",
     "output_type": "stream",
     "text": [
      "α-Farnesene 15\n",
      "α-Farnesene ['1.14.13.107', '1.14.13.107', '1.14.13.107', '1.14.13.107', '1.14.13.107', '1.14.13.107', '1.14.13.107', '1.14.13.107', '1.14.13.107', '1.14.13', '1.14.13', '1.14.13', '4.2.1', '1.14.13;1.14.13.48', '1.14.13;1.14.13.48', '1.14.13;1.14.13.48', '1.14.13.48', '1.14.13.49', '1.14.13.49', '1.14.13.49', '1.14.13.49', '1.14.13.49', '1.14.13.49', '1.14.13.107', '1.14.13.107', '1.14.13.107', '1.14.13.-;1.14.13.107', '1.14.13.-;1.14.13.107', '1.14.13.-;1.14.13.107', '1.1.1', '1.1.1', '1.1.1', '1.14.13.107', '1.14.13.107', '1.14.13.107', '1.14.13.107', '1.14.13.107', '1.14.13.107', '1.14.13.107', '1.14.13.107', '1.14.13.107', '1.14.13.107', '1.14.13.107', '1.14.13.107', '1.14.13.133', '1.14.13.133', '1.14.13.133', '1.14.13.145', '1.14.13.-', '1.14.13.-', '1.14.13.-', '1.14.13.-', '1.14.13.-', '1.14.13.-', '1.14.13.48', '1.14.13.48', '1.14.13.48', '1.14.13.129', '1.14.13.129', '1.14.13.80;1.14.14.53', '1.14.13.80;1.14.14.53', '1.14.13.80;1.14.14.53', '1.3.8.2', '1.3.8.2', '1.3.8.2', '1.17.8.1']\n",
      "Amorphadiene\n",
      "1884\n"
     ]
    },
    {
     "name": "stderr",
     "output_type": "stream",
     "text": [
      "100%|██████████| 9708/9708 [11:49<00:00, 13.69it/s]\n",
      "100%|██████████| 21921/21921 [00:21<00:00, 1015.12it/s]\n"
     ]
    },
    {
     "name": "stdout",
     "output_type": "stream",
     "text": [
      "rxndb num 71\n",
      "failedrxn num 0\n"
     ]
    },
    {
     "name": "stderr",
     "output_type": "stream",
     "text": [
      " 77%|███████▋  | 34/44 [8:39:30<2:05:42, 754.21s/it]"
     ]
    },
    {
     "name": "stdout",
     "output_type": "stream",
     "text": [
      "0\n",
      "Amorphadiene 9\n",
      "Amorphadiene ['1.14.13.107', '1.14.13.-;1.14.15.-;1.14.15.3', '1.14.13.-;1.14.15.-;1.14.15.3', '1.14.13.-;1.14.15.-;1.14.15.3', '1.14.13.-;1.14.15.-;1.14.15.3', '1.14.13.107', '1.14.13.107', '1.14.13', '1.14.13', '1.14.13.49', '1.14.13.49', '1.14.13.49', '1.14.13.49', '1.14.13.-;1.14.13.155', '1.14.13.107', '1.14.13.-;1.14.13.107', '1.14.13.107', '1.14.13.107', '1.14.13.107', '1.14.13.107', '1.14.13.-', '1.14.13.123', '1.14.13.121', '1.14.13.133', '1.14.13.133', '1.14.13.-', '1.14.13.-', '1.14.13.-', '1.14.13.-', '1.14.13.-;1.14.13.158', '1.14.-.-', '1.14.-.-', '4.2.1.138']\n",
      "Geraniol\n",
      "1884\n"
     ]
    },
    {
     "name": "stderr",
     "output_type": "stream",
     "text": [
      "100%|██████████| 9708/9708 [11:46<00:00, 13.75it/s]\n",
      "100%|██████████| 21921/21921 [00:20<00:00, 1047.36it/s]\n"
     ]
    },
    {
     "name": "stdout",
     "output_type": "stream",
     "text": [
      "rxndb num 317\n",
      "failedrxn num 0\n",
      "93\n"
     ]
    },
    {
     "name": "stderr",
     "output_type": "stream",
     "text": [
      " 80%|███████▉  | 35/44 [8:51:48<1:52:24, 749.33s/it]"
     ]
    },
    {
     "name": "stdout",
     "output_type": "stream",
     "text": [
      "Geraniol 16\n",
      "Geraniol ['1.14.13.107', '1.14.13.107', '1.14.13.107', '1.14.13.107', '1.14.13.107', '1.14.13.107', '5.4.4.4', '1.1.3.-', '3.1.3', '1.14.13', '1.14.13', '3.1.3;3.1.3.-', '4.2.1', '1.14.13;1.14.13.-', '1.14.13;1.14.13.-', '1.14.13;1.14.13.48', '1.14.13;1.14.13.48', '1.14.14.145', '1.14.14.145', '1.14.14.145', '1.14.13.49', '1.14.13.49', '1.14.13.49', '1.14.13.49', '1.14.13.78', '1.14.14.145', '1.14.13.107', '1.14.13.107', '1.14.13.-;1.14.13.107', '1.14.13.-;1.14.13.107', '1.1.1', '1.1.1', '1.14.13.107', '1.14.13.107', '1.14.13.107', '1.14.13.107', '1.14.13.107', '1.14.13.107', '1.14.13.107', '1.14.13.107', '1.14.13.133', '1.14.13.144', '1.14.13.-', '1.14.13.-', '1.14.13.-', '1.14.13.-', '1.14.13.-', '1.14.13.-', '1.14.13.48', '1.14.13.48', '1.14.13.80;1.14.14.53', '1.14.13.80;1.14.14.53', '1.3.8.2', '1.3.8.2', '1.3.8.2', '1.17.8.1']\n",
      "Limonene\n",
      "1884\n"
     ]
    },
    {
     "name": "stderr",
     "output_type": "stream",
     "text": [
      "100%|██████████| 9708/9708 [11:49<00:00, 13.69it/s]\n",
      "100%|██████████| 21921/21921 [00:20<00:00, 1052.83it/s]\n"
     ]
    },
    {
     "name": "stdout",
     "output_type": "stream",
     "text": [
      "rxndb num 60\n",
      "failedrxn num 0\n"
     ]
    },
    {
     "name": "stderr",
     "output_type": "stream",
     "text": [
      " 82%|████████▏ | 36/44 [9:04:01<1:39:14, 744.36s/it]"
     ]
    },
    {
     "name": "stdout",
     "output_type": "stream",
     "text": [
      "0\n",
      "Limonene 9\n",
      "Limonene ['1.14.13.107', '1.14.13.-;1.14.15.-;1.14.15.3', '1.14.13.-;1.14.15.-;1.14.15.3', '1.14.13.-;1.14.15.-;1.14.15.3', '1.14.13.107', '1.14.13.107', '1.14.13', '1.14.13', '1.14.13.49', '1.14.13.49', '1.14.13.49', '1.14.13.49', '1.14.13.-;1.14.13.155', '1.14.13.107', '1.14.13.-;1.14.13.107', '1.14.13.-;1.14.13.119;1.14.14.149', '1.14.13.107', '1.14.13.107', '1.14.13.107', '1.14.13.107', '1.14.13.-', '1.14.13.123', '1.14.13.121', '1.14.13.121', '1.14.13.133', '1.14.13.133', '1.14.13.-', '1.14.13.-', '1.14.13.-', '1.14.13.-', '1.14.13.-;1.14.13.158', '1.14.13.-', '1.14.13.119', '4.2.1.138', '1.17.8.1']\n",
      "Linalool\n",
      "1884\n"
     ]
    },
    {
     "name": "stderr",
     "output_type": "stream",
     "text": [
      "100%|██████████| 9708/9708 [11:51<00:00, 13.65it/s]\n",
      "100%|██████████| 21921/21921 [00:20<00:00, 1058.61it/s]\n"
     ]
    },
    {
     "name": "stdout",
     "output_type": "stream",
     "text": [
      "rxndb num 104\n",
      "failedrxn num 0\n",
      "9\n"
     ]
    },
    {
     "name": "stderr",
     "output_type": "stream",
     "text": [
      " 84%|████████▍ | 37/44 [9:16:16<1:26:31, 741.60s/it]"
     ]
    },
    {
     "name": "stdout",
     "output_type": "stream",
     "text": [
      "Linalool 5\n",
      "Linalool ['4.2.1.127', '5.4.4.4', '1.14.13.229', '1.14.13.229', '1.14.13.M41', '1.14.13.M41', '1.14.13.M41', '1.14.13.M41', '1.14.13;1.14.13.-', '5.4.4.8', '1.14.13.-']\n",
      "Lupeol\n",
      "1884\n"
     ]
    },
    {
     "name": "stderr",
     "output_type": "stream",
     "text": [
      "100%|██████████| 9708/9708 [12:06<00:00, 13.35it/s]\n",
      "100%|██████████| 21921/21921 [00:20<00:00, 1060.01it/s]\n"
     ]
    },
    {
     "name": "stdout",
     "output_type": "stream",
     "text": [
      "rxndb num 1572\n",
      "failedrxn num 0\n",
      "178\n"
     ]
    },
    {
     "name": "stderr",
     "output_type": "stream",
     "text": [
      " 86%|████████▋ | 38/44 [9:29:23<1:15:32, 755.34s/it]"
     ]
    },
    {
     "name": "stdout",
     "output_type": "stream",
     "text": [
      "Lupeol 33\n",
      "Lupeol ['1.14.14.1', '1.14.14.1', '1.14.14.1', '1.14.14.1', '1.14.14.1', '1.14.14.1', '1.14.14.1', '1.14.14.1', '1.14.14.1', '1.14.14.1', '1.14.13.72', '1.14.-.-', '1.14.-.-', '1.14.-.-', '1.14.-.-', '1.14.-.-', '1.14.-.-', '1.14.-.-', '1.14.-.-', '1.14.-.-', '1.14.-.-', '1.14.-.-', '1.14.-.-', '1.14.-.-', '1.14.-.-', '1.14.-.-', '1.14.-.-', '1.14.-.-', '1.14.-.-', '1.14.-.-', '1.14.-.-', '1.14.13', '1.3.1', '1.3.1', '1.14.13;1.14.13.-', '1.14.13;1.14.13.-', '1.14.15.15', '1.14.15.15', '1.14.15.15', '1.14.15.15', '1.14.15.15', '1.14.13.126;1.14.15.16', '1.14.13.126;1.14.15.16', '1.14.13.126;1.14.15.16', '1.14.13.126;1.14.15.16', '1.14.13.126;1.14.15.16', '1.14.13.126;1.14.15.16', '1.14.13.126;1.14.15.16', '1.14.13.126;1.14.15.16', '1.14.13.126;1.14.15.16', '1.14.13.126;1.14.15.16', '1.14.14.25', '1.14.14.25', '1.14.14.25', '1.14.14.25', '1.14.14.25', '1.14.14.25', '1.14.14.25', '1.14.14.25', '1.14.14.25', '1.14.14.25', '1.14.14.55', '1.14.14.55', '1.14.14.55', '1.14.14.55', '1.14.14.55', '1.14.14.55', '1.14.14.55', '1.14.14.55', '1.14.14.55', '1.14.14.55', '1.14.-.-', '1.14.-.-', '1.14.-.-', '1.14.-.-', '1.14.-.-', '1.14.-.-', '1.14.-.-', '1.14.-.-', '1.14.-.-', '1.14.-.-', '1.14.-.-', '1.14.-.-', '1.14.-.-', '1.14.-.-', '1.14.-.-', '1.14.-.-', '1.14.-.-', '1.14.-.-', '1.14.-.-', '1.14.-.-', '1.14.-.-', '1.14.-.-', '1.14.-.-', '1.14.-.-', '1.14.-.-', '1.14.-.-', '1.14.-.-', '1.14.-.-', '1.14.-.-', '1.14.-.-', '1.14.13.49', '1.14.13.49', '1.14.14.25', '1.14.14.25', '1.14.14.25', '1.14.14.25', '1.14.14.25', '1.14.14.25', '1.14.14.25', '1.14.14.25', '1.14.14.25', '1.14.14.25', '1.14.13.30', '1.14.13.30', '1.14.13.30', '1.14.13.30', '1.14.13.30', '1.14.13.72', '1.14.13.78', '1.14.13.96', '1.14.13.96', '1.14.13.96', '1.14.13.96', '1.14.13.96', '1.14.13.96', '1.14.13.96', '1.14.13.96', '1.14.13.96', '1.14.13.96', '1.14.13;1.14.13.-', '1.14.13;1.14.13.-', '1.14.13;1.14.13.-', '1.14.13;1.14.13.-', '1.14.13;1.14.13.-', '1.14.13;1.14.13.-', '1.14.13;1.14.13.-', '1.14.13;1.14.13.-', '1.14.13;1.14.13.-', '1.14.13;1.14.13.-', '1.14.19.41;1.3.1.-', '1.14.19.41;1.3.1.-', '1.14.19.41;1.3.1.-', '1.14.19.41;1.3.1.-', '1.14.19.41;1.3.1.-', '1.14.13.-', '1.14.13.-', '1.14.13.-', '1.14.13.-', '1.14.13.-', '1.14.13.-', '1.14.13.-', '1.14.13.-', '1.14.13.-', '1.14.13.-', '1.14.14.149', '1.14.14.149', '1.14.14.149', '1.14.14.149', '1.14.14.149', '1.14.14.149', '1.14.14.149', '1.14.14.149', '1.14.14.149', '1.14.14.149', '1.3.1.-;1.3.1.72;1.3.1.M20', '1.3.1.-;1.3.1.71', '1.14.19.41;1.3.1.-', '1.14.19.41;1.3.1.-', '1.14.19.41;1.3.1.-', '1.14.19.41;1.3.1.-', '1.14.19.41;1.3.1.-', '1.14.13;1.14.13.-', '1.14.13;1.14.13.-', '1.14.13;1.14.13.-', '1.14.13;1.14.13.-', '1.14.13;1.14.13.-', '1.14.13;1.14.13.-', '1.14.13;1.14.13.-', '1.14.13;1.14.13.-', '1.14.13;1.14.13.-', '1.14.13;1.14.13.-', '1.14.13.246', '1.14.13.126', '1.14.13.126', '1.14.13.126', '1.14.13.126', '1.14.13.126', '1.14.13.126', '1.14.13.126', '1.14.13.126', '1.14.13.126', '1.14.13.126', '1.14.13.123', '1.14.13.133', '1.14.13;1.14.13.143', '1.14.13;1.14.13.143', '1.14.13;1.14.13.143', '1.14.13;1.14.13.143', '1.14.13;1.14.13.143', '1.14.13;1.14.13.143', '1.14.13;1.14.13.143', '1.14.13;1.14.13.143', '1.14.13;1.14.13.143', '1.14.13;1.14.13.143', '1.14.13.144', '1.14.13.112', '1.14.13.112', '1.14.13.112', '1.14.13.112', '1.14.13.112', '1.14.13.112', '1.14.13.112', '1.14.13.112', '1.14.13.112', '1.14.13.112', '1.14.13.112', '1.14.13.112', '1.14.13.112', '1.14.13.112', '1.14.13.112', '1.14.13.112', '1.14.13.112', '1.14.13.112', '1.14.13.112', '1.14.13.112', '1.14.13.-', '1.14.13.-', '1.14.13.-', '1.14.13.-', '1.14.13.-', '1.14.13.-', '1.14.13.-', '1.14.13.-', '1.14.13.-', '1.14.13.-', '1.14.13.-', '1.14.13.-', '1.14.13.-', '1.14.11.-', '1.14.13.-', '1.14.13.-', '1.14.13.-', '1.14.13.-', '1.14.13.-', '1.14.13.-', '1.14.13.-', '1.14.13.-', '1.14.13.-', '1.14.13.-', '1.14.13.-', '1.14.13.-', '1.14.13.-', '1.14.13.-', '1.14.13.-', '1.14.13.-', '1.14.13.-', '1.14.13.-', '1.14.13.-', '1.14.13.-', '1.14.13.-', '1.14.13.-;1.14.13.158', '1.14.13.-', '1.14.13.-', '1.14.13.-', '1.14.13.-', '1.14.13.-', '1.14.13.-', '1.14.13.-', '1.14.13.-', '1.14.13.-', '1.14.13.-', '1.14.11.-', '1.14.13.72', '1.14.13.72', '1.14.13.72', '1.14.13.72', '1.14.13.72', '1.14.13.72', '1.14.13.96', '1.14.13.96', '1.14.13.96', '1.14.13.96', '1.14.13.96', '1.14.13.96', '1.14.13.96', '1.14.13.96', '1.14.13.96', '1.14.13.96', '1.14.13.72', '1.14.13.72', '1.14.13.72', '1.14.13.72', '1.14.13.72', '1.14.13.72', '1.14.13.72', '1.14.13.72', '1.14.13.72', '1.14.13.72', '1.14.13.72', '1.14.13.72', '1.14.13.72', '1.14.13.72', '1.14.13.72', '1.14.13.72', '1.14.13.72', '1.14.13.72', '1.14.13.173', '1.14.13.183', '1.14.13.183', '1.14.13.183', '1.14.13.183', '1.14.13.183', '1.14.13.183', '1.14.13.183', '1.14.13.183', '1.14.13.183', '1.14.13.183', '1.14.13.184', '1.14.13.184', '1.14.13.184', '1.14.13.184', '1.14.13.184', '1.14.13.184', '1.14.13.184', '1.14.13.184', '1.14.13.184', '1.14.13.184', '1.14.13.98', '1.14.13.98', '1.14.13.98', '1.14.13.98', '1.14.13.98', '1.14.13.98', '1.14.13.98', '1.14.13.98', '1.14.13.98', '1.14.13.98', '1.14.13.-;1.14.15.6', '1.14.13.-;1.14.15.6', '1.14.13.-;1.14.15.6', '1.14.13.-;1.14.15.6', '1.14.13.-;1.14.15.6', '1.14.13.-;1.14.15.6', '1.14.13.-;1.14.15.6', '1.14.13.-;1.14.15.6', '1.14.13.-;1.14.15.6', '1.14.13.-;1.14.15.6']\n",
      "Oleanolic acid\n",
      "1884\n"
     ]
    },
    {
     "name": "stderr",
     "output_type": "stream",
     "text": [
      "100%|██████████| 9708/9708 [11:43<00:00, 13.81it/s]\n",
      "100%|██████████| 21921/21921 [00:21<00:00, 1038.73it/s]\n"
     ]
    },
    {
     "name": "stdout",
     "output_type": "stream",
     "text": [
      "rxndb num 1766\n",
      "failedrxn num 0\n",
      "176\n"
     ]
    },
    {
     "name": "stderr",
     "output_type": "stream",
     "text": [
      " 89%|████████▊ | 39/44 [9:42:28<1:03:41, 764.30s/it]"
     ]
    },
    {
     "name": "stdout",
     "output_type": "stream",
     "text": [
      "Oleanolic acid 42\n",
      "Oleanolic acid ['1.14.15.4', '1.14.15.4', '1.14.15.4', '1.14.15.4', '1.14.15.4', '1.14.15.4', '1.14.15.4', '1.14.15.4', '1.14.15.4', '1.14.15.4', '1.14.15.4', '1.14.15.4', '1.14.15.4', '1.14.15.4', '1.14.15.4', '1.14.15.4', '1.14.15.4', '1.14.15.4', '1.14.15.4', '1.14.15.4', '1.1.3.16', '1.14.14.1', '1.14.14.1', '1.14.14.1', '1.14.14.1', '1.14.14.1', '1.14.14.1', '1.14.14.1', '1.14.14.1', '1.14.14.1', '1.14.14.1', '1.14.-.-', '1.14.-.-', '1.14.-.-', '1.14.-.-', '1.14.-.-', '1.14.-.-', '1.14.-.-', '1.14.-.-', '1.14.-.-', '1.14.-.-', '1.14.-.-', '1.14.-.-', '1.14.-.-', '1.14.-.-', '1.14.-.-', '1.14.-.-', '1.14.-.-', '1.14.-.-', '1.14.-.-', '1.14.-.-', '1.14.13.100;1.14.14.29', '1.3.1', '1.14.13', '1.14.13', '1.14.13', '1.14.13', '1.14.13', '1.14.13', '1.14.13', '1.14.13', '1.14.13', '1.14.13', '1.14.13', '1.14.13', '1.14.13', '1.14.13', '1.14.13', '1.14.13', '1.14.13', '1.14.13', '1.14.13', '1.14.13', '1.14.14.25', '1.14.14.25', '1.14.14.25', '1.14.14.25', '1.14.14.25', '1.14.14.25', '1.14.14.25', '1.14.14.25', '1.14.14.25', '1.14.14.25', '3.1.3', '3.1.3', '3.1.3', '3.1.3', '1.14.14.55', '1.14.14.55', '1.14.14.55', '1.14.14.55', '1.14.14.55', '1.14.14.55', '1.14.14.55', '1.14.14.55', '1.14.14.55', '1.14.14.55', '1.14.15.4', '1.14.15.4', '1.14.15.4', '1.14.15.4', '1.14.15.4', '1.14.15.4', '1.14.15.4', '1.14.15.4', '1.14.15.4', '1.14.15.4', '1.14.15.4', '1.14.15.4', '1.14.15.4', '1.14.15.4', '1.14.15.4', '1.14.15.4', '1.14.15.4', '1.14.15.4', '1.14.15.4', '1.14.15.4', '1.14.-.-', '1.14.-.-', '1.14.-.-', '1.14.-.-', '1.14.-.-', '1.14.-.-', '1.14.-.-', '1.14.-.-', '1.14.-.-', '1.14.-.-', '1.14.-.-', '1.14.-.-', '1.14.-.-', '1.14.-.-', '1.14.-.-', '1.14.-.-', '1.14.-.-', '1.14.-.-', '1.14.-.-', '1.14.-.-', '1.14.-.-', '1.14.-.-', '1.14.-.-', '1.14.-.-', '1.14.-.-', '1.14.-.-', '1.14.-.-', '1.14.-.-', '1.14.-.-', '1.14.-.-', '1.14.13.30', '1.14.13.30', '1.14.13.30', '1.14.13.30', '1.14.13.30', '1.14.13.77', '1.14.13.76', '1.14.13.94', '1.14.13.94', '1.14.13.94', '1.14.13.94', '1.14.13.94', '1.14.13.94', '1.14.13.94', '1.14.13.94', '1.14.13.94', '1.14.13.94', '1.14.13.17', '1.14.13.-;1.14.13.146', '1.14.13.-;1.14.13.146', '1.14.13.147', '1.14.13.147', '1.14.13.147', '1.14.13.147', '1.14.13.147', '1.14.13.147', '1.14.13.147', '1.14.13.147', '1.14.13.147', '1.14.13.147', '1.14.13.-', '1.14.13.-', '1.14.13.-', '1.14.13.-', '1.14.13.-', '1.14.13.-', '1.14.13.-', '1.14.13.-', '1.14.13.-', '1.14.13.-', '1.14.13.-', '1.14.13.-', '3.1.3', '3.1.3', '1.14.14.149', '1.14.14.149', '1.14.14.149', '1.14.14.149', '1.14.14.149', '1.14.14.149', '1.14.14.149', '1.14.14.149', '1.14.14.149', '1.14.14.149', '1.14.13.134', '1.14.13.-', '1.14.13.-', '1.14.13.-', '1.14.13.-', '1.14.13.-', '1.14.13.-', '1.14.13.-', '1.14.13.-', '1.14.13.-', '1.14.13.-', '1.14.13.-', '1.14.13.-', '1.14.13.-', '1.14.13.-', '1.14.13.-', '1.14.13.-', '1.14.13.-', '1.14.13.-', '1.14.13.-', '1.14.13.-', '1.14.13.-', '1.14.15.5', '1.14.15.5', '1.14.15.5', '1.14.15.5', '1.14.15.5', '1.14.13.94', '1.14.13.94', '1.14.13.94', '1.14.13.94', '1.14.13.94', '1.14.13.94', '1.14.13.94', '1.14.13.94', '1.14.13.94', '1.14.13.94', '1.14.13.184', '1.14.13.184', '1.14.13.184', '1.14.13.184', '1.14.13.184', '1.14.13.184', '1.14.13.184', '1.14.13.184', '1.14.13.184', '1.14.13.184', '1.14.14.1', '1.17.99.5', '1.17.99.5', '1.17.99.5', '1.17.99.5', '1.17.99.5', '1.17.99.5', '1.17.99.5', '1.17.99.5', '1.17.99.5', '1.17.99.5', '1.17.99.5', '1.14.13.97', '1.14.13.97', '1.14.13.97', '1.14.13.97', '1.14.13.97', '1.14.13.97', '1.14.13.97', '1.14.13.97', '1.14.13.97', '1.14.13.97', '1.17.99.5', '1.17.99.5', '1.17.99.5', '1.17.99.5', '1.17.99.5', '1.17.99.5', '1.17.99.5', '1.17.99.5', '1.17.99.5', '1.17.99.5', '1.17.99.5', '1.2.1']\n",
      "Patchoulol\n",
      "1884\n"
     ]
    },
    {
     "name": "stderr",
     "output_type": "stream",
     "text": [
      "100%|██████████| 9708/9708 [11:49<00:00, 13.68it/s]\n",
      "100%|██████████| 21921/21921 [00:20<00:00, 1060.81it/s]\n"
     ]
    },
    {
     "name": "stdout",
     "output_type": "stream",
     "text": [
      "rxndb num 264\n",
      "failedrxn num 0\n",
      "5\n"
     ]
    },
    {
     "name": "stderr",
     "output_type": "stream",
     "text": [
      " 91%|█████████ | 40/44 [9:54:44<50:22, 755.66s/it]  "
     ]
    },
    {
     "name": "stdout",
     "output_type": "stream",
     "text": [
      "Patchoulol 19\n",
      "Patchoulol ['1.14.14.1', '1.14.14.1', '1.14.14.1', '1.14.14.1', '1.14.14.1', '1.14.13.-', '1.14.13.-', '1.14.13.-', '1.14.13.-', '1.14.13.-', '1.14.-.-', '1.14.-.-', '1.14.-.-', '1.14.-.-', '1.14.-.-', '1.14.-.-', '1.14.-.-', '1.14.-.-', '1.14.-.-', '1.14.-.-', '1.14.13', '1.14.13', '1.14.13', '1.14.13', '1.14.13', '1.14.13;1.14.13.-', '4.1.99.16', '1.14.15.15', '1.14.15.15', '1.14.-.-', '1.14.-.-', '1.14.-.-', '1.14.-.-', '1.14.-.-', '1.14.-.-', '1.14.-.-', '1.14.-.-', '1.14.-.-', '1.14.-.-', '1.14.-.-', '1.14.-.-', '1.14.-.-', '1.14.-.-', '1.14.-.-', '1.14.13.30', '1.14.13.30', '1.14.13.94', '1.14.13.94', '1.14.13.94', '1.14.13.94', '1.14.13.94', '1.14.13.96', '1.14.13.96', '1.14.13.96', '1.14.13.96', '1.14.13.96', '1.14.13.-', '1.14.13.-', '1.14.13.-', '1.14.13.-', '1.14.13.-', '1.14.13;1.14.13.-', '1.14.13;1.14.13.-', '1.14.13;1.14.13.-', '1.14.13;1.14.13.-', '1.14.13;1.14.13.-', '1.14.13.-', '1.14.13.-', '1.14.13.-', '1.14.13.-', '1.14.13.-', '1.14.14.149', '1.14.14.149', '1.14.14.149', '1.14.14.149', '1.14.14.149', '1.14.13.246', '1.14.13.112', '1.14.13.112', '1.14.13.112', '1.14.13.112', '1.14.13.112', '1.14.13.112', '1.14.13.112', '1.14.13.112', '1.14.13.112', '1.14.13.112', '1.14.13.-', '1.14.13.-', '1.14.13.-', '1.14.13.-', '1.14.13.-', '1.14.13.-', '1.14.13.-', '1.14.13.-', '1.14.13.-', '1.14.13.-', '1.14.13.-', '1.14.13.-', '1.14.13.-', '1.14.13.-', '1.14.13.-', '1.14.13.-', '1.14.13.94', '1.14.13.94', '1.14.13.94', '1.14.13.94', '1.14.13.94', '1.14.13.96', '1.14.13.96', '1.14.13.96', '1.14.13.96', '1.14.13.96', '1.17.99.5', '1.17.99.5', '1.17.99.5', '1.17.99.5', '1.17.99.5', '1.14.13.97', '1.14.13.97', '1.14.13.97', '1.14.13.97', '1.14.13.97', '1.17.99.5', '1.17.99.5', '1.17.99.5', '1.17.99.5', '1.17.99.5']\n",
      "Protopanaxadiol\n",
      "1884\n"
     ]
    },
    {
     "name": "stderr",
     "output_type": "stream",
     "text": [
      "100%|██████████| 9708/9708 [11:53<00:00, 13.60it/s]\n",
      "100%|██████████| 21921/21921 [00:21<00:00, 1027.35it/s]\n"
     ]
    },
    {
     "name": "stdout",
     "output_type": "stream",
     "text": [
      "rxndb num 3098\n",
      "failedrxn num 0\n",
      "460\n"
     ]
    },
    {
     "name": "stderr",
     "output_type": "stream",
     "text": [
      " 93%|█████████▎| 41/44 [10:08:45<39:03, 781.28s/it]"
     ]
    },
    {
     "name": "stdout",
     "output_type": "stream",
     "text": [
      "Protopanaxadiol 50\n",
      "Protopanaxadiol ['1.14.15.4', '1.14.15.4', '1.14.15.4', '1.14.15.4', '1.14.15.4', '1.14.15.4', '1.14.15.4', '1.14.15.4', '1.14.15.4', '1.14.15.4', '1.14.15.4', '1.14.15.4', '1.14.15.4', '1.14.15.4', '1.14.15.4', '1.14.15.4', '1.14.15.4', '1.14.15.4', '1.14.13.100', '1.3.1.72', '1.14.13.-', '1.1.3.16', '1.1.3.16', '1.14.14.1', '1.14.14.1', '1.14.14.1', '1.14.14.1', '1.14.14.1', '1.14.14.1', '1.14.14.1', '1.14.14.1', '1.14.14.1', '4.2.1.95', '1.3.1.72', '4.2.1.97', '1.14.13.72', '1.14.-.-', '1.14.-.-', '1.14.-.-', '1.14.-.-', '1.14.-.-', '1.14.-.-', '1.14.-.-', '1.14.-.-', '1.14.-.-', '1.14.-.-', '1.14.-.-', '1.14.-.-', '1.14.-.-', '1.14.-.-', '1.14.-.-', '1.14.-.-', '1.14.-.-', '1.14.-.-', '1.3.1.72', '1.14.13;1.14.13.-', '1.14.13.-', '1.14.13.-', '1.14.13', '1.14.13', '1.14.13', '1.14.13', '1.14.13', '1.14.13', '1.14.13', '1.14.13', '1.14.13', '1.3.1.72', '4.1.99.16', '1.14.15.15', '1.14.15.15', '1.14.15.15', '1.14.15.15', '1.14.15.15', '1.14.13.126;1.14.15.16', '1.14.13.126;1.14.15.16', '1.14.13.126;1.14.15.16', '1.14.13.126;1.14.15.16', '1.14.13.126;1.14.15.16', '1.14.13.126;1.14.15.16', '1.14.13.126;1.14.15.16', '1.14.13.126;1.14.15.16', '1.14.13.126;1.14.15.16', '3.1.3', '3.1.3', '3.1.3', '3.1.3', '3.1.3', '3.1.3', '1.14.15.4', '1.14.15.4', '1.14.15.4', '1.14.15.4', '1.14.15.4', '1.14.15.4', '1.14.15.4', '1.14.15.4', '1.14.15.4', '1.14.15.4', '1.14.15.4', '1.14.15.4', '1.14.15.4', '1.14.15.4', '1.14.15.4', '1.14.15.4', '1.14.15.4', '1.14.15.4', '1.14.15.6', '1.14.15.6', '1.14.15.6', '1.14.15.6', '1.14.15.6', '1.14.15.6', '1.14.15.6', '1.14.15.6', '1.14.15.6', '1.14.-.-', '1.14.-.-', '1.14.-.-', '1.14.-.-', '1.14.-.-', '1.14.-.-', '1.14.-.-', '1.14.-.-', '1.14.-.-', '1.14.-.-', '1.14.-.-', '1.14.-.-', '1.14.-.-', '1.14.-.-', '1.14.-.-', '1.14.-.-', '1.14.-.-', '1.14.-.-', '1.14.-.-', '1.14.-.-', '1.14.-.-', '1.14.-.-', '1.14.-.-', '1.14.-.-', '1.14.-.-', '1.14.-.-', '1.14.-.-', '1.14.14.25', '1.14.14.25', '1.14.14.25', '1.14.14.25', '1.14.14.25', '1.14.14.25', '1.14.14.25', '1.14.14.25', '1.14.14.25', '1.14.13.-;1.14.13.95;1.14.18.8', '1.14.13.-;1.14.13.95;1.14.18.8', '1.14.13.-;1.14.13.95;1.14.18.8', '1.14.13.-;1.14.13.95;1.14.18.8', '1.14.13.-;1.14.13.95;1.14.18.8', '1.14.13.-;1.14.13.95;1.14.18.8', '1.14.13.-;1.14.13.95;1.14.18.8', '1.14.13.-;1.14.13.95;1.14.18.8', '1.14.13.-;1.14.13.95;1.14.18.8', '1.14.13.30', '1.14.13.30', '1.14.13.30', '1.14.13.30', '1.14.13.30', '1.14.14.23', '1.14.13.17', '1.14.13.72', '1.14.13.77', '1.14.13.94', '1.14.13.94', '1.14.13.94', '1.14.13.94', '1.14.13.94', '1.14.13.94', '1.14.13.94', '1.14.13.94', '1.14.13.94', '1.14.13.96', '1.14.13.96', '1.14.13.96', '1.14.13.96', '1.14.13.96', '1.14.13.96', '1.14.13.96', '1.14.13.96', '1.14.13.96', '1.14.13.-', '1.14.13.-', '1.14.13.-', '1.14.13.-', '1.14.13.-', '1.14.13.-', '1.14.13.-', '1.14.13.-', '1.14.13.-', '1.14.13;1.14.13.-', '1.14.13;1.14.13.-', '1.14.13;1.14.13.-', '1.14.13;1.14.13.-', '1.14.13;1.14.13.-', '1.14.13;1.14.13.-', '1.14.13;1.14.13.-', '1.14.13;1.14.13.-', '1.14.13;1.14.13.-', '1.14.19.41;1.3.1.-', '1.14.19.41;1.3.1.-', '1.14.19.41;1.3.1.-', '1.14.19.41;1.3.1.-', '1.14.13.-', '1.14.13.-', '1.14.13.-', '1.14.13.-', '1.14.13.-', '1.14.13.-', '1.14.13.-', '1.14.13.-', '1.14.13.-', '3.1.3', '3.1.3', '3.1.3', '1.14.14.149', '1.14.14.149', '1.14.14.149', '1.14.14.149', '1.14.14.149', '1.14.14.149', '1.14.14.149', '1.14.14.149', '1.14.14.149', '1.14.19.41;1.3.1.-', '1.14.19.41;1.3.1.-', '1.14.19.41;1.3.1.-', '1.14.19.41;1.3.1.-', '1.14.13;1.14.13.-', '1.14.13;1.14.13.-', '1.14.13;1.14.13.-', '1.14.13;1.14.13.-', '1.14.13;1.14.13.-', '1.14.13;1.14.13.-', '1.14.13;1.14.13.-', '1.14.13;1.14.13.-', '1.14.13;1.14.13.-', '1.14.13.246', '1.3.1.72', '1.14.13.-;1.14.13.112', '1.14.13.-;1.14.13.112', '1.14.13.-;1.14.13.112', '1.14.13.-;1.14.13.112', '1.14.13.-;1.14.13.112', '1.14.13.-;1.14.13.112', '1.14.13.-;1.14.13.112', '1.14.13.-;1.14.13.112', '1.14.13.-;1.14.13.112', '1.14.13.-;1.14.13.112', '1.14.13.-;1.14.13.112', '1.14.13.-;1.14.13.112', '1.14.13.-;1.14.13.112', '1.14.13.-;1.14.13.112', '1.14.13.-;1.14.13.112', '1.14.13.-;1.14.13.112', '1.14.13.-;1.14.13.112', '1.14.13.-;1.14.13.112', '1.14.13.126', '1.14.13.126', '1.14.13.126', '1.14.13.126', '1.14.13.126', '1.14.13.126', '1.14.13.126', '1.14.13.126', '1.14.13.126', '1.14.13.99', '1.14.13.112', '1.14.13.112', '1.14.13.112', '1.14.13.112', '1.14.13.112', '1.14.13.112', '1.14.13.112', '1.14.13.112', '1.14.13.112', '1.14.13.112', '1.14.13.112', '1.14.13.112', '1.14.13.112', '1.14.13.112', '1.14.13.112', '1.14.13.112', '1.14.13.112', '1.14.13.112', '1.14.13.-', '1.14.13.-', '1.14.13.-', '1.14.13.-', '1.14.13.-', '1.14.13.-', '1.14.13.-', '1.14.13.-', '1.14.13.-', '1.14.13.-', '1.14.13.-', '1.14.13.-', '1.14.13.-', '1.14.13.-', '1.14.13.-', '1.14.13.-', '1.14.13.-', '1.14.13.-', '1.14.13.-', '1.14.13.-', '1.14.13.-', '1.14.13.-', '1.14.13.-', '1.14.13.-', '1.14.13.-', '1.14.13.-', '1.14.13.-', '1.14.13.-', '1.14.13.-', '1.14.13.-', '1.14.13.-', '1.14.13.-', '1.14.13.-', '1.14.13.-', '1.14.13.-', '1.14.13.-', '1.14.13.-', '1.14.13.-', '1.14.13.-', '1.14.13.-', '1.14.13.-', '1.14.13.-', '1.14.13.-', '1.14.13.-', '1.14.13.-', '1.14.13.-', '1.14.13.-', '1.14.13.72', '1.14.13.72', '1.14.13.72', '1.14.13.72', '1.14.13.72', '1.14.13.72', '1.14.15.5', '1.14.15.5', '1.14.15.5', '1.14.15.5', '1.14.15.5', '1.14.13.94', '1.14.13.94', '1.14.13.94', '1.14.13.94', '1.14.13.94', '1.14.13.94', '1.14.13.94', '1.14.13.94', '1.14.13.94', '1.14.13.96', '1.14.13.96', '1.14.13.96', '1.14.13.96', '1.14.13.96', '1.14.13.96', '1.14.13.96', '1.14.13.96', '1.14.13.96', '1.14.13.72', '1.14.13.72', '1.14.13.72', '1.14.13.72', '1.14.13.72', '1.14.13.72', '1.14.13.72', '1.14.13.72', '1.14.13.72', '1.14.13.72', '1.14.13.72', '1.14.13.72', '1.14.13.72', '1.14.13.72', '1.14.13.72', '1.14.13.72', '1.14.13.72', '1.14.13.72', '1.14.13.183', '1.14.13.183', '1.14.13.183', '1.14.13.183', '1.14.13.183', '1.14.13.183', '1.14.13.183', '1.14.13.183', '1.14.13.183', '1.14.13.184', '1.14.13.184', '1.14.13.184', '1.14.13.184', '1.14.13.184', '1.14.13.184', '1.14.13.184', '1.14.13.184', '1.14.13.184', '1.14.13.100;1.14.13.17;1.14.13.60', '1.14.13.99', '1.14.13.98', '1.14.13.98', '1.14.13.98', '1.14.13.98', '1.14.13.98', '1.14.13.98', '1.14.13.98', '1.14.13.98', '1.14.13.98', '1.14.13.-;1.14.15.6', '1.14.13.-;1.14.15.6', '1.14.13.-;1.14.15.6', '1.14.13.-;1.14.15.6', '1.14.13.-;1.14.15.6', '1.14.13.-;1.14.15.6', '1.14.13.-;1.14.15.6', '1.14.13.-;1.14.15.6', '1.14.13.-;1.14.15.6', '1.17.99.5', '1.17.99.5', '1.17.99.5', '1.17.99.5', '1.17.99.5', '1.17.99.5', '1.17.99.5', '1.17.99.5', '1.17.99.5', '1.17.99.5', '1.17.99.5', '1.14.13.97', '1.14.13.97', '1.14.13.97', '1.14.13.97', '1.14.13.97', '1.14.13.97', '1.14.13.97', '1.14.13.97', '1.14.13.97', '1.17.99.5', '1.17.99.5', '1.17.99.5', '1.17.99.5', '1.17.99.5', '1.17.99.5', '1.17.99.5', '1.17.99.5', '1.17.99.5', '1.17.99.5', '1.17.99.5', '1.3.1.72', '1.3.1.72', '1.3.1.72']\n",
      "Santalene\n",
      "1884\n"
     ]
    },
    {
     "name": "stderr",
     "output_type": "stream",
     "text": [
      "100%|██████████| 9708/9708 [11:58<00:00, 13.52it/s]\n",
      "100%|██████████| 21921/21921 [00:20<00:00, 1058.47it/s]\n"
     ]
    },
    {
     "name": "stdout",
     "output_type": "stream",
     "text": [
      "rxndb num 72\n",
      "failedrxn num 0\n"
     ]
    },
    {
     "name": "stderr",
     "output_type": "stream",
     "text": [
      " 95%|█████████▌| 42/44 [10:21:07<25:38, 769.38s/it]"
     ]
    },
    {
     "name": "stdout",
     "output_type": "stream",
     "text": [
      "0\n",
      "Santalene 5\n",
      "Santalene ['1.14.13.-', '1.14.13', '1.14.13;1.14.13.48', '1.14.13.49', '1.14.13.49', '1.14.13;1.14.14.1', '1.14.13.-;1.14.14.149', '1.14.13.133', '1.14.13;1.14.13.143', '1.14.13;1.14.13.143', '1.14.13;1.14.13.143', '1.14.13.-', '1.14.13.-', '1.14.13.48', '1.14.13.107', '1.14.13.107', '1.14.13.107', '1.14.13.107', '1.14.13.106', '1.14.13.80;1.14.14.53']\n",
      "β-Amyrin\n",
      "1884\n"
     ]
    },
    {
     "name": "stderr",
     "output_type": "stream",
     "text": [
      "100%|██████████| 9708/9708 [11:50<00:00, 13.67it/s]\n",
      "100%|██████████| 21921/21921 [00:20<00:00, 1046.67it/s]\n"
     ]
    },
    {
     "name": "stdout",
     "output_type": "stream",
     "text": [
      "rxndb num 1173\n",
      "failedrxn num 0\n",
      "190\n"
     ]
    },
    {
     "name": "stderr",
     "output_type": "stream",
     "text": [
      " 98%|█████████▊| 43/44 [10:33:34<12:42, 762.89s/it]"
     ]
    },
    {
     "name": "stdout",
     "output_type": "stream",
     "text": [
      "β-Amyrin 36\n",
      "β-Amyrin ['1.14.21.6', '1.14.21.6', '1.14.14.1;1.14.14.25;1.14.14.55;1.14.14.57', '1.14.13.-', '1.14.14.1', '1.14.14.1', '1.14.14.1', '1.14.14.1', '1.14.14.1', '1.14.14.1', '1.14.14.1', '1.14.14.1', '1.14.14.1', '1.14.14.1', '1.14.13.72', '1.14.13.72', '1.14.-.-', '1.14.-.-', '1.14.-.-', '1.14.-.-', '1.14.-.-', '1.14.-.-', '1.14.-.-', '1.14.-.-', '1.14.-.-', '1.14.-.-', '1.14.-.-', '1.14.-.-', '1.14.-.-', '1.14.-.-', '1.14.-.-', '1.14.-.-', '1.14.-.-', '1.14.-.-', '1.14.-.-', '1.14.-.-', '5.3.3.5', '1.14.19.21', '1.14.19.21', '5.3.3.5', '1.3.1', '1.14.14.133', '5.3.3', '5.3.3', '1.14.13', '1.14.13', '1.14.13', '1.14.13', '1.14.13', '1.14.13', '1.14.13', '1.14.13', '1.14.13', '1.14.13', '1.14.13', '1.14.13', '1.14.13', '1.14.13', '5.3.3.-;5.3.3.5', '1.14.13;1.14.13.-', '1.14.13;1.14.13.-', '1.14.13;1.14.13.-', '1.14.13;1.14.13.-', '1.14.13;1.14.13.-', '1.14.13;1.14.13.-', '1.14.13;1.14.13.-', '1.14.13;1.14.13.-', '1.14.13;1.14.13.-', '1.14.13;1.14.13.-', '1.14.21.6', '1.14.15.15', '1.14.15.15', '1.14.15.15', '1.14.15.15', '1.14.13.126;1.14.15.16', '1.14.13.126;1.14.15.16', '1.14.13.126;1.14.15.16', '1.14.13.126;1.14.15.16', '1.14.13.126;1.14.15.16', '1.14.13.126;1.14.15.16', '1.14.13.126;1.14.15.16', '1.14.13.126;1.14.15.16', '1.14.13.126;1.14.15.16', '1.14.13.126;1.14.15.16', '1.14.14.25', '1.14.14.25', '1.14.14.25', '1.14.14.25', '1.14.14.25', '1.14.14.25', '1.14.14.25', '1.14.14.25', '1.14.14.25', '1.14.14.25', '1.14.14.55', '1.14.14.55', '1.14.14.55', '1.14.14.55', '1.14.14.55', '1.14.14.55', '1.14.14.55', '1.14.14.55', '1.14.14.55', '1.14.14.55', '1.14.15.4', '1.14.15.4', '1.14.15.4', '1.14.15.4', '1.14.15.4', '1.14.15.4', '1.14.15.4', '1.14.15.4', '1.14.15.4', '1.14.15.4', '1.14.15.6', '1.14.15.6', '1.14.15.6', '1.14.15.6', '1.14.15.6', '1.14.15.6', '1.14.15.6', '1.14.15.6', '1.14.15.6', '1.14.15.6', '1.14.-.-', '1.14.-.-', '1.14.-.-', '1.14.-.-', '1.14.-.-', '1.14.-.-', '1.14.-.-', '1.14.-.-', '1.14.-.-', '1.14.-.-', '1.14.-.-', '1.14.-.-', '1.14.-.-', '1.14.-.-', '1.14.-.-', '1.14.-.-', '1.14.-.-', '1.14.-.-', '1.14.-.-', '1.14.-.-', '1.14.-.-', '1.14.-.-', '1.14.-.-', '1.14.-.-', '1.14.-.-', '1.14.-.-', '1.14.-.-', '1.14.-.-', '1.14.-.-', '1.14.-.-', '1.14.14.25', '1.14.14.25', '1.14.14.25', '1.14.14.25', '1.14.14.25', '1.14.14.25', '1.14.14.25', '1.14.14.25', '1.14.14.25', '1.14.14.25', '1.14.13.-;1.14.13.95;1.14.18.8', '1.14.13.-;1.14.13.95;1.14.18.8', '1.14.13.-;1.14.13.95;1.14.18.8', '1.14.13.-;1.14.13.95;1.14.18.8', '1.14.13.-;1.14.13.95;1.14.18.8', '1.14.13.-;1.14.13.95;1.14.18.8', '1.14.13.-;1.14.13.95;1.14.18.8', '1.14.13.-;1.14.13.95;1.14.18.8', '1.14.13.-;1.14.13.95;1.14.18.8', '1.14.13.-;1.14.13.95;1.14.18.8', '1.14.13.30', '1.14.13.30', '1.14.13.30', '1.14.13.30', '1.14.13.72', '1.14.13.72', '5.3.3.5', '1.14.13;1.14.13.-', '1.14.13;1.14.13.-', '1.14.13;1.14.13.-', '1.14.13;1.14.13.-', '1.14.13;1.14.13.-', '1.14.13;1.14.13.-', '1.14.13;1.14.13.-', '1.14.13;1.14.13.-', '1.14.13;1.14.13.-', '1.14.13;1.14.13.-', '1.14.19.41;1.3.1.-', '1.14.19.41;1.3.1.-', '1.14.19.41;1.3.1.-', '1.14.19.41;1.3.1.-', '1.14.13.-', '1.14.13.-', '1.14.13.-', '1.14.13.-', '1.14.13.-', '1.14.13.-', '1.14.13.-', '1.14.13.-', '1.14.13.-', '1.14.13.-', '1.14.13.-', '1.14.13.-;1.14.14.149', '1.14.14.149', '1.14.14.149', '1.14.14.149', '1.14.14.149', '1.14.14.149', '1.14.14.149', '1.14.14.149', '1.14.14.149', '1.14.14.149', '1.14.14.149', '1.14.14.149', '1.14.19.41;1.3.1.-', '1.14.19.41;1.3.1.-', '1.14.19.41;1.3.1.-', '1.14.19.41;1.3.1.-', '1.14.13;1.14.13.-', '1.14.13;1.14.13.-', '1.14.13;1.14.13.-', '1.14.13;1.14.13.-', '1.14.13;1.14.13.-', '1.14.13;1.14.13.-', '1.14.13;1.14.13.-', '1.14.13;1.14.13.-', '1.14.13;1.14.13.-', '1.14.13;1.14.13.-', '1.14.13.246', '1.14.13.246', '1.14.13.129', '1.14.13.129', '1.14.13.-;1.14.13.112', '1.14.13.-;1.14.13.112', '1.14.13.-;1.14.13.112', '1.14.13.-;1.14.13.112', '1.14.13.-;1.14.13.112', '1.14.13.-;1.14.13.112', '1.14.13.-;1.14.13.112', '1.14.13.-;1.14.13.112', '1.14.13.-;1.14.13.112', '1.14.13.-;1.14.13.112', '1.14.13.-;1.14.13.112', '1.14.13.-;1.14.13.112', '1.14.13.-;1.14.13.112', '1.14.13.-;1.14.13.112', '1.14.13.-;1.14.13.112', '1.14.13.-;1.14.13.112', '1.14.13.-;1.14.13.112', '1.14.13.-;1.14.13.112', '1.14.13.-;1.14.13.112', '1.14.13.-;1.14.13.112', '1.14.13.129', '1.14.13.129', '1.14.13.126', '1.14.13.126', '1.14.13.126', '1.14.13.126', '1.14.13.126', '1.14.13.126', '1.14.13.126', '1.14.13.126', '1.14.13.126', '1.14.13.126', '1.14.13;1.14.13.143', '1.14.13;1.14.13.143', '1.14.13;1.14.13.143', '1.14.13;1.14.13.143', '1.14.13;1.14.13.143', '1.14.13;1.14.13.143', '1.14.13;1.14.13.143', '1.14.13;1.14.13.143', '1.14.13;1.14.13.143', '1.14.13;1.14.13.143', '1.14.13.144', '1.14.13.144', '1.14.13.-', '1.14.99.45', '1.14.13.-', '1.14.13.-', '1.14.13.-', '1.14.13.-', '1.14.13.-', '1.14.13.-', '1.14.13.-', '1.14.13.-', '1.14.13.-', '1.14.13.-', '1.14.13.-', '1.14.13.-', '1.14.13.-', '1.14.13.-', '1.14.13.-', '1.14.13.-', '1.14.13.-', '1.14.13.-', '1.14.13.-', '1.14.13.-', '1.14.13.-', '1.14.13.-', '1.14.13.-', '1.14.13.-', '1.14.13.-', '1.14.13.-', '1.14.13.-', '1.14.13.-', '1.14.13.-', '1.14.13.-', '1.14.13.-', '1.14.13.-', '1.14.13.-', '1.14.13.-', '1.14.13.-', '1.14.13.-', '1.14.13.-', '1.14.13.-', '1.14.13.-', '1.14.13.-', '1.14.13.70', '1.14.13.70', '1.14.13.72', '1.14.13.72', '1.14.13.72', '1.14.13.72', '1.14.13.72', '1.14.13.72', '1.14.21.6', '1.14.13.129', '1.14.13.129', '1.14.13.129', '1.14.13.129', '1.14.13.72', '1.14.13.72', '1.14.13.72', '1.14.13.72', '1.14.13.72', '1.14.13.72', '1.14.13.72', '1.14.13.72', '1.14.13.72', '1.14.13.72', '1.14.13.72', '1.14.13.72', '1.14.21.6', '1.14.13.72', '1.14.13.72', '1.14.13.72', '1.14.13.72', '1.14.13.72', '1.14.13.72', '1.14.13.173', '1.14.13.173', '1.14.13.183', '1.14.13.183', '1.14.13.183', '1.14.13.183', '1.14.13.183', '1.14.13.183', '1.14.13.183', '1.14.13.183', '1.14.13.183', '1.14.13.183', '1.14.14.1', '1.14.13.98', '1.14.13.98', '1.14.13.98', '1.14.13.98', '1.14.13.98', '1.14.13.98', '1.14.13.98', '1.14.13.98', '1.14.13.98', '1.14.13.98', '1.14.13.106', '1.14.13.-;1.14.15.6', '1.14.13.-;1.14.15.6', '1.14.13.-;1.14.15.6', '1.14.13.-;1.14.15.6', '1.14.13.-;1.14.15.6', '1.14.13.-;1.14.15.6', '1.14.13.-;1.14.15.6', '1.14.13.-;1.14.15.6', '1.14.13.-;1.14.15.6', '1.14.13.-;1.14.15.6', '5.3.3.5', '5.3.3.5']\n",
      "β-Ionone\n",
      "1884\n"
     ]
    },
    {
     "name": "stderr",
     "output_type": "stream",
     "text": [
      "100%|██████████| 9708/9708 [12:06<00:00, 13.36it/s]\n",
      "100%|██████████| 21921/21921 [00:20<00:00, 1051.53it/s]\n"
     ]
    },
    {
     "name": "stdout",
     "output_type": "stream",
     "text": [
      "rxndb num 106\n",
      "failedrxn num 0\n"
     ]
    },
    {
     "name": "stderr",
     "output_type": "stream",
     "text": [
      "100%|██████████| 44/44 [10:46:05<00:00, 881.03s/it]"
     ]
    },
    {
     "name": "stdout",
     "output_type": "stream",
     "text": [
      "1\n",
      "β-Ionone 9\n",
      "β-Ionone ['1.1.1;1.1.1.207', '1.1.1;1.1.1.208', '1.1.1.275', '1.1.1.296', '1.1.1.296', '1.1.1.296', '1.1.1.296', '1.1.1.296', '1.1.1.296', '1.1.1.296', '1.14.14.-;1.14.14.1', '1.14.13', '1.14.13;1.14.13.-', '1.14.13;1.14.13.-', '1.14.13;1.14.13.-', '1.14.13;1.14.13.-', '1.14.13;1.14.13.-', '1.14.13;1.14.13.48', '1.6.99.1', '1.3.1', '1.14.13.49', '1.14.13.49', '1.14.13;1.14.14.1', '1.1.1.198', '1.1.1.227', '1.14.13.78', '1.14.13', '1.14.13', '1.14.13.-;1.14.13.119;1.14.14.149', '1.1.1.275', '1.14.13.-;1.14.14.149', '1.1.1.322', '1.1.1.322', '1.1.1.M48', '1.1.1', '1.1.1', '1.1.1.227', '1.14.13.133', '1.14.13;1.14.13.143', '1.14.13.144', '1.14.13.-', '1.14.13.-', '1.14.99.45', '1.14.13.48', '1.14.13.119', '1.1.1.-', '1.1.1.-', '1.1.1.296', '1.14.13.106', '1.14.13.80;1.14.14.53']\n"
     ]
    },
    {
     "name": "stderr",
     "output_type": "stream",
     "text": [
      "\n"
     ]
    }
   ],
   "source": [
    "for index,row in tqdm(target_100met.iterrows(),total=len(target_100met)):\n",
    "    # if index > 29 :\n",
    "        # if row['byproduct']==' ':\n",
    "        print(row['Name'])\n",
    "        heterologous_met_smiles = row['Smiles']\n",
    "        heterologous_met_smiles = normalize_smiles(heterologous_met_smiles)\n",
    "\n",
    "        model_met = get_GEM_all_smiles(yeast870_path)\n",
    "        new_met_info_to_GEM = pd.read_csv(new_met_info_to_GEM_path,index_col=None)\n",
    "        new_met_info_to_GEM.head(6)\n",
    "        new_met = new_met_info_to_GEM[new_met_info_to_GEM['ID'].apply(lambda x:'sn_' in x)]['new_met_smiles'].to_list()\n",
    "        new_met = [normalize_smiles(x) for x in new_met if 'C' in x or 'c' in x]\n",
    "        # new_met = []\n",
    "        # add heterologous_met_smiles to model_met list\n",
    "        new_model_and_heterologous_met = model_met + new_met\n",
    "        new_model_and_heterologous_met.append(heterologous_met_smiles)\n",
    "        new_model_and_heterologous_met = [smile for smile in new_model_and_heterologous_met if '.' not in smile]\n",
    "        new_model_and_heterologous_met = [smile for smile in new_model_and_heterologous_met if 'C' in smile or 'c' in smile] ###只筛第一轮\n",
    "        print(len(new_model_and_heterologous_met))\n",
    "        #calculate similarity\n",
    "        num_processes = 60\n",
    "        pool = multiprocessing.Pool(num_processes)\n",
    "        retrosys_smiles_calculate_similarity = {'rules_smiles': [],\n",
    "                                                'smiles_in_mets_total_smiles': [],\n",
    "                                                'scores': []}\n",
    "\n",
    "\n",
    "        process_rule_partial = partial(process_rule, mets_total_smiles=new_model_and_heterologous_met)\n",
    "        for result in tqdm(pool.imap(process_rule_partial, rules_product_smiles_lst, chunksize=50), total=len(rules_product_smiles_lst)):\n",
    "            if result[0] not in retrosys_smiles_calculate_similarity['rules_smiles']:\n",
    "                retrosys_smiles_calculate_similarity['rules_smiles'].append(result[0]) \n",
    "                retrosys_smiles_calculate_similarity['smiles_in_mets_total_smiles'].append(result[1]) \n",
    "                retrosys_smiles_calculate_similarity['scores'].append(result[2]) \n",
    "        pool.close()\n",
    "        pool.join()\n",
    "\n",
    "        retrosys_smiles_calculate_similarity_pd = pd.DataFrame(retrosys_smiles_calculate_similarity)\n",
    "\n",
    "        rxndb_list = []\n",
    "        # newdbSmiles = []\n",
    "        failedrxn = []\n",
    "        num_processes =60  #  adjust the number of processes according to your needs\n",
    "        pool = multiprocessing.Pool(num_processes)\n",
    "        # Execute in parallel using process pool\n",
    "\n",
    "        # Create a partial function that passes mets_total_smiles and mets_total_mol as default parameters to the process_retrorule function\n",
    "        process_retrorule_partial = partial(process_retrorule, mets_total_smiles=new_model_and_heterologous_met,retrosys_smiles_calculate_similarity_pd = retrosys_smiles_calculate_similarity_pd,heterologous_met_smiles = heterologous_met_smiles)\n",
    "\n",
    "        # Using the process pool to execute in parallel, the chunksize parameter is placed inside the imap function.\n",
    "        for result in tqdm(pool.imap(process_retrorule_partial, retrorules.iterrows(), chunksize=50), total=len(retrorules)):\n",
    "            # if result == ([], [], []):\n",
    "            #     pass\n",
    "            # else:\n",
    "            #     print(result)\n",
    "            if result[0] :  #  check if the result is not empty\n",
    "                rxndb_list.extend(result[0]) \n",
    "            # if result[1] is not None:\n",
    "            #     newdbSmiles.extend(result[1])\n",
    "            if result[1]:\n",
    "                failedrxn.extend(result[1])  \n",
    "\n",
    "        pool.close()\n",
    "        pool.join()\n",
    "\n",
    "        rxndb = {}\n",
    "        for i, rxn_dict in enumerate(rxndb_list):\n",
    "            # generate a unique key for each reaction, for example \"rxn0\"，\"rxn1\"，\"rxn2\"，...\n",
    "            key = f'rxn{i+1}'\n",
    "            # merge to the dictionary\n",
    "            rxndb[key] = rxn_dict\n",
    "        # with open(rxndb_path, 'w') as json_file:\n",
    "        #     json.dump(rxndb, json_file)\n",
    "\n",
    "        # with open(rxndb_path, 'r') as f:\n",
    "        #     rxndb = json.load(f)\n",
    "        print('rxndb num',len(rxndb))\n",
    "        # print('newdbSmiles num',len(newdbSmiles))\n",
    "        print('failedrxn num',len(failedrxn))\n",
    "\n",
    "        miss_smiles = ['C1C=CN(C=C1C(=O)N)C2C(C(C(O2)COP(=O)(O)OP(=O)(O)OCC3C(C(C(O3)N4C=NC5=C(N=CN=C54)N)O)O)O)O',#NADH\n",
    "                        'C1C=CN(C=C1C(=O)N)C2C(C(C(O2)COP(=O)(O)OP(=O)(O)OCC3C(C(C(O3)N4C=NC5=C(N=CN=C54)N)OP(=O)(O)O)O)O)O']#NADPH\n",
    "        miss_reaction_lst = []\n",
    "        for k,v in rxndb.items():\n",
    "            reactant_smile_lst = v['rxn_smiles_final'].split('>>')[0].split('.')\n",
    "            if any(compare_smiles_inchikey(miss_smiles[0],met) for met in reactant_smile_lst):\n",
    "                # print(k,v['rxn_smiles_final'])\n",
    "                miss_reaction_lst.append(k)\n",
    "            if any(compare_smiles_inchikey(miss_smiles[1],met) for met in reactant_smile_lst):\n",
    "                # print(k,v['rxn_smiles_final'])    \n",
    "                miss_reaction_lst.append(k)\n",
    "        print(len(miss_reaction_lst))\n",
    "        \n",
    "        result_df = {'ID':[],\n",
    "                    'reactant_smile':[],\n",
    "                    'productsmile':[]}\n",
    "        for k,v in rxndb.items():\n",
    "            result_df['ID'].append(k)\n",
    "            result_df['reactant_smile'].append(v['reactant_smile'])\n",
    "            result_df['productsmile'].append(v['productsmile'])\n",
    "        result_df = pd.DataFrame({'ID': result_df['ID'],\n",
    "                                'reactant_smile': result_df['reactant_smile'],\n",
    "                                'productsmile': result_df['productsmile']})\n",
    "        result_df.drop_duplicates(subset=['reactant_smile', 'productsmile'], inplace=True)\n",
    "        result_df.reset_index(drop=True, inplace=True)\n",
    "\n",
    "        result_df = result_df[result_df['productsmile']!=heterologous_met_smiles+'.OO']\n",
    "        result_df = result_df[result_df['productsmile']!=heterologous_met_smiles+'.O=C=O']\n",
    "        result_df = result_df[result_df['productsmile']!=heterologous_met_smiles+'.O=S([O-])[O-]']\n",
    "        result_df = result_df[result_df['productsmile']!=heterologous_met_smiles+'.[SH-]']\n",
    "        result_df = result_df[result_df['productsmile']!=heterologous_met_smiles+'.O=P([O-])([O-])OP(=O)([O-])O']\n",
    "        result_df = result_df[result_df['productsmile']!=heterologous_met_smiles+'.II']\n",
    "        result_df = result_df[result_df['productsmile']!=heterologous_met_smiles+'.[NH4+]']\n",
    "        result_df = result_df[result_df['productsmile']!=heterologous_met_smiles+'.[Br-]']\n",
    "        result_df = result_df[result_df['productsmile']!=heterologous_met_smiles+'.O=S(=O)([O-])[O-]']\n",
    "\n",
    "        unique_smiles = []\n",
    "        for i in result_df['reactant_smile']:\n",
    "            if all(compare_smiles_inchikey(x,i)!=1 for x in unique_smiles):\n",
    "                unique_smiles.append(i)\n",
    "            else:\n",
    "                pass\n",
    "        result_df = result_df[result_df['reactant_smile'].isin(unique_smiles)]\n",
    "\n",
    "        unique_productsmile = []\n",
    "        for i in result_df['productsmile']:\n",
    "            if i.replace('O=P(O)(O)','') not in unique_productsmile:\n",
    "                unique_productsmile.append(i)\n",
    "            else:\n",
    "                pass\n",
    "        result_df = result_df[result_df['productsmile'].isin(unique_productsmile)]\n",
    "\n",
    "        result_df['productsmile_num'] = result_df['productsmile'].apply(lambda x: check_productsmile(x))\n",
    "        result_df = result_df[result_df['productsmile_num']==1]\n",
    "        result_df = result_df[~result_df['ID'].isin(miss_reaction_lst)]\n",
    "\n",
    "        # result_df[result_df['reactant_smile'].apply(lambda x:all(get_cid_from_smiles(smiles) for smiles in x.split('.')))]\n",
    "        res = result_df['reactant_smile'].to_list()\n",
    "        ec_lst = []\n",
    "        for k,v in rxndb.items():\n",
    "            if v['reactant_smile'] in res:\n",
    "                ec_lst.append(v['EC number'])\n",
    "\n",
    "        print(row['Name'],len(result_df))\n",
    "        print(row['Name'],ec_lst)\n",
    "\n",
    "        # target_100met.loc[index,'byproduct'] = str(res)\n",
    "        target_100met.loc[index,'byproduct'] = len(result_df)\n",
    "        target_100met.loc[index,'EC number'] = str(ec_lst)\n",
    "        target_100met.to_csv(heterologous_met_byproduct_result_path,index=None)"
   ]
  },
  {
   "cell_type": "code",
   "execution_count": 12,
   "metadata": {},
   "outputs": [],
   "source": [
    "def get_ec_set(ec_lst):\n",
    "    ec_set = []\n",
    "    for x in ec_lst:\n",
    "        ec_set +=x.split(';')\n",
    "    ec_set = ['.'.join(x.split('.')[0:3]) for x in ec_set]\n",
    "    ec_set = list(set(ec_set))\n",
    "    ec_set = [x for x in ec_set if '-' not in x]\n",
    "    return ec_set"
   ]
  },
  {
   "cell_type": "code",
   "execution_count": 13,
   "metadata": {},
   "outputs": [
    {
     "data": {
      "text/html": [
       "<div>\n",
       "<style scoped>\n",
       "    .dataframe tbody tr th:only-of-type {\n",
       "        vertical-align: middle;\n",
       "    }\n",
       "\n",
       "    .dataframe tbody tr th {\n",
       "        vertical-align: top;\n",
       "    }\n",
       "\n",
       "    .dataframe thead th {\n",
       "        text-align: right;\n",
       "    }\n",
       "</style>\n",
       "<table border=\"1\" class=\"dataframe\">\n",
       "  <thead>\n",
       "    <tr style=\"text-align: right;\">\n",
       "      <th></th>\n",
       "      <th>Name</th>\n",
       "      <th>class</th>\n",
       "      <th>byproduct</th>\n",
       "      <th>EC number</th>\n",
       "    </tr>\n",
       "  </thead>\n",
       "  <tbody>\n",
       "    <tr>\n",
       "      <th>0</th>\n",
       "      <td>L-Phenylacetylcarbinol</td>\n",
       "      <td>alcohol</td>\n",
       "      <td>4</td>\n",
       "      <td>['1.14.13.-', '1.14.13.-', '1.14.13.-', '1.1.1...</td>\n",
       "    </tr>\n",
       "    <tr>\n",
       "      <th>1</th>\n",
       "      <td>1-Butanol</td>\n",
       "      <td>alcohol</td>\n",
       "      <td>1</td>\n",
       "      <td>['1.1.3.20', '1.1.3.20']</td>\n",
       "    </tr>\n",
       "    <tr>\n",
       "      <th>2</th>\n",
       "      <td>(S)-Reticuline</td>\n",
       "      <td>alkaloid</td>\n",
       "      <td>15</td>\n",
       "      <td>['1.14.14.-;1.14.14.1', '1.14.14.-;1.14.14.1',...</td>\n",
       "    </tr>\n",
       "    <tr>\n",
       "      <th>3</th>\n",
       "      <td>Psilocybin</td>\n",
       "      <td>alkaloid</td>\n",
       "      <td>6</td>\n",
       "      <td>['3.1.8.1', '1.14.13.8', '1.13.11.52', '1.14.1...</td>\n",
       "    </tr>\n",
       "    <tr>\n",
       "      <th>4</th>\n",
       "      <td>Nicotianamine</td>\n",
       "      <td>amino acid</td>\n",
       "      <td>0</td>\n",
       "      <td>[]</td>\n",
       "    </tr>\n",
       "    <tr>\n",
       "      <th>5</th>\n",
       "      <td>4-Hydroxymandelic</td>\n",
       "      <td>aromatic</td>\n",
       "      <td>11</td>\n",
       "      <td>['1.14.13.19', '1.14.13.19', '1.14.13.-;1.6.5....</td>\n",
       "    </tr>\n",
       "    <tr>\n",
       "      <th>6</th>\n",
       "      <td>Cinnamate</td>\n",
       "      <td>aromatic</td>\n",
       "      <td>9</td>\n",
       "      <td>['3.6.1.7', '1.3.1.31', '1.1.1.184;1.2.1.5', '...</td>\n",
       "    </tr>\n",
       "    <tr>\n",
       "      <th>7</th>\n",
       "      <td>Mandelic</td>\n",
       "      <td>aromatic</td>\n",
       "      <td>1</td>\n",
       "      <td>['1.2.1.3']</td>\n",
       "    </tr>\n",
       "    <tr>\n",
       "      <th>8</th>\n",
       "      <td>p-Coumaric acid</td>\n",
       "      <td>aromatic</td>\n",
       "      <td>11</td>\n",
       "      <td>['1.14.13.7', '1.14.13.7', '1.14.13.63', '1.14...</td>\n",
       "    </tr>\n",
       "    <tr>\n",
       "      <th>9</th>\n",
       "      <td>Rosmarinate</td>\n",
       "      <td>aromatic</td>\n",
       "      <td>16</td>\n",
       "      <td>['1.14.14.1', '3.1.1.70', '1.14.13.19', '1.14....</td>\n",
       "    </tr>\n",
       "    <tr>\n",
       "      <th>10</th>\n",
       "      <td>Salidroside</td>\n",
       "      <td>aromatic</td>\n",
       "      <td>16</td>\n",
       "      <td>['3.1.3.69', '3.1.3.69', '3.1.3.69', '3.1.3.69...</td>\n",
       "    </tr>\n",
       "    <tr>\n",
       "      <th>11</th>\n",
       "      <td>Tyrosol</td>\n",
       "      <td>aromatic</td>\n",
       "      <td>2</td>\n",
       "      <td>['1.14.13.-;1.14.18.1', '1.14.13.-;1.14.18.1',...</td>\n",
       "    </tr>\n",
       "    <tr>\n",
       "      <th>12</th>\n",
       "      <td>Arachidonate</td>\n",
       "      <td>fatty acids and lipids</td>\n",
       "      <td>19</td>\n",
       "      <td>['1.2.1.-', '1.2.1.-', '1.14.14.-;1.14.14.1', ...</td>\n",
       "    </tr>\n",
       "    <tr>\n",
       "      <th>13</th>\n",
       "      <td>Docosahexaenoate</td>\n",
       "      <td>fatty acids and lipids</td>\n",
       "      <td>23</td>\n",
       "      <td>['5.3.3.13', '5.3.3.13', '5.3.3.13', '5.3.3.13...</td>\n",
       "    </tr>\n",
       "    <tr>\n",
       "      <th>14</th>\n",
       "      <td>Eicosapentaenoic acid</td>\n",
       "      <td>fatty acids and lipids</td>\n",
       "      <td>13</td>\n",
       "      <td>['1.14.14.-;1.14.14.1', '1.14.14.-;1.14.14.1',...</td>\n",
       "    </tr>\n",
       "    <tr>\n",
       "      <th>15</th>\n",
       "      <td>Docosanol</td>\n",
       "      <td>alcohol</td>\n",
       "      <td>1</td>\n",
       "      <td>['1.1.3.20', '1.1.3.20']</td>\n",
       "    </tr>\n",
       "    <tr>\n",
       "      <th>16</th>\n",
       "      <td>Catechin</td>\n",
       "      <td>flavonoid</td>\n",
       "      <td>16</td>\n",
       "      <td>['1.1.1.252', '1.14.13.19', '1.14.13.19', '1.1...</td>\n",
       "    </tr>\n",
       "    <tr>\n",
       "      <th>17</th>\n",
       "      <td>Genistein</td>\n",
       "      <td>flavonoid</td>\n",
       "      <td>18</td>\n",
       "      <td>['1.1.1.252', '1.14.13.19', '1.14.13.19', '1.1...</td>\n",
       "    </tr>\n",
       "    <tr>\n",
       "      <th>18</th>\n",
       "      <td>Kaempferol</td>\n",
       "      <td>flavonoid</td>\n",
       "      <td>18</td>\n",
       "      <td>['1.1.1.252', '1.14.13.19', '1.14.13.19', '1.1...</td>\n",
       "    </tr>\n",
       "    <tr>\n",
       "      <th>19</th>\n",
       "      <td>Naringenin</td>\n",
       "      <td>flavonoid</td>\n",
       "      <td>21</td>\n",
       "      <td>['5.5.1.6', '3.7.1.4', '1.1.1.252', '1.1.1.219...</td>\n",
       "    </tr>\n",
       "    <tr>\n",
       "      <th>20</th>\n",
       "      <td>Quercetin</td>\n",
       "      <td>flavonoid</td>\n",
       "      <td>18</td>\n",
       "      <td>['1.1.1.252', '1.14.13.19', '1.14.13.19', '1.1...</td>\n",
       "    </tr>\n",
       "    <tr>\n",
       "      <th>21</th>\n",
       "      <td>Astaxanthin</td>\n",
       "      <td>terpene</td>\n",
       "      <td>8</td>\n",
       "      <td>['1.13.11.51', '1.13.11.51', '1.14.13', '1.14....</td>\n",
       "    </tr>\n",
       "    <tr>\n",
       "      <th>22</th>\n",
       "      <td>Betaxanthin</td>\n",
       "      <td>terpene</td>\n",
       "      <td>6</td>\n",
       "      <td>['1.14.14.1', '1.14.14.1', '1.14.14.1', '1.14....</td>\n",
       "    </tr>\n",
       "    <tr>\n",
       "      <th>23</th>\n",
       "      <td>β-Carotene</td>\n",
       "      <td>terpene</td>\n",
       "      <td>18</td>\n",
       "      <td>['1.14.13.-', '1.14.13.-', '1.14.14.-;1.14.14....</td>\n",
       "    </tr>\n",
       "    <tr>\n",
       "      <th>24</th>\n",
       "      <td>Artemisinic acid</td>\n",
       "      <td>terpene</td>\n",
       "      <td>9</td>\n",
       "      <td>['1.14.13.107', '1.14.13.107', '1.14.13.107', ...</td>\n",
       "    </tr>\n",
       "    <tr>\n",
       "      <th>25</th>\n",
       "      <td>3-Hydroxypropanoate</td>\n",
       "      <td>organic acid</td>\n",
       "      <td>0</td>\n",
       "      <td>[]</td>\n",
       "    </tr>\n",
       "    <tr>\n",
       "      <th>26</th>\n",
       "      <td>Adipic acid</td>\n",
       "      <td>organic acid</td>\n",
       "      <td>1</td>\n",
       "      <td>['1.2.1;1.2.1.-']</td>\n",
       "    </tr>\n",
       "    <tr>\n",
       "      <th>27</th>\n",
       "      <td>cis,cis-Muconate</td>\n",
       "      <td>organic acid</td>\n",
       "      <td>1</td>\n",
       "      <td>['5.5.1.1']</td>\n",
       "    </tr>\n",
       "    <tr>\n",
       "      <th>28</th>\n",
       "      <td>Itaconic acid</td>\n",
       "      <td>organic acid</td>\n",
       "      <td>3</td>\n",
       "      <td>['1.2.1;1.2.1.-', '1.2.1;1.2.1.-', '3.1.1']</td>\n",
       "    </tr>\n",
       "    <tr>\n",
       "      <th>29</th>\n",
       "      <td>Ethylene</td>\n",
       "      <td>other</td>\n",
       "      <td>1</td>\n",
       "      <td>['1.14.13.69']</td>\n",
       "    </tr>\n",
       "    <tr>\n",
       "      <th>30</th>\n",
       "      <td>1,3,5-Trihydroxyxanthone</td>\n",
       "      <td>other</td>\n",
       "      <td>16</td>\n",
       "      <td>['1.14.14.1', '1.14.14.1', '1.1.1.252', '1.14....</td>\n",
       "    </tr>\n",
       "    <tr>\n",
       "      <th>31</th>\n",
       "      <td>Resveratrol</td>\n",
       "      <td>other</td>\n",
       "      <td>17</td>\n",
       "      <td>['1.14.13.6', '1.14.13.6', '1.14.13.6', '1.14....</td>\n",
       "    </tr>\n",
       "    <tr>\n",
       "      <th>32</th>\n",
       "      <td>α-Farnesene</td>\n",
       "      <td>terpene</td>\n",
       "      <td>15</td>\n",
       "      <td>['1.14.13.107', '1.14.13.107', '1.14.13.107', ...</td>\n",
       "    </tr>\n",
       "    <tr>\n",
       "      <th>33</th>\n",
       "      <td>Amorphadiene</td>\n",
       "      <td>terpene</td>\n",
       "      <td>9</td>\n",
       "      <td>['1.14.13.107', '1.14.13.-;1.14.15.-;1.14.15.3...</td>\n",
       "    </tr>\n",
       "    <tr>\n",
       "      <th>34</th>\n",
       "      <td>Geraniol</td>\n",
       "      <td>terpene</td>\n",
       "      <td>16</td>\n",
       "      <td>['1.14.13.107', '1.14.13.107', '1.14.13.107', ...</td>\n",
       "    </tr>\n",
       "    <tr>\n",
       "      <th>35</th>\n",
       "      <td>Limonene</td>\n",
       "      <td>terpene</td>\n",
       "      <td>9</td>\n",
       "      <td>['1.14.13.107', '1.14.13.-;1.14.15.-;1.14.15.3...</td>\n",
       "    </tr>\n",
       "    <tr>\n",
       "      <th>36</th>\n",
       "      <td>Linalool</td>\n",
       "      <td>terpene</td>\n",
       "      <td>5</td>\n",
       "      <td>['4.2.1.127', '5.4.4.4', '1.14.13.229', '1.14....</td>\n",
       "    </tr>\n",
       "    <tr>\n",
       "      <th>37</th>\n",
       "      <td>Lupeol</td>\n",
       "      <td>terpene</td>\n",
       "      <td>33</td>\n",
       "      <td>['1.14.14.1', '1.14.14.1', '1.14.14.1', '1.14....</td>\n",
       "    </tr>\n",
       "    <tr>\n",
       "      <th>38</th>\n",
       "      <td>Oleanolic acid</td>\n",
       "      <td>terpene</td>\n",
       "      <td>42</td>\n",
       "      <td>['1.14.15.4', '1.14.15.4', '1.14.15.4', '1.14....</td>\n",
       "    </tr>\n",
       "    <tr>\n",
       "      <th>39</th>\n",
       "      <td>Patchoulol</td>\n",
       "      <td>terpene</td>\n",
       "      <td>19</td>\n",
       "      <td>['1.14.14.1', '1.14.14.1', '1.14.14.1', '1.14....</td>\n",
       "    </tr>\n",
       "    <tr>\n",
       "      <th>40</th>\n",
       "      <td>Protopanaxadiol</td>\n",
       "      <td>terpene</td>\n",
       "      <td>50</td>\n",
       "      <td>['1.14.15.4', '1.14.15.4', '1.14.15.4', '1.14....</td>\n",
       "    </tr>\n",
       "    <tr>\n",
       "      <th>41</th>\n",
       "      <td>Santalene</td>\n",
       "      <td>terpene</td>\n",
       "      <td>5</td>\n",
       "      <td>['1.14.13.-', '1.14.13', '1.14.13;1.14.13.48',...</td>\n",
       "    </tr>\n",
       "    <tr>\n",
       "      <th>42</th>\n",
       "      <td>β-Amyrin</td>\n",
       "      <td>terpene</td>\n",
       "      <td>36</td>\n",
       "      <td>['1.14.21.6', '1.14.21.6', '1.14.14.1;1.14.14....</td>\n",
       "    </tr>\n",
       "    <tr>\n",
       "      <th>43</th>\n",
       "      <td>β-Ionone</td>\n",
       "      <td>terpene</td>\n",
       "      <td>9</td>\n",
       "      <td>['1.1.1;1.1.1.207', '1.1.1;1.1.1.208', '1.1.1....</td>\n",
       "    </tr>\n",
       "  </tbody>\n",
       "</table>\n",
       "</div>"
      ],
      "text/plain": [
       "                        Name                   class byproduct  \\\n",
       "0     L-Phenylacetylcarbinol                 alcohol         4   \n",
       "1                  1-Butanol                 alcohol         1   \n",
       "2             (S)-Reticuline                alkaloid        15   \n",
       "3                 Psilocybin                alkaloid         6   \n",
       "4              Nicotianamine              amino acid         0   \n",
       "5          4-Hydroxymandelic                aromatic        11   \n",
       "6                  Cinnamate                aromatic         9   \n",
       "7                   Mandelic                aromatic         1   \n",
       "8            p-Coumaric acid                aromatic        11   \n",
       "9                Rosmarinate                aromatic        16   \n",
       "10               Salidroside                aromatic        16   \n",
       "11                   Tyrosol                aromatic         2   \n",
       "12              Arachidonate  fatty acids and lipids        19   \n",
       "13          Docosahexaenoate  fatty acids and lipids        23   \n",
       "14     Eicosapentaenoic acid  fatty acids and lipids        13   \n",
       "15                 Docosanol                 alcohol         1   \n",
       "16                  Catechin               flavonoid        16   \n",
       "17                 Genistein               flavonoid        18   \n",
       "18                Kaempferol               flavonoid        18   \n",
       "19                Naringenin               flavonoid        21   \n",
       "20                 Quercetin               flavonoid        18   \n",
       "21               Astaxanthin                 terpene         8   \n",
       "22               Betaxanthin                 terpene         6   \n",
       "23                β-Carotene                 terpene        18   \n",
       "24          Artemisinic acid                 terpene         9   \n",
       "25       3-Hydroxypropanoate            organic acid         0   \n",
       "26               Adipic acid            organic acid         1   \n",
       "27          cis,cis-Muconate            organic acid         1   \n",
       "28             Itaconic acid            organic acid         3   \n",
       "29                  Ethylene                   other         1   \n",
       "30  1,3,5-Trihydroxyxanthone                   other        16   \n",
       "31               Resveratrol                   other        17   \n",
       "32               α-Farnesene                 terpene        15   \n",
       "33              Amorphadiene                 terpene         9   \n",
       "34                  Geraniol                 terpene        16   \n",
       "35                  Limonene                 terpene         9   \n",
       "36                  Linalool                 terpene         5   \n",
       "37                    Lupeol                 terpene        33   \n",
       "38            Oleanolic acid                 terpene        42   \n",
       "39                Patchoulol                 terpene        19   \n",
       "40           Protopanaxadiol                 terpene        50   \n",
       "41                 Santalene                 terpene         5   \n",
       "42                  β-Amyrin                 terpene        36   \n",
       "43                  β-Ionone                 terpene         9   \n",
       "\n",
       "                                            EC number  \n",
       "0   ['1.14.13.-', '1.14.13.-', '1.14.13.-', '1.1.1...  \n",
       "1                            ['1.1.3.20', '1.1.3.20']  \n",
       "2   ['1.14.14.-;1.14.14.1', '1.14.14.-;1.14.14.1',...  \n",
       "3   ['3.1.8.1', '1.14.13.8', '1.13.11.52', '1.14.1...  \n",
       "4                                                  []  \n",
       "5   ['1.14.13.19', '1.14.13.19', '1.14.13.-;1.6.5....  \n",
       "6   ['3.6.1.7', '1.3.1.31', '1.1.1.184;1.2.1.5', '...  \n",
       "7                                         ['1.2.1.3']  \n",
       "8   ['1.14.13.7', '1.14.13.7', '1.14.13.63', '1.14...  \n",
       "9   ['1.14.14.1', '3.1.1.70', '1.14.13.19', '1.14....  \n",
       "10  ['3.1.3.69', '3.1.3.69', '3.1.3.69', '3.1.3.69...  \n",
       "11  ['1.14.13.-;1.14.18.1', '1.14.13.-;1.14.18.1',...  \n",
       "12  ['1.2.1.-', '1.2.1.-', '1.14.14.-;1.14.14.1', ...  \n",
       "13  ['5.3.3.13', '5.3.3.13', '5.3.3.13', '5.3.3.13...  \n",
       "14  ['1.14.14.-;1.14.14.1', '1.14.14.-;1.14.14.1',...  \n",
       "15                           ['1.1.3.20', '1.1.3.20']  \n",
       "16  ['1.1.1.252', '1.14.13.19', '1.14.13.19', '1.1...  \n",
       "17  ['1.1.1.252', '1.14.13.19', '1.14.13.19', '1.1...  \n",
       "18  ['1.1.1.252', '1.14.13.19', '1.14.13.19', '1.1...  \n",
       "19  ['5.5.1.6', '3.7.1.4', '1.1.1.252', '1.1.1.219...  \n",
       "20  ['1.1.1.252', '1.14.13.19', '1.14.13.19', '1.1...  \n",
       "21  ['1.13.11.51', '1.13.11.51', '1.14.13', '1.14....  \n",
       "22  ['1.14.14.1', '1.14.14.1', '1.14.14.1', '1.14....  \n",
       "23  ['1.14.13.-', '1.14.13.-', '1.14.14.-;1.14.14....  \n",
       "24  ['1.14.13.107', '1.14.13.107', '1.14.13.107', ...  \n",
       "25                                                 []  \n",
       "26                                  ['1.2.1;1.2.1.-']  \n",
       "27                                        ['5.5.1.1']  \n",
       "28        ['1.2.1;1.2.1.-', '1.2.1;1.2.1.-', '3.1.1']  \n",
       "29                                     ['1.14.13.69']  \n",
       "30  ['1.14.14.1', '1.14.14.1', '1.1.1.252', '1.14....  \n",
       "31  ['1.14.13.6', '1.14.13.6', '1.14.13.6', '1.14....  \n",
       "32  ['1.14.13.107', '1.14.13.107', '1.14.13.107', ...  \n",
       "33  ['1.14.13.107', '1.14.13.-;1.14.15.-;1.14.15.3...  \n",
       "34  ['1.14.13.107', '1.14.13.107', '1.14.13.107', ...  \n",
       "35  ['1.14.13.107', '1.14.13.-;1.14.15.-;1.14.15.3...  \n",
       "36  ['4.2.1.127', '5.4.4.4', '1.14.13.229', '1.14....  \n",
       "37  ['1.14.14.1', '1.14.14.1', '1.14.14.1', '1.14....  \n",
       "38  ['1.14.15.4', '1.14.15.4', '1.14.15.4', '1.14....  \n",
       "39  ['1.14.14.1', '1.14.14.1', '1.14.14.1', '1.14....  \n",
       "40  ['1.14.15.4', '1.14.15.4', '1.14.15.4', '1.14....  \n",
       "41  ['1.14.13.-', '1.14.13', '1.14.13;1.14.13.48',...  \n",
       "42  ['1.14.21.6', '1.14.21.6', '1.14.14.1;1.14.14....  \n",
       "43  ['1.1.1;1.1.1.207', '1.1.1;1.1.1.208', '1.1.1....  "
      ]
     },
     "execution_count": 13,
     "metadata": {},
     "output_type": "execute_result"
    }
   ],
   "source": [
    "target_100met_df = target_100met[['Name','class','byproduct','EC number']]\n",
    "# target_100met_df['byproduct num'] = target_100met_df['byproduct'].apply(lambda x:literal_eval(x))\n",
    "target_100met_df"
   ]
  },
  {
   "cell_type": "code",
   "execution_count": 14,
   "metadata": {},
   "outputs": [
    {
     "name": "stderr",
     "output_type": "stream",
     "text": [
      "/home/wuke/anaconda3/envs/kcat/lib/python3.7/site-packages/ipykernel_launcher.py:2: SettingWithCopyWarning: \n",
      "A value is trying to be set on a copy of a slice from a DataFrame.\n",
      "Try using .loc[row_indexer,col_indexer] = value instead\n",
      "\n",
      "See the caveats in the documentation: https://pandas.pydata.org/pandas-docs/stable/user_guide/indexing.html#returning-a-view-versus-a-copy\n",
      "  \n",
      "/home/wuke/anaconda3/envs/kcat/lib/python3.7/site-packages/ipykernel_launcher.py:3: SettingWithCopyWarning: \n",
      "A value is trying to be set on a copy of a slice from a DataFrame.\n",
      "Try using .loc[row_indexer,col_indexer] = value instead\n",
      "\n",
      "See the caveats in the documentation: https://pandas.pydata.org/pandas-docs/stable/user_guide/indexing.html#returning-a-view-versus-a-copy\n",
      "  This is separate from the ipykernel package so we can avoid doing imports until\n",
      "/home/wuke/anaconda3/envs/kcat/lib/python3.7/site-packages/ipykernel_launcher.py:4: SettingWithCopyWarning: \n",
      "A value is trying to be set on a copy of a slice from a DataFrame.\n",
      "Try using .loc[row_indexer,col_indexer] = value instead\n",
      "\n",
      "See the caveats in the documentation: https://pandas.pydata.org/pandas-docs/stable/user_guide/indexing.html#returning-a-view-versus-a-copy\n",
      "  after removing the cwd from sys.path.\n"
     ]
    },
    {
     "data": {
      "text/html": [
       "<div>\n",
       "<style scoped>\n",
       "    .dataframe tbody tr th:only-of-type {\n",
       "        vertical-align: middle;\n",
       "    }\n",
       "\n",
       "    .dataframe tbody tr th {\n",
       "        vertical-align: top;\n",
       "    }\n",
       "\n",
       "    .dataframe thead th {\n",
       "        text-align: right;\n",
       "    }\n",
       "</style>\n",
       "<table border=\"1\" class=\"dataframe\">\n",
       "  <thead>\n",
       "    <tr style=\"text-align: right;\">\n",
       "      <th></th>\n",
       "      <th>Name</th>\n",
       "      <th>class</th>\n",
       "      <th>byproduct</th>\n",
       "      <th>EC number</th>\n",
       "      <th>byproduct_num</th>\n",
       "    </tr>\n",
       "  </thead>\n",
       "  <tbody>\n",
       "    <tr>\n",
       "      <th>0</th>\n",
       "      <td>Nicotianamine</td>\n",
       "      <td>amino acid</td>\n",
       "      <td>0</td>\n",
       "      <td>[]</td>\n",
       "      <td>0</td>\n",
       "    </tr>\n",
       "    <tr>\n",
       "      <th>1</th>\n",
       "      <td>Psilocybin</td>\n",
       "      <td>alkaloid</td>\n",
       "      <td>6</td>\n",
       "      <td>[3.1.8, 1.14.13, 1.13.11, 1.14.14]</td>\n",
       "      <td>6</td>\n",
       "    </tr>\n",
       "    <tr>\n",
       "      <th>2</th>\n",
       "      <td>(S)-Reticuline</td>\n",
       "      <td>alkaloid</td>\n",
       "      <td>15</td>\n",
       "      <td>[1.14.19, 1.14.21, 1.14.13, 1.14.14]</td>\n",
       "      <td>15</td>\n",
       "    </tr>\n",
       "    <tr>\n",
       "      <th>3</th>\n",
       "      <td>Ethylene</td>\n",
       "      <td>other</td>\n",
       "      <td>1</td>\n",
       "      <td>[1.14.13]</td>\n",
       "      <td>1</td>\n",
       "    </tr>\n",
       "    <tr>\n",
       "      <th>4</th>\n",
       "      <td>1,3,5-Trihydroxyxanthone</td>\n",
       "      <td>other</td>\n",
       "      <td>16</td>\n",
       "      <td>[1.1.1, 1.14.99, 1.14.13, 3.1.3, 4.2.1, 1.11.2...</td>\n",
       "      <td>16</td>\n",
       "    </tr>\n",
       "    <tr>\n",
       "      <th>5</th>\n",
       "      <td>Resveratrol</td>\n",
       "      <td>other</td>\n",
       "      <td>17</td>\n",
       "      <td>[1.1.1, 1.97.1, 1.14.13, 3.1.3, 4.2.1, 1.11.2,...</td>\n",
       "      <td>17</td>\n",
       "    </tr>\n",
       "    <tr>\n",
       "      <th>6</th>\n",
       "      <td>Eicosapentaenoic acid</td>\n",
       "      <td>fatty acids and lipids</td>\n",
       "      <td>13</td>\n",
       "      <td>[5.2.1, 1.2.1, 1.13.11, 1.14.14]</td>\n",
       "      <td>13</td>\n",
       "    </tr>\n",
       "    <tr>\n",
       "      <th>7</th>\n",
       "      <td>Arachidonate</td>\n",
       "      <td>fatty acids and lipids</td>\n",
       "      <td>19</td>\n",
       "      <td>[5.2.1, 1.2.1, 1.14.13, 1.14.14, 1.13.11]</td>\n",
       "      <td>19</td>\n",
       "    </tr>\n",
       "    <tr>\n",
       "      <th>8</th>\n",
       "      <td>Docosahexaenoate</td>\n",
       "      <td>fatty acids and lipids</td>\n",
       "      <td>23</td>\n",
       "      <td>[5.2.1, 1.2.1, 1.14.14, 5.3.3, 1.13.11]</td>\n",
       "      <td>23</td>\n",
       "    </tr>\n",
       "    <tr>\n",
       "      <th>9</th>\n",
       "      <td>1-Butanol</td>\n",
       "      <td>alcohol</td>\n",
       "      <td>1</td>\n",
       "      <td>[1.1.3]</td>\n",
       "      <td>1</td>\n",
       "    </tr>\n",
       "    <tr>\n",
       "      <th>10</th>\n",
       "      <td>Docosanol</td>\n",
       "      <td>alcohol</td>\n",
       "      <td>1</td>\n",
       "      <td>[1.1.3]</td>\n",
       "      <td>1</td>\n",
       "    </tr>\n",
       "    <tr>\n",
       "      <th>11</th>\n",
       "      <td>L-Phenylacetylcarbinol</td>\n",
       "      <td>alcohol</td>\n",
       "      <td>4</td>\n",
       "      <td>[1.1.1, 1.14.13]</td>\n",
       "      <td>4</td>\n",
       "    </tr>\n",
       "    <tr>\n",
       "      <th>12</th>\n",
       "      <td>3-Hydroxypropanoate</td>\n",
       "      <td>organic acid</td>\n",
       "      <td>0</td>\n",
       "      <td>[]</td>\n",
       "      <td>0</td>\n",
       "    </tr>\n",
       "    <tr>\n",
       "      <th>13</th>\n",
       "      <td>Adipic acid</td>\n",
       "      <td>organic acid</td>\n",
       "      <td>1</td>\n",
       "      <td>[1.2.1]</td>\n",
       "      <td>1</td>\n",
       "    </tr>\n",
       "    <tr>\n",
       "      <th>14</th>\n",
       "      <td>cis,cis-Muconate</td>\n",
       "      <td>organic acid</td>\n",
       "      <td>1</td>\n",
       "      <td>[5.5.1]</td>\n",
       "      <td>1</td>\n",
       "    </tr>\n",
       "    <tr>\n",
       "      <th>15</th>\n",
       "      <td>Itaconic acid</td>\n",
       "      <td>organic acid</td>\n",
       "      <td>3</td>\n",
       "      <td>[1.2.1, 3.1.1]</td>\n",
       "      <td>3</td>\n",
       "    </tr>\n",
       "    <tr>\n",
       "      <th>16</th>\n",
       "      <td>Catechin</td>\n",
       "      <td>flavonoid</td>\n",
       "      <td>16</td>\n",
       "      <td>[1.1.1, 1.14.13, 3.1.3, 1.3.1, 1.14.14, 1.13.1...</td>\n",
       "      <td>16</td>\n",
       "    </tr>\n",
       "    <tr>\n",
       "      <th>17</th>\n",
       "      <td>Quercetin</td>\n",
       "      <td>flavonoid</td>\n",
       "      <td>18</td>\n",
       "      <td>[1.1.1, 1.14.99, 1.97.1, 1.14.13, 3.1.3, 1.3.1...</td>\n",
       "      <td>18</td>\n",
       "    </tr>\n",
       "    <tr>\n",
       "      <th>18</th>\n",
       "      <td>Genistein</td>\n",
       "      <td>flavonoid</td>\n",
       "      <td>18</td>\n",
       "      <td>[1.1.1, 1.14.99, 1.14.13, 3.1.3, 1.3.1, 4.2.1,...</td>\n",
       "      <td>18</td>\n",
       "    </tr>\n",
       "    <tr>\n",
       "      <th>19</th>\n",
       "      <td>Kaempferol</td>\n",
       "      <td>flavonoid</td>\n",
       "      <td>18</td>\n",
       "      <td>[1.1.1, 1.14.99, 1.14.13, 3.1.3, 4.2.1, 1.11.2...</td>\n",
       "      <td>18</td>\n",
       "    </tr>\n",
       "    <tr>\n",
       "      <th>20</th>\n",
       "      <td>Naringenin</td>\n",
       "      <td>flavonoid</td>\n",
       "      <td>21</td>\n",
       "      <td>[1.1.1, 3.7.1, 1.14.13, 5.5.1, 3.1.3, 4.2.1, 1...</td>\n",
       "      <td>21</td>\n",
       "    </tr>\n",
       "    <tr>\n",
       "      <th>21</th>\n",
       "      <td>Mandelic</td>\n",
       "      <td>aromatic</td>\n",
       "      <td>1</td>\n",
       "      <td>[1.2.1]</td>\n",
       "      <td>1</td>\n",
       "    </tr>\n",
       "    <tr>\n",
       "      <th>22</th>\n",
       "      <td>Tyrosol</td>\n",
       "      <td>aromatic</td>\n",
       "      <td>2</td>\n",
       "      <td>[1.14.14, 1.14.13, 1.14.18]</td>\n",
       "      <td>2</td>\n",
       "    </tr>\n",
       "    <tr>\n",
       "      <th>23</th>\n",
       "      <td>Cinnamate</td>\n",
       "      <td>aromatic</td>\n",
       "      <td>9</td>\n",
       "      <td>[1.1.1, 3.6.1, 1.2.1, 1.14.13, 4.1.1, 1.3.1, 1...</td>\n",
       "      <td>9</td>\n",
       "    </tr>\n",
       "    <tr>\n",
       "      <th>24</th>\n",
       "      <td>p-Coumaric acid</td>\n",
       "      <td>aromatic</td>\n",
       "      <td>11</td>\n",
       "      <td>[5.2.1, 3.1.3, 1.14.13, 4.2.1, 1.3.1, 1.14.19,...</td>\n",
       "      <td>11</td>\n",
       "    </tr>\n",
       "    <tr>\n",
       "      <th>25</th>\n",
       "      <td>4-Hydroxymandelic</td>\n",
       "      <td>aromatic</td>\n",
       "      <td>11</td>\n",
       "      <td>[1.1.1, 3.1.3, 1.14.13, 4.2.1, 1.14.19, 1.14.1...</td>\n",
       "      <td>11</td>\n",
       "    </tr>\n",
       "    <tr>\n",
       "      <th>26</th>\n",
       "      <td>Salidroside</td>\n",
       "      <td>aromatic</td>\n",
       "      <td>16</td>\n",
       "      <td>[1.1.99, 1.14.13, 3.1.3, 2.4.1, 1.14.14, 5.4.9...</td>\n",
       "      <td>16</td>\n",
       "    </tr>\n",
       "    <tr>\n",
       "      <th>27</th>\n",
       "      <td>Rosmarinate</td>\n",
       "      <td>aromatic</td>\n",
       "      <td>16</td>\n",
       "      <td>[1.1.1, 1.14, 1.14.13, 1.3.1, 3.1.1, 1.14.14, ...</td>\n",
       "      <td>16</td>\n",
       "    </tr>\n",
       "    <tr>\n",
       "      <th>28</th>\n",
       "      <td>Linalool</td>\n",
       "      <td>terpene</td>\n",
       "      <td>5</td>\n",
       "      <td>[5.4.4, 1.14.13, 4.2.1]</td>\n",
       "      <td>5</td>\n",
       "    </tr>\n",
       "    <tr>\n",
       "      <th>29</th>\n",
       "      <td>Santalene</td>\n",
       "      <td>terpene</td>\n",
       "      <td>5</td>\n",
       "      <td>[1.14.13, 1.14.14]</td>\n",
       "      <td>5</td>\n",
       "    </tr>\n",
       "    <tr>\n",
       "      <th>30</th>\n",
       "      <td>Betaxanthin</td>\n",
       "      <td>terpene</td>\n",
       "      <td>6</td>\n",
       "      <td>[1.14.19, 1.14.13, 1.14.21, 1.14.14]</td>\n",
       "      <td>6</td>\n",
       "    </tr>\n",
       "    <tr>\n",
       "      <th>31</th>\n",
       "      <td>Astaxanthin</td>\n",
       "      <td>terpene</td>\n",
       "      <td>8</td>\n",
       "      <td>[1.14.99, 1.1.1, 1.14.13, 1.13.11]</td>\n",
       "      <td>8</td>\n",
       "    </tr>\n",
       "    <tr>\n",
       "      <th>32</th>\n",
       "      <td>Limonene</td>\n",
       "      <td>terpene</td>\n",
       "      <td>9</td>\n",
       "      <td>[1.14.15, 1.14.13, 4.2.1, 1.17.8, 1.14.14]</td>\n",
       "      <td>9</td>\n",
       "    </tr>\n",
       "    <tr>\n",
       "      <th>33</th>\n",
       "      <td>Amorphadiene</td>\n",
       "      <td>terpene</td>\n",
       "      <td>9</td>\n",
       "      <td>[1.14.15, 1.14.13, 4.2.1]</td>\n",
       "      <td>9</td>\n",
       "    </tr>\n",
       "    <tr>\n",
       "      <th>34</th>\n",
       "      <td>Artemisinic acid</td>\n",
       "      <td>terpene</td>\n",
       "      <td>9</td>\n",
       "      <td>[1.1.1, 1.14.13, 1.3.1, 4.2.1]</td>\n",
       "      <td>9</td>\n",
       "    </tr>\n",
       "    <tr>\n",
       "      <th>35</th>\n",
       "      <td>β-Ionone</td>\n",
       "      <td>terpene</td>\n",
       "      <td>9</td>\n",
       "      <td>[1.1.1, 1.14.99, 1.14.13, 1.6.99, 1.3.1, 1.14.14]</td>\n",
       "      <td>9</td>\n",
       "    </tr>\n",
       "    <tr>\n",
       "      <th>36</th>\n",
       "      <td>α-Farnesene</td>\n",
       "      <td>terpene</td>\n",
       "      <td>15</td>\n",
       "      <td>[1.1.1, 1.14.13, 1.3.8, 4.2.1, 1.17.8, 1.14.14]</td>\n",
       "      <td>15</td>\n",
       "    </tr>\n",
       "    <tr>\n",
       "      <th>37</th>\n",
       "      <td>Geraniol</td>\n",
       "      <td>terpene</td>\n",
       "      <td>16</td>\n",
       "      <td>[1.1.1, 1.1.3, 3.1.3, 1.14.13, 4.2.1, 1.3.8, 1...</td>\n",
       "      <td>16</td>\n",
       "    </tr>\n",
       "    <tr>\n",
       "      <th>38</th>\n",
       "      <td>β-Carotene</td>\n",
       "      <td>terpene</td>\n",
       "      <td>18</td>\n",
       "      <td>[1.14.13, 1.3.8, 1.14.14, 1.13.12, 1.13.11]</td>\n",
       "      <td>18</td>\n",
       "    </tr>\n",
       "    <tr>\n",
       "      <th>39</th>\n",
       "      <td>Patchoulol</td>\n",
       "      <td>terpene</td>\n",
       "      <td>19</td>\n",
       "      <td>[4.1.99, 1.14.15, 1.14.13, 1.17.99, 1.14.14]</td>\n",
       "      <td>19</td>\n",
       "    </tr>\n",
       "    <tr>\n",
       "      <th>40</th>\n",
       "      <td>Lupeol</td>\n",
       "      <td>terpene</td>\n",
       "      <td>33</td>\n",
       "      <td>[1.14.11, 1.14.15, 1.14.13, 1.3.1, 1.14.19, 1....</td>\n",
       "      <td>33</td>\n",
       "    </tr>\n",
       "    <tr>\n",
       "      <th>41</th>\n",
       "      <td>β-Amyrin</td>\n",
       "      <td>terpene</td>\n",
       "      <td>36</td>\n",
       "      <td>[1.14.99, 1.14.15, 1.14.13, 1.14.21, 1.3.1, 1....</td>\n",
       "      <td>36</td>\n",
       "    </tr>\n",
       "    <tr>\n",
       "      <th>42</th>\n",
       "      <td>Oleanolic acid</td>\n",
       "      <td>terpene</td>\n",
       "      <td>42</td>\n",
       "      <td>[1.1.3, 1.14.15, 1.14.13, 3.1.3, 1.3.1, 1.17.9...</td>\n",
       "      <td>42</td>\n",
       "    </tr>\n",
       "    <tr>\n",
       "      <th>43</th>\n",
       "      <td>Protopanaxadiol</td>\n",
       "      <td>terpene</td>\n",
       "      <td>50</td>\n",
       "      <td>[4.1.99, 1.1.3, 1.14.15, 1.14.13, 3.1.3, 1.3.1...</td>\n",
       "      <td>50</td>\n",
       "    </tr>\n",
       "  </tbody>\n",
       "</table>\n",
       "</div>"
      ],
      "text/plain": [
       "                        Name                   class byproduct  \\\n",
       "0              Nicotianamine              amino acid         0   \n",
       "1                 Psilocybin                alkaloid         6   \n",
       "2             (S)-Reticuline                alkaloid        15   \n",
       "3                   Ethylene                   other         1   \n",
       "4   1,3,5-Trihydroxyxanthone                   other        16   \n",
       "5                Resveratrol                   other        17   \n",
       "6      Eicosapentaenoic acid  fatty acids and lipids        13   \n",
       "7               Arachidonate  fatty acids and lipids        19   \n",
       "8           Docosahexaenoate  fatty acids and lipids        23   \n",
       "9                  1-Butanol                 alcohol         1   \n",
       "10                 Docosanol                 alcohol         1   \n",
       "11    L-Phenylacetylcarbinol                 alcohol         4   \n",
       "12       3-Hydroxypropanoate            organic acid         0   \n",
       "13               Adipic acid            organic acid         1   \n",
       "14          cis,cis-Muconate            organic acid         1   \n",
       "15             Itaconic acid            organic acid         3   \n",
       "16                  Catechin               flavonoid        16   \n",
       "17                 Quercetin               flavonoid        18   \n",
       "18                 Genistein               flavonoid        18   \n",
       "19                Kaempferol               flavonoid        18   \n",
       "20                Naringenin               flavonoid        21   \n",
       "21                  Mandelic                aromatic         1   \n",
       "22                   Tyrosol                aromatic         2   \n",
       "23                 Cinnamate                aromatic         9   \n",
       "24           p-Coumaric acid                aromatic        11   \n",
       "25         4-Hydroxymandelic                aromatic        11   \n",
       "26               Salidroside                aromatic        16   \n",
       "27               Rosmarinate                aromatic        16   \n",
       "28                  Linalool                 terpene         5   \n",
       "29                 Santalene                 terpene         5   \n",
       "30               Betaxanthin                 terpene         6   \n",
       "31               Astaxanthin                 terpene         8   \n",
       "32                  Limonene                 terpene         9   \n",
       "33              Amorphadiene                 terpene         9   \n",
       "34          Artemisinic acid                 terpene         9   \n",
       "35                  β-Ionone                 terpene         9   \n",
       "36               α-Farnesene                 terpene        15   \n",
       "37                  Geraniol                 terpene        16   \n",
       "38                β-Carotene                 terpene        18   \n",
       "39                Patchoulol                 terpene        19   \n",
       "40                    Lupeol                 terpene        33   \n",
       "41                  β-Amyrin                 terpene        36   \n",
       "42            Oleanolic acid                 terpene        42   \n",
       "43           Protopanaxadiol                 terpene        50   \n",
       "\n",
       "                                            EC number byproduct_num  \n",
       "0                                                  []             0  \n",
       "1                  [3.1.8, 1.14.13, 1.13.11, 1.14.14]             6  \n",
       "2                [1.14.19, 1.14.21, 1.14.13, 1.14.14]            15  \n",
       "3                                           [1.14.13]             1  \n",
       "4   [1.1.1, 1.14.99, 1.14.13, 3.1.3, 4.2.1, 1.11.2...            16  \n",
       "5   [1.1.1, 1.97.1, 1.14.13, 3.1.3, 4.2.1, 1.11.2,...            17  \n",
       "6                    [5.2.1, 1.2.1, 1.13.11, 1.14.14]            13  \n",
       "7           [5.2.1, 1.2.1, 1.14.13, 1.14.14, 1.13.11]            19  \n",
       "8             [5.2.1, 1.2.1, 1.14.14, 5.3.3, 1.13.11]            23  \n",
       "9                                             [1.1.3]             1  \n",
       "10                                            [1.1.3]             1  \n",
       "11                                   [1.1.1, 1.14.13]             4  \n",
       "12                                                 []             0  \n",
       "13                                            [1.2.1]             1  \n",
       "14                                            [5.5.1]             1  \n",
       "15                                     [1.2.1, 3.1.1]             3  \n",
       "16  [1.1.1, 1.14.13, 3.1.3, 1.3.1, 1.14.14, 1.13.1...            16  \n",
       "17  [1.1.1, 1.14.99, 1.97.1, 1.14.13, 3.1.3, 1.3.1...            18  \n",
       "18  [1.1.1, 1.14.99, 1.14.13, 3.1.3, 1.3.1, 4.2.1,...            18  \n",
       "19  [1.1.1, 1.14.99, 1.14.13, 3.1.3, 4.2.1, 1.11.2...            18  \n",
       "20  [1.1.1, 3.7.1, 1.14.13, 5.5.1, 3.1.3, 4.2.1, 1...            21  \n",
       "21                                            [1.2.1]             1  \n",
       "22                        [1.14.14, 1.14.13, 1.14.18]             2  \n",
       "23  [1.1.1, 3.6.1, 1.2.1, 1.14.13, 4.1.1, 1.3.1, 1...             9  \n",
       "24  [5.2.1, 3.1.3, 1.14.13, 4.2.1, 1.3.1, 1.14.19,...            11  \n",
       "25  [1.1.1, 3.1.3, 1.14.13, 4.2.1, 1.14.19, 1.14.1...            11  \n",
       "26  [1.1.99, 1.14.13, 3.1.3, 2.4.1, 1.14.14, 5.4.9...            16  \n",
       "27  [1.1.1, 1.14, 1.14.13, 1.3.1, 3.1.1, 1.14.14, ...            16  \n",
       "28                            [5.4.4, 1.14.13, 4.2.1]             5  \n",
       "29                                 [1.14.13, 1.14.14]             5  \n",
       "30               [1.14.19, 1.14.13, 1.14.21, 1.14.14]             6  \n",
       "31                 [1.14.99, 1.1.1, 1.14.13, 1.13.11]             8  \n",
       "32         [1.14.15, 1.14.13, 4.2.1, 1.17.8, 1.14.14]             9  \n",
       "33                          [1.14.15, 1.14.13, 4.2.1]             9  \n",
       "34                     [1.1.1, 1.14.13, 1.3.1, 4.2.1]             9  \n",
       "35  [1.1.1, 1.14.99, 1.14.13, 1.6.99, 1.3.1, 1.14.14]             9  \n",
       "36    [1.1.1, 1.14.13, 1.3.8, 4.2.1, 1.17.8, 1.14.14]            15  \n",
       "37  [1.1.1, 1.1.3, 3.1.3, 1.14.13, 4.2.1, 1.3.8, 1...            16  \n",
       "38        [1.14.13, 1.3.8, 1.14.14, 1.13.12, 1.13.11]            18  \n",
       "39       [4.1.99, 1.14.15, 1.14.13, 1.17.99, 1.14.14]            19  \n",
       "40  [1.14.11, 1.14.15, 1.14.13, 1.3.1, 1.14.19, 1....            33  \n",
       "41  [1.14.99, 1.14.15, 1.14.13, 1.14.21, 1.3.1, 1....            36  \n",
       "42  [1.1.3, 1.14.15, 1.14.13, 3.1.3, 1.3.1, 1.17.9...            42  \n",
       "43  [4.1.99, 1.1.3, 1.14.15, 1.14.13, 3.1.3, 1.3.1...            50  "
      ]
     },
     "execution_count": 14,
     "metadata": {},
     "output_type": "execute_result"
    }
   ],
   "source": [
    "target_100met_df = target_100met[['Name','class','byproduct','EC number']]\n",
    "target_100met_df['byproduct_num'] = target_100met_df['byproduct']\n",
    "target_100met_df['EC number'] = target_100met_df['EC number'].apply(lambda x:literal_eval(x))\n",
    "target_100met_df['EC number'] = target_100met_df['EC number'].apply(lambda x:get_ec_set(x))\n",
    "# target_100met_df['EC number_num'] = target_100met_df['EC number'].apply(lambda x:len(x))\n",
    "# target_100met_df = target_100met_df[['Name','class','byproduct_num','EC number','EC number_num']]\n",
    "classes_order = ['terpene', 'aromatic', 'flavonoid','organic acid','alcohol','fatty acids and lipids','other','alkaloid','amino acid']\n",
    "classes_order = ['amino acid', 'alkaloid', 'other','fatty acids and lipids','alcohol','organic acid','flavonoid','aromatic','terpene']\n",
    "target_100met_df = target_100met_df.sort_values(by='class', key=lambda x: pd.Categorical(x, categories=classes_order, ordered=True), na_position='last')\n",
    "target_100met_df = target_100met_df.groupby('class', sort=False).apply(lambda x: x.sort_values(by='byproduct_num', ascending=True)).reset_index(drop=True)\n",
    "target_100met_df.drop_duplicates(subset=['Name'], keep='first', inplace=True)\n",
    "\n",
    "target_100met_df"
   ]
  },
  {
   "cell_type": "code",
   "execution_count": 15,
   "metadata": {},
   "outputs": [
    {
     "data": {
      "text/plain": [
       "terpene                   16\n",
       "aromatic                   7\n",
       "flavonoid                  5\n",
       "organic acid               4\n",
       "other                      3\n",
       "fatty acids and lipids     3\n",
       "alcohol                    3\n",
       "alkaloid                   2\n",
       "amino acid                 1\n",
       "Name: class, dtype: int64"
      ]
     },
     "execution_count": 15,
     "metadata": {},
     "output_type": "execute_result"
    }
   ],
   "source": [
    "target_100met_df['class'].value_counts()"
   ]
  },
  {
   "cell_type": "markdown",
   "metadata": {},
   "source": [
    "# figure"
   ]
  },
  {
   "cell_type": "code",
   "execution_count": 16,
   "metadata": {},
   "outputs": [],
   "source": [
    "target_100met_df.to_csv(source_fig5b_path,index=None)"
   ]
  },
  {
   "cell_type": "code",
   "execution_count": 17,
   "metadata": {},
   "outputs": [],
   "source": [
    "target_100met_df = pd.read_csv(source_fig5b_path)"
   ]
  },
  {
   "cell_type": "code",
   "execution_count": 18,
   "metadata": {},
   "outputs": [
    {
     "data": {
      "text/plain": [
       "44"
      ]
     },
     "execution_count": 18,
     "metadata": {},
     "output_type": "execute_result"
    }
   ],
   "source": [
    "len(target_100met_df)"
   ]
  },
  {
   "cell_type": "code",
   "execution_count": 19,
   "metadata": {},
   "outputs": [],
   "source": [
    "target_100met_df = target_100met_df[target_100met_df['class']!='amino acid']\n",
    "target_100met_df = target_100met_df[target_100met_df['class']!='fatty acids and lipids']"
   ]
  },
  {
   "cell_type": "code",
   "execution_count": 20,
   "metadata": {},
   "outputs": [
    {
     "name": "stderr",
     "output_type": "stream",
     "text": [
      "/home/wuke/anaconda3/envs/kcat/lib/python3.7/site-packages/ipykernel_launcher.py:39: UserWarning: Tight layout not applied. The left and right margins cannot be made large enough to accommodate all axes decorations.\n"
     ]
    },
    {
     "data": {
      "image/png": "[encoded data removed]",
      "text/plain": [
       "<Figure size 600x1800 with 1 Axes>"
      ]
     },
     "metadata": {},
     "output_type": "display_data"
    }
   ],
   "source": [
    "# Setting General Parameters\n",
    "plt.figure(figsize=(1.5, 4.5), dpi=400)\n",
    "plt.rcParams.update({'font.size': 6})\n",
    "plt.rcParams['font.family'] = 'Arial'\n",
    "plt.rcParams['pdf.fonttype'] = 42\n",
    "\n",
    "# Setting Axis Styles\n",
    "plt.gca().spines['top'].set_linewidth(0)\n",
    "plt.gca().spines['bottom'].set_linewidth(0.5)\n",
    "plt.gca().spines['left'].set_linewidth(0.5)\n",
    "plt.gca().spines['right'].set_linewidth(0)\n",
    "\n",
    "# Plot horizontal bar charts, swapping x and y axes\n",
    "bar_width = 0.6\n",
    "index = np.arange(len(target_100met_df['Name']))\n",
    "plt.barh(index[28:44], target_100met_df['byproduct_num'][28:44], height=bar_width, label='Terpene', color='#a6cee3')\n",
    "plt.barh(index[21:28], target_100met_df['byproduct_num'][21:28], height=bar_width, label='Aromatic', color='#1f78b4')\n",
    "plt.barh(index[16:21], target_100met_df['byproduct_num'][16:21], height=bar_width, label='Flavonoid', color='#b2df8a')\n",
    "plt.barh(index[12:16], target_100met_df['byproduct_num'][12:16], height=bar_width, label='Organic acid', color='#33a02c')\n",
    "plt.barh(index[9:12], target_100met_df['byproduct_num'][9:12], height=bar_width, label='Other', color='#fb9a99')\n",
    "plt.barh(index[6:9], target_100met_df['byproduct_num'][6:9], height=bar_width, label='Fatty acids', color='#e31a1c')\n",
    "plt.barh(index[3:6], target_100met_df['byproduct_num'][3:6], height=bar_width, label='Alcohol', color='#fdbf6f')\n",
    "plt.barh(index[1:3], target_100met_df['byproduct_num'][1:3], height=bar_width, label='Alkaloid', color='#ff7f00')\n",
    "plt.barh(index[0:1], target_100met_df['byproduct_num'][0:1], height=bar_width, label='Amino acid', color='#cab2d6')\n",
    "\n",
    "# Setting Axis Parameters\n",
    "plt.tick_params(axis='x', direction='in', width=0.5, which='both', length=1)\n",
    "plt.tick_params(axis='y', which='both', width=0.5, length=1, pad=1)\n",
    "plt.ylim(-1, 44)\n",
    "plt.xlim(0, 50)\n",
    "plt.yticks(index, target_100met_df['Name'], fontsize=5.7)\n",
    "plt.xticks(np.arange(0, 26, 5), fontsize=6)\n",
    "plt.xlabel('Number of reaction', fontsize=6)\n",
    "\n",
    "# Add legend\n",
    "plt.legend(frameon=False, fontsize=7, loc='center left', bbox_to_anchor=(-1.4, 0.5), labelspacing=0.5, handletextpad=0.3, handlelength=1)\n",
    "\n",
    "# Display and save the plot\n",
    "plt.tight_layout()\n",
    "# plt.savefig(yeast8U_heterologous_product_reaction_figure_path, dpi=400, bbox_inches='tight')\n",
    "plt.show()"
   ]
  },
  {
   "cell_type": "code",
   "execution_count": 21,
   "metadata": {},
   "outputs": [],
   "source": [
    "target_100met_df = target_100met_df[::-1].reset_index(drop=True)"
   ]
  },
  {
   "cell_type": "code",
   "execution_count": 22,
   "metadata": {},
   "outputs": [
    {
     "data": {
      "text/html": [
       "<div>\n",
       "<style scoped>\n",
       "    .dataframe tbody tr th:only-of-type {\n",
       "        vertical-align: middle;\n",
       "    }\n",
       "\n",
       "    .dataframe tbody tr th {\n",
       "        vertical-align: top;\n",
       "    }\n",
       "\n",
       "    .dataframe thead th {\n",
       "        text-align: right;\n",
       "    }\n",
       "</style>\n",
       "<table border=\"1\" class=\"dataframe\">\n",
       "  <thead>\n",
       "    <tr style=\"text-align: right;\">\n",
       "      <th></th>\n",
       "      <th>Name</th>\n",
       "      <th>class</th>\n",
       "      <th>byproduct</th>\n",
       "      <th>EC number</th>\n",
       "      <th>byproduct_num</th>\n",
       "    </tr>\n",
       "  </thead>\n",
       "  <tbody>\n",
       "    <tr>\n",
       "      <th>0</th>\n",
       "      <td>Protopanaxadiol</td>\n",
       "      <td>terpene</td>\n",
       "      <td>50</td>\n",
       "      <td>['4.1.99', '1.1.3', '1.14.15', '1.14.13', '3.1...</td>\n",
       "      <td>50</td>\n",
       "    </tr>\n",
       "    <tr>\n",
       "      <th>1</th>\n",
       "      <td>Oleanolic acid</td>\n",
       "      <td>terpene</td>\n",
       "      <td>42</td>\n",
       "      <td>['1.1.3', '1.14.15', '1.14.13', '3.1.3', '1.3....</td>\n",
       "      <td>42</td>\n",
       "    </tr>\n",
       "    <tr>\n",
       "      <th>2</th>\n",
       "      <td>β-Amyrin</td>\n",
       "      <td>terpene</td>\n",
       "      <td>36</td>\n",
       "      <td>['1.14.99', '1.14.15', '1.14.13', '1.14.21', '...</td>\n",
       "      <td>36</td>\n",
       "    </tr>\n",
       "    <tr>\n",
       "      <th>3</th>\n",
       "      <td>Lupeol</td>\n",
       "      <td>terpene</td>\n",
       "      <td>33</td>\n",
       "      <td>['1.14.11', '1.14.15', '1.14.13', '1.3.1', '1....</td>\n",
       "      <td>33</td>\n",
       "    </tr>\n",
       "    <tr>\n",
       "      <th>4</th>\n",
       "      <td>Patchoulol</td>\n",
       "      <td>terpene</td>\n",
       "      <td>19</td>\n",
       "      <td>['4.1.99', '1.14.15', '1.14.13', '1.17.99', '1...</td>\n",
       "      <td>19</td>\n",
       "    </tr>\n",
       "    <tr>\n",
       "      <th>5</th>\n",
       "      <td>β-Carotene</td>\n",
       "      <td>terpene</td>\n",
       "      <td>18</td>\n",
       "      <td>['1.14.13', '1.3.8', '1.14.14', '1.13.12', '1....</td>\n",
       "      <td>18</td>\n",
       "    </tr>\n",
       "    <tr>\n",
       "      <th>6</th>\n",
       "      <td>Geraniol</td>\n",
       "      <td>terpene</td>\n",
       "      <td>16</td>\n",
       "      <td>['1.1.1', '1.1.3', '3.1.3', '1.14.13', '4.2.1'...</td>\n",
       "      <td>16</td>\n",
       "    </tr>\n",
       "    <tr>\n",
       "      <th>7</th>\n",
       "      <td>α-Farnesene</td>\n",
       "      <td>terpene</td>\n",
       "      <td>15</td>\n",
       "      <td>['1.1.1', '1.14.13', '1.3.8', '4.2.1', '1.17.8...</td>\n",
       "      <td>15</td>\n",
       "    </tr>\n",
       "    <tr>\n",
       "      <th>8</th>\n",
       "      <td>β-Ionone</td>\n",
       "      <td>terpene</td>\n",
       "      <td>9</td>\n",
       "      <td>['1.1.1', '1.14.99', '1.14.13', '1.6.99', '1.3...</td>\n",
       "      <td>9</td>\n",
       "    </tr>\n",
       "    <tr>\n",
       "      <th>9</th>\n",
       "      <td>Artemisinic acid</td>\n",
       "      <td>terpene</td>\n",
       "      <td>9</td>\n",
       "      <td>['1.1.1', '1.14.13', '1.3.1', '4.2.1']</td>\n",
       "      <td>9</td>\n",
       "    </tr>\n",
       "    <tr>\n",
       "      <th>10</th>\n",
       "      <td>Amorphadiene</td>\n",
       "      <td>terpene</td>\n",
       "      <td>9</td>\n",
       "      <td>['1.14.15', '1.14.13', '4.2.1']</td>\n",
       "      <td>9</td>\n",
       "    </tr>\n",
       "    <tr>\n",
       "      <th>11</th>\n",
       "      <td>Limonene</td>\n",
       "      <td>terpene</td>\n",
       "      <td>9</td>\n",
       "      <td>['1.14.15', '1.14.13', '4.2.1', '1.17.8', '1.1...</td>\n",
       "      <td>9</td>\n",
       "    </tr>\n",
       "    <tr>\n",
       "      <th>12</th>\n",
       "      <td>Astaxanthin</td>\n",
       "      <td>terpene</td>\n",
       "      <td>8</td>\n",
       "      <td>['1.14.99', '1.1.1', '1.14.13', '1.13.11']</td>\n",
       "      <td>8</td>\n",
       "    </tr>\n",
       "    <tr>\n",
       "      <th>13</th>\n",
       "      <td>Betaxanthin</td>\n",
       "      <td>terpene</td>\n",
       "      <td>6</td>\n",
       "      <td>['1.14.19', '1.14.13', '1.14.21', '1.14.14']</td>\n",
       "      <td>6</td>\n",
       "    </tr>\n",
       "    <tr>\n",
       "      <th>14</th>\n",
       "      <td>Santalene</td>\n",
       "      <td>terpene</td>\n",
       "      <td>5</td>\n",
       "      <td>['1.14.13', '1.14.14']</td>\n",
       "      <td>5</td>\n",
       "    </tr>\n",
       "    <tr>\n",
       "      <th>15</th>\n",
       "      <td>Linalool</td>\n",
       "      <td>terpene</td>\n",
       "      <td>5</td>\n",
       "      <td>['5.4.4', '1.14.13', '4.2.1']</td>\n",
       "      <td>5</td>\n",
       "    </tr>\n",
       "    <tr>\n",
       "      <th>16</th>\n",
       "      <td>Rosmarinate</td>\n",
       "      <td>aromatic</td>\n",
       "      <td>16</td>\n",
       "      <td>['1.1.1', '1.14', '1.14.13', '1.3.1', '3.1.1',...</td>\n",
       "      <td>16</td>\n",
       "    </tr>\n",
       "    <tr>\n",
       "      <th>17</th>\n",
       "      <td>Salidroside</td>\n",
       "      <td>aromatic</td>\n",
       "      <td>16</td>\n",
       "      <td>['1.1.99', '1.14.13', '3.1.3', '2.4.1', '1.14....</td>\n",
       "      <td>16</td>\n",
       "    </tr>\n",
       "    <tr>\n",
       "      <th>18</th>\n",
       "      <td>4-Hydroxymandelic</td>\n",
       "      <td>aromatic</td>\n",
       "      <td>11</td>\n",
       "      <td>['1.1.1', '3.1.3', '1.14.13', '4.2.1', '1.14.1...</td>\n",
       "      <td>11</td>\n",
       "    </tr>\n",
       "    <tr>\n",
       "      <th>19</th>\n",
       "      <td>p-Coumaric acid</td>\n",
       "      <td>aromatic</td>\n",
       "      <td>11</td>\n",
       "      <td>['5.2.1', '3.1.3', '1.14.13', '4.2.1', '1.3.1'...</td>\n",
       "      <td>11</td>\n",
       "    </tr>\n",
       "    <tr>\n",
       "      <th>20</th>\n",
       "      <td>Cinnamate</td>\n",
       "      <td>aromatic</td>\n",
       "      <td>9</td>\n",
       "      <td>['1.1.1', '3.6.1', '1.2.1', '1.14.13', '4.1.1'...</td>\n",
       "      <td>9</td>\n",
       "    </tr>\n",
       "    <tr>\n",
       "      <th>21</th>\n",
       "      <td>Tyrosol</td>\n",
       "      <td>aromatic</td>\n",
       "      <td>2</td>\n",
       "      <td>['1.14.14', '1.14.13', '1.14.18']</td>\n",
       "      <td>2</td>\n",
       "    </tr>\n",
       "    <tr>\n",
       "      <th>22</th>\n",
       "      <td>Mandelic</td>\n",
       "      <td>aromatic</td>\n",
       "      <td>1</td>\n",
       "      <td>['1.2.1']</td>\n",
       "      <td>1</td>\n",
       "    </tr>\n",
       "    <tr>\n",
       "      <th>23</th>\n",
       "      <td>Naringenin</td>\n",
       "      <td>flavonoid</td>\n",
       "      <td>21</td>\n",
       "      <td>['1.1.1', '3.7.1', '1.14.13', '5.5.1', '3.1.3'...</td>\n",
       "      <td>21</td>\n",
       "    </tr>\n",
       "    <tr>\n",
       "      <th>24</th>\n",
       "      <td>Kaempferol</td>\n",
       "      <td>flavonoid</td>\n",
       "      <td>18</td>\n",
       "      <td>['1.1.1', '1.14.99', '1.14.13', '3.1.3', '4.2....</td>\n",
       "      <td>18</td>\n",
       "    </tr>\n",
       "    <tr>\n",
       "      <th>25</th>\n",
       "      <td>Genistein</td>\n",
       "      <td>flavonoid</td>\n",
       "      <td>18</td>\n",
       "      <td>['1.1.1', '1.14.99', '1.14.13', '3.1.3', '1.3....</td>\n",
       "      <td>18</td>\n",
       "    </tr>\n",
       "    <tr>\n",
       "      <th>26</th>\n",
       "      <td>Quercetin</td>\n",
       "      <td>flavonoid</td>\n",
       "      <td>18</td>\n",
       "      <td>['1.1.1', '1.14.99', '1.97.1', '1.14.13', '3.1...</td>\n",
       "      <td>18</td>\n",
       "    </tr>\n",
       "    <tr>\n",
       "      <th>27</th>\n",
       "      <td>Catechin</td>\n",
       "      <td>flavonoid</td>\n",
       "      <td>16</td>\n",
       "      <td>['1.1.1', '1.14.13', '3.1.3', '1.3.1', '1.14.1...</td>\n",
       "      <td>16</td>\n",
       "    </tr>\n",
       "    <tr>\n",
       "      <th>28</th>\n",
       "      <td>Itaconic acid</td>\n",
       "      <td>organic acid</td>\n",
       "      <td>3</td>\n",
       "      <td>['1.2.1', '3.1.1']</td>\n",
       "      <td>3</td>\n",
       "    </tr>\n",
       "    <tr>\n",
       "      <th>29</th>\n",
       "      <td>cis,cis-Muconate</td>\n",
       "      <td>organic acid</td>\n",
       "      <td>1</td>\n",
       "      <td>['5.5.1']</td>\n",
       "      <td>1</td>\n",
       "    </tr>\n",
       "    <tr>\n",
       "      <th>30</th>\n",
       "      <td>Adipic acid</td>\n",
       "      <td>organic acid</td>\n",
       "      <td>1</td>\n",
       "      <td>['1.2.1']</td>\n",
       "      <td>1</td>\n",
       "    </tr>\n",
       "    <tr>\n",
       "      <th>31</th>\n",
       "      <td>3-Hydroxypropanoate</td>\n",
       "      <td>organic acid</td>\n",
       "      <td>0</td>\n",
       "      <td>[]</td>\n",
       "      <td>0</td>\n",
       "    </tr>\n",
       "    <tr>\n",
       "      <th>32</th>\n",
       "      <td>L-Phenylacetylcarbinol</td>\n",
       "      <td>alcohol</td>\n",
       "      <td>4</td>\n",
       "      <td>['1.1.1', '1.14.13']</td>\n",
       "      <td>4</td>\n",
       "    </tr>\n",
       "    <tr>\n",
       "      <th>33</th>\n",
       "      <td>Docosanol</td>\n",
       "      <td>alcohol</td>\n",
       "      <td>1</td>\n",
       "      <td>['1.1.3']</td>\n",
       "      <td>1</td>\n",
       "    </tr>\n",
       "    <tr>\n",
       "      <th>34</th>\n",
       "      <td>1-Butanol</td>\n",
       "      <td>alcohol</td>\n",
       "      <td>1</td>\n",
       "      <td>['1.1.3']</td>\n",
       "      <td>1</td>\n",
       "    </tr>\n",
       "    <tr>\n",
       "      <th>35</th>\n",
       "      <td>Resveratrol</td>\n",
       "      <td>other</td>\n",
       "      <td>17</td>\n",
       "      <td>['1.1.1', '1.97.1', '1.14.13', '3.1.3', '4.2.1...</td>\n",
       "      <td>17</td>\n",
       "    </tr>\n",
       "    <tr>\n",
       "      <th>36</th>\n",
       "      <td>1,3,5-Trihydroxyxanthone</td>\n",
       "      <td>other</td>\n",
       "      <td>16</td>\n",
       "      <td>['1.1.1', '1.14.99', '1.14.13', '3.1.3', '4.2....</td>\n",
       "      <td>16</td>\n",
       "    </tr>\n",
       "    <tr>\n",
       "      <th>37</th>\n",
       "      <td>Ethylene</td>\n",
       "      <td>other</td>\n",
       "      <td>1</td>\n",
       "      <td>['1.14.13']</td>\n",
       "      <td>1</td>\n",
       "    </tr>\n",
       "    <tr>\n",
       "      <th>38</th>\n",
       "      <td>(S)-Reticuline</td>\n",
       "      <td>alkaloid</td>\n",
       "      <td>15</td>\n",
       "      <td>['1.14.19', '1.14.21', '1.14.13', '1.14.14']</td>\n",
       "      <td>15</td>\n",
       "    </tr>\n",
       "    <tr>\n",
       "      <th>39</th>\n",
       "      <td>Psilocybin</td>\n",
       "      <td>alkaloid</td>\n",
       "      <td>6</td>\n",
       "      <td>['3.1.8', '1.14.13', '1.13.11', '1.14.14']</td>\n",
       "      <td>6</td>\n",
       "    </tr>\n",
       "  </tbody>\n",
       "</table>\n",
       "</div>"
      ],
      "text/plain": [
       "                        Name         class  byproduct  \\\n",
       "0            Protopanaxadiol       terpene         50   \n",
       "1             Oleanolic acid       terpene         42   \n",
       "2                   β-Amyrin       terpene         36   \n",
       "3                     Lupeol       terpene         33   \n",
       "4                 Patchoulol       terpene         19   \n",
       "5                 β-Carotene       terpene         18   \n",
       "6                   Geraniol       terpene         16   \n",
       "7                α-Farnesene       terpene         15   \n",
       "8                   β-Ionone       terpene          9   \n",
       "9           Artemisinic acid       terpene          9   \n",
       "10              Amorphadiene       terpene          9   \n",
       "11                  Limonene       terpene          9   \n",
       "12               Astaxanthin       terpene          8   \n",
       "13               Betaxanthin       terpene          6   \n",
       "14                 Santalene       terpene          5   \n",
       "15                  Linalool       terpene          5   \n",
       "16               Rosmarinate      aromatic         16   \n",
       "17               Salidroside      aromatic         16   \n",
       "18         4-Hydroxymandelic      aromatic         11   \n",
       "19           p-Coumaric acid      aromatic         11   \n",
       "20                 Cinnamate      aromatic          9   \n",
       "21                   Tyrosol      aromatic          2   \n",
       "22                  Mandelic      aromatic          1   \n",
       "23                Naringenin     flavonoid         21   \n",
       "24                Kaempferol     flavonoid         18   \n",
       "25                 Genistein     flavonoid         18   \n",
       "26                 Quercetin     flavonoid         18   \n",
       "27                  Catechin     flavonoid         16   \n",
       "28             Itaconic acid  organic acid          3   \n",
       "29          cis,cis-Muconate  organic acid          1   \n",
       "30               Adipic acid  organic acid          1   \n",
       "31       3-Hydroxypropanoate  organic acid          0   \n",
       "32    L-Phenylacetylcarbinol       alcohol          4   \n",
       "33                 Docosanol       alcohol          1   \n",
       "34                 1-Butanol       alcohol          1   \n",
       "35               Resveratrol         other         17   \n",
       "36  1,3,5-Trihydroxyxanthone         other         16   \n",
       "37                  Ethylene         other          1   \n",
       "38            (S)-Reticuline      alkaloid         15   \n",
       "39                Psilocybin      alkaloid          6   \n",
       "\n",
       "                                            EC number  byproduct_num  \n",
       "0   ['4.1.99', '1.1.3', '1.14.15', '1.14.13', '3.1...             50  \n",
       "1   ['1.1.3', '1.14.15', '1.14.13', '3.1.3', '1.3....             42  \n",
       "2   ['1.14.99', '1.14.15', '1.14.13', '1.14.21', '...             36  \n",
       "3   ['1.14.11', '1.14.15', '1.14.13', '1.3.1', '1....             33  \n",
       "4   ['4.1.99', '1.14.15', '1.14.13', '1.17.99', '1...             19  \n",
       "5   ['1.14.13', '1.3.8', '1.14.14', '1.13.12', '1....             18  \n",
       "6   ['1.1.1', '1.1.3', '3.1.3', '1.14.13', '4.2.1'...             16  \n",
       "7   ['1.1.1', '1.14.13', '1.3.8', '4.2.1', '1.17.8...             15  \n",
       "8   ['1.1.1', '1.14.99', '1.14.13', '1.6.99', '1.3...              9  \n",
       "9              ['1.1.1', '1.14.13', '1.3.1', '4.2.1']              9  \n",
       "10                    ['1.14.15', '1.14.13', '4.2.1']              9  \n",
       "11  ['1.14.15', '1.14.13', '4.2.1', '1.17.8', '1.1...              9  \n",
       "12         ['1.14.99', '1.1.1', '1.14.13', '1.13.11']              8  \n",
       "13       ['1.14.19', '1.14.13', '1.14.21', '1.14.14']              6  \n",
       "14                             ['1.14.13', '1.14.14']              5  \n",
       "15                      ['5.4.4', '1.14.13', '4.2.1']              5  \n",
       "16  ['1.1.1', '1.14', '1.14.13', '1.3.1', '3.1.1',...             16  \n",
       "17  ['1.1.99', '1.14.13', '3.1.3', '2.4.1', '1.14....             16  \n",
       "18  ['1.1.1', '3.1.3', '1.14.13', '4.2.1', '1.14.1...             11  \n",
       "19  ['5.2.1', '3.1.3', '1.14.13', '4.2.1', '1.3.1'...             11  \n",
       "20  ['1.1.1', '3.6.1', '1.2.1', '1.14.13', '4.1.1'...              9  \n",
       "21                  ['1.14.14', '1.14.13', '1.14.18']              2  \n",
       "22                                          ['1.2.1']              1  \n",
       "23  ['1.1.1', '3.7.1', '1.14.13', '5.5.1', '3.1.3'...             21  \n",
       "24  ['1.1.1', '1.14.99', '1.14.13', '3.1.3', '4.2....             18  \n",
       "25  ['1.1.1', '1.14.99', '1.14.13', '3.1.3', '1.3....             18  \n",
       "26  ['1.1.1', '1.14.99', '1.97.1', '1.14.13', '3.1...             18  \n",
       "27  ['1.1.1', '1.14.13', '3.1.3', '1.3.1', '1.14.1...             16  \n",
       "28                                 ['1.2.1', '3.1.1']              3  \n",
       "29                                          ['5.5.1']              1  \n",
       "30                                          ['1.2.1']              1  \n",
       "31                                                 []              0  \n",
       "32                               ['1.1.1', '1.14.13']              4  \n",
       "33                                          ['1.1.3']              1  \n",
       "34                                          ['1.1.3']              1  \n",
       "35  ['1.1.1', '1.97.1', '1.14.13', '3.1.3', '4.2.1...             17  \n",
       "36  ['1.1.1', '1.14.99', '1.14.13', '3.1.3', '4.2....             16  \n",
       "37                                        ['1.14.13']              1  \n",
       "38       ['1.14.19', '1.14.21', '1.14.13', '1.14.14']             15  \n",
       "39         ['3.1.8', '1.14.13', '1.13.11', '1.14.14']              6  "
      ]
     },
     "execution_count": 22,
     "metadata": {},
     "output_type": "execute_result"
    }
   ],
   "source": [
    "target_100met_df"
   ]
  },
  {
   "cell_type": "code",
   "execution_count": 23,
   "metadata": {},
   "outputs": [
    {
     "data": {
      "text/plain": [
       "12.8"
      ]
     },
     "execution_count": 23,
     "metadata": {},
     "output_type": "execute_result"
    }
   ],
   "source": [
    "target_100met_df['byproduct_num'].mean()"
   ]
  },
  {
   "cell_type": "code",
   "execution_count": 24,
   "metadata": {},
   "outputs": [
    {
     "name": "stderr",
     "output_type": "stream",
     "text": [
      "meta NOT subset; don't know how to subset; dropped\n"
     ]
    },
    {
     "data": {
      "image/png": "[encoded data removed]",
      "text/plain": [
       "<Figure size 3200x600 with 1 Axes>"
      ]
     },
     "metadata": {},
     "output_type": "display_data"
    }
   ],
   "source": [
    "import matplotlib.pyplot as plt\n",
    "import numpy as np\n",
    "\n",
    "# Setting General Parameters\n",
    "plt.figure(figsize=(8, 1.5), dpi=400)\n",
    "plt.rcParams.update({'font.size': 8})\n",
    "plt.rcParams['font.family'] = 'Arial'\n",
    "plt.rcParams['pdf.fonttype'] = 42\n",
    "\n",
    "# Setting Axis Styles\n",
    "plt.gca().spines['top'].set_linewidth(0)\n",
    "plt.gca().spines['bottom'].set_linewidth(0.5)\n",
    "plt.gca().spines['left'].set_linewidth(0.5)\n",
    "plt.gca().spines['right'].set_linewidth(0)\n",
    "\n",
    "# Plot vertical bar charts\n",
    "bar_width = 0.6\n",
    "index = np.arange(len(target_100met_df['Name']))\n",
    "plt.bar(index[0:16], target_100met_df['byproduct_num'][0:16], width=bar_width, label='Terpene', color='#cab2d6')\n",
    "plt.bar(index[16:23], target_100met_df['byproduct_num'][16:23], width=bar_width, label='Aromatic', color='#fdbf6f')\n",
    "plt.bar(index[23:28], target_100met_df['byproduct_num'][23:28], width=bar_width, label='Flavonoid', color='#e31a1c')\n",
    "plt.bar(index[28:32], target_100met_df['byproduct_num'][28:32], width=bar_width, label='Organic acid', color='#fb9a99')\n",
    "plt.bar(index[32:35], target_100met_df['byproduct_num'][32:35], width=bar_width, label='Other', color='#b2df8a')\n",
    "plt.bar(index[35:38], target_100met_df['byproduct_num'][35:38], width=bar_width, label='Alcohol', color='#1f78b4')\n",
    "plt.bar(index[38:40], target_100met_df['byproduct_num'][38:40], width=bar_width, label='Alkaloid', color='#a6cee3')\n",
    "\n",
    "# Setting Axis Parameters\n",
    "plt.tick_params(axis='y', direction='in', width=0.5, which='both', length=1)\n",
    "plt.tick_params(axis='x', direction='out', width=0.5, which='both', length=1, pad=1)\n",
    "plt.ylim(0, 50)\n",
    "plt.xlim(-0.5, 39.5)\n",
    "plt.yticks(np.arange(0, 51, 10), fontsize=8)\n",
    "plt.xticks(index, target_100met_df['Name'], fontsize=8, rotation=90)\n",
    "plt.ylabel('Number of reaction', fontsize=8)\n",
    "\n",
    "# Add legend\n",
    "plt.legend(frameon=False, fontsize=8, loc='upper right', bbox_to_anchor=(1, 1.1), labelspacing=0.5, handletextpad=0.3, handlelength=1, ncol=7, columnspacing=0.7)\n",
    "\n",
    "# Display and save the plot\n",
    "plt.savefig(yeast8U_heterologous_product_reaction_figure_path, dpi=400, bbox_inches='tight')\n",
    "plt.show()\n"
   ]
  },
  {
   "cell_type": "code",
   "execution_count": null,
   "metadata": {},
   "outputs": [],
   "source": []
  }
 ],
 "metadata": {
  "kernelspec": {
   "display_name": "kcat",
   "language": "python",
   "name": "python3"
  },
  "language_info": {
   "codemirror_mode": {
    "name": "ipython",
    "version": 3
   },
   "file_extension": ".py",
   "mimetype": "text/x-python",
   "name": "python",
   "nbconvert_exporter": "python",
   "pygments_lexer": "ipython3",
   "version": "3.7.16"
  },
  "orig_nbformat": 4
 },
 "nbformat": 4,
 "nbformat_minor": 2
}
