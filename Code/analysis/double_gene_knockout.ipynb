{
 "cells": [
  {
   "cell_type": "code",
   "execution_count": null,
   "metadata": {},
   "outputs": [],
   "source": [
    "import pandas as pd\n",
    "from cobra.io import read_sbml_model,load_yaml_model\n",
    "from cobra.flux_analysis import double_gene_deletion\n",
    "from tqdm import tqdm\n",
    "from multiprocessing import freeze_support"
   ]
  },
  {
   "cell_type": "code",
   "execution_count": null,
   "metadata": {},
   "outputs": [],
   "source": []
  },
  {
   "cell_type": "code",
   "execution_count": null,
   "metadata": {},
   "outputs": [],
   "source": []
  },
  {
   "cell_type": "code",
   "execution_count": null,
   "metadata": {},
   "outputs": [],
   "source": [
    "#input files\n",
    "data_path = \"../data/data2016_in_model.xlsx\"\n",
    "generow_path = \"../data/genelist_row.csv\"\n",
    "genecol_path = \"../data/genelist_col.csv\"\n",
    "yeast_metatwin_gem_path = \"../data/Yeast-MetaTwin.yml\"\n",
    "yeast8_gem_path = \"../data/yeast-GEM.xml\"\n",
    "\n",
    "#output files\n",
    "yeast_metatwin_results_path = \"../results/science2016_double_gene_deletion_results_yeast_metatwin.csv\"\n",
    "yeast8_results_path = \"../results/science2016_double_gene_deletion_results_yeast8.csv\""
   ]
  },
  {
   "cell_type": "code",
   "execution_count": null,
   "metadata": {},
   "outputs": [],
   "source": [
    "#Function to compute the number of true positive, true negative, false positive, and false negative based on the simulated and experimental results\n",
    "def simu_exp(simu, exp, tp, tn, fp, fn):\n",
    "    # tp\n",
    "    if simu < 0.000001 and (exp == 'SL' or (-1000 <= exp <= -0.35)):\n",
    "        tp += 1\n",
    "    # tn\n",
    "    elif simu > 0.000001 and (exp == 'SS' or exp > -0.35):\n",
    "        tn += 1\n",
    "    # fp\n",
    "    elif simu < 0.000001 and (exp == 'SS' or exp > -0.35):\n",
    "        fp += 1\n",
    "    # fn\n",
    "    elif simu > 0.000001 and (exp == 'SL' or (-1000 <= exp <= -0.35)):\n",
    "        fn += 1\n",
    "    return tp, tn, fp, fn"
   ]
  },
  {
   "cell_type": "code",
   "execution_count": null,
   "metadata": {},
   "outputs": [],
   "source": [
    "\n",
    "def yeast_double_gene_knockout(yeast8, generow, genecol, data2016, processes=40):\n",
    "    tp = fp = fn = tn = 0\n",
    "    \n",
    "    # Create a DataFrame to store the results\n",
    "    results = pd.DataFrame(columns=['Gene1', 'Gene2', 'Predicted Growth', 'genetic interactions scores'])\n",
    "    deletion_result = double_gene_deletion(yeast8, generow, genecol, processes=processes)\n",
    "    print('Run double gene deletion...')\n",
    "    \n",
    "    for row in tqdm(range(len(generow)), desc='Double gene deletion'):\n",
    "        for col in range(len(genecol)):\n",
    "            g1_sys = generow[row]\n",
    "            g2_sys = genecol[col]\n",
    "            if g1_sys == g2_sys:\n",
    "                continue\n",
    "            if g1_sys and g2_sys:\n",
    "                growth = deletion_result[deletion_result['ids'] == {g1_sys, g2_sys}]['growth'].iloc[0]\n",
    "\n",
    "                # compare predicted growth with experimental results\n",
    "                tp, tn, fp, fn = simu_exp(growth, data2016.loc[g1_sys, g2_sys], tp, tn, fp, fn)\n",
    "\n",
    "                # Append results to the DataFrame\n",
    "                results = results.append({\n",
    "                    'Gene1': g1_sys,\n",
    "                    'Gene2': g2_sys,\n",
    "                    'Predicted Growth': growth,\n",
    "                    'genetic interactions scores': data2016.loc[g1_sys, g2_sys],\n",
    "                }, ignore_index=True)\n",
    "\n",
    "\n",
    "    print(f'tp={tp}\\nfp={fp}\\ntn={tn}\\nfn={fn}')\n",
    "    print('Finished')\n",
    "    return results\n",
    "\n"
   ]
  },
  {
   "cell_type": "code",
   "execution_count": null,
   "metadata": {},
   "outputs": [],
   "source": [
    "# Load data and model\n",
    "print('prepare data and model')\n",
    "data2016 = pd.read_excel(data_path, index_col=0)\n",
    "generow = pd.read_csv(generow_path, header=None, dtype=str).squeeze(\"columns\").tolist()\n",
    "genecol = pd.read_csv(genecol_path, header=None, dtype=str).squeeze(\"columns\").tolist()\n",
    "\n",
    "yeast8 = read_sbml_model(yeast8_gem_path)\n",
    "yeast_metatwin = load_yaml_model(yeast_metatwin_gem_path)"
   ]
  },
  {
   "cell_type": "code",
   "execution_count": null,
   "metadata": {},
   "outputs": [],
   "source": [
    "# perform double gene knockout experiments with yeast8 model\n",
    "yeast8_results = yeast_double_gene_knockout(yeast8, generow, genecol, data2016,processes=40)\n",
    "yeast8_results.to_csv(yeast8_results_path, index=False)\n"
   ]
  },
  {
   "cell_type": "code",
   "execution_count": null,
   "metadata": {},
   "outputs": [],
   "source": [
    "#perform double gene knockout with yeast metatwin model\n",
    "yeast_metatwin_results = yeast_double_gene_knockout(yeast_metatwin, generow, genecol, data2016,processes=40)\n",
    "yeast_metatwin_results.to_csv(yeast_metatwin_results_path, index=False)\n"
   ]
  }
 ],
 "metadata": {
  "language_info": {
   "name": "python"
  }
 },
 "nbformat": 4,
 "nbformat_minor": 2
}
