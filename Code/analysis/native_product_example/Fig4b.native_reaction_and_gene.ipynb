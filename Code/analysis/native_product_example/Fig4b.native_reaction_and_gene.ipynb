{
 "cells": [
  {
   "cell_type": "code",
   "execution_count": 74,
   "metadata": {},
   "outputs": [],
   "source": [
    "import pandas as pd\n",
    "import numpy as np\n",
    "import json\n",
    "from rdkit import Chem\n",
    "from rdkit.Chem import Draw\n",
    "from rdkit.Chem import rdChemReactions\n",
    "from rdkit.Chem.Draw import rdMolDraw2D\n",
    "from rdkit.Chem.Draw import IPythonConsole\n",
    "from IPython.display import SVG, display\n",
    "from rdkit.Chem.Fingerprints import FingerprintMols\n",
    "from rdkit import DataStructs\n",
    "from rdkit.Chem import MACCSkeys\n",
    "import pandas as pd\n",
    "import rdchiral\n",
    "import itertools\n",
    "import pickle\n",
    "import sys\n",
    "from tqdm import tqdm \n",
    "from rdchiral.main import rdchiralRun, rdchiralRunText, rdchiralReaction, rdchiralReactants\n",
    "import cobra\n",
    "from itertools import chain, combinations\n",
    "import sys\n",
    "import multiprocessing\n",
    "from functools import partial\n",
    "import matplotlib.pyplot as plt\n",
    "\n",
    "\n",
    "sys.path.append('../../retrosynthesis/')\n",
    "from common import *"
   ]
  },
  {
   "cell_type": "markdown",
   "metadata": {},
   "source": [
    "### input and output"
   ]
  },
  {
   "cell_type": "code",
   "execution_count": 75,
   "metadata": {},
   "outputs": [],
   "source": [
    "#input\n",
    "yeast870_path = '../../../Data/model/yeast-GEM.yml'\n",
    "yeast8U_path = '../../../Data/model/Yeast-MetaTwin.yml'\n",
    "metabolites_info_to_GEM_path = '../../../Results/not_lipid/top50_0.3_re/metabolites_info_to_GEM_del_top50_0.3.csv'\n",
    "mnxreac_smile_atom_mapping_rules_file_path = '../../../Results/rules/MNXreaction_smiles_atommap_rules_filter.csv'"
   ]
  },
  {
   "cell_type": "code",
   "execution_count": 76,
   "metadata": {},
   "outputs": [],
   "source": [
    "yeast8 = cobra.io.load_yaml_model(yeast870_path)\n",
    "yeast8U = cobra.io.load_yaml_model(yeast8U_path)"
   ]
  },
  {
   "cell_type": "code",
   "execution_count": 77,
   "metadata": {},
   "outputs": [
    {
     "data": {
      "text/html": [
       "<div>\n",
       "<style scoped>\n",
       "    .dataframe tbody tr th:only-of-type {\n",
       "        vertical-align: middle;\n",
       "    }\n",
       "\n",
       "    .dataframe tbody tr th {\n",
       "        vertical-align: top;\n",
       "    }\n",
       "\n",
       "    .dataframe thead th {\n",
       "        text-align: right;\n",
       "    }\n",
       "</style>\n",
       "<table border=\"1\" class=\"dataframe\">\n",
       "  <thead>\n",
       "    <tr style=\"text-align: right;\">\n",
       "      <th></th>\n",
       "      <th>new_met_smiles</th>\n",
       "      <th>sim_smile</th>\n",
       "      <th>ID</th>\n",
       "      <th>compartment</th>\n",
       "    </tr>\n",
       "  </thead>\n",
       "  <tbody>\n",
       "    <tr>\n",
       "      <th>0</th>\n",
       "      <td>CCCCCCCCCCCCCC(=O)[O-]</td>\n",
       "      <td>CCCCCCCCCCCCCC(=O)O</td>\n",
       "      <td>s_1161</td>\n",
       "      <td>c</td>\n",
       "    </tr>\n",
       "    <tr>\n",
       "      <th>1</th>\n",
       "      <td>NC(Cc1cnc[nH]1)C(=O)O</td>\n",
       "      <td>NC(Cc1cnc[nH]1)C(=O)O</td>\n",
       "      <td>s_1006</td>\n",
       "      <td>c</td>\n",
       "    </tr>\n",
       "    <tr>\n",
       "      <th>2</th>\n",
       "      <td>CSCCC(=O)C(=O)COP(=O)(O)O</td>\n",
       "      <td>CSCCC(=O)C(=O)COP(=O)(O)O</td>\n",
       "      <td>s_0311</td>\n",
       "      <td>c</td>\n",
       "    </tr>\n",
       "    <tr>\n",
       "      <th>3</th>\n",
       "      <td>CC(N)C(=O)NCC(=O)[O-]</td>\n",
       "      <td>CC(N)C(=O)NCC(=O)O</td>\n",
       "      <td>s_4171</td>\n",
       "      <td>c</td>\n",
       "    </tr>\n",
       "    <tr>\n",
       "      <th>4</th>\n",
       "      <td>O=C(O)Cc1ccccc1</td>\n",
       "      <td>O=C(O)Cc1ccccc1</td>\n",
       "      <td>s_1321</td>\n",
       "      <td>c</td>\n",
       "    </tr>\n",
       "    <tr>\n",
       "      <th>...</th>\n",
       "      <td>...</td>\n",
       "      <td>...</td>\n",
       "      <td>...</td>\n",
       "      <td>...</td>\n",
       "    </tr>\n",
       "    <tr>\n",
       "      <th>3466</th>\n",
       "      <td>Nc1nc(=O)c2c([nH]1)NCC(CNc1ccc(C(=O)NC(CCC(=O)...</td>\n",
       "      <td>Nc1nc2c(c(=O)[nH]1)N=C(CNc1ccc(C(=O)NC(CCC(=O)...</td>\n",
       "      <td>s_0625</td>\n",
       "      <td>c</td>\n",
       "    </tr>\n",
       "    <tr>\n",
       "      <th>3467</th>\n",
       "      <td>CCCCCCCCCCCCCCCCCC(=O)OCC(O)CO</td>\n",
       "      <td></td>\n",
       "      <td>sn_323</td>\n",
       "      <td>c</td>\n",
       "    </tr>\n",
       "    <tr>\n",
       "      <th>3468</th>\n",
       "      <td>O=C([O-])c1cc(=O)[nH]c(=O)n1C1OC(COP(=O)([O-])...</td>\n",
       "      <td>O=C(O)c1cc(=O)[nH]c(=O)n1C1OC(COP(=O)(O)O)C(O)C1O</td>\n",
       "      <td>s_1270</td>\n",
       "      <td>c</td>\n",
       "    </tr>\n",
       "    <tr>\n",
       "      <th>3469</th>\n",
       "      <td>O=C([O-])C=C(CCC(=O)[O-])C(=O)[O-]</td>\n",
       "      <td>O=C(O)C=C(CCC(=O)O)C(=O)O</td>\n",
       "      <td>s_0454</td>\n",
       "      <td>m</td>\n",
       "    </tr>\n",
       "    <tr>\n",
       "      <th>3470</th>\n",
       "      <td>[NH3+][C@@H](Cc1ccccc1)C(=O)[O-]</td>\n",
       "      <td>NC(Cc1ccccc1)C(=O)O</td>\n",
       "      <td>s_1032</td>\n",
       "      <td>c</td>\n",
       "    </tr>\n",
       "  </tbody>\n",
       "</table>\n",
       "<p>3471 rows × 4 columns</p>\n",
       "</div>"
      ],
      "text/plain": [
       "                                         new_met_smiles  \\\n",
       "0                                CCCCCCCCCCCCCC(=O)[O-]   \n",
       "1                                 NC(Cc1cnc[nH]1)C(=O)O   \n",
       "2                             CSCCC(=O)C(=O)COP(=O)(O)O   \n",
       "3                                 CC(N)C(=O)NCC(=O)[O-]   \n",
       "4                                       O=C(O)Cc1ccccc1   \n",
       "...                                                 ...   \n",
       "3466  Nc1nc(=O)c2c([nH]1)NCC(CNc1ccc(C(=O)NC(CCC(=O)...   \n",
       "3467                     CCCCCCCCCCCCCCCCCC(=O)OCC(O)CO   \n",
       "3468  O=C([O-])c1cc(=O)[nH]c(=O)n1C1OC(COP(=O)([O-])...   \n",
       "3469                 O=C([O-])C=C(CCC(=O)[O-])C(=O)[O-]   \n",
       "3470                   [NH3+][C@@H](Cc1ccccc1)C(=O)[O-]   \n",
       "\n",
       "                                              sim_smile      ID compartment  \n",
       "0                                   CCCCCCCCCCCCCC(=O)O  s_1161           c  \n",
       "1                                 NC(Cc1cnc[nH]1)C(=O)O  s_1006           c  \n",
       "2                             CSCCC(=O)C(=O)COP(=O)(O)O  s_0311           c  \n",
       "3                                    CC(N)C(=O)NCC(=O)O  s_4171           c  \n",
       "4                                       O=C(O)Cc1ccccc1  s_1321           c  \n",
       "...                                                 ...     ...         ...  \n",
       "3466  Nc1nc2c(c(=O)[nH]1)N=C(CNc1ccc(C(=O)NC(CCC(=O)...  s_0625           c  \n",
       "3467                                                     sn_323           c  \n",
       "3468  O=C(O)c1cc(=O)[nH]c(=O)n1C1OC(COP(=O)(O)O)C(O)C1O  s_1270           c  \n",
       "3469                          O=C(O)C=C(CCC(=O)O)C(=O)O  s_0454           m  \n",
       "3470                                NC(Cc1ccccc1)C(=O)O  s_1032           c  \n",
       "\n",
       "[3471 rows x 4 columns]"
      ]
     },
     "execution_count": 77,
     "metadata": {},
     "output_type": "execute_result"
    }
   ],
   "source": [
    "metabolites_info_to_GEM = pd.read_csv(metabolites_info_to_GEM_path)\n",
    "metabolites_info_to_GEM"
   ]
  },
  {
   "cell_type": "markdown",
   "metadata": {},
   "source": [
    "# native"
   ]
  },
  {
   "cell_type": "code",
   "execution_count": 78,
   "metadata": {},
   "outputs": [
    {
     "name": "stdout",
     "output_type": "stream",
     "text": [
      "r_0819 s_0180 + s_1266 --> s_0991 + s_0997\n",
      "{'s_0180 [2-oxoglutarate]': -1, 's_0991 [L-glutamate]': 1, 's_0997 [L-glutamic 5-semialdehyde]': 1, 's_1266 [ornithine]': -1}\n",
      "===========\n",
      "r_0819 s_0180 + s_1266 --> s_0991 + s_0997\n",
      "{'s_0180 [2-oxoglutarate]': -1, 's_0991 [L-glutamate]': 1, 's_0997 [L-glutamic 5-semialdehyde]': 1, 's_1266 [ornithine]': -1}\n",
      "rxn651 s_0794 + s_0991 + s_1212 --> s_0803 + s_0997 + s_1207\n",
      "{'s_0794 [H+]': -1, 's_0803 [H2O]': 1, 's_0991 [L-glutamate]': -1, 's_0997 [L-glutamic 5-semialdehyde]': 1, 's_1207 [NADP(+)]': 1, 's_1212 [NADPH]': -1}\n",
      "rxn1649 s_0794 + s_0991 + s_1203 --> s_0803 + s_0997 + s_1198\n",
      "{'s_0794 [H+]': -1, 's_0803 [H2O]': 1, 's_0991 [L-glutamate]': -1, 's_0997 [L-glutamic 5-semialdehyde]': 1, 's_1198 [NAD]': 1, 's_1203 [NADH]': -1}\n",
      "rxn2032 s_0145 + s_0991 --> s_0997 + s_4173\n",
      "{'s_0145 [2-acetamido-5-oxopentanoate]': -1, 's_0991 [L-glutamate]': -1, 's_0997 [L-glutamic 5-semialdehyde]': 1, 's_4173 [N-acetyl-L-glutamate]': 1}\n"
     ]
    }
   ],
   "source": [
    "# L-glutamate --> L-glutamic 5-semialdehyde\n",
    "# L-glutamate:s_0991\n",
    "# L-glutamic 5-semialdehyde:s_0997\n",
    "# P07275  YHR037W\n",
    "# H2O + L-glutamate 5-semialdehyde + NAD+ = 2 H+ + L-glutamate + NADH\n",
    "# EC:1.2.1.88 (UniProtKB | ENZYME| Rhea)\n",
    "\n",
    "for i in yeast8.reactions:\n",
    "    if 's_0991' in i.reaction and 's_0997' in i.reaction:\n",
    "        print(i.id,i.reaction)\n",
    "        print({k.id+' ['+ k.name+']':v for k,v in i.metabolites.items()})\n",
    "print('===========')\n",
    "for i in yeast8U.reactions:\n",
    "    if 's_0991' in i.reaction and 's_0997' in i.reaction:\n",
    "        print(i.id,i.reaction)\n",
    "        print({k.id+' ['+ k.name+']':v for k,v in i.metabolites.items()})\n",
    "# s_0794 + s_0991 + s_1212 --> s_0803 + s_0997 + s_1207"
   ]
  },
  {
   "cell_type": "code",
   "execution_count": 79,
   "metadata": {},
   "outputs": [
    {
     "data": {
      "text/plain": [
       "['YBR006W',\n",
       " 'YPL098C',\n",
       " 'YER073W',\n",
       " 'YGR192C',\n",
       " 'YOR323C',\n",
       " 'YMR110C',\n",
       " 'YDR158W',\n",
       " 'YJR009C',\n",
       " 'YJL052W',\n",
       " 'YHR037W']"
      ]
     },
     "execution_count": 79,
     "metadata": {},
     "output_type": "execute_result"
    }
   ],
   "source": [
    "[x.id for x in yeast8U.reactions.get_by_id('rxn651').genes]\n",
    "# YHR037W"
   ]
  },
  {
   "cell_type": "code",
   "execution_count": 80,
   "metadata": {},
   "outputs": [
    {
     "name": "stdout",
     "output_type": "stream",
     "text": [
      "===========\n",
      "rxn557 s_0803 + s_0991 + s_2763 --> s_0180 + s_1020\n",
      "{'s_0180 [2-oxoglutarate]': 1, 's_0803 [H2O]': -1, 's_0991 [L-glutamate]': -1, 's_1020 [L-kynurenine]': 1, 's_2763 [kynurenic acid]': -1}\n"
     ]
    }
   ],
   "source": [
    "# kynurenate + L-glutamic --> L-kynurenine + 2-oxoglutarate\n",
    "# s_2763(kynurenic acid/kynurenate ) +  s_0803 +  s_0991(L-glutamate) => s_1020(L-kynurenine) +  s_0180(2-oxoglutarate) \n",
    "# kynurenate:s_2763\n",
    "# L-glutamic:s_0991\n",
    "# s_0803\n",
    "# L-kynurenine:s_1020\n",
    "# 2-oxoglutarate:s_0180\n",
    "# P38840_1  s_2763 +  s_0803 +  s_0991 => s_1020 +  s_0180\n",
    "# 2-oxoglutarate + L-kynurenine = H2O + kynurenate + L-glutamate\n",
    "# EC:2.6.1.7 (UniProtKB | ENZYME\n",
    "# | Rhea)\n",
    "# YHR137W\n",
    "\n",
    "for i in yeast8.reactions:\n",
    "    if 's_2763' in i.reaction and 's_1020' in i.reaction and 's_0180' in i.reaction:\n",
    "        print(i.id,i.reaction)\n",
    "        print({k.id+' ['+ k.name+']':v for k,v in i.metabolites.items()})\n",
    "print('===========')\n",
    "for i in yeast8U.reactions:\n",
    "    if 's_2763' in i.reaction and 's_1020' in i.reaction and 's_0180' in i.reaction:\n",
    "        print(i.id,i.reaction)\n",
    "        print({k.id+' ['+ k.name+']':v for k,v in i.metabolites.items()})\n",
    "#s_0803 + s_0991 + s_2763 --> s_0180 + s_1020"
   ]
  },
  {
   "cell_type": "code",
   "execution_count": 81,
   "metadata": {},
   "outputs": [
    {
     "data": {
      "text/plain": [
       "['YHR137W',\n",
       " 'YKL106W',\n",
       " 'YOR184W',\n",
       " 'YMR084W',\n",
       " 'YJR148W',\n",
       " 'YGL202W',\n",
       " 'YDR111C',\n",
       " 'YLR201C',\n",
       " 'YHR208W',\n",
       " 'YMR085W',\n",
       " 'YER137C',\n",
       " 'YNR033W',\n",
       " 'YGR243W',\n",
       " 'YER152C',\n",
       " 'YJL060W',\n",
       " 'YLR089C']"
      ]
     },
     "execution_count": 81,
     "metadata": {},
     "output_type": "execute_result"
    }
   ],
   "source": [
    "[x.id for x in yeast8U.reactions.get_by_id('rxn557').genes]\n",
    "# YHR137W"
   ]
  },
  {
   "cell_type": "code",
   "execution_count": 82,
   "metadata": {},
   "outputs": [
    {
     "name": "stdout",
     "output_type": "stream",
     "text": [
      "===========\n",
      "rxn2384 s_0794 + s_1025 --> s_0456 + s_4299\n",
      "{'s_0456 [carbon dioxide]': 1, 's_0794 [H+]': -1, 's_1025 [L-lysine]': -1, 's_4299 [cadaverine]': 1}\n"
     ]
    }
   ],
   "source": [
    "# L-lysine --> Cadaverine  ### YKL184W P08432 \n",
    "# L-lysine:s_1025\n",
    "# Cadaverine:s_4299\n",
    "\n",
    "for i in yeast8.reactions:\n",
    "    if 's_1025' in i.reaction and 's_4299' in i.reaction:\n",
    "        print(i.id,i.reaction)\n",
    "        print({k.id+' ['+ k.name+']':v for k,v in i.metabolites.items()})\n",
    "print('===========')\n",
    "for i in yeast8U.reactions:\n",
    "    if 's_1025' in i.reaction and 's_4299' in i.reaction:\n",
    "        print(i.id,i.reaction)\n",
    "        print({k.id+' ['+ k.name+']':v for k,v in i.metabolites.items()})      \n",
    "#s_0794 + s_1025 --> s_0456 + s_4299"
   ]
  },
  {
   "cell_type": "code",
   "execution_count": 83,
   "metadata": {},
   "outputs": [
    {
     "data": {
      "text/plain": [
       "['YDR380W',\n",
       " 'YLR134W',\n",
       " 'YDL080C',\n",
       " 'YLR044C',\n",
       " 'YLL028W',\n",
       " 'YER010C',\n",
       " 'YGR087C',\n",
       " 'YDR539W',\n",
       " 'YOR128C',\n",
       " 'YOL052C']"
      ]
     },
     "execution_count": 83,
     "metadata": {},
     "output_type": "execute_result"
    }
   ],
   "source": [
    "[x.id for x in yeast8U.reactions.get_by_id('rxn2384').genes] \n",
    "#YKL184W"
   ]
  },
  {
   "cell_type": "code",
   "execution_count": 84,
   "metadata": {},
   "outputs": [
    {
     "name": "stdout",
     "output_type": "stream",
     "text": [
      "===========\n",
      "rxn1976 s_1012 + s_1424 --> s_0794 + 2 s_1029\n",
      "{'s_0794 [H+]': 1, 's_1012 [L-homocysteine]': -1, 's_1029 [L-methionine]': 2, 's_1424 [S-methyl-L-methionine]': -1}\n"
     ]
    }
   ],
   "source": [
    "# L-homocysteine + S-methyl-L-methionine = H+ + 2 L-methionine  #Q08985 YPL273W\n",
    "# L-methionine:s_1029\n",
    "# S-methyl-L-methionine:s_1424\n",
    "# L-homocysteine:s_1012\n",
    "\n",
    "for i in yeast8.reactions:\n",
    "    if 's_1029' in i.reaction and 's_1424' in i.reaction and 's_1012' in i.reaction:\n",
    "        print(i.id,i.reaction)\n",
    "        print({k.id+' ['+ k.name+']':v for k,v in i.metabolites.items()}) \n",
    "print('===========')\n",
    "for i in yeast8U.reactions:\n",
    "    if 's_1029' in i.reaction and 's_1424' in i.reaction and 's_1012' in i.reaction:\n",
    "        print(i.id,i.reaction)\n",
    "        print({k.id+' ['+ k.name+']':v for k,v in i.metabolites.items()})   \n",
    "\n",
    "#s_1012 + s_1424 --> s_0794 + 2 s_1029   "
   ]
  },
  {
   "cell_type": "code",
   "execution_count": 85,
   "metadata": {},
   "outputs": [
    {
     "data": {
      "text/plain": [
       "['YER175C',\n",
       " 'YKR069W',\n",
       " 'YOL125W',\n",
       " 'YBR061C',\n",
       " 'YML110C',\n",
       " 'YLR137W',\n",
       " 'YNL092W',\n",
       " 'YDR435C',\n",
       " 'YGL136C',\n",
       " 'YLR285W',\n",
       " 'YIL064W',\n",
       " 'YOL141W',\n",
       " 'YLR172C']"
      ]
     },
     "execution_count": 85,
     "metadata": {},
     "output_type": "execute_result"
    }
   ],
   "source": [
    "[x.id for x in yeast8U.reactions.get_by_id('rxn1976').genes] \n",
    "#YPL273W"
   ]
  },
  {
   "cell_type": "markdown",
   "metadata": {},
   "source": [
    "# ESP"
   ]
  },
  {
   "cell_type": "code",
   "execution_count": 86,
   "metadata": {},
   "outputs": [],
   "source": [
    "rxndb_total_info_to_model_del2_reaction_path = '../../../Results/not_lipid/top50_0.3_re/rxndb_total_info_to_model_del2_reaction_top50_0.3.csv'\n",
    "metabolites_info_to_GEM_del_path = '../../Results/not_lipid/top50_0.3_re/metabolites_info_to_GEM_del_top50_0.3.csv'"
   ]
  },
  {
   "cell_type": "code",
   "execution_count": 87,
   "metadata": {},
   "outputs": [
    {
     "name": "stdout",
     "output_type": "stream",
     "text": [
      "(3281, 8)\n"
     ]
    },
    {
     "data": {
      "text/html": [
       "<div>\n",
       "<style scoped>\n",
       "    .dataframe tbody tr th:only-of-type {\n",
       "        vertical-align: middle;\n",
       "    }\n",
       "\n",
       "    .dataframe tbody tr th {\n",
       "        vertical-align: top;\n",
       "    }\n",
       "\n",
       "    .dataframe thead th {\n",
       "        text-align: right;\n",
       "    }\n",
       "</style>\n",
       "<table border=\"1\" class=\"dataframe\">\n",
       "  <thead>\n",
       "    <tr style=\"text-align: right;\">\n",
       "      <th></th>\n",
       "      <th>NO</th>\n",
       "      <th>EC_number</th>\n",
       "      <th>templateID</th>\n",
       "      <th>rxn_smiles_basic</th>\n",
       "      <th>rxn_smiles_final</th>\n",
       "      <th>GPR</th>\n",
       "      <th>equation_dict</th>\n",
       "      <th>equation</th>\n",
       "    </tr>\n",
       "  </thead>\n",
       "  <tbody>\n",
       "    <tr>\n",
       "      <th>0</th>\n",
       "      <td>rxn1</td>\n",
       "      <td>1.14.13</td>\n",
       "      <td>MNXR149799</td>\n",
       "      <td>CCCCCCCCCCCC(=O)[O-].O=O&gt;&gt;CCCCCCCCCC(O)CC(=O)[...</td>\n",
       "      <td>CCCCCCCCCCCC(=O)[O-].O=O.[H+].NC(=O)C1=CN([C@@...</td>\n",
       "      <td>(YDR402C) or (YDR534C) or (YAL064W) or (YJL151...</td>\n",
       "      <td>{'s_1065': -1, 's_1275': -1, 's_0794': -1, 's_...</td>\n",
       "      <td>s_1065 +  s_1275 +  s_0794 +  s_1212 =&gt;  sn_2...</td>\n",
       "    </tr>\n",
       "    <tr>\n",
       "      <th>1</th>\n",
       "      <td>rxn2</td>\n",
       "      <td>1.14.13</td>\n",
       "      <td>MNXR149799</td>\n",
       "      <td>CCCCCCCCCC(=O)[O-].O=O&gt;&gt;CCCCCCCC(O)CC(=O)[O-].O</td>\n",
       "      <td>CCCCCCCCCC(=O)[O-].O=O.[H+].NC(=O)C1=CN([C@@H]...</td>\n",
       "      <td>(YDR402C) or (YDR534C) or (YAL064W) or (YJL151...</td>\n",
       "      <td>{'s_0595': -1, 's_1275': -1, 's_0794': -1, 's_...</td>\n",
       "      <td>s_0595 +  s_1275 +  s_0794 +  s_1212 =&gt;  sn_1...</td>\n",
       "    </tr>\n",
       "    <tr>\n",
       "      <th>2</th>\n",
       "      <td>rxn3</td>\n",
       "      <td>1.14.13</td>\n",
       "      <td>MNXR149799</td>\n",
       "      <td>CCCCCCCC(=O)[O-].O=O&gt;&gt;CCCCCC(O)CC(=O)[O-].O</td>\n",
       "      <td>CCCCCCCC(=O)[O-].O=O.[H+].NC(=O)C1=CN([C@@H]2O...</td>\n",
       "      <td>(YDR402C) or (YDR534C) or (YAL064W) or (YJL151...</td>\n",
       "      <td>{'s_1248': -1, 's_1275': -1, 's_0794': -1, 's_...</td>\n",
       "      <td>s_1248 +  s_1275 +  s_0794 +  s_1212 =&gt;  sn_2...</td>\n",
       "    </tr>\n",
       "  </tbody>\n",
       "</table>\n",
       "</div>"
      ],
      "text/plain": [
       "     NO EC_number  templateID  \\\n",
       "0  rxn1   1.14.13  MNXR149799   \n",
       "1  rxn2   1.14.13  MNXR149799   \n",
       "2  rxn3   1.14.13  MNXR149799   \n",
       "\n",
       "                                    rxn_smiles_basic  \\\n",
       "0  CCCCCCCCCCCC(=O)[O-].O=O>>CCCCCCCCCC(O)CC(=O)[...   \n",
       "1    CCCCCCCCCC(=O)[O-].O=O>>CCCCCCCC(O)CC(=O)[O-].O   \n",
       "2        CCCCCCCC(=O)[O-].O=O>>CCCCCC(O)CC(=O)[O-].O   \n",
       "\n",
       "                                    rxn_smiles_final  \\\n",
       "0  CCCCCCCCCCCC(=O)[O-].O=O.[H+].NC(=O)C1=CN([C@@...   \n",
       "1  CCCCCCCCCC(=O)[O-].O=O.[H+].NC(=O)C1=CN([C@@H]...   \n",
       "2  CCCCCCCC(=O)[O-].O=O.[H+].NC(=O)C1=CN([C@@H]2O...   \n",
       "\n",
       "                                                 GPR  \\\n",
       "0  (YDR402C) or (YDR534C) or (YAL064W) or (YJL151...   \n",
       "1  (YDR402C) or (YDR534C) or (YAL064W) or (YJL151...   \n",
       "2  (YDR402C) or (YDR534C) or (YAL064W) or (YJL151...   \n",
       "\n",
       "                                       equation_dict  \\\n",
       "0  {'s_1065': -1, 's_1275': -1, 's_0794': -1, 's_...   \n",
       "1  {'s_0595': -1, 's_1275': -1, 's_0794': -1, 's_...   \n",
       "2  {'s_1248': -1, 's_1275': -1, 's_0794': -1, 's_...   \n",
       "\n",
       "                                            equation  \n",
       "0   s_1065 +  s_1275 +  s_0794 +  s_1212 =>  sn_2...  \n",
       "1   s_0595 +  s_1275 +  s_0794 +  s_1212 =>  sn_1...  \n",
       "2   s_1248 +  s_1275 +  s_0794 +  s_1212 =>  sn_2...  "
      ]
     },
     "execution_count": 87,
     "metadata": {},
     "output_type": "execute_result"
    }
   ],
   "source": [
    "rxndb_total_info_to_model_del2_reaction = pd.read_csv(rxndb_total_info_to_model_del2_reaction_path)\n",
    "print(rxndb_total_info_to_model_del2_reaction.shape)\n",
    "rxndb_total_info_to_model_del2_reaction.head(3)"
   ]
  },
  {
   "cell_type": "code",
   "execution_count": 88,
   "metadata": {},
   "outputs": [
    {
     "data": {
      "text/plain": [
       "'(YLL028W) or (YOL052C) or (YLR134W) or (YGR087C) or (YDL080C) or (YLR044C) or (YDR380W) or (YOR128C) or (YDR539W) or (YER010C)'"
      ]
     },
     "execution_count": 88,
     "metadata": {},
     "output_type": "execute_result"
    }
   ],
   "source": [
    "rxndb_total_info_to_model_del2_reaction[rxndb_total_info_to_model_del2_reaction['NO']=='rxn2384']['GPR'].to_list()[0]"
   ]
  },
  {
   "cell_type": "code",
   "execution_count": 89,
   "metadata": {},
   "outputs": [
    {
     "data": {
      "text/plain": [
       "'C[S+](C)CCC([NH3+])C(=O)[O-].[NH3+]C(CCS)C(=O)[O-]>>CSCCC([NH3+])C(=O)[O-].CSCCC([NH3+])C(=O)[O-].[H+]'"
      ]
     },
     "execution_count": 89,
     "metadata": {},
     "output_type": "execute_result"
    }
   ],
   "source": [
    "rxndb_total_info_to_model_del2_reaction[rxndb_total_info_to_model_del2_reaction['NO']=='rxn1976']['rxn_smiles_final'].to_list()[0]"
   ]
  },
  {
   "cell_type": "code",
   "execution_count": 90,
   "metadata": {},
   "outputs": [],
   "source": [
    "cut_off = 0.3\n",
    "num = 50\n",
    "num_process = 50\n",
    "cut_off_path = f'../../../Results/not_lipid/top{num}_{cut_off}_re/'\n",
    "yeast870_path =  '../../../Data/model/yeast-GEM902.yml'\n",
    "miss_met_id_file = '../../../Data/model/miss_met_id.json'\n",
    "metabolites_info_to_GEM_path = cut_off_path + f'metabolites_info_to_GEM_top{num}_{cut_off}.csv'\n",
    "rxndb_total_info_to_model_path = cut_off_path + f'rxndb_total_info_to_model_top{num}_{cut_off}.csv'\n",
    "yeast_genome_file = '../../../Data/Saccharomyces_cerevisiae.fasta'\n",
    "rxndb2model_compouns_protein_pair_df_file = '../../../Results/compound_protein/rxndb2model_compouns_protein_pair_df.csv'\n",
    "rxndb2model_compouns_protein_pair_df_drop_esp_result_file = '../../../Results/compound_protein/rxndb2model_compouns_protein_pair_df_drop_esp.csv'"
   ]
  },
  {
   "cell_type": "code",
   "execution_count": 91,
   "metadata": {},
   "outputs": [
    {
     "name": "stdout",
     "output_type": "stream",
     "text": [
      "(7889, 8)\n"
     ]
    },
    {
     "data": {
      "text/html": [
       "<div>\n",
       "<style scoped>\n",
       "    .dataframe tbody tr th:only-of-type {\n",
       "        vertical-align: middle;\n",
       "    }\n",
       "\n",
       "    .dataframe tbody tr th {\n",
       "        vertical-align: top;\n",
       "    }\n",
       "\n",
       "    .dataframe thead th {\n",
       "        text-align: right;\n",
       "    }\n",
       "</style>\n",
       "<table border=\"1\" class=\"dataframe\">\n",
       "  <thead>\n",
       "    <tr style=\"text-align: right;\">\n",
       "      <th></th>\n",
       "      <th>NO</th>\n",
       "      <th>EC_number</th>\n",
       "      <th>templateID</th>\n",
       "      <th>rxn_smiles_basic</th>\n",
       "      <th>rxn_smiles_final</th>\n",
       "      <th>GPR</th>\n",
       "      <th>equation_dict</th>\n",
       "      <th>equation</th>\n",
       "    </tr>\n",
       "  </thead>\n",
       "  <tbody>\n",
       "    <tr>\n",
       "      <th>0</th>\n",
       "      <td>rxn19747</td>\n",
       "      <td>1.14.13</td>\n",
       "      <td>MNXR180996_reverse</td>\n",
       "      <td>COc1cc(CC(=O)[O-])ccc1O.O&gt;&gt;COc1cc(C(C)=O)ccc1O...</td>\n",
       "      <td>COc1cc(CC(=O)[O-])ccc1O.O.NC(=O)c1ccc[n+]([C@@...</td>\n",
       "      <td>(YBL098W) or (YNR053C) or (YCL059C) or (YHR176...</td>\n",
       "      <td>{'sn_256': -1, 's_0803': -1, 's_1198': -1, 'sn...</td>\n",
       "      <td>sn_256 +  s_0803 +  s_1198 =&gt;  sn_226 +  s_12...</td>\n",
       "    </tr>\n",
       "    <tr>\n",
       "      <th>1</th>\n",
       "      <td>rxn19748</td>\n",
       "      <td>1.14.13</td>\n",
       "      <td>MNXR149799</td>\n",
       "      <td>CCCCCCCCCCCC(=O)[O-].O=O&gt;&gt;CCCCCCCCCC(O)CC(=O)[...</td>\n",
       "      <td>CCCCCCCCCCCC(=O)[O-].O=O.[H+].NC(=O)C1=CN([C@@...</td>\n",
       "      <td>(YBL098W) or (YNR053C) or (YCL059C) or (YHR176...</td>\n",
       "      <td>{'s_1065': -1, 's_1275': -1, 's_0794': -1, 's_...</td>\n",
       "      <td>s_1065 +  s_1275 +  s_0794 +  s_1212 =&gt;  sn_2...</td>\n",
       "    </tr>\n",
       "    <tr>\n",
       "      <th>2</th>\n",
       "      <td>rxn19749</td>\n",
       "      <td>1.14.13</td>\n",
       "      <td>MNXR149799</td>\n",
       "      <td>CCCCCCCCCC(=O)[O-].O=O&gt;&gt;CCCCCCCC(O)CC(=O)[O-].O</td>\n",
       "      <td>CCCCCCCCCC(=O)[O-].O=O.[H+].NC(=O)C1=CN([C@@H]...</td>\n",
       "      <td>(YBL098W) or (YNR053C) or (YCL059C) or (YHR176...</td>\n",
       "      <td>{'s_0595': -1, 's_1275': -1, 's_0794': -1, 's_...</td>\n",
       "      <td>s_0595 +  s_1275 +  s_0794 +  s_1212 =&gt;  sn_1...</td>\n",
       "    </tr>\n",
       "  </tbody>\n",
       "</table>\n",
       "</div>"
      ],
      "text/plain": [
       "         NO EC_number          templateID  \\\n",
       "0  rxn19747   1.14.13  MNXR180996_reverse   \n",
       "1  rxn19748   1.14.13          MNXR149799   \n",
       "2  rxn19749   1.14.13          MNXR149799   \n",
       "\n",
       "                                    rxn_smiles_basic  \\\n",
       "0  COc1cc(CC(=O)[O-])ccc1O.O>>COc1cc(C(C)=O)ccc1O...   \n",
       "1  CCCCCCCCCCCC(=O)[O-].O=O>>CCCCCCCCCC(O)CC(=O)[...   \n",
       "2    CCCCCCCCCC(=O)[O-].O=O>>CCCCCCCC(O)CC(=O)[O-].O   \n",
       "\n",
       "                                    rxn_smiles_final  \\\n",
       "0  COc1cc(CC(=O)[O-])ccc1O.O.NC(=O)c1ccc[n+]([C@@...   \n",
       "1  CCCCCCCCCCCC(=O)[O-].O=O.[H+].NC(=O)C1=CN([C@@...   \n",
       "2  CCCCCCCCCC(=O)[O-].O=O.[H+].NC(=O)C1=CN([C@@H]...   \n",
       "\n",
       "                                                 GPR  \\\n",
       "0  (YBL098W) or (YNR053C) or (YCL059C) or (YHR176...   \n",
       "1  (YBL098W) or (YNR053C) or (YCL059C) or (YHR176...   \n",
       "2  (YBL098W) or (YNR053C) or (YCL059C) or (YHR176...   \n",
       "\n",
       "                                       equation_dict  \\\n",
       "0  {'sn_256': -1, 's_0803': -1, 's_1198': -1, 'sn...   \n",
       "1  {'s_1065': -1, 's_1275': -1, 's_0794': -1, 's_...   \n",
       "2  {'s_0595': -1, 's_1275': -1, 's_0794': -1, 's_...   \n",
       "\n",
       "                                            equation  \n",
       "0   sn_256 +  s_0803 +  s_1198 =>  sn_226 +  s_12...  \n",
       "1   s_1065 +  s_1275 +  s_0794 +  s_1212 =>  sn_2...  \n",
       "2   s_0595 +  s_1275 +  s_0794 +  s_1212 =>  sn_1...  "
      ]
     },
     "execution_count": 91,
     "metadata": {},
     "output_type": "execute_result"
    }
   ],
   "source": [
    "rxndb_total_info_to_model = pd.read_csv(rxndb_total_info_to_model_path)\n",
    "print(rxndb_total_info_to_model.shape)\n",
    "rxndb_total_info_to_model.head(3)"
   ]
  },
  {
   "cell_type": "code",
   "execution_count": 92,
   "metadata": {},
   "outputs": [
    {
     "data": {
      "text/plain": [
       "['rxn9778']"
      ]
     },
     "execution_count": 92,
     "metadata": {},
     "output_type": "execute_result"
    }
   ],
   "source": [
    "rxndb_total_info_to_model[rxndb_total_info_to_model['rxn_smiles_final']=='C[S+](C)CCC([NH3+])C(=O)[O-].[NH3+]C(CCS)C(=O)[O-]>>CSCCC([NH3+])C(=O)[O-].CSCCC([NH3+])C(=O)[O-].[H+]']['NO'].to_list()"
   ]
  },
  {
   "cell_type": "code",
   "execution_count": 93,
   "metadata": {},
   "outputs": [
    {
     "data": {
      "text/html": [
       "<div>\n",
       "<style scoped>\n",
       "    .dataframe tbody tr th:only-of-type {\n",
       "        vertical-align: middle;\n",
       "    }\n",
       "\n",
       "    .dataframe tbody tr th {\n",
       "        vertical-align: top;\n",
       "    }\n",
       "\n",
       "    .dataframe thead th {\n",
       "        text-align: right;\n",
       "    }\n",
       "</style>\n",
       "<table border=\"1\" class=\"dataframe\">\n",
       "  <thead>\n",
       "    <tr style=\"text-align: right;\">\n",
       "      <th></th>\n",
       "      <th>NO</th>\n",
       "      <th>Smiles</th>\n",
       "      <th>gene</th>\n",
       "      <th>Sequence</th>\n",
       "      <th>ESP_Prediction</th>\n",
       "      <th>#metabolite in training set</th>\n",
       "    </tr>\n",
       "  </thead>\n",
       "  <tbody>\n",
       "    <tr>\n",
       "      <th>0</th>\n",
       "      <td>rxn19747</td>\n",
       "      <td>COc1cc(CC(=O)[O-])ccc1O</td>\n",
       "      <td>YLL057C</td>\n",
       "      <td>MSPAAAQTAIPLPSTDLPVKIITNGLKNLNYTSKQGYGNFDTHFYD...</td>\n",
       "      <td>0.147008</td>\n",
       "      <td>0</td>\n",
       "    </tr>\n",
       "    <tr>\n",
       "      <th>1</th>\n",
       "      <td>rxn19747</td>\n",
       "      <td>COc1cc(CC(=O)[O-])ccc1O</td>\n",
       "      <td>YDR402C</td>\n",
       "      <td>MELLKLLCLILFLTLSYVAFAIIVPPLNFPKNIPTIPFYVVFLPVI...</td>\n",
       "      <td>0.122151</td>\n",
       "      <td>0</td>\n",
       "    </tr>\n",
       "    <tr>\n",
       "      <th>2</th>\n",
       "      <td>rxn19747</td>\n",
       "      <td>COc1cc(CC(=O)[O-])ccc1O</td>\n",
       "      <td>YOL114C</td>\n",
       "      <td>MTTLMGKFKLTGRSPLFVLQPMLHCKKQQFVEEAVRLISNKKIGKK...</td>\n",
       "      <td>0.005617</td>\n",
       "      <td>0</td>\n",
       "    </tr>\n",
       "  </tbody>\n",
       "</table>\n",
       "</div>"
      ],
      "text/plain": [
       "         NO                   Smiles     gene  \\\n",
       "0  rxn19747  COc1cc(CC(=O)[O-])ccc1O  YLL057C   \n",
       "1  rxn19747  COc1cc(CC(=O)[O-])ccc1O  YDR402C   \n",
       "2  rxn19747  COc1cc(CC(=O)[O-])ccc1O  YOL114C   \n",
       "\n",
       "                                            Sequence  ESP_Prediction  \\\n",
       "0  MSPAAAQTAIPLPSTDLPVKIITNGLKNLNYTSKQGYGNFDTHFYD...        0.147008   \n",
       "1  MELLKLLCLILFLTLSYVAFAIIVPPLNFPKNIPTIPFYVVFLPVI...        0.122151   \n",
       "2  MTTLMGKFKLTGRSPLFVLQPMLHCKKQQFVEEAVRLISNKKIGKK...        0.005617   \n",
       "\n",
       "   #metabolite in training set  \n",
       "0                            0  \n",
       "1                            0  \n",
       "2                            0  "
      ]
     },
     "execution_count": 93,
     "metadata": {},
     "output_type": "execute_result"
    }
   ],
   "source": [
    "rxndb2model_compouns_protein_pair_df_drop_esp_result = pd.read_csv(rxndb2model_compouns_protein_pair_df_drop_esp_result_file)\n",
    "rxndb2model_compouns_protein_pair_df_drop_esp_result.head(3)"
   ]
  },
  {
   "cell_type": "code",
   "execution_count": 94,
   "metadata": {},
   "outputs": [
    {
     "data": {
      "text/html": [
       "<div>\n",
       "<style scoped>\n",
       "    .dataframe tbody tr th:only-of-type {\n",
       "        vertical-align: middle;\n",
       "    }\n",
       "\n",
       "    .dataframe tbody tr th {\n",
       "        vertical-align: top;\n",
       "    }\n",
       "\n",
       "    .dataframe thead th {\n",
       "        text-align: right;\n",
       "    }\n",
       "</style>\n",
       "<table border=\"1\" class=\"dataframe\">\n",
       "  <thead>\n",
       "    <tr style=\"text-align: right;\">\n",
       "      <th></th>\n",
       "      <th>NO</th>\n",
       "      <th>Smiles</th>\n",
       "      <th>gene</th>\n",
       "      <th>Sequence</th>\n",
       "      <th>ESP_Prediction</th>\n",
       "      <th>#metabolite in training set</th>\n",
       "    </tr>\n",
       "  </thead>\n",
       "  <tbody>\n",
       "    <tr>\n",
       "      <th>105988</th>\n",
       "      <td>rxn9778</td>\n",
       "      <td>[NH3+]C(CCS)C(=O)[O-]</td>\n",
       "      <td>YOL141W</td>\n",
       "      <td>MKNLTTIKQTNKNVKQERRKKYADLAIQGTNNSSIASKRSVELLYL...</td>\n",
       "      <td>0.600925</td>\n",
       "      <td>33</td>\n",
       "    </tr>\n",
       "    <tr>\n",
       "      <th>105956</th>\n",
       "      <td>rxn9778</td>\n",
       "      <td>[NH3+]C(CCS)C(=O)[O-]</td>\n",
       "      <td>YOL125W</td>\n",
       "      <td>MLQDNNGPAVKRAKPSERLQCEYFMEKKKRRCGMTRSSQNLYCSEH...</td>\n",
       "      <td>0.556021</td>\n",
       "      <td>33</td>\n",
       "    </tr>\n",
       "    <tr>\n",
       "      <th>105969</th>\n",
       "      <td>rxn9778</td>\n",
       "      <td>[NH3+]C(CCS)C(=O)[O-]</td>\n",
       "      <td>YLR285W</td>\n",
       "      <td>MSDIESLGEAAGLFEEPEDFLPPPPKPHFAEYQRSHITKESKSDVK...</td>\n",
       "      <td>0.548795</td>\n",
       "      <td>33</td>\n",
       "    </tr>\n",
       "    <tr>\n",
       "      <th>105933</th>\n",
       "      <td>rxn9778</td>\n",
       "      <td>[NH3+]C(CCS)C(=O)[O-]</td>\n",
       "      <td>YML110C</td>\n",
       "      <td>MLISSRIVRSSLVNVPLRLSRCFTQAHRACKEEEVNSPLSSAAEQP...</td>\n",
       "      <td>0.514549</td>\n",
       "      <td>33</td>\n",
       "    </tr>\n",
       "    <tr>\n",
       "      <th>105965</th>\n",
       "      <td>rxn9778</td>\n",
       "      <td>[NH3+]C(CCS)C(=O)[O-]</td>\n",
       "      <td>YLR137W</td>\n",
       "      <td>MAFKLWLLDEETIYEHVFERYTQLEGQSGKLAQDLGIQDRRGGVLE...</td>\n",
       "      <td>0.512751</td>\n",
       "      <td>33</td>\n",
       "    </tr>\n",
       "    <tr>\n",
       "      <th>...</th>\n",
       "      <td>...</td>\n",
       "      <td>...</td>\n",
       "      <td>...</td>\n",
       "      <td>...</td>\n",
       "      <td>...</td>\n",
       "      <td>...</td>\n",
       "    </tr>\n",
       "    <tr>\n",
       "      <th>105953</th>\n",
       "      <td>rxn9778</td>\n",
       "      <td>[NH3+]C(CCS)C(=O)[O-]</td>\n",
       "      <td>YGR006W</td>\n",
       "      <td>MDLDLASILKGEISKKKKELANSKGVQPPCTEKFQPHESANIDETP...</td>\n",
       "      <td>0.013898</td>\n",
       "      <td>33</td>\n",
       "    </tr>\n",
       "    <tr>\n",
       "      <th>105876</th>\n",
       "      <td>rxn9778</td>\n",
       "      <td>C[S+](C)CCC([NH3+])C(=O)[O-]</td>\n",
       "      <td>YHL036W</td>\n",
       "      <td>MEPLLFNSGKANPSQDVFIDVEVGDITTKYGSTNTGSFSSMDTVEA...</td>\n",
       "      <td>0.012303</td>\n",
       "      <td>2</td>\n",
       "    </tr>\n",
       "    <tr>\n",
       "      <th>105881</th>\n",
       "      <td>rxn9778</td>\n",
       "      <td>C[S+](C)CCC([NH3+])C(=O)[O-]</td>\n",
       "      <td>YGR006W</td>\n",
       "      <td>MDLDLASILKGEISKKKKELANSKGVQPPCTEKFQPHESANIDETP...</td>\n",
       "      <td>0.012078</td>\n",
       "      <td>2</td>\n",
       "    </tr>\n",
       "    <tr>\n",
       "      <th>105869</th>\n",
       "      <td>rxn9778</td>\n",
       "      <td>C[S+](C)CCC([NH3+])C(=O)[O-]</td>\n",
       "      <td>YDR105C</td>\n",
       "      <td>MGAVISLPVSMAGSFVASCFGGCCSNLVTKTASSLGSSSLGTRLLY...</td>\n",
       "      <td>0.008996</td>\n",
       "      <td>2</td>\n",
       "    </tr>\n",
       "    <tr>\n",
       "      <th>105877</th>\n",
       "      <td>rxn9778</td>\n",
       "      <td>C[S+](C)CCC([NH3+])C(=O)[O-]</td>\n",
       "      <td>YBR119W</td>\n",
       "      <td>MSALYFQNLPSRPANKENYTRLLLKHINPNNKYAINPSLPLPHNKL...</td>\n",
       "      <td>0.007228</td>\n",
       "      <td>2</td>\n",
       "    </tr>\n",
       "  </tbody>\n",
       "</table>\n",
       "<p>144 rows × 6 columns</p>\n",
       "</div>"
      ],
      "text/plain": [
       "             NO                        Smiles     gene  \\\n",
       "105988  rxn9778         [NH3+]C(CCS)C(=O)[O-]  YOL141W   \n",
       "105956  rxn9778         [NH3+]C(CCS)C(=O)[O-]  YOL125W   \n",
       "105969  rxn9778         [NH3+]C(CCS)C(=O)[O-]  YLR285W   \n",
       "105933  rxn9778         [NH3+]C(CCS)C(=O)[O-]  YML110C   \n",
       "105965  rxn9778         [NH3+]C(CCS)C(=O)[O-]  YLR137W   \n",
       "...         ...                           ...      ...   \n",
       "105953  rxn9778         [NH3+]C(CCS)C(=O)[O-]  YGR006W   \n",
       "105876  rxn9778  C[S+](C)CCC([NH3+])C(=O)[O-]  YHL036W   \n",
       "105881  rxn9778  C[S+](C)CCC([NH3+])C(=O)[O-]  YGR006W   \n",
       "105869  rxn9778  C[S+](C)CCC([NH3+])C(=O)[O-]  YDR105C   \n",
       "105877  rxn9778  C[S+](C)CCC([NH3+])C(=O)[O-]  YBR119W   \n",
       "\n",
       "                                                 Sequence  ESP_Prediction  \\\n",
       "105988  MKNLTTIKQTNKNVKQERRKKYADLAIQGTNNSSIASKRSVELLYL...        0.600925   \n",
       "105956  MLQDNNGPAVKRAKPSERLQCEYFMEKKKRRCGMTRSSQNLYCSEH...        0.556021   \n",
       "105969  MSDIESLGEAAGLFEEPEDFLPPPPKPHFAEYQRSHITKESKSDVK...        0.548795   \n",
       "105933  MLISSRIVRSSLVNVPLRLSRCFTQAHRACKEEEVNSPLSSAAEQP...        0.514549   \n",
       "105965  MAFKLWLLDEETIYEHVFERYTQLEGQSGKLAQDLGIQDRRGGVLE...        0.512751   \n",
       "...                                                   ...             ...   \n",
       "105953  MDLDLASILKGEISKKKKELANSKGVQPPCTEKFQPHESANIDETP...        0.013898   \n",
       "105876  MEPLLFNSGKANPSQDVFIDVEVGDITTKYGSTNTGSFSSMDTVEA...        0.012303   \n",
       "105881  MDLDLASILKGEISKKKKELANSKGVQPPCTEKFQPHESANIDETP...        0.012078   \n",
       "105869  MGAVISLPVSMAGSFVASCFGGCCSNLVTKTASSLGSSSLGTRLLY...        0.008996   \n",
       "105877  MSALYFQNLPSRPANKENYTRLLLKHINPNNKYAINPSLPLPHNKL...        0.007228   \n",
       "\n",
       "        #metabolite in training set  \n",
       "105988                           33  \n",
       "105956                           33  \n",
       "105969                           33  \n",
       "105933                           33  \n",
       "105965                           33  \n",
       "...                             ...  \n",
       "105953                           33  \n",
       "105876                            2  \n",
       "105881                            2  \n",
       "105869                            2  \n",
       "105877                            2  \n",
       "\n",
       "[144 rows x 6 columns]"
      ]
     },
     "execution_count": 94,
     "metadata": {},
     "output_type": "execute_result"
    }
   ],
   "source": [
    "rxndb2model_compouns_protein_pair_df_drop_esp_result[\n",
    "    rxndb2model_compouns_protein_pair_df_drop_esp_result['NO'] == 'rxn9778'\n",
    "].sort_values(by='ESP_Prediction', ascending=False)"
   ]
  }
 ],
 "metadata": {
  "kernelspec": {
   "display_name": "kcat",
   "language": "python",
   "name": "python3"
  },
  "language_info": {
   "codemirror_mode": {
    "name": "ipython",
    "version": 3
   },
   "file_extension": ".py",
   "mimetype": "text/x-python",
   "name": "python",
   "nbconvert_exporter": "python",
   "pygments_lexer": "ipython3",
   "version": "3.7.16"
  },
  "orig_nbformat": 4
 },
 "nbformat": 4,
 "nbformat_minor": 2
}
