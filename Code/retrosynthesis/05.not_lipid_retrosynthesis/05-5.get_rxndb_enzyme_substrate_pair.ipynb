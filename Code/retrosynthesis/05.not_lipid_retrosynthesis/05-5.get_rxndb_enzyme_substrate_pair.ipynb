{
 "cells": [
  {
   "cell_type": "code",
   "execution_count": 1,
   "metadata": {
    "metadata": {}
   },
   "outputs": [],
   "source": [
    "import pandas as pd\n",
    "import numpy as np\n",
    "\n",
    "import json\n",
    "from rdkit import Chem\n",
    "import pandas as pd\n",
    "import itertools\n",
    "import sys\n",
    "from tqdm import tqdm \n",
    "from itertools import chain, combinations\n",
    "import sys\n",
    "import multiprocessing as mp\n",
    "from functools import partial\n",
    "from collections import Counter\n",
    "tqdm.pandas()\n",
    "sys.path.append('../')\n",
    "from common import *"
   ]
  },
  {
   "cell_type": "markdown",
   "metadata": {},
   "source": [
    "# input and output"
   ]
  },
  {
   "cell_type": "code",
   "execution_count": 2,
   "metadata": {
    "metadata": {}
   },
   "outputs": [],
   "source": [
    "###input\n",
    "cut_off = 0.3\n",
    "num = 50\n",
    "num_process = 50\n",
    "cut_off_path = f'../../../Results/not_lipid/top{num}_{cut_off}_re/'\n",
    "yeast870_path =  '../../../Data/model/yeast-GEM902.yml'\n",
    "miss_met_id_file = '../../../Data/model/miss_met_id.json'\n",
    "metabolites_info_to_GEM_path = cut_off_path + f'metabolites_info_to_GEM_top{num}_{cut_off}.csv'\n",
    "rxndb_total_info_to_model_path = cut_off_path + f'rxndb_total_info_to_model_top{num}_{cut_off}.csv'\n",
    "yeast_genome_file = '../../../Data/Saccharomyces_cerevisiae.fasta'\n",
    "\n",
    "\n",
    "## output\n",
    "rxndb2model_compouns_protein_pair_df_file = '../../../Results/compound_protein/rxndb2model_compouns_protein_pair_df.csv'\n",
    "rxndb2model_compouns_protein_pair_df_drop_file = '../../../Results/compound_protein/rxndb2model_compouns_protein_pair_df_drop.csv'"
   ]
  },
  {
   "cell_type": "markdown",
   "metadata": {},
   "source": [
    "## rxndb2compound-protein-pair"
   ]
  },
  {
   "cell_type": "code",
   "execution_count": 3,
   "metadata": {},
   "outputs": [
    {
     "data": {
      "text/html": [
       "<div>\n",
       "<style scoped>\n",
       "    .dataframe tbody tr th:only-of-type {\n",
       "        vertical-align: middle;\n",
       "    }\n",
       "\n",
       "    .dataframe tbody tr th {\n",
       "        vertical-align: top;\n",
       "    }\n",
       "\n",
       "    .dataframe thead th {\n",
       "        text-align: right;\n",
       "    }\n",
       "</style>\n",
       "<table border=\"1\" class=\"dataframe\">\n",
       "  <thead>\n",
       "    <tr style=\"text-align: right;\">\n",
       "      <th></th>\n",
       "      <th>NO</th>\n",
       "      <th>EC_number</th>\n",
       "      <th>templateID</th>\n",
       "      <th>rxn_smiles_basic</th>\n",
       "      <th>rxn_smiles_final</th>\n",
       "      <th>GPR</th>\n",
       "      <th>equation_dict</th>\n",
       "      <th>equation</th>\n",
       "    </tr>\n",
       "  </thead>\n",
       "  <tbody>\n",
       "    <tr>\n",
       "      <th>0</th>\n",
       "      <td>rxn19747</td>\n",
       "      <td>1.14.13</td>\n",
       "      <td>MNXR180996_reverse</td>\n",
       "      <td>COc1cc(CC(=O)[O-])ccc1O.O&gt;&gt;COc1cc(C(C)=O)ccc1O...</td>\n",
       "      <td>COc1cc(CC(=O)[O-])ccc1O.O.NC(=O)c1ccc[n+]([C@@...</td>\n",
       "      <td>(YBL098W) or (YNR053C) or (YCL059C) or (YHR176...</td>\n",
       "      <td>{'sn_256': -1, 's_0803': -1, 's_1198': -1, 'sn...</td>\n",
       "      <td>sn_256 +  s_0803 +  s_1198 =&gt;  sn_226 +  s_12...</td>\n",
       "    </tr>\n",
       "    <tr>\n",
       "      <th>1</th>\n",
       "      <td>rxn19748</td>\n",
       "      <td>1.14.13</td>\n",
       "      <td>MNXR149799</td>\n",
       "      <td>CCCCCCCCCCCC(=O)[O-].O=O&gt;&gt;CCCCCCCCCC(O)CC(=O)[...</td>\n",
       "      <td>CCCCCCCCCCCC(=O)[O-].O=O.[H+].NC(=O)C1=CN([C@@...</td>\n",
       "      <td>(YBL098W) or (YNR053C) or (YCL059C) or (YHR176...</td>\n",
       "      <td>{'s_1065': -1, 's_1275': -1, 's_0794': -1, 's_...</td>\n",
       "      <td>s_1065 +  s_1275 +  s_0794 +  s_1212 =&gt;  sn_2...</td>\n",
       "    </tr>\n",
       "    <tr>\n",
       "      <th>2</th>\n",
       "      <td>rxn19749</td>\n",
       "      <td>1.14.13</td>\n",
       "      <td>MNXR149799</td>\n",
       "      <td>CCCCCCCCCC(=O)[O-].O=O&gt;&gt;CCCCCCCC(O)CC(=O)[O-].O</td>\n",
       "      <td>CCCCCCCCCC(=O)[O-].O=O.[H+].NC(=O)C1=CN([C@@H]...</td>\n",
       "      <td>(YBL098W) or (YNR053C) or (YCL059C) or (YHR176...</td>\n",
       "      <td>{'s_0595': -1, 's_1275': -1, 's_0794': -1, 's_...</td>\n",
       "      <td>s_0595 +  s_1275 +  s_0794 +  s_1212 =&gt;  sn_1...</td>\n",
       "    </tr>\n",
       "    <tr>\n",
       "      <th>3</th>\n",
       "      <td>rxn19750</td>\n",
       "      <td>1.14.13</td>\n",
       "      <td>MNXR149799</td>\n",
       "      <td>CCCCCCCC(=O)[O-].O=O&gt;&gt;CCCCCC(O)CC(=O)[O-].O</td>\n",
       "      <td>CCCCCCCC(=O)[O-].O=O.[H+].NC(=O)C1=CN([C@@H]2O...</td>\n",
       "      <td>(YBL098W) or (YNR053C) or (YCL059C) or (YHR176...</td>\n",
       "      <td>{'s_1248': -1, 's_1275': -1, 's_0794': -1, 's_...</td>\n",
       "      <td>s_1248 +  s_1275 +  s_0794 +  s_1212 =&gt;  sn_2...</td>\n",
       "    </tr>\n",
       "    <tr>\n",
       "      <th>4</th>\n",
       "      <td>rxn19770</td>\n",
       "      <td>noec</td>\n",
       "      <td>MNXR114398</td>\n",
       "      <td>CCC(=[NH2+])C(=O)[O-].O&gt;&gt;CCC(=O)C(=O)[O-].[NH4+]</td>\n",
       "      <td>CCC(=[NH2+])C(=O)[O-].O&gt;&gt;CCC(=O)C(=O)[O-].[NH4+]</td>\n",
       "      <td>(nogene)</td>\n",
       "      <td>{'sn_414': -1, 's_0803': -1, 's_0178': 1, 's_0...</td>\n",
       "      <td>sn_414 +  s_0803 =&gt;  s_0178 +  s_0419</td>\n",
       "    </tr>\n",
       "  </tbody>\n",
       "</table>\n",
       "</div>"
      ],
      "text/plain": [
       "         NO EC_number          templateID  \\\n",
       "0  rxn19747   1.14.13  MNXR180996_reverse   \n",
       "1  rxn19748   1.14.13          MNXR149799   \n",
       "2  rxn19749   1.14.13          MNXR149799   \n",
       "3  rxn19750   1.14.13          MNXR149799   \n",
       "4  rxn19770      noec          MNXR114398   \n",
       "\n",
       "                                    rxn_smiles_basic  \\\n",
       "0  COc1cc(CC(=O)[O-])ccc1O.O>>COc1cc(C(C)=O)ccc1O...   \n",
       "1  CCCCCCCCCCCC(=O)[O-].O=O>>CCCCCCCCCC(O)CC(=O)[...   \n",
       "2    CCCCCCCCCC(=O)[O-].O=O>>CCCCCCCC(O)CC(=O)[O-].O   \n",
       "3        CCCCCCCC(=O)[O-].O=O>>CCCCCC(O)CC(=O)[O-].O   \n",
       "4   CCC(=[NH2+])C(=O)[O-].O>>CCC(=O)C(=O)[O-].[NH4+]   \n",
       "\n",
       "                                    rxn_smiles_final  \\\n",
       "0  COc1cc(CC(=O)[O-])ccc1O.O.NC(=O)c1ccc[n+]([C@@...   \n",
       "1  CCCCCCCCCCCC(=O)[O-].O=O.[H+].NC(=O)C1=CN([C@@...   \n",
       "2  CCCCCCCCCC(=O)[O-].O=O.[H+].NC(=O)C1=CN([C@@H]...   \n",
       "3  CCCCCCCC(=O)[O-].O=O.[H+].NC(=O)C1=CN([C@@H]2O...   \n",
       "4   CCC(=[NH2+])C(=O)[O-].O>>CCC(=O)C(=O)[O-].[NH4+]   \n",
       "\n",
       "                                                 GPR  \\\n",
       "0  (YBL098W) or (YNR053C) or (YCL059C) or (YHR176...   \n",
       "1  (YBL098W) or (YNR053C) or (YCL059C) or (YHR176...   \n",
       "2  (YBL098W) or (YNR053C) or (YCL059C) or (YHR176...   \n",
       "3  (YBL098W) or (YNR053C) or (YCL059C) or (YHR176...   \n",
       "4                                           (nogene)   \n",
       "\n",
       "                                       equation_dict  \\\n",
       "0  {'sn_256': -1, 's_0803': -1, 's_1198': -1, 'sn...   \n",
       "1  {'s_1065': -1, 's_1275': -1, 's_0794': -1, 's_...   \n",
       "2  {'s_0595': -1, 's_1275': -1, 's_0794': -1, 's_...   \n",
       "3  {'s_1248': -1, 's_1275': -1, 's_0794': -1, 's_...   \n",
       "4  {'sn_414': -1, 's_0803': -1, 's_0178': 1, 's_0...   \n",
       "\n",
       "                                            equation  \n",
       "0   sn_256 +  s_0803 +  s_1198 =>  sn_226 +  s_12...  \n",
       "1   s_1065 +  s_1275 +  s_0794 +  s_1212 =>  sn_2...  \n",
       "2   s_0595 +  s_1275 +  s_0794 +  s_1212 =>  sn_1...  \n",
       "3   s_1248 +  s_1275 +  s_0794 +  s_1212 =>  sn_2...  \n",
       "4              sn_414 +  s_0803 =>  s_0178 +  s_0419  "
      ]
     },
     "execution_count": 3,
     "metadata": {},
     "output_type": "execute_result"
    }
   ],
   "source": [
    "rxndb_total_info_to_model = pd.read_csv(rxndb_total_info_to_model_path)\n",
    "rxndb_total_info_to_model.head()"
   ]
  },
  {
   "cell_type": "code",
   "execution_count": 4,
   "metadata": {},
   "outputs": [
    {
     "data": {
      "text/plain": [
       "' s_0595 +  s_1275 +  s_0794 +  s_1212 =>  sn_197 +  s_0803 +  s_1207'"
      ]
     },
     "execution_count": 4,
     "metadata": {},
     "output_type": "execute_result"
    }
   ],
   "source": [
    "rxndb_total_info_to_model['equation'].to_list()[2]"
   ]
  },
  {
   "cell_type": "code",
   "execution_count": 5,
   "metadata": {},
   "outputs": [],
   "source": [
    "rxndb2model_compouns_protein_pair = {'NO':[],\n",
    "                               'SMILES':[],\n",
    "                               'gene':[],\n",
    "                               }\n",
    "\n",
    "for index,row in rxndb_total_info_to_model.iterrows():\n",
    "    smiles_list = row['rxn_smiles_basic'].split('>>')[0].split('.')\n",
    "    gene_list = set(row['GPR'].replace(')','').replace('(','').split(' or '))\n",
    "    for smiles in smiles_list:\n",
    "        for gene in gene_list:\n",
    "            rxndb2model_compouns_protein_pair['NO'].append(row['NO'])\n",
    "            rxndb2model_compouns_protein_pair['SMILES'].append(smiles)\n",
    "            rxndb2model_compouns_protein_pair['gene'].append(gene)\n"
   ]
  },
  {
   "cell_type": "code",
   "execution_count": 6,
   "metadata": {},
   "outputs": [],
   "source": [
    "rxndb2model_compouns_protein_pair_df = pd.DataFrame(rxndb2model_compouns_protein_pair)"
   ]
  },
  {
   "cell_type": "code",
   "execution_count": 7,
   "metadata": {},
   "outputs": [],
   "source": [
    "rxndb2model_compouns_protein_pair_df_drop = rxndb2model_compouns_protein_pair_df.drop_duplicates(subset=['SMILES','gene'])"
   ]
  },
  {
   "cell_type": "code",
   "execution_count": 8,
   "metadata": {},
   "outputs": [
    {
     "name": "stdout",
     "output_type": "stream",
     "text": [
      "MNRNTTTNKNANLNNSRNANAPGEAGHQNKTGLIYWTNPSKSGASFAATLVSLLILRNVNVISVLLKIGYMVLFTSFAVELSTKVLFDKGVVSRFGMQESPDLVGVLKPHIDRELDRLPALEDRIRKLVFAHRTRNNFTIGVSLYFLHGLFAIFSMNTVLIMTTIFLYTVPLIYDRKQARIDRAIDRMKDLVIHRFHKNYNKVVEKTEPYIDKIIPPQTDEGSYSTSISNENKSSTSQRNKSGLSSSEFDNMNDTSASKSGKDSYSTSQYNRAEYPVSQNENIGTLKSGKQEIPTEKDFNNRHENFSKPDVKTYDPRTVDIEEELAAHQRELEQNLKDGDYNLVGSKEIPDPITVPAPTRHTTKPAESQSIPIKNNETLHKTTHGLKQKLQHA\n"
     ]
    }
   ],
   "source": [
    "def fasta_to_df(fasta_name):\n",
    "    data = []\n",
    "    with open(fasta_name, 'r') as fasta:\n",
    "        header = None\n",
    "        sequence = []\n",
    "        for line in fasta:\n",
    "            if line.startswith('>'):\n",
    "                if header is not None:\n",
    "                    data.append((header, ''.join(sequence)))\n",
    "                header = line.strip()[1:]\n",
    "                sequence = []\n",
    "            elif line.strip() != '':\n",
    "                sequence.append(line.strip())\n",
    "\n",
    "    if header is not None:\n",
    "        data.append((header, ''.join(sequence)))\n",
    "\n",
    "    df = pd.DataFrame(data, columns=['ID', 'Sequence'])\n",
    "\n",
    "    return df\n",
    "\n",
    "yeast_genome = fasta_to_df(yeast_genome_file)\n",
    "yeast_genome.head(3)\n",
    "\n",
    "def get_sequence(gene,yeast_genome):\n",
    "    if gene in yeast_genome.ID.tolist():\n",
    "        return yeast_genome.loc[yeast_genome['ID'] == gene]['Sequence'].values[0]\n",
    "    return None\n",
    "\n",
    "print(get_sequence('YDL204W',yeast_genome))"
   ]
  },
  {
   "cell_type": "code",
   "execution_count": 9,
   "metadata": {},
   "outputs": [
    {
     "name": "stderr",
     "output_type": "stream",
     "text": [
      "100%|██████████| 193542/193542 [02:12<00:00, 1465.15it/s]\n",
      "/home/wuke/anaconda3/envs/kcat/lib/python3.7/site-packages/ipykernel_launcher.py:1: SettingWithCopyWarning: \n",
      "A value is trying to be set on a copy of a slice from a DataFrame.\n",
      "Try using .loc[row_indexer,col_indexer] = value instead\n",
      "\n",
      "See the caveats in the documentation: https://pandas.pydata.org/pandas-docs/stable/user_guide/indexing.html#returning-a-view-versus-a-copy\n",
      "  \"\"\"Entry point for launching an IPython kernel.\n"
     ]
    },
    {
     "data": {
      "text/html": [
       "<div>\n",
       "<style scoped>\n",
       "    .dataframe tbody tr th:only-of-type {\n",
       "        vertical-align: middle;\n",
       "    }\n",
       "\n",
       "    .dataframe tbody tr th {\n",
       "        vertical-align: top;\n",
       "    }\n",
       "\n",
       "    .dataframe thead th {\n",
       "        text-align: right;\n",
       "    }\n",
       "</style>\n",
       "<table border=\"1\" class=\"dataframe\">\n",
       "  <thead>\n",
       "    <tr style=\"text-align: right;\">\n",
       "      <th></th>\n",
       "      <th>NO</th>\n",
       "      <th>SMILES</th>\n",
       "      <th>gene</th>\n",
       "      <th>Sequence</th>\n",
       "    </tr>\n",
       "  </thead>\n",
       "  <tbody>\n",
       "    <tr>\n",
       "      <th>0</th>\n",
       "      <td>rxn19747</td>\n",
       "      <td>COc1cc(CC(=O)[O-])ccc1O</td>\n",
       "      <td>YDR534C</td>\n",
       "      <td>MKLSSAFVLSAITVAALGESITTTITATKNGHVYTKTVTQDATFVW...</td>\n",
       "    </tr>\n",
       "    <tr>\n",
       "      <th>1</th>\n",
       "      <td>rxn19747</td>\n",
       "      <td>COc1cc(CC(=O)[O-])ccc1O</td>\n",
       "      <td>YDR402C</td>\n",
       "      <td>MELLKLLCLILFLTLSYVAFAIIVPPLNFPKNIPTIPFYVVFLPVI...</td>\n",
       "    </tr>\n",
       "    <tr>\n",
       "      <th>2</th>\n",
       "      <td>rxn19747</td>\n",
       "      <td>COc1cc(CC(=O)[O-])ccc1O</td>\n",
       "      <td>YBR298C</td>\n",
       "      <td>MKGLSSLINRKKDRNDSHLDEIENGVNATEFNSIEMEEQGKKSDFD...</td>\n",
       "    </tr>\n",
       "    <tr>\n",
       "      <th>3</th>\n",
       "      <td>rxn19747</td>\n",
       "      <td>COc1cc(CC(=O)[O-])ccc1O</td>\n",
       "      <td>YBL098W</td>\n",
       "      <td>MSESVAIIGAGLVGCLAALAFSKEGYNVTLYDFRQDPRLDTTKNKN...</td>\n",
       "    </tr>\n",
       "    <tr>\n",
       "      <th>4</th>\n",
       "      <td>rxn19747</td>\n",
       "      <td>COc1cc(CC(=O)[O-])ccc1O</td>\n",
       "      <td>YOL114C</td>\n",
       "      <td>MTTLMGKFKLTGRSPLFVLQPMLHCKKQQFVEEAVRLISNKKIGKK...</td>\n",
       "    </tr>\n",
       "    <tr>\n",
       "      <th>...</th>\n",
       "      <td>...</td>\n",
       "      <td>...</td>\n",
       "      <td>...</td>\n",
       "      <td>...</td>\n",
       "    </tr>\n",
       "    <tr>\n",
       "      <th>748315</th>\n",
       "      <td>rxn1349</td>\n",
       "      <td>O=P([O-])([O-])OCC1OC(OC2(CO)OC(CO)C(O)C2O)C(O...</td>\n",
       "      <td>YEL029C</td>\n",
       "      <td>MPRLLATQSHVVHGYVGNKAATFPLQCLGWDVDCCNSVQFSNHTGY...</td>\n",
       "    </tr>\n",
       "    <tr>\n",
       "      <th>748316</th>\n",
       "      <td>rxn1349</td>\n",
       "      <td>O=P([O-])([O-])OCC1OC(OC2(CO)OC(CO)C(O)C2O)C(O...</td>\n",
       "      <td>YOR347C</td>\n",
       "      <td>MPESRLQRLANLKIGTPQQLRRTSIIGTIGPKTNSCEAITALRKAG...</td>\n",
       "    </tr>\n",
       "    <tr>\n",
       "      <th>748317</th>\n",
       "      <td>rxn1349</td>\n",
       "      <td>O=P([O-])([O-])OCC1OC(OC2(CO)OC(CO)C(O)C2O)C(O...</td>\n",
       "      <td>YBR020W</td>\n",
       "      <td>MTKSHSEEVIVPEFNSSAKELPRPLAEKCPSIIKKFISAYDAKPDF...</td>\n",
       "    </tr>\n",
       "    <tr>\n",
       "      <th>748318</th>\n",
       "      <td>rxn1349</td>\n",
       "      <td>O=P([O-])([O-])OCC1OC(OC2(CO)OC(CO)C(O)C2O)C(O...</td>\n",
       "      <td>YJR049C</td>\n",
       "      <td>MKENDMNNGVDKWVNEEDGRNDHHNNNNNLMKKAMMNNEQIDRTQD...</td>\n",
       "    </tr>\n",
       "    <tr>\n",
       "      <th>748319</th>\n",
       "      <td>rxn1349</td>\n",
       "      <td>O=P([O-])([O-])OCC1OC(OC2(CO)OC(CO)C(O)C2O)C(O...</td>\n",
       "      <td>YFR053C</td>\n",
       "      <td>MVHLGPKKPQARKGSMADVPKELMDEIHQLEDMFTVDSETLRKVVK...</td>\n",
       "    </tr>\n",
       "  </tbody>\n",
       "</table>\n",
       "<p>193542 rows × 4 columns</p>\n",
       "</div>"
      ],
      "text/plain": [
       "              NO                                             SMILES     gene  \\\n",
       "0       rxn19747                            COc1cc(CC(=O)[O-])ccc1O  YDR534C   \n",
       "1       rxn19747                            COc1cc(CC(=O)[O-])ccc1O  YDR402C   \n",
       "2       rxn19747                            COc1cc(CC(=O)[O-])ccc1O  YBR298C   \n",
       "3       rxn19747                            COc1cc(CC(=O)[O-])ccc1O  YBL098W   \n",
       "4       rxn19747                            COc1cc(CC(=O)[O-])ccc1O  YOL114C   \n",
       "...          ...                                                ...      ...   \n",
       "748315   rxn1349  O=P([O-])([O-])OCC1OC(OC2(CO)OC(CO)C(O)C2O)C(O...  YEL029C   \n",
       "748316   rxn1349  O=P([O-])([O-])OCC1OC(OC2(CO)OC(CO)C(O)C2O)C(O...  YOR347C   \n",
       "748317   rxn1349  O=P([O-])([O-])OCC1OC(OC2(CO)OC(CO)C(O)C2O)C(O...  YBR020W   \n",
       "748318   rxn1349  O=P([O-])([O-])OCC1OC(OC2(CO)OC(CO)C(O)C2O)C(O...  YJR049C   \n",
       "748319   rxn1349  O=P([O-])([O-])OCC1OC(OC2(CO)OC(CO)C(O)C2O)C(O...  YFR053C   \n",
       "\n",
       "                                                 Sequence  \n",
       "0       MKLSSAFVLSAITVAALGESITTTITATKNGHVYTKTVTQDATFVW...  \n",
       "1       MELLKLLCLILFLTLSYVAFAIIVPPLNFPKNIPTIPFYVVFLPVI...  \n",
       "2       MKGLSSLINRKKDRNDSHLDEIENGVNATEFNSIEMEEQGKKSDFD...  \n",
       "3       MSESVAIIGAGLVGCLAALAFSKEGYNVTLYDFRQDPRLDTTKNKN...  \n",
       "4       MTTLMGKFKLTGRSPLFVLQPMLHCKKQQFVEEAVRLISNKKIGKK...  \n",
       "...                                                   ...  \n",
       "748315  MPRLLATQSHVVHGYVGNKAATFPLQCLGWDVDCCNSVQFSNHTGY...  \n",
       "748316  MPESRLQRLANLKIGTPQQLRRTSIIGTIGPKTNSCEAITALRKAG...  \n",
       "748317  MTKSHSEEVIVPEFNSSAKELPRPLAEKCPSIIKKFISAYDAKPDF...  \n",
       "748318  MKENDMNNGVDKWVNEEDGRNDHHNNNNNLMKKAMMNNEQIDRTQD...  \n",
       "748319  MVHLGPKKPQARKGSMADVPKELMDEIHQLEDMFTVDSETLRKVVK...  \n",
       "\n",
       "[193542 rows x 4 columns]"
      ]
     },
     "execution_count": 9,
     "metadata": {},
     "output_type": "execute_result"
    }
   ],
   "source": [
    "rxndb2model_compouns_protein_pair_df_drop['Sequence'] = rxndb2model_compouns_protein_pair_df_drop['gene'].progress_apply(lambda x:get_sequence(x,yeast_genome))\n",
    "rxndb2model_compouns_protein_pair_df_drop"
   ]
  },
  {
   "cell_type": "code",
   "execution_count": null,
   "metadata": {},
   "outputs": [
    {
     "name": "stdout",
     "output_type": "stream",
     "text": [
      "(193542, 4)\n",
      "(193520, 4)\n"
     ]
    }
   ],
   "source": [
    "print(rxndb2model_compouns_protein_pair_df_drop.shape)\n",
    "rxndb2model_compouns_protein_pair_df_drop = rxndb2model_compouns_protein_pair_df_drop[~rxndb2model_compouns_protein_pair_df_drop['Sequence'].isna()]\n",
    "print(rxndb2model_compouns_protein_pair_df_drop.shape)"
   ]
  },
  {
   "cell_type": "code",
   "execution_count": 11,
   "metadata": {},
   "outputs": [],
   "source": [
    "rxndb2model_compouns_protein_pair_df_drop.to_csv(rxndb2model_compouns_protein_pair_df_drop_file,index=None)"
   ]
  },
  {
   "cell_type": "code",
   "execution_count": 12,
   "metadata": {},
   "outputs": [],
   "source": [
    "rxndb2model_compouns_protein_pair_df.to_csv(rxndb2model_compouns_protein_pair_df_file,index=None)"
   ]
  }
 ],
 "metadata": {
  "kernelspec": {
   "display_name": "kcat",
   "language": "python",
   "name": "python3"
  },
  "language_info": {
   "codemirror_mode": {
    "name": "ipython",
    "version": 3
   },
   "file_extension": ".py",
   "mimetype": "text/x-python",
   "name": "python",
   "nbconvert_exporter": "python",
   "pygments_lexer": "ipython3",
   "version": "3.7.16"
  },
  "orig_nbformat": 4
 },
 "nbformat": 4,
 "nbformat_minor": 2
}
