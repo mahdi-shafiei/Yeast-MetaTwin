{
 "cells": [
  {
   "cell_type": "code",
   "execution_count": 1,
   "metadata": {
    "metadata": {}
   },
   "outputs": [],
   "source": [
    "import pandas as pd\n",
    "import numpy as np\n",
    "import random\n",
    "import ast\n",
    "\n",
    "import json\n",
    "from rdkit import Chem\n",
    "import pandas as pd\n",
    "import itertools\n",
    "import sys\n",
    "from tqdm import tqdm \n",
    "from itertools import chain, combinations\n",
    "import sys\n",
    "import multiprocessing as mp\n",
    "from functools import partial\n",
    "from collections import Counter\n",
    "tqdm.pandas()\n",
    "sys.path.append('../')\n",
    "from common import *"
   ]
  },
  {
   "cell_type": "markdown",
   "metadata": {},
   "source": [
    "# input and output"
   ]
  },
  {
   "cell_type": "code",
   "execution_count": 2,
   "metadata": {
    "metadata": {}
   },
   "outputs": [],
   "source": [
    "###input\n",
    "cut_off = 0.3\n",
    "num = 50\n",
    "num_process = 50\n",
    "cut_off_path = f'../../../Results/not_lipid/top{num}_{cut_off}_re/'\n",
    "yeast870_path =  '../../../Data/model/yeast-GEM.yml'\n",
    "miss_met_id_file = '../../../Data/model/miss_met_id.json'\n",
    "metabolites_info_to_GEM_path = cut_off_path + f'metabolites_info_to_GEM_top{num}_{cut_off}.csv'\n",
    "rxndb_total_info_to_model_espfiltergene_path = cut_off_path + f'rxndb_total_info_to_model_top{num}_{cut_off}_espfiltergene.csv'\n",
    "target_model_smiles_path = '../../../Results/not_lipid/yeast_met_not_lipid.pickle'\n",
    "not_lipid_target_smiles_path = '../../../Results/not_lipid/target_smiles_not_lipid.pickle'\n",
    "# rxndb_total_info_to_model_espfiltergene_path = cut_off_path + f'rxndb_total_info_to_model_top{num}_{cut_off}_espfiltergene.csv'\n",
    "proportion = 0.2  # 抽取比例，80%\n",
    "\n",
    "## output\n",
    "rxndb_total_info_to_model_espfiltergene_randomfiltermet_path = cut_off_path + f'rxndb_total_info_to_model_top{num}_{cut_off}_espfiltergene_randomfiltermet_{proportion}.csv'"
   ]
  },
  {
   "cell_type": "code",
   "execution_count": 3,
   "metadata": {},
   "outputs": [
    {
     "data": {
      "text/html": [
       "<div>\n",
       "<style scoped>\n",
       "    .dataframe tbody tr th:only-of-type {\n",
       "        vertical-align: middle;\n",
       "    }\n",
       "\n",
       "    .dataframe tbody tr th {\n",
       "        vertical-align: top;\n",
       "    }\n",
       "\n",
       "    .dataframe thead th {\n",
       "        text-align: right;\n",
       "    }\n",
       "</style>\n",
       "<table border=\"1\" class=\"dataframe\">\n",
       "  <thead>\n",
       "    <tr style=\"text-align: right;\">\n",
       "      <th></th>\n",
       "      <th>new_met_smiles</th>\n",
       "      <th>sim_smile</th>\n",
       "      <th>ID</th>\n",
       "      <th>compartment</th>\n",
       "    </tr>\n",
       "  </thead>\n",
       "  <tbody>\n",
       "    <tr>\n",
       "      <th>0</th>\n",
       "      <td>CCCCCCCCCCCCCC(=O)[O-]</td>\n",
       "      <td>CCCCCCCCCCCCCC(=O)O</td>\n",
       "      <td>s_1161</td>\n",
       "      <td>c</td>\n",
       "    </tr>\n",
       "    <tr>\n",
       "      <th>1</th>\n",
       "      <td>NC(Cc1cnc[nH]1)C(=O)O</td>\n",
       "      <td>NC(Cc1cnc[nH]1)C(=O)O</td>\n",
       "      <td>s_1006</td>\n",
       "      <td>c</td>\n",
       "    </tr>\n",
       "    <tr>\n",
       "      <th>2</th>\n",
       "      <td>CSCCC(=O)C(=O)COP(=O)(O)O</td>\n",
       "      <td>CSCCC(=O)C(=O)COP(=O)(O)O</td>\n",
       "      <td>s_0311</td>\n",
       "      <td>c</td>\n",
       "    </tr>\n",
       "  </tbody>\n",
       "</table>\n",
       "</div>"
      ],
      "text/plain": [
       "              new_met_smiles                  sim_smile      ID compartment\n",
       "0     CCCCCCCCCCCCCC(=O)[O-]        CCCCCCCCCCCCCC(=O)O  s_1161           c\n",
       "1      NC(Cc1cnc[nH]1)C(=O)O      NC(Cc1cnc[nH]1)C(=O)O  s_1006           c\n",
       "2  CSCCC(=O)C(=O)COP(=O)(O)O  CSCCC(=O)C(=O)COP(=O)(O)O  s_0311           c"
      ]
     },
     "execution_count": 3,
     "metadata": {},
     "output_type": "execute_result"
    }
   ],
   "source": [
    "metabolites_info_to_GEM =  pd.read_csv(metabolites_info_to_GEM_path)\n",
    "metabolites_info_to_GEM.head(3)"
   ]
  },
  {
   "cell_type": "code",
   "execution_count": 4,
   "metadata": {},
   "outputs": [],
   "source": [
    "new_met_smiles_dict = {}\n",
    "for index,row in metabolites_info_to_GEM[metabolites_info_to_GEM['ID'].str.startswith('sn')].iterrows():\n",
    "    new_met_smiles_dict[row['ID']] = row['new_met_smiles']"
   ]
  },
  {
   "cell_type": "code",
   "execution_count": 5,
   "metadata": {},
   "outputs": [],
   "source": [
    "# 读取 .pickle 文件\n",
    "with open(not_lipid_target_smiles_path, 'rb') as file:\n",
    "    not_lipid_target_smiles = pickle.load(file)"
   ]
  },
  {
   "cell_type": "code",
   "execution_count": 6,
   "metadata": {},
   "outputs": [
    {
     "name": "stderr",
     "output_type": "stream",
     "text": [
      "100%|██████████| 418/418 [02:41<00:00,  2.59it/s]\n"
     ]
    }
   ],
   "source": [
    "IDlist = []\n",
    "for id,smiles in tqdm(new_met_smiles_dict.items(),total=len(new_met_smiles_dict)):\n",
    "    if any(compare_smiles_inchikey(smiles,x) for x in not_lipid_target_smiles):\n",
    "        IDlist.append(id)"
   ]
  },
  {
   "cell_type": "code",
   "execution_count": 7,
   "metadata": {},
   "outputs": [
    {
     "name": "stdout",
     "output_type": "stream",
     "text": [
      "['sn_40', 'sn_304', 'sn_69', 'sn_29', 'sn_328', 'sn_291', 'sn_349', 'sn_400', 'sn_221', 'sn_321', 'sn_160', 'sn_41', 'sn_303', 'sn_312', 'sn_325', 'sn_187', 'sn_319', 'sn_184', 'sn_235', 'sn_14', 'sn_359', 'sn_377', 'sn_196', 'sn_84', 'sn_294', 'sn_51', 'sn_292', 'sn_383', 'sn_18', 'sn_310', 'sn_109', 'sn_149', 'sn_265', 'sn_318', 'sn_391', 'sn_399', 'sn_311', 'sn_8', 'sn_277', 'sn_282']\n"
     ]
    }
   ],
   "source": [
    "sample_size = int(len(IDlist) * proportion)\n",
    "drop_IDlist = random.sample(IDlist, sample_size)\n",
    "print(drop_IDlist)"
   ]
  },
  {
   "cell_type": "code",
   "execution_count": 8,
   "metadata": {},
   "outputs": [
    {
     "data": {
      "text/html": [
       "<div>\n",
       "<style scoped>\n",
       "    .dataframe tbody tr th:only-of-type {\n",
       "        vertical-align: middle;\n",
       "    }\n",
       "\n",
       "    .dataframe tbody tr th {\n",
       "        vertical-align: top;\n",
       "    }\n",
       "\n",
       "    .dataframe thead th {\n",
       "        text-align: right;\n",
       "    }\n",
       "</style>\n",
       "<table border=\"1\" class=\"dataframe\">\n",
       "  <thead>\n",
       "    <tr style=\"text-align: right;\">\n",
       "      <th></th>\n",
       "      <th>NO</th>\n",
       "      <th>EC_number</th>\n",
       "      <th>templateID</th>\n",
       "      <th>rxn_smiles_basic</th>\n",
       "      <th>rxn_smiles_final</th>\n",
       "      <th>GPR</th>\n",
       "      <th>equation_dict</th>\n",
       "      <th>equation</th>\n",
       "    </tr>\n",
       "  </thead>\n",
       "  <tbody>\n",
       "    <tr>\n",
       "      <th>0</th>\n",
       "      <td>rxn19747</td>\n",
       "      <td>1.14.13</td>\n",
       "      <td>MNXR180996_reverse</td>\n",
       "      <td>COc1cc(CC(=O)[O-])ccc1O.O&gt;&gt;COc1cc(C(C)=O)ccc1O...</td>\n",
       "      <td>COc1cc(CC(=O)[O-])ccc1O.O.NC(=O)c1ccc[n+]([C@@...</td>\n",
       "      <td>(YOL114C) or (YCL059C) or (YDR402C) or (YDR534...</td>\n",
       "      <td>{'sn_256': -1, 's_0803': -1, 's_1198': -1, 'sn...</td>\n",
       "      <td>sn_256 +  s_0803 +  s_1198 =&gt;  sn_226 +  s_12...</td>\n",
       "    </tr>\n",
       "    <tr>\n",
       "      <th>1</th>\n",
       "      <td>rxn19748</td>\n",
       "      <td>1.14.13</td>\n",
       "      <td>MNXR149799</td>\n",
       "      <td>CCCCCCCCCCCC(=O)[O-].O=O&gt;&gt;CCCCCCCCCC(O)CC(=O)[...</td>\n",
       "      <td>CCCCCCCCCCCC(=O)[O-].O=O.[H+].NC(=O)C1=CN([C@@...</td>\n",
       "      <td>(YDR402C) or (YDR534C) or (YAL064W) or (YJL151...</td>\n",
       "      <td>{'s_1065': -1, 's_1275': -1, 's_0794': -1, 's_...</td>\n",
       "      <td>s_1065 +  s_1275 +  s_0794 +  s_1212 =&gt;  sn_2...</td>\n",
       "    </tr>\n",
       "    <tr>\n",
       "      <th>2</th>\n",
       "      <td>rxn19749</td>\n",
       "      <td>1.14.13</td>\n",
       "      <td>MNXR149799</td>\n",
       "      <td>CCCCCCCCCC(=O)[O-].O=O&gt;&gt;CCCCCCCC(O)CC(=O)[O-].O</td>\n",
       "      <td>CCCCCCCCCC(=O)[O-].O=O.[H+].NC(=O)C1=CN([C@@H]...</td>\n",
       "      <td>(YDR402C) or (YDR534C) or (YAL064W) or (YJL151...</td>\n",
       "      <td>{'s_0595': -1, 's_1275': -1, 's_0794': -1, 's_...</td>\n",
       "      <td>s_0595 +  s_1275 +  s_0794 +  s_1212 =&gt;  sn_1...</td>\n",
       "    </tr>\n",
       "  </tbody>\n",
       "</table>\n",
       "</div>"
      ],
      "text/plain": [
       "         NO EC_number          templateID  \\\n",
       "0  rxn19747   1.14.13  MNXR180996_reverse   \n",
       "1  rxn19748   1.14.13          MNXR149799   \n",
       "2  rxn19749   1.14.13          MNXR149799   \n",
       "\n",
       "                                    rxn_smiles_basic  \\\n",
       "0  COc1cc(CC(=O)[O-])ccc1O.O>>COc1cc(C(C)=O)ccc1O...   \n",
       "1  CCCCCCCCCCCC(=O)[O-].O=O>>CCCCCCCCCC(O)CC(=O)[...   \n",
       "2    CCCCCCCCCC(=O)[O-].O=O>>CCCCCCCC(O)CC(=O)[O-].O   \n",
       "\n",
       "                                    rxn_smiles_final  \\\n",
       "0  COc1cc(CC(=O)[O-])ccc1O.O.NC(=O)c1ccc[n+]([C@@...   \n",
       "1  CCCCCCCCCCCC(=O)[O-].O=O.[H+].NC(=O)C1=CN([C@@...   \n",
       "2  CCCCCCCCCC(=O)[O-].O=O.[H+].NC(=O)C1=CN([C@@H]...   \n",
       "\n",
       "                                                 GPR  \\\n",
       "0  (YOL114C) or (YCL059C) or (YDR402C) or (YDR534...   \n",
       "1  (YDR402C) or (YDR534C) or (YAL064W) or (YJL151...   \n",
       "2  (YDR402C) or (YDR534C) or (YAL064W) or (YJL151...   \n",
       "\n",
       "                                       equation_dict  \\\n",
       "0  {'sn_256': -1, 's_0803': -1, 's_1198': -1, 'sn...   \n",
       "1  {'s_1065': -1, 's_1275': -1, 's_0794': -1, 's_...   \n",
       "2  {'s_0595': -1, 's_1275': -1, 's_0794': -1, 's_...   \n",
       "\n",
       "                                            equation  \n",
       "0   sn_256 +  s_0803 +  s_1198 =>  sn_226 +  s_12...  \n",
       "1   s_1065 +  s_1275 +  s_0794 +  s_1212 =>  sn_2...  \n",
       "2   s_0595 +  s_1275 +  s_0794 +  s_1212 =>  sn_1...  "
      ]
     },
     "execution_count": 8,
     "metadata": {},
     "output_type": "execute_result"
    }
   ],
   "source": [
    "rxndb_total_info_to_model_espfiltergene = pd.read_csv(rxndb_total_info_to_model_espfiltergene_path)\n",
    "rxndb_total_info_to_model_espfiltergene.head(3)"
   ]
  },
  {
   "cell_type": "code",
   "execution_count": 9,
   "metadata": {},
   "outputs": [
    {
     "data": {
      "text/html": [
       "<div>\n",
       "<style scoped>\n",
       "    .dataframe tbody tr th:only-of-type {\n",
       "        vertical-align: middle;\n",
       "    }\n",
       "\n",
       "    .dataframe tbody tr th {\n",
       "        vertical-align: top;\n",
       "    }\n",
       "\n",
       "    .dataframe thead th {\n",
       "        text-align: right;\n",
       "    }\n",
       "</style>\n",
       "<table border=\"1\" class=\"dataframe\">\n",
       "  <thead>\n",
       "    <tr style=\"text-align: right;\">\n",
       "      <th></th>\n",
       "      <th>NO</th>\n",
       "      <th>EC_number</th>\n",
       "      <th>templateID</th>\n",
       "      <th>rxn_smiles_basic</th>\n",
       "      <th>rxn_smiles_final</th>\n",
       "      <th>GPR</th>\n",
       "      <th>equation_dict</th>\n",
       "      <th>equation</th>\n",
       "    </tr>\n",
       "  </thead>\n",
       "  <tbody>\n",
       "    <tr>\n",
       "      <th>0</th>\n",
       "      <td>rxn19747</td>\n",
       "      <td>1.14.13</td>\n",
       "      <td>MNXR180996_reverse</td>\n",
       "      <td>COc1cc(CC(=O)[O-])ccc1O.O&gt;&gt;COc1cc(C(C)=O)ccc1O...</td>\n",
       "      <td>COc1cc(CC(=O)[O-])ccc1O.O.NC(=O)c1ccc[n+]([C@@...</td>\n",
       "      <td>(YOL114C) or (YCL059C) or (YDR402C) or (YDR534...</td>\n",
       "      <td>{'sn_256': -1, 's_0803': -1, 's_1198': -1, 'sn...</td>\n",
       "      <td>sn_256 +  s_0803 +  s_1198 =&gt;  sn_226 +  s_12...</td>\n",
       "    </tr>\n",
       "    <tr>\n",
       "      <th>1</th>\n",
       "      <td>rxn19748</td>\n",
       "      <td>1.14.13</td>\n",
       "      <td>MNXR149799</td>\n",
       "      <td>CCCCCCCCCCCC(=O)[O-].O=O&gt;&gt;CCCCCCCCCC(O)CC(=O)[...</td>\n",
       "      <td>CCCCCCCCCCCC(=O)[O-].O=O.[H+].NC(=O)C1=CN([C@@...</td>\n",
       "      <td>(YDR402C) or (YDR534C) or (YAL064W) or (YJL151...</td>\n",
       "      <td>{'s_1065': -1, 's_1275': -1, 's_0794': -1, 's_...</td>\n",
       "      <td>s_1065 +  s_1275 +  s_0794 +  s_1212 =&gt;  sn_2...</td>\n",
       "    </tr>\n",
       "    <tr>\n",
       "      <th>2</th>\n",
       "      <td>rxn19749</td>\n",
       "      <td>1.14.13</td>\n",
       "      <td>MNXR149799</td>\n",
       "      <td>CCCCCCCCCC(=O)[O-].O=O&gt;&gt;CCCCCCCC(O)CC(=O)[O-].O</td>\n",
       "      <td>CCCCCCCCCC(=O)[O-].O=O.[H+].NC(=O)C1=CN([C@@H]...</td>\n",
       "      <td>(YDR402C) or (YDR534C) or (YAL064W) or (YJL151...</td>\n",
       "      <td>{'s_0595': -1, 's_1275': -1, 's_0794': -1, 's_...</td>\n",
       "      <td>s_0595 +  s_1275 +  s_0794 +  s_1212 =&gt;  sn_1...</td>\n",
       "    </tr>\n",
       "  </tbody>\n",
       "</table>\n",
       "</div>"
      ],
      "text/plain": [
       "         NO EC_number          templateID  \\\n",
       "0  rxn19747   1.14.13  MNXR180996_reverse   \n",
       "1  rxn19748   1.14.13          MNXR149799   \n",
       "2  rxn19749   1.14.13          MNXR149799   \n",
       "\n",
       "                                    rxn_smiles_basic  \\\n",
       "0  COc1cc(CC(=O)[O-])ccc1O.O>>COc1cc(C(C)=O)ccc1O...   \n",
       "1  CCCCCCCCCCCC(=O)[O-].O=O>>CCCCCCCCCC(O)CC(=O)[...   \n",
       "2    CCCCCCCCCC(=O)[O-].O=O>>CCCCCCCC(O)CC(=O)[O-].O   \n",
       "\n",
       "                                    rxn_smiles_final  \\\n",
       "0  COc1cc(CC(=O)[O-])ccc1O.O.NC(=O)c1ccc[n+]([C@@...   \n",
       "1  CCCCCCCCCCCC(=O)[O-].O=O.[H+].NC(=O)C1=CN([C@@...   \n",
       "2  CCCCCCCCCC(=O)[O-].O=O.[H+].NC(=O)C1=CN([C@@H]...   \n",
       "\n",
       "                                                 GPR  \\\n",
       "0  (YOL114C) or (YCL059C) or (YDR402C) or (YDR534...   \n",
       "1  (YDR402C) or (YDR534C) or (YAL064W) or (YJL151...   \n",
       "2  (YDR402C) or (YDR534C) or (YAL064W) or (YJL151...   \n",
       "\n",
       "                                       equation_dict  \\\n",
       "0  {'sn_256': -1, 's_0803': -1, 's_1198': -1, 'sn...   \n",
       "1  {'s_1065': -1, 's_1275': -1, 's_0794': -1, 's_...   \n",
       "2  {'s_0595': -1, 's_1275': -1, 's_0794': -1, 's_...   \n",
       "\n",
       "                                            equation  \n",
       "0   sn_256 +  s_0803 +  s_1198 =>  sn_226 +  s_12...  \n",
       "1   s_1065 +  s_1275 +  s_0794 +  s_1212 =>  sn_2...  \n",
       "2   s_0595 +  s_1275 +  s_0794 +  s_1212 =>  sn_1...  "
      ]
     },
     "execution_count": 9,
     "metadata": {},
     "output_type": "execute_result"
    }
   ],
   "source": [
    "rxndb_total_info_to_model_espfiltergene['equation_dict'] = rxndb_total_info_to_model_espfiltergene['equation_dict'].apply(ast.literal_eval)\n",
    "rxndb_total_info_to_model_espfiltergene.head(3)"
   ]
  },
  {
   "cell_type": "code",
   "execution_count": 10,
   "metadata": {},
   "outputs": [
    {
     "name": "stdout",
     "output_type": "stream",
     "text": [
      "(7889, 8)\n",
      "(7440, 8)\n"
     ]
    }
   ],
   "source": [
    "print(rxndb_total_info_to_model_espfiltergene.shape)\n",
    "rxndb_total_info_to_model_espfiltergene = rxndb_total_info_to_model_espfiltergene[rxndb_total_info_to_model_espfiltergene['equation_dict'].apply(lambda x: all(id not in drop_IDlist for id,_ in x.items()))]\n",
    "print(rxndb_total_info_to_model_espfiltergene.shape)"
   ]
  },
  {
   "cell_type": "code",
   "execution_count": 11,
   "metadata": {},
   "outputs": [],
   "source": [
    "rxndb_total_info_to_model_espfiltergene.reset_index(drop=True,inplace=True)"
   ]
  },
  {
   "cell_type": "code",
   "execution_count": 12,
   "metadata": {},
   "outputs": [],
   "source": [
    "rxndb_total_info_to_model_espfiltergene.to_csv(rxndb_total_info_to_model_espfiltergene_randomfiltermet_path,index=None)"
   ]
  }
 ],
 "metadata": {
  "kernelspec": {
   "display_name": "kcat",
   "language": "python",
   "name": "python3"
  },
  "language_info": {
   "codemirror_mode": {
    "name": "ipython",
    "version": 3
   },
   "file_extension": ".py",
   "mimetype": "text/x-python",
   "name": "python",
   "nbconvert_exporter": "python",
   "pygments_lexer": "ipython3",
   "version": "3.7.16"
  },
  "orig_nbformat": 4
 },
 "nbformat": 4,
 "nbformat_minor": 2
}
