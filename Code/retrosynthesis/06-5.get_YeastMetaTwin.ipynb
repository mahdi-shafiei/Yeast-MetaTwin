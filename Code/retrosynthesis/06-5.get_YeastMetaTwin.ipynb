{
 "cells": [
  {
   "cell_type": "code",
   "execution_count": 1,
   "metadata": {},
   "outputs": [],
   "source": [
    "import pandas as pd\n",
    "import numpy as np\n",
    "import json\n",
    "import pandas as pd\n",
    "from cobra import Model, Reaction, Metabolite\n",
    "from cobra.flux_analysis import flux_variability_analysis\n",
    "import pickle\n",
    "from tqdm import tqdm \n",
    "from ast import literal_eval\n",
    "import cobra\n",
    "import matplotlib.pyplot as plt\n",
    "import numpy as np\n",
    "from multiprocessing import Pool\n",
    "from tqdm import tqdm\n",
    "from functools import partial \n",
    "import matplotlib.pyplot as plt\n",
    "import numpy as np\n",
    "from matplotlib.gridspec import GridSpec\n",
    "from matplotlib.ticker import MaxNLocator, FormatStrFormatter\n",
    "\n",
    "import gurobipy\n",
    "gurobipy.setParam('OutputFlag', 0)\n",
    "import sys\n",
    "# sys.path.append('../Script/')\n",
    "from common import *"
   ]
  },
  {
   "cell_type": "markdown",
   "metadata": {},
   "source": [
    "# input and output"
   ]
  },
  {
   "cell_type": "code",
   "execution_count": 2,
   "metadata": {},
   "outputs": [],
   "source": [
    "###input\n",
    "yeast8U_del2_path = '../../Data/model/Yeast-MetaTwin.yml'\n",
    "ymdb_uptake_file = '../../Data/ymdb/ymdb_uptake.csv'\n",
    "spot_result_file = '../../Data/met_spot_result.json'\n",
    "\n",
    "###output\n",
    "yeast8U_del2_path = '../../Data/model/Yeast-MetaTwin.yml'"
   ]
  },
  {
   "cell_type": "markdown",
   "metadata": {},
   "source": [
    "# add uptake"
   ]
  },
  {
   "cell_type": "code",
   "execution_count": 3,
   "metadata": {},
   "outputs": [],
   "source": [
    "model = cobra.io.load_yaml_model(yeast8U_del2_path)"
   ]
  },
  {
   "cell_type": "code",
   "execution_count": 4,
   "metadata": {},
   "outputs": [
    {
     "data": {
      "text/html": [
       "\n",
       "        <table>\n",
       "            <tr>\n",
       "                <td><strong>Name</strong></td>\n",
       "                <td>None</td>\n",
       "            </tr><tr>\n",
       "                <td><strong>Memory address</strong></td>\n",
       "                <td>7f78f3ba1550</td>\n",
       "            </tr><tr>\n",
       "                <td><strong>Number of metabolites</strong></td>\n",
       "                <td>3199</td>\n",
       "            </tr><tr>\n",
       "                <td><strong>Number of reactions</strong></td>\n",
       "                <td>7412</td>\n",
       "            </tr><tr>\n",
       "                <td><strong>Number of genes</strong></td>\n",
       "                <td>1558</td>\n",
       "            </tr><tr>\n",
       "                <td><strong>Number of groups</strong></td>\n",
       "                <td>0</td>\n",
       "            </tr><tr>\n",
       "                <td><strong>Objective expression</strong></td>\n",
       "                <td>1.0*r_2111 - 1.0*r_2111_reverse_58b69</td>\n",
       "            </tr><tr>\n",
       "                <td><strong>Compartments</strong></td>\n",
       "                <td>cell envelope, cytoplasm, extracellular, mitochondrion, nucleus, peroxisome, endoplasmic reticulum, Golgi, lipid particle, vacuole, endoplasmic reticulum membrane, vacuolar membrane, Golgi membrane, mitochondrial membrane</td>\n",
       "            </tr>\n",
       "          </table>"
      ],
      "text/plain": [
       "<Model None at 0x7f78f3ba1550>"
      ]
     },
     "execution_count": 4,
     "metadata": {},
     "output_type": "execute_result"
    }
   ],
   "source": [
    "model"
   ]
  },
  {
   "cell_type": "code",
   "execution_count": 5,
   "metadata": {},
   "outputs": [
    {
     "name": "stdout",
     "output_type": "stream",
     "text": [
      "(51, 5)\n"
     ]
    },
    {
     "data": {
      "text/html": [
       "<div>\n",
       "<style scoped>\n",
       "    .dataframe tbody tr th:only-of-type {\n",
       "        vertical-align: middle;\n",
       "    }\n",
       "\n",
       "    .dataframe tbody tr th {\n",
       "        vertical-align: top;\n",
       "    }\n",
       "\n",
       "    .dataframe thead th {\n",
       "        text-align: right;\n",
       "    }\n",
       "</style>\n",
       "<table border=\"1\" class=\"dataframe\">\n",
       "  <thead>\n",
       "    <tr style=\"text-align: right;\">\n",
       "      <th></th>\n",
       "      <th>ID</th>\n",
       "      <th>Name</th>\n",
       "      <th>SMILES</th>\n",
       "      <th>Description</th>\n",
       "      <th>inchikey0</th>\n",
       "    </tr>\n",
       "  </thead>\n",
       "  <tbody>\n",
       "    <tr>\n",
       "      <th>0</th>\n",
       "      <td>YMDB02301</td>\n",
       "      <td>Benzoic acid</td>\n",
       "      <td>OC(=O)C1=CC=CC=C1</td>\n",
       "      <td>Benzoic acid, C6H5COOH, is a colourless crysta...</td>\n",
       "      <td>WPYMKLBDIGXBTP</td>\n",
       "    </tr>\n",
       "  </tbody>\n",
       "</table>\n",
       "</div>"
      ],
      "text/plain": [
       "          ID          Name             SMILES  \\\n",
       "0  YMDB02301  Benzoic acid  OC(=O)C1=CC=CC=C1   \n",
       "\n",
       "                                         Description       inchikey0  \n",
       "0  Benzoic acid, C6H5COOH, is a colourless crysta...  WPYMKLBDIGXBTP  "
      ]
     },
     "execution_count": 5,
     "metadata": {},
     "output_type": "execute_result"
    }
   ],
   "source": [
    "ymdb_uptake = pd.read_csv(ymdb_uptake_file)\n",
    "print(ymdb_uptake.shape)\n",
    "ymdb_uptake.head(1)"
   ]
  },
  {
   "cell_type": "code",
   "execution_count": 6,
   "metadata": {},
   "outputs": [
    {
     "name": "stdout",
     "output_type": "stream",
     "text": [
      "{'YMDB00018': 'YGR186W', 'YMDB00495': 'YEL063C', 'YMDB01639': 'YOR011W', 'YMDB01646': 'YAL034C', 'YMDB01653': 'YPL274W', 'YMDB01658': 'YIL066C', 'YMDB01659': 'YMR295C', 'YMDB01660': 'YNR063W', 'YMDB01661': 'YCR091W', 'YMDB01662': 'YCR091W', 'YMDB01664': 'YIL092W', 'YMDB01665': 'YIL092W', 'YMDB01666': 'YLR192C', 'YMDB01667': 'YCR091W', 'YMDB01679': 'YMR014W', 'YMDB01680': 'YHL040C', 'YMDB01681': 'YCL025C', 'YMDB01682': 'YMR295C', 'YMDB01693': 'YDL132W', 'YMDB01720': 'YOR098C', 'YMDB01721': 'YNL065W', 'YMDB01722': 'YDR011W', 'YMDB01723': 'YIL006W', 'YMDB01724': 'YIL006W', 'YMDB01733': 'YFR034C', 'YMDB01734': 'YLR150W', 'YMDB01735': 'YIL092W', 'YMDB01736': 'YCL073C', 'YMDB01737': 'YCL073C', 'YMDB01738': 'YOL075C', 'YMDB01754': 'YMR295C', 'YMDB01755': 'YCR091W', 'YMDB01756': 'YPL248C', 'YMDB01765': 'YFR050C', 'YMDB01766': 'YIL006W', 'YMDB01767': 'YIL006W', 'YMDB01768': 'YKR106W', 'YMDB01769': 'YFR034C', 'YMDB01770': 'YLR150W', 'YMDB01771': 'YFR016C', 'YMDB01772': 'YCL073C', 'YMDB01774': 'YPL190C', 'YMDB01777': 'YNL270C', 'YMDB01778': 'YCL073C', 'YMDB01779': 'YIL006W', 'YMDB01780': 'YMR295C', 'YMDB01805': 'YHL028W', 'YMDB01806': 'YAL053W', 'YMDB02301': 'YNL101W', 'YMDB15926': 'YHR178W', 'YMDB15957': 'YMR314W'}\n"
     ]
    }
   ],
   "source": [
    "with open(spot_result_file, 'r', encoding='utf-8') as f:\n",
    "    met_spot_result = json.load(f)\n",
    "print(met_spot_result) "
   ]
  },
  {
   "cell_type": "markdown",
   "metadata": {},
   "source": [
    "# add YMDB id and YMDB name"
   ]
  },
  {
   "cell_type": "code",
   "execution_count": 7,
   "metadata": {},
   "outputs": [],
   "source": [
    "metabolites = {}\n",
    "num = 0\n",
    "for index, row in ymdb_uptake.iterrows():\n",
    "    num+=1\n",
    "    met_id_e = 'snu_'+str(num)\n",
    "    met_compartment = 'e'\n",
    "    metabolites[met_id_e] = Metabolite(met_id_e, formula='', name=row['ID'], compartment=met_compartment)\n",
    "\n",
    "    num+=2\n",
    "    met_id_c = 'snu_'+str(num)\n",
    "    met_compartment = 'c'\n",
    "    metabolites[met_id_c] = Metabolite(met_id_c, formula='', name=row['ID'], compartment=met_compartment)\n",
    "\n",
    "    reaction = Reaction('rxnu'+str(num))\n",
    "    reaction.name = 'rxnu'+str(num)\n",
    "    reaction.subsystem = ''\n",
    "    reaction.lower_bound = 0.  # This is the default\n",
    "    reaction.upper_bound = 1000.  # This is the default\n",
    "\n",
    "    met_e = metabolites.get(met_id_e)\n",
    "    met_c = metabolites.get(met_id_c)\n",
    "    reaction.add_metabolites({met_e: -1})\n",
    "    reaction.add_metabolites({met_c: 1})\n",
    "    reaction.gene_reaction_rule = met_spot_result[row['ID']]\n",
    "\n",
    "    try:\n",
    "        model.reactions.get_by_id('rxnu'+str(num))\n",
    "    except:\n",
    "        model.add_reactions([reaction])    "
   ]
  },
  {
   "cell_type": "code",
   "execution_count": 8,
   "metadata": {},
   "outputs": [
    {
     "data": {
      "text/html": [
       "\n",
       "        <table>\n",
       "            <tr>\n",
       "                <td><strong>Name</strong></td>\n",
       "                <td>None</td>\n",
       "            </tr><tr>\n",
       "                <td><strong>Memory address</strong></td>\n",
       "                <td>7f78f3ba1550</td>\n",
       "            </tr><tr>\n",
       "                <td><strong>Number of metabolites</strong></td>\n",
       "                <td>3301</td>\n",
       "            </tr><tr>\n",
       "                <td><strong>Number of reactions</strong></td>\n",
       "                <td>7463</td>\n",
       "            </tr><tr>\n",
       "                <td><strong>Number of genes</strong></td>\n",
       "                <td>1582</td>\n",
       "            </tr><tr>\n",
       "                <td><strong>Number of groups</strong></td>\n",
       "                <td>0</td>\n",
       "            </tr><tr>\n",
       "                <td><strong>Objective expression</strong></td>\n",
       "                <td>1.0*r_2111 - 1.0*r_2111_reverse_58b69</td>\n",
       "            </tr><tr>\n",
       "                <td><strong>Compartments</strong></td>\n",
       "                <td>cell envelope, cytoplasm, extracellular, mitochondrion, nucleus, peroxisome, endoplasmic reticulum, Golgi, lipid particle, vacuole, endoplasmic reticulum membrane, vacuolar membrane, Golgi membrane, mitochondrial membrane</td>\n",
       "            </tr>\n",
       "          </table>"
      ],
      "text/plain": [
       "<Model None at 0x7f78f3ba1550>"
      ]
     },
     "execution_count": 8,
     "metadata": {},
     "output_type": "execute_result"
    }
   ],
   "source": [
    "model"
   ]
  },
  {
   "cell_type": "code",
   "execution_count": 9,
   "metadata": {},
   "outputs": [],
   "source": [
    "cobra.io.save_yaml_model(model, yeast8U_del2_path)"
   ]
  }
 ],
 "metadata": {
  "kernelspec": {
   "display_name": "kcat",
   "language": "python",
   "name": "python3"
  },
  "language_info": {
   "codemirror_mode": {
    "name": "ipython",
    "version": 3
   },
   "file_extension": ".py",
   "mimetype": "text/x-python",
   "name": "python",
   "nbconvert_exporter": "python",
   "pygments_lexer": "ipython3",
   "version": "3.7.16"
  }
 },
 "nbformat": 4,
 "nbformat_minor": 2
}
