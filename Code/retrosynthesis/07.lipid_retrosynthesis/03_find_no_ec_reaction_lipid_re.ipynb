{
 "cells": [
  {
   "cell_type": "code",
   "execution_count": 1,
   "metadata": {},
   "outputs": [],
   "source": [
    "import pandas as pd\n",
    "import matplotlib.pyplot as plt\n",
    "import sys\n",
    "import re\n",
    "sys.path.append('../')\n",
    "from common import *\n",
    "from tqdm import tqdm\n",
    "import multiprocessing\n",
    "from functools import partial\n",
    "tqdm.pandas()\n",
    "import numpy as np"
   ]
  },
  {
   "cell_type": "code",
   "execution_count": 2,
   "metadata": {},
   "outputs": [],
   "source": [
    "###input\n",
    "cut_off = 0.3\n",
    "num = 'all'\n",
    "cut_off_path = f'../../../Results/lipid/top{num}_{cut_off}_re/'\n",
    "cut_off_remain_path = f'../../../Results/lipid/top{num}_{cut_off}_remain_re/'\n",
    "rxndb_to_model_path = cut_off_path + f'rxndb_to_model_top{num}_{cut_off}.csv'\n",
    "rxndb_to_model_add_no_ec_path = cut_off_remain_path + f'rxndb_to_model_top{num}_{cut_off}_remain.csv'\n",
    "ymdb_output_final = '../../../Data/ymdb/ymdb_final_result.xlsx'\n",
    "yeast_model_path = '../../../Data/model/yeast-GEM-final.csv'\n",
    "uptake_met_path = '../../../Data/ymdb/ymdb_uptake.csv'\n",
    "rxndb_met_max_score_file = cut_off_path + f'rxndb_met_max_score_pd_top{num}_{cut_off}.csv'\n",
    "lipid_YMDB_success_met_smile_file_remian ='../../../Results/lipid/topall_0.3_remain_re/YMDB_success_met_smile_topall_0.3_remain.pickle'\n",
    "lipid_YMDB_success_met_smile_file = '../../../Results/lipid/topall_0.3_re/YMDB_success_met_smile_topall_0.3.pickle'\n",
    "###output\n",
    "rxndb_met_max_score_output_file = cut_off_path + f'rxndb_met_max_score_pd_top{num}_{cut_off}_merge.csv'\n",
    "rxndb_to_model_with_target_path = cut_off_path + f'rxndb_to_model_with_target_topall_0.3.csv'\n",
    "rxndb_to_model_with_target_success_path = cut_off_path + 'rxndb_to_model_with_target_topall_0.3_success.csv'"
   ]
  },
  {
   "cell_type": "code",
   "execution_count": 3,
   "metadata": {},
   "outputs": [],
   "source": [
    "def get_score_from_smiles(input_smiles,smile_max_score_pd): ###return highest similarity score\n",
    "    row = smile_max_score_pd[smile_max_score_pd['inchikey0'] == smiles2inchikey0(input_smiles)]\n",
    "    if not row.empty:\n",
    "        return row['score'].max()\n",
    "    else:\n",
    "        return 0\n",
    "def process_reaction_product(index_row,smile_max_score_pd):\n",
    "    index, row = index_row\n",
    "    reactant_smiles = row['rxn_smiles_basic'].split('>>')[0].split('.')\n",
    "    product_smiles = row['rxn_smiles_basic'].split('>>')[1].split('.')\n",
    "    scores = []\n",
    "\n",
    "    for i in product_smiles:\n",
    "        scores.append(get_score_from_smiles(i, smile_max_score_pd))\n",
    "\n",
    "    scores_all_0 = all(score == 1 for score in scores)\n",
    "\n",
    "    if scores_all_0 and len(reactant_smiles)>0:\n",
    "        return reactant_smiles, row['NO']\n",
    "    else:\n",
    "        return [], None\n",
    "def process_reaction_reactant(index_row,smile_max_score_pd):\n",
    "    index, row = index_row\n",
    "    reactant_smiles = row['rxn_smiles_basic'].split('>>')[0].split('.')\n",
    "    product_smiles = row['rxn_smiles_basic'].split('>>')[1].split('.')\n",
    "    scores = []\n",
    "\n",
    "    for i in reactant_smiles:\n",
    "        scores.append(get_score_from_smiles(i, smile_max_score_pd))\n",
    "\n",
    "    scores_all_0 = all(score == 1 for score in scores)\n",
    "\n",
    "    if scores_all_0 and len(product_smiles)>0:\n",
    "        return product_smiles, row['NO']\n",
    "    else:\n",
    "        return [], None\n",
    "def process_chunk_reactant(chunk_df,smile_max_score_pd):\n",
    "    smiles_success = []\n",
    "    success_rxndbid = []\n",
    "    for result in map(partial(process_reaction_reactant,smile_max_score_pd=smile_max_score_pd), chunk_df.iterrows()):\n",
    "        if result[0]:  # check whether the result is non-empty\n",
    "            smiles_success.extend(result[0])\n",
    "        if result[1] is not None:\n",
    "            success_rxndbid.append(result[1])\n",
    "    return smiles_success, success_rxndbid\n",
    "def process_chunk_product(chunk_df,smile_max_score_pd):\n",
    "    smiles_success = []\n",
    "    success_rxndbid = []\n",
    "    for result in map(partial(process_reaction_product,smile_max_score_pd=smile_max_score_pd), chunk_df.iterrows()):\n",
    "        if result[0]:  # check whether the result is non-empty\n",
    "            smiles_success.extend(result[0])\n",
    "        if result[1] is not None:\n",
    "            success_rxndbid.append(result[1])\n",
    "    return smiles_success, success_rxndbid\n",
    "def process_reactions_in_parallel_reactant(rxndb,origin_smile_max_score_pd, num_processes=5, num_iterations=1):\n",
    "    num = 0\n",
    "    tmp_smile_max_score_pd = origin_smile_max_score_pd\n",
    "    while num < num_iterations:\n",
    "        num+=1\n",
    "        # pool = multiprocessing.Pool(num_processes)\n",
    "        smiles_success = []\n",
    "        success_rxndbid = []\n",
    "        chunks = np.array_split(rxndb, 5)\n",
    "        with multiprocessing.Pool(num_processes) as pool:\n",
    "            for result in tqdm(pool.imap(partial(process_chunk_reactant,smile_max_score_pd=tmp_smile_max_score_pd), chunks), total=len(chunks)):\n",
    "                success_inchikey0 = [smiles2inchikey0(x) for x in result[0]]\n",
    "                if any([x not in smiles_success for x in success_inchikey0]):\n",
    "                    smiles_success.extend(success_inchikey0)\n",
    "                    success_rxndbid.extend(result[1])\n",
    "            for result in tqdm(pool.imap(partial(process_chunk_product,smile_max_score_pd=tmp_smile_max_score_pd), chunks), total=len(chunks)):\n",
    "                success_inchikey0 = [smiles2inchikey0(x) for x in result[0]]\n",
    "                if any([x not in smiles_success for x in success_inchikey0]):\n",
    "                    smiles_success.extend(success_inchikey0)\n",
    "                    success_rxndbid.extend(result[1])\n",
    "        # pool.close()\n",
    "        # pool.join()\n",
    "        \n",
    "        smiles_success = list(set(smiles_success))\n",
    "        success_rxndbid = list(set(success_rxndbid))\n",
    "        # Process cumulative successful SMILES\n",
    "        for smile in smiles_success:\n",
    "            if get_score_from_smiles(smile, tmp_smile_max_score_pd) < 1:\n",
    "                new_row = {'smile': smile, 'score': 1, 'sim_smile': 'sys', 'inchikey0': smiles2inchikey0(smile)}\n",
    "                tmp_smile_max_score_pd = tmp_smile_max_score_pd._append(new_row, ignore_index=True)\n",
    "\n",
    "        # smiles_success = [normalize_smiles(met) for met in smiles_success]\n",
    "        # smiles_success = list(set(smiles_success))\n",
    "\n",
    "        print(f'Iteration {num} - Current success count: {len(smiles_success)}')\n",
    "        print(f'Iteration {num} - Current success_rxndbid count: {len(success_rxndbid)}')\n",
    "        print('============================================================================')\n",
    "\n",
    "    print('final success', len(smiles_success))\n",
    "    print('final success_rxndbid', len(success_rxndbid))\n",
    "    # print(success_rxndbid)\n",
    "    return smiles_success, success_rxndbid,tmp_smile_max_score_pd"
   ]
  },
  {
   "cell_type": "code",
   "execution_count": null,
   "metadata": {},
   "outputs": [],
   "source": [
    "yeast8_total_smiles = get_all_smiles_in_model(yeast_model_path,ymdb_output_final)\n",
    "lipid_success_smiles = load_pickle(lipid_YMDB_success_met_smile_file)   \n",
    "uptake_met = pd.read_csv(uptake_met_path)   \n",
    "uptake_smiles = uptake_met['SMILES'].to_list()\n",
    "sink_smiles = yeast8_total_smiles  + uptake_smiles + lipid_success_smiles \n",
    "sink_smiles = list(set(sink_smiles))\n",
    "sink0 = [smiles2inchikey0(x) for x in sink_smiles]\n",
    "sink0 = list(set(sink0))\n",
    "print(len(sink0))\n"
   ]
  },
  {
   "cell_type": "code",
   "execution_count": null,
   "metadata": {},
   "outputs": [],
   "source": [
    "lipid_success_smiles_remain = load_pickle(lipid_YMDB_success_met_smile_file_remian)\n",
    "\n",
    "differenct_metabolites_inchikey0 = [smiles2inchikey0(x) for x in lipid_success_smiles_remain]\n",
    "rxndb_to_model_add_no_ec = pd.read_csv(rxndb_to_model_add_no_ec_path)\n",
    "rxndb_to_model_add_no_ec.head()"
   ]
  },
  {
   "cell_type": "code",
   "execution_count": 9,
   "metadata": {},
   "outputs": [],
   "source": [
    "def find_reaction_containing_metabolite(rxndb_to_model_add_no_ec,inchikey0):\n",
    "    rxndb_to_model_add_no_ec['product_inchikey0'] = rxndb_to_model_add_no_ec['rxn_smiles_basic'].progress_apply(lambda x: [smiles2inchikey0(i) for i in x.split('>>')[1].split('.')])\n",
    "    rxndb_to_model_add_no_ec['target_num'] = rxndb_to_model_add_no_ec['product_inchikey0'].progress_apply(lambda x: sum(i in inchikey0 for i in x))\n",
    "    return rxndb_to_model_add_no_ec[rxndb_to_model_add_no_ec['target_num'] > 0]\n",
    "def find_reaction_containing_metabolite_( rxndb_to_model_add_no_ec,inchikey0):\n",
    "    rxndb_to_model_add_no_ec['reactant_inchikey0'] = rxndb_to_model_add_no_ec['rxn_smiles_basic'].progress_apply(lambda x: [smiles2inchikey0(i) for i in x.split('>>')[0].split('.')])\n",
    "    rxndb_to_model_add_no_ec['target_num'] = rxndb_to_model_add_no_ec['reactant_inchikey0'].progress_apply(lambda x: sum(i in inchikey0 for i in x))\n",
    "    return rxndb_to_model_add_no_ec[rxndb_to_model_add_no_ec['target_num'] > 0]"
   ]
  },
  {
   "cell_type": "code",
   "execution_count": null,
   "metadata": {},
   "outputs": [],
   "source": [
    "\n",
    "rxndb_to_model_add_no_ec_with_target = find_reaction_containing_metabolite( rxndb_to_model_add_no_ec,differenct_metabolites_inchikey0)"
   ]
  },
  {
   "cell_type": "code",
   "execution_count": 11,
   "metadata": {},
   "outputs": [],
   "source": [
    "rxndb_to_model_add_no_ec_with_target = rxndb_to_model_add_no_ec_with_target.drop(['product_inchikey0','target_num'],axis=1)\n"
   ]
  },
  {
   "cell_type": "code",
   "execution_count": 14,
   "metadata": {},
   "outputs": [],
   "source": [
    "rxndb_to_model_add_no_ec_with_target.to_csv(rxndb_to_model_with_target_path, index=False)"
   ]
  },
  {
   "cell_type": "code",
   "execution_count": 10,
   "metadata": {},
   "outputs": [],
   "source": [
    "rxndb_met_max_score_pd = pd.DataFrame({'smile': sink_smiles})\n",
    "rxndb_met_max_score_pd['score'] = 1\n",
    "rxndb_met_max_score_pd['sim_smile'] = ''\n",
    "rxndb_met_max_score_pd['inchikey0'] = rxndb_met_max_score_pd['smile'].apply(smiles2inchikey0)\n",
    "rxndb_met_max_score_pd.to_csv(rxndb_met_max_score_output_file, index=False)"
   ]
  },
  {
   "cell_type": "code",
   "execution_count": null,
   "metadata": {},
   "outputs": [],
   "source": [
    "smiles_success,success_rxndbid,smiles_max_score_tmp_pd = process_reactions_in_parallel_reactant(rxndb_to_model_add_no_ec_with_target, rxndb_met_max_score_pd, num_processes=5, num_iterations=2)\n"
   ]
  },
  {
   "cell_type": "code",
   "execution_count": null,
   "metadata": {},
   "outputs": [],
   "source": [
    "smiles_success,success_rxndbid,smiles_max_score_tmp_pd = process_reactions_in_parallel_reactant(rxndb_to_model_add_no_ec_with_target, smiles_max_score_tmp_pd, num_processes=5, num_iterations=2)\n"
   ]
  },
  {
   "cell_type": "code",
   "execution_count": null,
   "metadata": {},
   "outputs": [],
   "source": [
    "rxndb_to_model_success = rxndb_to_model_add_no_ec_with_target[rxndb_to_model_add_no_ec_with_target['NO'].isin(success_rxndbid)]\n",
    "rxndb_to_model_success.shape"
   ]
  },
  {
   "cell_type": "code",
   "execution_count": 14,
   "metadata": {},
   "outputs": [],
   "source": [
    "rxndb_to_model_success.to_csv(rxndb_to_model_with_target_success_path, index=False)"
   ]
  },
  {
   "cell_type": "code",
   "execution_count": null,
   "metadata": {},
   "outputs": [],
   "source": [
    "rxndb_to_model_success.head()"
   ]
  },
  {
   "cell_type": "code",
   "execution_count": null,
   "metadata": {},
   "outputs": [],
   "source": [
    "success_inchikey0 = [smiles2inchikey0(x) for x in smiles_success]\n",
    "intesect = set(success_inchikey0).intersection(set(differenct_metabolites_inchikey0))\n",
    "print(len(intesect))"
   ]
  },
  {
   "cell_type": "code",
   "execution_count": null,
   "metadata": {},
   "outputs": [],
   "source": [
    "len(list(set(differenct_metabolites_inchikey0)))"
   ]
  }
 ],
 "metadata": {
  "kernelspec": {
   "display_name": "gurob",
   "language": "python",
   "name": "python3"
  },
  "language_info": {
   "codemirror_mode": {
    "name": "ipython",
    "version": 3
   },
   "file_extension": ".py",
   "mimetype": "text/x-python",
   "name": "python",
   "nbconvert_exporter": "python",
   "pygments_lexer": "ipython3",
   "version": "3.8.18"
  }
 },
 "nbformat": 4,
 "nbformat_minor": 2
}
