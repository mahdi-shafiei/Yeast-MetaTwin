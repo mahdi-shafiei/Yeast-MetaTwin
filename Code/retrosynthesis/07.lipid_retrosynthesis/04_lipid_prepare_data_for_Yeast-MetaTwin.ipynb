{
 "cells": [
  {
   "cell_type": "code",
   "execution_count": 1,
   "metadata": {
    "metadata": {}
   },
   "outputs": [],
   "source": [
    "import pandas as pd\n",
    "import numpy as np\n",
    "\n",
    "import json\n",
    "from rdkit import Chem\n",
    "import pandas as pd\n",
    "import itertools\n",
    "import sys\n",
    "from tqdm import tqdm \n",
    "from itertools import chain, combinations\n",
    "import sys\n",
    "import multiprocessing as mp\n",
    "from functools import partial\n",
    "from collections import Counter\n",
    "tqdm.pandas()\n",
    "sys.path.append('../')\n",
    "from common import *"
   ]
  },
  {
   "cell_type": "markdown",
   "metadata": {},
   "source": [
    "### input and output"
   ]
  },
  {
   "cell_type": "code",
   "execution_count": 2,
   "metadata": {
    "metadata": {}
   },
   "outputs": [],
   "source": [
    "###input\n",
    "ymdb_output_final = '../../../Data/ymdb/ymdb_final_result.xlsx'\n",
    "mnxreac_smile_atom_mapping_rules_file_path = '../../../Results/rules/MNXreaction_smiles_atommap_rules_filter_add_no_ec.csv'\n",
    "\n",
    "target_smiles_path = '../../../Results/lipid/target_smiles_lipid.pickle'\n",
    "target_model_smiles_path = '../../../Results/lipid/yeast_met_lipid.pickle'\n",
    "yeast8_metabolites_path = '../../../Data/model/yeast-GEM-final.csv'\n",
    "total_met_inchikey0_file = '../../../Results/analysis/total_met_inchikey0.pickle'\n",
    "\n",
    "cut_off = 0.3\n",
    "num = 'all'\n",
    "num_process = 5\n",
    "cut_off_path = f'../../../Results/lipid/top{num}_{cut_off}_re/'\n",
    "sce_gene_clean_ec = '../../../Results/ECnumber_prediction/Saccharomyces_cerevisiae_teacher_maxsep.csv'\n",
    "DeepEC_path = '../../../Results/ECnumber_prediction/Sce_DeepECv2.txt'\n",
    "sce_uniprot_path = '../../../Data/uniprot/uniprotkb_organism_id_559292_2023_11_08.tsv'\n",
    "\n",
    "yeast870_path =  '../../../Data/model/yeast-GEM.yml'\n",
    "miss_met_id_file = '../../../Data/model/miss_met_id.json'\n",
    "rxndb_to_model_with_target_success_path = cut_off_path + 'rxndb_to_model_with_target_topall_0.3_success.csv'\n",
    "metabolites_info_to_GEM_path_not_lipid_path = '../../../Results/not_lipid/top50_0.3_re/metabolites_info_to_GEM_top50_0.3.csv'\n",
    "rxndb_to_model_path = cut_off_path + f'rxndb_to_model_top{num}_{cut_off}.csv'\n",
    "\n",
    "\n",
    "###output\n",
    "\n",
    "rxndb_to_model_add_ec_path = cut_off_path + f'rxndb_to_model_add_ec_top{num}_{cut_off}.csv'\n",
    "rxndb_GPR_to_model_path = cut_off_path + f'rxndb_GPR_to_model_top{num}_{cut_off}.csv'\n",
    "rxndb_met_max_score_met_annotation_file = cut_off_path + f'rxndb_met_max_score_met_annotation_top{num}_{cut_off}.csv'\n",
    "metabolites_info_to_GEM_path = cut_off_path + f'metabolites_info_to_GEM_top{num}_{cut_off}.csv'\n",
    "rxndb_total_info_to_model_path = cut_off_path + f'rxndb_total_info_to_model_top{num}_{cut_off}.csv'\n",
    "yeast8_reaction_in_rxndb_json = cut_off_path + f'yeast8_reaction_in_rxndb_top{num}_{cut_off}.json'\n",
    "\n"
   ]
  },
  {
   "cell_type": "code",
   "execution_count": 3,
   "metadata": {},
   "outputs": [],
   "source": [
    "def process_smiles_annotation(i,yeast_total_smiles):    ###The highest similarity scores of all the reactants and model metabolites of rxn were obtained\n",
    "    result = {'smile': i, 'score': 0, 'sim_smile': ''}\n",
    "    score_init = 0\n",
    "    sim_smile = ' '\n",
    "    for j in yeast_total_smiles:\n",
    "        # tmp_score = compare_smiles(i, j)  \n",
    "        if compare_smiles_inchikey(i,j) :\n",
    "            score_init = 1\n",
    "            sim_smile = j\n",
    "            break\n",
    "    result['score'] = score_init\n",
    "    result['sim_smile'] = sim_smile\n",
    "    return result\n",
    "def calculate_smile_max_score_annotation(rxndb_all_reactant_smile,yeast_total_smiles,num_process=30):\n",
    "    smile_max_score = {'smile': [], 'score': [], 'sim_smile': []}\n",
    "\n",
    "    pool = multiprocessing.Pool(num_process)\n",
    "\n",
    "    partial_process_smiles = partial(process_smiles_annotation,yeast_total_smiles=yeast_total_smiles)\n",
    "    results = list(tqdm(pool.imap(partial_process_smiles, rxndb_all_reactant_smile), total=len(rxndb_all_reactant_smile)))\n",
    "    # results = list(tqdm(pool.imap(process_smiles, rxndb_all_reactant_smile), total=len(rxndb_all_reactant_smile)))\n",
    "\n",
    "    pool.close()\n",
    "    pool.join()\n",
    "\n",
    "    for result in results:\n",
    "        smile_max_score['smile'].append(result['smile'])\n",
    "        smile_max_score['score'].append(result['score'])\n",
    "        smile_max_score['sim_smile'].append(result['sim_smile'])\n",
    "        \n",
    "    return(smile_max_score)"
   ]
  },
  {
   "cell_type": "code",
   "execution_count": null,
   "metadata": {},
   "outputs": [],
   "source": [
    "#run find_no_ec_reaction_lipid_re.ipynb to get the rxndb_to_model_with_target_topall_0.3_success.csv file\n",
    "data_add_no_ec = pd.read_csv(rxndb_to_model_with_target_success_path)\n",
    "data_no_ec = data_add_no_ec[data_add_no_ec['EC number'].isnull()]\n",
    "data_ec = data_add_no_ec[~data_add_no_ec['EC number'].isnull()]"
   ]
  },
  {
   "cell_type": "code",
   "execution_count": null,
   "metadata": {},
   "outputs": [],
   "source": [
    "data = pd.read_csv(rxndb_to_model_path)\n",
    "print('data:', data.shape)\n",
    "\n",
    "print('Unique NO values in data before merge:', data['NO'].nunique())\n",
    "\n",
    "data = pd.concat([data, data_ec])\n",
    "\n",
    "\n",
    "data = data.drop(columns=['NO'])\n",
    "\n",
    "data = data.reset_index(drop=True)\n",
    "data.index.name = 'NO'\n",
    "data = data.reset_index()\n",
    "\n",
    "print( data['NO'].nunique())\n",
    "data.to_csv(rxndb_to_model_add_ec_path,index=None)\n"
   ]
  },
  {
   "cell_type": "code",
   "execution_count": 6,
   "metadata": {},
   "outputs": [],
   "source": [
    "model = cobra.io.load_yaml_model(yeast870_path)\n",
    "\n",
    "model_genes = model.genes\n",
    "\n",
    "model_genes = [x.id for x in model_genes]"
   ]
  },
  {
   "cell_type": "markdown",
   "metadata": {},
   "source": [
    "### CLEAN"
   ]
  },
  {
   "cell_type": "code",
   "execution_count": 7,
   "metadata": {},
   "outputs": [],
   "source": [
    "clean_gene2ec_dict = get_gene2ec_dict_clean(sce_gene_clean_ec)"
   ]
  },
  {
   "cell_type": "markdown",
   "metadata": {},
   "source": [
    "### DeepECv2"
   ]
  },
  {
   "cell_type": "code",
   "execution_count": 8,
   "metadata": {},
   "outputs": [],
   "source": [
    "DeepEC_gene2ec_dict = get_gene2ec_dict_DeepEC(DeepEC_path)"
   ]
  },
  {
   "cell_type": "code",
   "execution_count": null,
   "metadata": {},
   "outputs": [],
   "source": [
    "clean_deepec_gene2ec_dict = {}\n",
    "for k,v in clean_gene2ec_dict.items():\n",
    "    if k in DeepEC_gene2ec_dict or k in model_genes:\n",
    "        clean_deepec_gene2ec_dict[k] = v\n",
    "clean_deepec_ec2gene_dict = get_ec2gene_dict_clean(clean_deepec_gene2ec_dict)\n",
    "print(len(clean_deepec_ec2gene_dict))"
   ]
  },
  {
   "cell_type": "code",
   "execution_count": null,
   "metadata": {},
   "outputs": [],
   "source": [
    "rxndb_with_GPR = rxndb_gene_annotation(rxndb_to_model_add_ec_path,clean_deepec_ec2gene_dict)\n",
    "rxndb_with_GPR = rxndb_with_GPR[rxndb_with_GPR['GENE'].apply(lambda x: len(x) > 0)]\n",
    "data_no_ec['GENE'] = None\n",
    "data_no_ec['GENE'] = data_no_ec['GENE'].apply(lambda x: [])\n",
    "data_no_ec['EC number'] = data_no_ec['EC number'].apply(lambda x: [])\n",
    "print('rxndb with GPR:',rxndb_with_GPR.shape)"
   ]
  },
  {
   "cell_type": "code",
   "execution_count": null,
   "metadata": {},
   "outputs": [],
   "source": [
    "print('rxndb_with_GPR:',rxndb_with_GPR.shape)\n",
    "\n",
    "rxndb_with_GPR = pd.concat([rxndb_with_GPR,data_no_ec])\n",
    "rxndb_with_GPR = rxndb_with_GPR.drop(columns=['NO'])\n",
    "rxndb_with_GPR = rxndb_with_GPR.reset_index(drop=True)\n",
    "rxndb_with_GPR.index.name = 'NO'\n",
    "rxndb_with_GPR = rxndb_with_GPR.reset_index()\n",
    "\n",
    "print( rxndb_with_GPR['NO'].nunique())\n",
    "# rxndb_with_GPR.to_csv(rxndb_GPR_to_model_path,index=None)"
   ]
  },
  {
   "cell_type": "code",
   "execution_count": null,
   "metadata": {},
   "outputs": [],
   "source": [
    "rxndb_with_GPR['NO'] = rxndb_with_GPR['NO'].apply(lambda x: f'rxnl{x}')\n",
    "rxndb_with_GPR.head()\n"
   ]
  },
  {
   "cell_type": "code",
   "execution_count": 13,
   "metadata": {},
   "outputs": [],
   "source": [
    "rxndb_with_GPR.to_csv(rxndb_GPR_to_model_path,index=None)\n"
   ]
  },
  {
   "cell_type": "markdown",
   "metadata": {},
   "source": [
    "### rxndb metabolite annotation"
   ]
  },
  {
   "cell_type": "code",
   "execution_count": null,
   "metadata": {},
   "outputs": [],
   "source": [
    "#rxndb all metabolites\n",
    "rxndb_all_smile = get_all_met_smile(rxndb_GPR_to_model_path)\n"
   ]
  },
  {
   "cell_type": "code",
   "execution_count": null,
   "metadata": {},
   "outputs": [],
   "source": [
    "#metabolite comparison\n",
    "yeast8_total_smiles = get_GEM_all_smiles(yeast8_metabolites_path)\n",
    "smile_max_score = calculate_smile_max_score_annotation(rxndb_all_smile,yeast8_total_smiles,num_process=num_process)\n",
    "smile_max_score_pd = pd.DataFrame(smile_max_score)\n",
    "smile_max_score_pd.to_csv(rxndb_met_max_score_met_annotation_file,index=None)\n"
   ]
  },
  {
   "cell_type": "code",
   "execution_count": null,
   "metadata": {},
   "outputs": [],
   "source": [
    "#assign ID\n",
    "yeast8_id_smiles_mapping = get_yeast8_id_smiles_mapping(yeast8_metabolites_path)\n",
    "smile_max_score_pd_with_ID = assign_ID_to_RXNDB_met(smile_max_score_pd,yeast8_id_smiles_mapping,s = 'lipid')\n",
    "metabolites_info_to_GEM = get_new_met_smile_list(smile_max_score_pd_with_ID)\n",
    "metabolites_info_to_GEM.to_csv(metabolites_info_to_GEM_path,index=None)\n",
    "\n"
   ]
  },
  {
   "cell_type": "code",
   "execution_count": null,
   "metadata": {},
   "outputs": [],
   "source": [
    "metabolites_info_to_GEM_path_not_lipid = pd.read_csv(metabolites_info_to_GEM_path_not_lipid_path)\n",
    "metabolites_info_to_GEM_path_not_lipid['inchikey0'] = metabolites_info_to_GEM_path_not_lipid['new_met_smiles'].apply(smiles2inchikey0)\n",
    "for i in tqdm(range(metabolites_info_to_GEM.shape[0]),total=metabolites_info_to_GEM.shape[0]):\n",
    "    if 'sl_' not in metabolites_info_to_GEM['ID'][i]:\n",
    "        continue\n",
    "    if smiles2inchikey0(metabolites_info_to_GEM['new_met_smiles'][i]) in metabolites_info_to_GEM_path_not_lipid['inchikey0'].values:\n",
    "        metabolites_info_to_GEM['ID'][i] = metabolites_info_to_GEM_path_not_lipid[metabolites_info_to_GEM_path_not_lipid['inchikey0'] == smiles2inchikey0(metabolites_info_to_GEM['new_met_smiles'][i])]['ID'].values[0]\n",
    "metabolites_info_to_GEM.to_csv(metabolites_info_to_GEM_path,index=None)"
   ]
  },
  {
   "cell_type": "markdown",
   "metadata": {},
   "source": [
    "### Generate equation according to metabolite ID"
   ]
  },
  {
   "cell_type": "code",
   "execution_count": null,
   "metadata": {},
   "outputs": [],
   "source": [
    "smiles_to_id_mapping = get_smiles_to_id_mapping(metabolites_info_to_GEM_path)\n",
    "print(len(smiles_to_id_mapping))"
   ]
  },
  {
   "cell_type": "code",
   "execution_count": null,
   "metadata": {},
   "outputs": [],
   "source": [
    "rxndb_total_info_to_model = get_rxndb_to_model_total_info(rxndb_GPR_to_model_path,smiles_to_id_mapping)\n",
    "rxndb_total_info_to_model = rxndb_total_info_to_model[['NO','EC_number','templateID','rxn_smiles_basic','rxn_smiles_final','GPR','equation_dict','equation']]\n",
    "rxndb_total_info_to_model.to_csv(rxndb_total_info_to_model_path,index=None)\n",
    "print(rxndb_total_info_to_model.shape)"
   ]
  },
  {
   "cell_type": "markdown",
   "metadata": {},
   "source": [
    "### check the formula of the model metabolites in the predicted reaction"
   ]
  },
  {
   "cell_type": "code",
   "execution_count": null,
   "metadata": {},
   "outputs": [],
   "source": [
    "metabolites_info_to_GEM,rxndb_total_info_to_model = check_met_and_reaction_formula(yeast8_metabolites_path,metabolites_info_to_GEM_path,rxndb_total_info_to_model_path)\n",
    "metabolites_info_to_GEM.to_csv(metabolites_info_to_GEM_path,index=None)\n",
    "rxndb_total_info_to_model.to_csv(rxndb_total_info_to_model_path,index=None)\n",
    "print(rxndb_total_info_to_model.shape)"
   ]
  },
  {
   "cell_type": "markdown",
   "metadata": {},
   "source": [
    "### remove duplicate reactions and existing reactions"
   ]
  },
  {
   "cell_type": "code",
   "execution_count": null,
   "metadata": {},
   "outputs": [],
   "source": [
    "same_rxndb_reaction = get_same_rxndb_reaction_mapping(rxndb_total_info_to_model_path)\n",
    "rxndb_total_info_to_model = get_no_same_rxndb_reaction_parallelize(rxndb_total_info_to_model_path,get_no_same_rxndb_reaction,same_rxndb_reaction,n_cores=num_process)\n",
    "rxndb_total_info_to_model.to_csv(rxndb_total_info_to_model_path,index=None)\n",
    "print(rxndb_total_info_to_model.shape)"
   ]
  },
  {
   "cell_type": "code",
   "execution_count": 25,
   "metadata": {},
   "outputs": [],
   "source": [
    "met_info = pd.read_csv(metabolites_info_to_GEM_path)\n",
    "rxndb_to_model_total_info = pd.read_csv(rxndb_total_info_to_model_path)\n"
   ]
  },
  {
   "cell_type": "markdown",
   "metadata": {},
   "source": [
    "### Find out the reactions that already exist in the model"
   ]
  },
  {
   "cell_type": "code",
   "execution_count": 26,
   "metadata": {},
   "outputs": [],
   "source": [
    "with open(miss_met_id_file) as f:\n",
    "    miss_met_id = json.load(f) \n",
    "model = cobra.io.load_yaml_model(yeast870_path)\n"
   ]
  },
  {
   "cell_type": "markdown",
   "metadata": {},
   "source": [
    "### yeast8_smiles_list, ID with smiles"
   ]
  },
  {
   "cell_type": "code",
   "execution_count": null,
   "metadata": {},
   "outputs": [],
   "source": [
    "model_excel, metID_with_smiles, yeast8_smiles_lst = process_model(yeast8_metabolites_path, miss_met_id)\n"
   ]
  },
  {
   "cell_type": "code",
   "execution_count": null,
   "metadata": {},
   "outputs": [],
   "source": [
    "rxndb_met_with_s_smiles_lst = get_rxndb_met_with_s_smiles_lst(rxndb_total_info_to_model_path,model_excel,miss_met_id)\n",
    "\n",
    "reaID_with_smiles_dict = get_reaID_with_smiles_dict(model, model_excel, miss_met_id,rxndb_met_with_s_smiles_lst,metID_with_smiles)\n"
   ]
  },
  {
   "cell_type": "code",
   "execution_count": null,
   "metadata": {},
   "outputs": [],
   "source": [
    "yeast8_reaction_in_rxndb = get_yeast8_reaction_in_rxndb_parallel(rxndb_total_info_to_model_path,reaID_with_smiles_dict,model_excel,miss_met_id,num_process=num_process)\n"
   ]
  },
  {
   "cell_type": "code",
   "execution_count": 30,
   "metadata": {},
   "outputs": [],
   "source": [
    "with open(yeast8_reaction_in_rxndb_json, 'w') as json_file:\n",
    "    json.dump(yeast8_reaction_in_rxndb, json_file,indent=4)"
   ]
  },
  {
   "cell_type": "code",
   "execution_count": null,
   "metadata": {},
   "outputs": [],
   "source": [
    "rxndb_to_model_total_info['equation_dict'] = rxndb_to_model_total_info['equation_dict'].apply(lambda x:literal_eval(x))\n",
    "print(rxndb_to_model_total_info.shape)\n",
    "# rxndb_to_model_total_info['equation_dict'] = rxndb_to_model_total_info['equation_dict'].apply(lambda x:{k:v for k, v in x.items() if k not in miss_met_id})\n",
    "# rxndb_to_model_total_info = rxndb_to_model_total_icnfo[~rxndb_to_model_total_info['equation_dict'].apply(lambda x : all('s_' in k for k, v in x.items()))]\n",
    "rxndb_to_model_total_info = rxndb_to_model_total_info[rxndb_to_model_total_info['equation_dict'].apply(lambda x : any('sl_' in k for k, v in x.items()))]\n",
    "print(rxndb_to_model_total_info.shape)\n",
    "# rxndb_to_model_total_info = rxndb_to_model_total_info[~rxndb_to_model_total_info['equation_dict'].apply(lambda x : all('sn_' in k for k, v in x.items()))]\n",
    "# print(rxndb_to_model_total_info.shape)"
   ]
  },
  {
   "cell_type": "code",
   "execution_count": 32,
   "metadata": {},
   "outputs": [],
   "source": [
    "rxndb_to_model_total_info.to_csv(rxndb_total_info_to_model_path,index=None)\n"
   ]
  }
 ],
 "metadata": {
  "kernelspec": {
   "display_name": "kcat",
   "language": "python",
   "name": "python3"
  },
  "language_info": {
   "codemirror_mode": {
    "name": "ipython",
    "version": 3
   },
   "file_extension": ".py",
   "mimetype": "text/x-python",
   "name": "python",
   "nbconvert_exporter": "python",
   "pygments_lexer": "ipython3",
   "version": "3.8.18"
  },
  "orig_nbformat": 4
 },
 "nbformat": 4,
 "nbformat_minor": 2
}
