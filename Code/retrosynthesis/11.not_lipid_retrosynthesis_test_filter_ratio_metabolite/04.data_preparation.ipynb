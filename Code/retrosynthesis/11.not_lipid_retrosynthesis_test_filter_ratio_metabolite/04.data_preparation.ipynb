{
 "cells": [
  {
   "cell_type": "code",
   "execution_count": 15,
   "metadata": {},
   "outputs": [],
   "source": [
    "import pandas as pd\n",
    "import matplotlib.pyplot as plt\n",
    "import sys\n",
    "import re\n",
    "sys.path.append('../')\n",
    "from common import *\n",
    "from tqdm import tqdm\n",
    "import multiprocessing\n",
    "from functools import partial\n",
    "tqdm.pandas()"
   ]
  },
  {
   "cell_type": "code",
   "execution_count": 16,
   "metadata": {},
   "outputs": [],
   "source": [
    "## input\n",
    "YMDB_total_smiles_path = '../../../Data/ymdb/ymdb_final_result.xlsx'\n",
    "yeast_model_path = '../../../Data/model/yeast-GEM-final.csv'\n",
    "path_enzyme_path = '../../../Data/pathway_enzyme.list'\n",
    "mnxmeta_smile_file_path = '../../../Data/database/mnx_chem_prop.tsv'\n",
    "ymdb_output_final = '../../../Data/ymdb/ymdb_final_result.xlsx'\n",
    "\n",
    "## output\n",
    "mnxmeta_smile_file_carbon_path = '../../../Data/database/mnxmeta_smile_carbon.csv'\n",
    "mnxmeta_smile_inchikey_dict_path = '../../../Data/database/mnxmeta_smile_inchikey_dict.json'\n",
    "not_lipid_target_smiles_path = '../../../Results/not_lipid_filter20percent/target_smiles_not_lipid.pickle'\n",
    "not_lipid_target_smiles_filter20percent_path = '../../../Results/not_lipid_filter20percent/target_smiles_not_lipid_filter20percent.pickle'\n",
    "not_lipid_target_smiles_filter20percent_else_path = '../../../Results/not_lipid_filter20percent/target_smiles_not_lipid_filter20percent_else.pickle'\n",
    "not_lipid_target_smiles_complex_path = '../../../Results/not_lipid_filter20percent/target_smiles_not_lipid_complex.pickle'\n",
    "not_lipid_yeast_met_file = '../../../Results/not_lipid_filter20percent/yeast_met_not_lipid.pickle'\n",
    "total_met_inchikey0_file = '../../../Results/analysis/total_met_inchikey0_filter.pickle'\n",
    "not_lipid_smiles2metnetx_path = '../../../Results/not_lipid_filter20percent/not_lipid_smiles2metnetx.pickle'"
   ]
  },
  {
   "cell_type": "markdown",
   "metadata": {},
   "source": [
    "# function"
   ]
  },
  {
   "cell_type": "code",
   "execution_count": 17,
   "metadata": {},
   "outputs": [],
   "source": [
    "def get_total_inchikey0_filter(model_path, YMDB_total_smiles_path,drop_smiles,output_file):\n",
    "    model = pd.read_csv(model_path)\n",
    "    model = model.dropna(subset=['standard_smiles']).reset_index(drop=True)\n",
    "    def filter_smiles(x, drop_smiles):\n",
    "        return not any(compare_smiles_inchikey(x, met) for met in drop_smiles)\n",
    "    print(model.shape)\n",
    "    model = model[model['standard_smiles'].progress_apply(lambda x: filter_smiles(x, drop_smiles))]\n",
    "    print(model.shape)\n",
    "\n",
    "    YMDB_Data = pd.read_excel(YMDB_total_smiles_path)\n",
    "    YMDB_Data = YMDB_Data.dropna(subset=['standard_smiles']).reset_index(drop=True)\n",
    "    print(YMDB_Data.shape)\n",
    "    YMDB_Data = YMDB_Data[YMDB_Data['standard_smiles'].progress_apply(lambda x: filter_smiles(x, drop_smiles))]\n",
    "    print(YMDB_Data.shape)\n",
    "\n",
    "    model['inchikey0'] = model['standard_smiles'].apply(smiles2inchikey0)\n",
    "    inchikey0_model = model['inchikey0'].values\n",
    "    inchikey0= list(inchikey0_model) + list(YMDB_Data['inchikey0'].values)\n",
    "    inchikey0 = list(set(inchikey0))\n",
    "    print(len(inchikey0))\n",
    "    dump_file(inchikey0, output_file)\n",
    "\n",
    "def get_mnxmeta_smiles_carbon(mnxmeta_smile_file_path,mnxmeta_smile_file_carbon_path):\n",
    "    mnxmeta_smile = pd.read_csv(mnxmeta_smile_file_path,sep='\\t')\n",
    "    print(mnxmeta_smile.shape)\n",
    "    mnxmeta_smile = mnxmeta_smile.loc[1:,:]\n",
    "    mnxmeta_smile = mnxmeta_smile.dropna(subset=['SMILES'])\n",
    "    mnxmeta_smile['has_carbon'] = mnxmeta_smile['SMILES'].progress_apply(smiles_has_carbon)\n",
    "    mnxmeta_smile_filtered = mnxmeta_smile[mnxmeta_smile['has_carbon'] == 1]\n",
    "    mnxmeta_smile_filtered['inchikey0'] = mnxmeta_smile_filtered['SMILES'].apply(smiles2inchikey0)\n",
    "    mnxmeta_smile_filtered = mnxmeta_smile_filtered.groupby('inchikey0')['SMILES'].agg(list).reset_index()\n",
    "    mnxmeta_smile_filtered.to_csv(mnxmeta_smile_file_carbon_path, index=False)\n",
    "    print(mnxmeta_smile_filtered.shape)\n",
    "    return mnxmeta_smile_filtered\n",
    "\n",
    "def compare_smiles_mnxmeta(smiles, compare_total_smiles):\n",
    "    matched_smiles = []\n",
    "    for compare_smiles in compare_total_smiles:\n",
    "        if compare_smiles_inchikey(smiles, compare_smiles):\n",
    "            matched_smiles.append(compare_smiles)\n",
    "    return smiles, matched_smiles\n",
    "\n",
    "def process_complex_smiles(not_lipid_target_smiles,not_lipid_target_smiles_complex_path):\n",
    "    not_lipid_target_smiles_complex = [x for x in not_lipid_target_smiles if '.' in x]\n",
    "    not_lipid_target_smiles_complex_with_carbon = []\n",
    "    for smiles in tqdm(not_lipid_target_smiles_complex):\n",
    "        not_lipid_target_smiles_complex_with_carbon.extend(smiles.split('.'))\n",
    "    not_lipid_target_smiles_complex_with_carbon = [x for x in not_lipid_target_smiles_complex_with_carbon if smiles_has_carbon(x)]\n",
    "    not_lipid_target_smiles = [x for x in not_lipid_target_smiles if x not in not_lipid_target_smiles_complex]\n",
    "    not_lipid_target_smiles = not_lipid_target_smiles + not_lipid_target_smiles_complex_with_carbon\n",
    "    dump_file(not_lipid_target_smiles,not_lipid_target_smiles_complex_path)\n",
    "    return not_lipid_target_smiles\n"
   ]
  },
  {
   "cell_type": "markdown",
   "metadata": {},
   "source": [
    "# yeast8 metabolites, ymdb metabolites"
   ]
  },
  {
   "cell_type": "code",
   "execution_count": 18,
   "metadata": {},
   "outputs": [
    {
     "name": "stderr",
     "output_type": "stream",
     "text": [
      "100%|██████████| 16042/16042 [00:07<00:00, 2133.49it/s]\n"
     ]
    },
    {
     "name": "stdout",
     "output_type": "stream",
     "text": [
      "YMDB metabolites in model 1160\n",
      "target_smiles: 572\n"
     ]
    }
   ],
   "source": [
    "YMDB_Data = pd.read_excel(YMDB_total_smiles_path)\n",
    "YMDB_Data.loc[YMDB_Data['ID']=='YMDB00074',['in_model']] = 1 #cyanide\n",
    "YMDB_Data.loc[YMDB_Data['ID']=='YMDB00108',['in_model']] = 1 #fructose 1,6-bisphosphate\n",
    "YMDB_Data.loc[YMDB_Data['ID']=='YMDB00121',['in_model']] = 1 #sulfide\n",
    "YMDB_Data.loc[YMDB_Data['ID']=='YMDB00253',['in_model']] = 1 #d-ribose\n",
    "YMDB_Data.loc[YMDB_Data['ID']=='YMDB00657',['in_model']] = 1 #D-fructose\n",
    "YMDB_Data.loc[YMDB_Data['ID']=='YMDB00789',['in_model']] = 1 #Galactose\n",
    "YMDB_Data.loc[YMDB_Data['ID']=='YMDB00797',['in_model']] = 1 #udp-galactose\n",
    "YMDB_Data.loc[YMDB_Data['ID']=='YMDB01490',['in_model']] = 1 #Ammonium phosphate\n",
    "YMDB_Data.loc[YMDB_Data['ID']=='YMDB01491',['in_model']] = 1 #Ammonium chloride\n",
    "YMDB_Data.loc[YMDB_Data['ID']=='YMDB00032',['in_model']] = 1 #purine\n",
    "YMDB_Data.loc[YMDB_Data['ID']=='YMDB00020',['in_model']] = 1 #Sodium\n",
    "YMDB_Data.loc[YMDB_Data['ID']=='YMDB00207',['in_model']] = 1 #Copper(2+)\n",
    "YMDB_Data.loc[YMDB_Data['ID']=='YMDB01517',['in_model']] = 1 #chloride\n",
    "YMDB_Data.loc[YMDB_Data['ID']=='YMDB00358',['in_model']] = 1 #Calcium(2+)\n",
    "YMDB_Data.loc[YMDB_Data['ID']=='YMDB16117',['in_model']] = 1 #Potassium\n",
    "YMDB_Data.loc[YMDB_Data['ID']=='YMDB01523',['in_model']] = 1 #Phosphorus\n",
    "YMDB_Data['has_carbon'] = YMDB_Data['SMILES'].progress_apply(smiles_has_carbon)\n",
    "YMDB_Data.loc[YMDB_Data['has_carbon']==0,'in_model'] = 1\n",
    "YMDB_Data.to_excel(YMDB_total_smiles_path,index=False)\n",
    "\n",
    "print('YMDB metabolites in model',len(YMDB_Data[YMDB_Data['in_model']==1]))\n",
    "\n",
    "not_lipid_target_smiles = YMDB_Data[(YMDB_Data['super_class']!='Lipids and lipid-like molecules')&(YMDB_Data['in_model']==0)]['SMILES'].to_list()\n",
    "not_lipid_target_smiles = get_target_smiles(not_lipid_target_smiles,not_lipid_target_smiles_path)"
   ]
  },
  {
   "cell_type": "markdown",
   "metadata": {},
   "source": [
    "## sample 0.8"
   ]
  },
  {
   "cell_type": "code",
   "execution_count": 19,
   "metadata": {},
   "outputs": [],
   "source": [
    "random.seed(42)  # You can use any integer value as the seed\n",
    "sample_size = int(len(not_lipid_target_smiles) * 0)\n",
    "not_lipid_target_filter20percent_else = [x for x in not_lipid_target_smiles if x not in random.sample(not_lipid_target_smiles, sample_size)]\n",
    "not_lipid_target_smiles = random.sample(not_lipid_target_smiles, sample_size)"
   ]
  },
  {
   "cell_type": "code",
   "execution_count": 20,
   "metadata": {},
   "outputs": [],
   "source": [
    "dump_file(not_lipid_target_smiles,not_lipid_target_smiles_filter20percent_path)\n",
    "dump_file(not_lipid_target_smiles,not_lipid_target_smiles_path)\n",
    "dump_file(not_lipid_target_filter20percent_else,not_lipid_target_smiles_filter20percent_else_path)"
   ]
  },
  {
   "cell_type": "markdown",
   "metadata": {},
   "source": [
    "## continue"
   ]
  },
  {
   "cell_type": "code",
   "execution_count": 21,
   "metadata": {},
   "outputs": [
    {
     "name": "stderr",
     "output_type": "stream",
     "text": [
      "0it [00:00, ?it/s]\n"
     ]
    }
   ],
   "source": [
    "not_lipid_target_smiles = process_complex_smiles(not_lipid_target_smiles,not_lipid_target_smiles_complex_path)"
   ]
  },
  {
   "cell_type": "code",
   "execution_count": 22,
   "metadata": {},
   "outputs": [
    {
     "name": "stdout",
     "output_type": "stream",
     "text": [
      "total_smiles 945\n"
     ]
    }
   ],
   "source": [
    "#combine model smiles with target smiles\n",
    "# get_total_smiles(ymdb_output_final,yeast_model_path, not_lipid_target_smiles, not_lipid_yeast_met_file)\n",
    "get_total_smiles(yeast_model_path, not_lipid_target_smiles, not_lipid_yeast_met_file)"
   ]
  },
  {
   "cell_type": "code",
   "execution_count": 23,
   "metadata": {},
   "outputs": [
    {
     "name": "stdout",
     "output_type": "stream",
     "text": [
      "(2124, 17)\n"
     ]
    },
    {
     "name": "stderr",
     "output_type": "stream",
     "text": [
      "  0%|          | 0/2124 [00:00<?, ?it/s]"
     ]
    },
    {
     "name": "stderr",
     "output_type": "stream",
     "text": [
      "100%|██████████| 2124/2124 [19:04<00:00,  1.86it/s]\n"
     ]
    },
    {
     "name": "stdout",
     "output_type": "stream",
     "text": [
      "(2124, 17)\n",
      "(16036, 10)\n"
     ]
    },
    {
     "name": "stderr",
     "output_type": "stream",
     "text": [
      "100%|██████████| 16036/16036 [3:54:52<00:00,  1.14it/s]  \n"
     ]
    },
    {
     "name": "stdout",
     "output_type": "stream",
     "text": [
      "(15463, 10)\n",
      "15318\n"
     ]
    }
   ],
   "source": [
    "# get total inchikey0\n",
    "# get_total_inchikey0(yeast_model_path, YMDB_total_smiles_path, total_met_inchikey0_file)\n",
    "get_total_inchikey0_filter(yeast_model_path, YMDB_total_smiles_path, not_lipid_target_filter20percent_else,total_met_inchikey0_file)"
   ]
  },
  {
   "cell_type": "code",
   "execution_count": 24,
   "metadata": {},
   "outputs": [
    {
     "name": "stdout",
     "output_type": "stream",
     "text": [
      "(1292154, 9)\n"
     ]
    },
    {
     "name": "stderr",
     "output_type": "stream",
     "text": [
      "  8%|▊         | 97291/1248094 [00:48<05:05, 3767.98it/s]"
     ]
    },
    {
     "name": "stderr",
     "output_type": "stream",
     "text": [
      "100%|██████████| 1248094/1248094 [06:36<00:00, 3150.38it/s]\n",
      "/home/wuke/anaconda3/envs/kcat/lib/python3.7/site-packages/ipykernel_launcher.py:30: SettingWithCopyWarning: \n",
      "A value is trying to be set on a copy of a slice from a DataFrame.\n",
      "Try using .loc[row_indexer,col_indexer] = value instead\n",
      "\n",
      "See the caveats in the documentation: https://pandas.pydata.org/pandas-docs/stable/user_guide/indexing.html#returning-a-view-versus-a-copy\n"
     ]
    },
    {
     "name": "stdout",
     "output_type": "stream",
     "text": [
      "(906669, 2)\n"
     ]
    }
   ],
   "source": [
    "mnxmeta_smile_filtered = get_mnxmeta_smiles_carbon(mnxmeta_smile_file_path,mnxmeta_smile_file_carbon_path)"
   ]
  },
  {
   "cell_type": "code",
   "execution_count": 25,
   "metadata": {},
   "outputs": [
    {
     "name": "stdout",
     "output_type": "stream",
     "text": [
      "total_smiles 945\n",
      "total_smiles 940\n",
      "total_smiles 915\n",
      "total_smiles 915\n",
      "915\n"
     ]
    }
   ],
   "source": [
    "mnxmeta_smile_inchikey_dict = dict(zip(mnxmeta_smile_filtered['inchikey0'], mnxmeta_smile_filtered['SMILES']))\n",
    "with open(mnxmeta_smile_inchikey_dict_path, 'w') as f:\n",
    "    json.dump(mnxmeta_smile_inchikey_dict, f,indent=4)\n",
    "\n",
    "with open(mnxmeta_smile_inchikey_dict_path, 'r') as f:\n",
    "    mnxmeta_smile_inchikey_dict = json.load(f)\n",
    "\n",
    "not_lipid_yeast_total_smiles = process_yeast_smiles(not_lipid_yeast_met_file)\n",
    "print(len(not_lipid_yeast_total_smiles))\n",
    "not_lipid_total_inchikey0 = [smiles2inchikey0(x) for x in not_lipid_yeast_total_smiles]"
   ]
  },
  {
   "cell_type": "code",
   "execution_count": 26,
   "metadata": {},
   "outputs": [
    {
     "name": "stderr",
     "output_type": "stream",
     "text": [
      "100%|██████████| 906669/906669 [00:03<00:00, 244732.43it/s]\n"
     ]
    }
   ],
   "source": [
    "get_smiles2metnetx(list(mnxmeta_smile_inchikey_dict.keys()), not_lipid_total_inchikey0,not_lipid_smiles2metnetx_path,num_processes=60)"
   ]
  },
  {
   "cell_type": "code",
   "execution_count": 27,
   "metadata": {},
   "outputs": [
    {
     "name": "stderr",
     "output_type": "stream",
     "text": [
      "100%|██████████| 906669/906669 [00:00<00:00, 4449203.44it/s]\n",
      "100%|██████████| 915/915 [00:30<00:00, 30.21it/s]\n",
      "100%|██████████| 912/912 [00:00<00:00, 98636.07it/s]\n"
     ]
    }
   ],
   "source": [
    "smiles_metnetx_reverse(not_lipid_smiles2metnetx_path,not_lipid_total_inchikey0,mnxmeta_smile_inchikey_dict)"
   ]
  },
  {
   "cell_type": "code",
   "execution_count": 28,
   "metadata": {},
   "outputs": [
    {
     "name": "stdout",
     "output_type": "stream",
     "text": [
      "915\n"
     ]
    },
    {
     "name": "stderr",
     "output_type": "stream",
     "text": [
      "100%|██████████| 912/912 [00:00<00:00, 2518239.14it/s]"
     ]
    },
    {
     "name": "stdout",
     "output_type": "stream",
     "text": [
      "2709\n"
     ]
    },
    {
     "name": "stderr",
     "output_type": "stream",
     "text": [
      "\n"
     ]
    }
   ],
   "source": [
    "merge_metnetx_smiles(not_lipid_yeast_total_smiles,not_lipid_smiles2metnetx_path,not_lipid_yeast_met_file)"
   ]
  }
 ],
 "metadata": {
  "kernelspec": {
   "display_name": "kcat",
   "language": "python",
   "name": "python3"
  },
  "language_info": {
   "codemirror_mode": {
    "name": "ipython",
    "version": 3
   },
   "file_extension": ".py",
   "mimetype": "text/x-python",
   "name": "python",
   "nbconvert_exporter": "python",
   "pygments_lexer": "ipython3",
   "version": "3.7.16"
  },
  "orig_nbformat": 4
 },
 "nbformat": 4,
 "nbformat_minor": 2
}
