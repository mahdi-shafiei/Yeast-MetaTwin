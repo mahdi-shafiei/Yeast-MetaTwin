{
 "cells": [
  {
   "cell_type": "code",
   "execution_count": 23,
   "metadata": {
    "metadata": {}
   },
   "outputs": [],
   "source": [
    "import pandas as pd\n",
    "import numpy as np\n",
    "\n",
    "import json\n",
    "from rdkit import Chem\n",
    "import pandas as pd\n",
    "import itertools\n",
    "import sys\n",
    "from tqdm import tqdm \n",
    "from itertools import chain, combinations\n",
    "import sys\n",
    "import multiprocessing as mp\n",
    "from functools import partial\n",
    "from collections import Counter\n",
    "tqdm.pandas()\n",
    "sys.path.append('../')\n",
    "from common import *"
   ]
  },
  {
   "cell_type": "markdown",
   "metadata": {},
   "source": [
    "### input and output"
   ]
  },
  {
   "cell_type": "code",
   "execution_count": 24,
   "metadata": {
    "metadata": {}
   },
   "outputs": [],
   "source": [
    "###input\n",
    "ymdb_output_final = '../../../Data/ymdb/ymdb_final_result.xlsx'\n",
    "mnxreac_smile_atom_mapping_rules_file_path = '../../../Results/rules/MNXreaction_smiles_atommap_rules_filter_add_no_ec.csv'\n",
    "target_smiles_path = '../../../Results/not_lipid_filter20percent/target_smiles_not_lipid_complex.pickle'\n",
    "target_model_smiles_path = '../../../Results/not_lipid_filter20percent/yeast_met_not_lipid.pickle'\n",
    "yeast8_metabolites_path = '../../../Data/model/yeast-GEM-final.csv'\n",
    "# total_met_inchikey0_file = '../../../Results/analysis/total_met_inchikey0.pickle'\n",
    "total_met_inchikey0_file = '../../../Results/analysis/total_met_inchikey0_filter.pickle'\n",
    "uptake_met_path = '../../../Data/ymdb/ymdb_uptake.csv'\n",
    "cut_off = 0.3\n",
    "num = 50\n",
    "num_process = 60\n",
    "cut_off_retrosynthesis_path = f'../../../Data_retrosynthesis/not_lipid_filter20percent/top{num}_{cut_off}_add_no_ec_re/'\n",
    "cut_off_path = f'../../../Results/not_lipid_filter20percent/top{num}_{cut_off}_add_no_ec_re/'\n",
    "sce_gene_clean_ec = '../../../Results/ECnumber_prediction/Saccharomyces_cerevisiae_maxsep.csv'\n",
    "DeepEC_path = '../../../Results/ECnumber_prediction/Sce_DeepECv2.txt'\n",
    "sce_uniprot_path = '../../../Data/uniprot/uniprotkb_organism_id_559292_2023_11_08.tsv'\n",
    "yeast870_path =  '../../../Data/model/yeast-GEM.yml'\n",
    "miss_met_id_file = '../../../Data/model/miss_met_id.json'\n",
    "\n",
    "###output\n",
    "retrosys_smiles_calculate_similarity_file_path_all = f'../../../Data_retrosynthesis/not_lipid_filter20percent/retrosys_smiles_calculate_similarity_{cut_off}_add_no_ec_re.json'\n",
    "retrosys_smiles_calculate_similarity_file_path = cut_off_retrosynthesis_path + f'retrosys_smiles_calculate_similarity_top{num}_{cut_off}.json'\n",
    "retrosys_smiles_calculate_similarity_filter_file_path = cut_off_retrosynthesis_path + f'retrosys_smiles_calculate_similarity_filter_top{num}_{cut_off}.json'\n",
    "rxndb_path = cut_off_retrosynthesis_path + f'RXNdb_top{num}_{cut_off}/'\n",
    "failedrxn_path = cut_off_retrosynthesis_path + f'failedrxn_top{num}_{cut_off}.pickle' \n",
    "rxndb_all_path = cut_off_retrosynthesis_path + f'RXNdb_all_top{num}_{cut_off}.json'\n",
    "rxndb_drop_path = cut_off_retrosynthesis_path + f'RXNdb_drop_top{num}_{cut_off}/'\n",
    "rxndb_met_max_score_file = cut_off_path + f'rxndb_met_max_score_pd_top{num}_{cut_off}.csv'\n",
    "rxndb_to_model_path = cut_off_path + f'rxndb_to_model_top{num}_{cut_off}.csv'\n",
    "YMDB_success_met_smile_file = cut_off_path + f'YMDB_success_met_smile_top{num}_{cut_off}.pickle'\n",
    "YMDB_fail_met_smile_file = cut_off_path + f'YMDB_fail_met_smile_top{num}_{cut_off}.pickle'"
   ]
  },
  {
   "cell_type": "code",
   "execution_count": 25,
   "metadata": {},
   "outputs": [],
   "source": [
    "#check if the output folder exists\n",
    "if not os.path.exists(cut_off_path):\n",
    "    os.makedirs(cut_off_path)\n",
    "if not os.path.exists(cut_off_retrosynthesis_path):\n",
    "    os.makedirs(cut_off_retrosynthesis_path)\n",
    "if not os.path.exists(rxndb_path):\n",
    "    os.makedirs(rxndb_path)\n",
    "if not os.path.exists(rxndb_drop_path):\n",
    "    os.makedirs(rxndb_drop_path)"
   ]
  },
  {
   "cell_type": "code",
   "execution_count": 26,
   "metadata": {
    "metadata": {}
   },
   "outputs": [
    {
     "name": "stdout",
     "output_type": "stream",
     "text": [
      "total_smiles 2709\n",
      "total_smiles 2708\n",
      "total_smiles 2708\n",
      "total_smiles 1545\n"
     ]
    },
    {
     "name": "stderr",
     "output_type": "stream",
     "text": [
      "29161it [00:03, 8835.46it/s] \n"
     ]
    },
    {
     "name": "stdout",
     "output_type": "stream",
     "text": [
      "11134\n"
     ]
    },
    {
     "name": "stderr",
     "output_type": "stream",
     "text": [
      "29161it [00:04, 7028.23it/s] \n"
     ]
    },
    {
     "name": "stdout",
     "output_type": "stream",
     "text": [
      "16151\n"
     ]
    }
   ],
   "source": [
    "yeast_total_smiles = process_yeast_smiles(target_model_smiles_path)\n",
    "# yeast_total_smiles = [neutralize_charge(x) for x in yeast_total_smiles]\n",
    "yeast_total_smiles = [x for x in yeast_total_smiles if Chem.MolFromSmiles(x)]\n",
    "retrorules = pd.read_csv(mnxreac_smile_atom_mapping_rules_file_path)\n",
    "rules_product_smiles_lst = process_retrorules(retrorules,s='product_smiles')\n",
    "rules_product_smarts_lst = process_retrorules(retrorules,s='ProductSMARTs')\n"
   ]
  },
  {
   "cell_type": "code",
   "execution_count": 27,
   "metadata": {},
   "outputs": [],
   "source": [
    "# retrosys_smiles_calculate_similarity_pd = pd.read_json(retrosys_smiles_calculate_similarity_file_path_all)\n",
    "# retrosys_smiles_calculate_similarity_pd = get_most_similar_smiles(retrosys_smiles_calculate_similarity_pd,num)\n",
    "# retrosys_smiles_calculate_similarity_pd.to_json(retrosys_smiles_calculate_similarity_file_path)"
   ]
  },
  {
   "cell_type": "code",
   "execution_count": 28,
   "metadata": {
    "metadata": {}
   },
   "outputs": [
    {
     "name": "stderr",
     "output_type": "stream",
     "text": [
      "100%|██████████| 11134/11134 [09:37<00:00, 19.27it/s]\n"
     ]
    }
   ],
   "source": [
    "retrosys_smiles_calculate_similarity = process_rules_with_multiprocessing(rules_product_smiles_lst, yeast_total_smiles,num_processes=num_process,cutoff=cut_off)\n",
    "\n",
    "retrosys_smiles_calculate_similarity_pd = pd.DataFrame(retrosys_smiles_calculate_similarity)\n",
    "retrosys_smiles_calculate_similarity_pd.to_json(retrosys_smiles_calculate_similarity_file_path_all)\n",
    "\n",
    "# choose top num similar metabolites\n",
    "retrosys_smiles_calculate_similarity_pd = pd.read_json(retrosys_smiles_calculate_similarity_file_path_all)\n",
    "retrosys_smiles_calculate_similarity_pd = get_most_similar_smiles(retrosys_smiles_calculate_similarity_pd,num)\n",
    "retrosys_smiles_calculate_similarity_pd.to_json(retrosys_smiles_calculate_similarity_file_path)"
   ]
  },
  {
   "cell_type": "markdown",
   "metadata": {},
   "source": [
    "### get rxndb"
   ]
  },
  {
   "cell_type": "code",
   "execution_count": 29,
   "metadata": {},
   "outputs": [
    {
     "name": "stderr",
     "output_type": "stream",
     "text": [
      "100%|██████████| 29161/29161 [02:11<00:00, 222.50it/s]\n"
     ]
    }
   ],
   "source": [
    "retrorules = merge_smiles_similarity_rule(retrorules, retrosys_smiles_calculate_similarity_pd)"
   ]
  },
  {
   "cell_type": "code",
   "execution_count": 30,
   "metadata": {},
   "outputs": [
    {
     "name": "stderr",
     "output_type": "stream",
     "text": [
      "100%|██████████| 60/60 [00:09<00:00,  6.66it/s]\n"
     ]
    }
   ],
   "source": [
    "filter_smiles_muti(retrorules,retrosys_smiles_calculate_similarity_filter_file_path,num_process=num_process)\n",
    "with open(retrosys_smiles_calculate_similarity_filter_file_path, 'r') as json_file:\n",
    "    retrorules = json.load(json_file) \n",
    "retrorules = pd.DataFrame(retrorules)"
   ]
  },
  {
   "cell_type": "code",
   "execution_count": 31,
   "metadata": {},
   "outputs": [
    {
     "name": "stderr",
     "output_type": "stream",
     "text": [
      "100%|██████████| 29161/29161 [06:23<00:00, 75.99it/s]  \n"
     ]
    }
   ],
   "source": [
    "process_retrorules_and_save(rxndb_path,failedrxn_path,retrorules,heterologous_met_smiles=None,num_process=num_process)"
   ]
  },
  {
   "cell_type": "markdown",
   "metadata": {},
   "source": [
    "### retrosynthesis result screen"
   ]
  },
  {
   "cell_type": "code",
   "execution_count": 32,
   "metadata": {},
   "outputs": [
    {
     "name": "stderr",
     "output_type": "stream",
     "text": [
      " 81%|████████  | 23546/29161 [00:35<00:08, 663.28it/s]"
     ]
    },
    {
     "name": "stderr",
     "output_type": "stream",
     "text": [
      "100%|██████████| 29161/29161 [00:44<00:00, 654.17it/s]\n",
      "100%|██████████| 29161/29161 [00:07<00:00, 3768.10it/s]\n",
      "100%|██████████| 29161/29161 [00:06<00:00, 4624.24it/s]\n"
     ]
    },
    {
     "name": "stdout",
     "output_type": "stream",
     "text": [
      "rxndb: 9686813\n",
      "rxndb_drop: 21427\n"
     ]
    }
   ],
   "source": [
    "#drop metabolites that are not in the ymdb or yeast8\n",
    "drop_rxndb(rxndb_path, rxndb_drop_path, total_met_inchikey0_file, num_processes=num_process)\n",
    "#statistic the number of reactions \n",
    "statistic_reaction_num(rxndb_path,rxndb_drop_path)"
   ]
  },
  {
   "cell_type": "code",
   "execution_count": 33,
   "metadata": {},
   "outputs": [
    {
     "name": "stdout",
     "output_type": "stream",
     "text": [
      "(21427, 9)\n"
     ]
    }
   ],
   "source": [
    "#merge the rxndb\n",
    "rxndb = merge_rxndb(rxndb_drop_path,rxndb_all_path)\n",
    "rxndb_df = pd.DataFrame(rxndb).transpose()\n",
    "print(rxndb_df.shape)\n",
    "rxndb_df = rxndb_df.reset_index().rename(columns={'index':'NO'})\n"
   ]
  },
  {
   "cell_type": "code",
   "execution_count": 34,
   "metadata": {},
   "outputs": [
    {
     "name": "stdout",
     "output_type": "stream",
     "text": [
      "(21427, 9)\n"
     ]
    }
   ],
   "source": [
    "with open(rxndb_all_path,'r') as f:\n",
    "    rxndb = json.load(f)\n",
    "rxndb_df = pd.DataFrame(rxndb).transpose()\n",
    "print(rxndb_df.shape)\n",
    "rxndb_df = rxndb_df.reset_index().rename(columns={'index':'NO'})\n"
   ]
  },
  {
   "cell_type": "code",
   "execution_count": 35,
   "metadata": {},
   "outputs": [
    {
     "name": "stderr",
     "output_type": "stream",
     "text": [
      "100%|██████████| 100/100 [00:00<00:00, 788.73it/s]\n"
     ]
    },
    {
     "name": "stdout",
     "output_type": "stream",
     "text": [
      "number of metabolites in RXNDB: 2830\n"
     ]
    }
   ],
   "source": [
    "#get all the metabolites in the rxndb\n",
    "rxndb_all_smiles = parallel_process_rxn_smiles(rxndb_df, n_splits=100,num_process=num_process)"
   ]
  },
  {
   "cell_type": "code",
   "execution_count": 36,
   "metadata": {},
   "outputs": [],
   "source": [
    "\n",
    "#get all the smiles in the yeast8\n",
    "yeast8_total_smiles = get_GEM_all_smiles(yeast8_metabolites_path)"
   ]
  },
  {
   "cell_type": "code",
   "execution_count": 37,
   "metadata": {},
   "outputs": [
    {
     "name": "stderr",
     "output_type": "stream",
     "text": [
      " 10%|█         | 295/2830 [00:15<01:22, 30.82it/s]"
     ]
    },
    {
     "name": "stderr",
     "output_type": "stream",
     "text": [
      "100%|██████████| 2830/2830 [02:00<00:00, 23.55it/s]\n"
     ]
    }
   ],
   "source": [
    "#calculate the similarity of the metabolites\n",
    "\n",
    "smile_max_score_pd = calculate_save_smiles_max_score(rxndb_all_smiles, yeast8_total_smiles,rxndb_met_max_score_file,num_processes=num_process)"
   ]
  },
  {
   "cell_type": "code",
   "execution_count": 38,
   "metadata": {},
   "outputs": [
    {
     "name": "stderr",
     "output_type": "stream",
     "text": [
      "100%|██████████| 100/100 [00:00<00:00, 154.00it/s]\n",
      "100%|██████████| 100/100 [00:00<00:00, 160.83it/s]\n"
     ]
    },
    {
     "name": "stdout",
     "output_type": "stream",
     "text": [
      "Iteration 1 - Current success count: 2465\n",
      "Iteration 1 - Current success_rxndbid count: 17128\n",
      "============================================================================\n"
     ]
    },
    {
     "name": "stderr",
     "output_type": "stream",
     "text": [
      "100%|██████████| 100/100 [00:00<00:00, 143.22it/s]\n",
      "100%|██████████| 100/100 [00:00<00:00, 156.79it/s]\n"
     ]
    },
    {
     "name": "stdout",
     "output_type": "stream",
     "text": [
      "Iteration 2 - Current success count: 2595\n",
      "Iteration 2 - Current success_rxndbid count: 17873\n",
      "============================================================================\n"
     ]
    },
    {
     "name": "stderr",
     "output_type": "stream",
     "text": [
      "100%|██████████| 100/100 [00:00<00:00, 132.06it/s]\n",
      "100%|██████████| 100/100 [00:00<00:00, 136.66it/s]\n"
     ]
    },
    {
     "name": "stdout",
     "output_type": "stream",
     "text": [
      "Iteration 3 - Current success count: 2616\n",
      "Iteration 3 - Current success_rxndbid count: 18052\n",
      "============================================================================\n"
     ]
    },
    {
     "name": "stderr",
     "output_type": "stream",
     "text": [
      "100%|██████████| 100/100 [00:00<00:00, 143.01it/s]\n",
      "100%|██████████| 100/100 [00:00<00:00, 141.59it/s]\n"
     ]
    },
    {
     "name": "stdout",
     "output_type": "stream",
     "text": [
      "Iteration 4 - Current success count: 2632\n",
      "Iteration 4 - Current success_rxndbid count: 18190\n",
      "============================================================================\n"
     ]
    },
    {
     "name": "stderr",
     "output_type": "stream",
     "text": [
      "100%|██████████| 100/100 [00:00<00:00, 118.70it/s]\n",
      "100%|██████████| 100/100 [00:00<00:00, 161.05it/s]\n"
     ]
    },
    {
     "name": "stdout",
     "output_type": "stream",
     "text": [
      "Iteration 5 - Current success count: 2634\n",
      "Iteration 5 - Current success_rxndbid count: 18212\n",
      "============================================================================\n"
     ]
    },
    {
     "name": "stderr",
     "output_type": "stream",
     "text": [
      "100%|██████████| 100/100 [00:00<00:00, 142.99it/s]\n",
      "100%|██████████| 100/100 [00:00<00:00, 157.94it/s]\n"
     ]
    },
    {
     "name": "stdout",
     "output_type": "stream",
     "text": [
      "Iteration 6 - Current success count: 2635\n",
      "Iteration 6 - Current success_rxndbid count: 18238\n",
      "============================================================================\n"
     ]
    },
    {
     "name": "stderr",
     "output_type": "stream",
     "text": [
      "100%|██████████| 100/100 [00:00<00:00, 125.45it/s]\n",
      "100%|██████████| 100/100 [00:00<00:00, 144.27it/s]\n"
     ]
    },
    {
     "name": "stdout",
     "output_type": "stream",
     "text": [
      "Iteration 7 - Current success count: 2639\n",
      "Iteration 7 - Current success_rxndbid count: 18277\n",
      "============================================================================\n",
      "final success 2639\n",
      "final success_rxndbid 18277\n"
     ]
    }
   ],
   "source": [
    "smiles_success,success_rxndbid,smiles_max_score_tmp_pd = process_reactions_in_parallel_reactant(rxndb_df, smile_max_score_pd, num_processes=num_process, num_iterations=7)\n",
    "smiles_max_score_tmp_pd.to_csv(rxndb_met_max_score_file,index=None)"
   ]
  },
  {
   "cell_type": "code",
   "execution_count": 39,
   "metadata": {},
   "outputs": [
    {
     "name": "stdout",
     "output_type": "stream",
     "text": [
      "success number: 0\n",
      "fail number: 0\n"
     ]
    }
   ],
   "source": [
    "save_success_fail_target_smiles(target_smiles_path,smiles_success,YMDB_success_met_smile_file,YMDB_fail_met_smile_file)"
   ]
  },
  {
   "cell_type": "code",
   "execution_count": 40,
   "metadata": {},
   "outputs": [
    {
     "name": "stdout",
     "output_type": "stream",
     "text": [
      "(18277, 10)\n",
      "(18277, 10)\n",
      "(18277, 5)\n",
      "(18277, 5)\n"
     ]
    }
   ],
   "source": [
    "save_rxndb_to_model(rxndb_df,success_rxndbid,rxndb_to_model_path)"
   ]
  }
 ],
 "metadata": {
  "kernelspec": {
   "display_name": "kcat",
   "language": "python",
   "name": "python3"
  },
  "language_info": {
   "codemirror_mode": {
    "name": "ipython",
    "version": 3
   },
   "file_extension": ".py",
   "mimetype": "text/x-python",
   "name": "python",
   "nbconvert_exporter": "python",
   "pygments_lexer": "ipython3",
   "version": "3.7.16"
  },
  "orig_nbformat": 4
 },
 "nbformat": 4,
 "nbformat_minor": 2
}
